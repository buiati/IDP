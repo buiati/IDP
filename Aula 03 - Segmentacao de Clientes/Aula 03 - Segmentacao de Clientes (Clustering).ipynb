{
 "cells": [
  {
   "cell_type": "markdown",
   "metadata": {},
   "source": [
    "<img src=\"../idp.jpg\">"
   ]
  },
  {
   "cell_type": "markdown",
   "metadata": {
    "papermill": {
     "duration": 0.027866,
     "end_time": "2021-10-08T04:14:39.135536",
     "exception": false,
     "start_time": "2021-10-08T04:14:39.107670",
     "status": "completed"
    },
    "tags": []
   },
   "source": [
    "# <p style=\"background-color:#2F5597;font-family:newtimeroman;color:#FFF9ED;font-size:150%;text-align:center;border-radius:10px 10px;\">Aula 3 - Segmentação de Clientes (Clusterização)</p>\n",
    "\n",
    "Neste projeto, estudaremos um caso prático utilizando técnicas de agrupamento não supervisionado considerando registros de clientes de um supermercado. A segmentação de clientes é a prática de separar os clientes em grupos que possuem características semelhantes em cada cluster. Iremos dividir os clientes em segmentos para otimizar a importância de cada cliente para o negócio. O resultado da clusterização também ajuda a empresa a atender às preocupações de diferentes tipos de clientes.\n",
    "\n",
    "Link interessante sobre clusterização: conceitos básicos, principais algoritmos e aplicações.  \n",
    "https://medium.com/turing-talks/clustering-conceitos-b%C3%A1sicos-principais-algoritmos-e-aplica%C3%A7%C3%A3o-ace572a062a9\n",
    "\n",
    "**Sobre os dados**:\n",
    "\n",
    "A Análise de Personalidade do Cliente é uma análise detalhada dos clientes ideais de uma empresa. Ajuda uma empresa a entender melhor seus clientes e facilita a modificação de produtos de acordo com as necessidades, comportamentos e preocupações específicas de diferentes tipos de clientes.\n",
    "\n",
    "A análise da personalidade do cliente ajuda uma empresa a modificar seu produto com base em seus clientes-alvo de diferentes tipos de segmentos de clientes. Por exemplo, em vez de gastar dinheiro para comercializar um novo produto para cada cliente no banco de dados da empresa, uma empresa pode analisar qual segmento de cliente tem mais probabilidade de comprar o produto e, em seguida, comercializar o produto apenas nesse segmento específico.\n",
    "\n",
    "Colunas do nosso conjunto de dados:\n",
    "- ID: Identificador do cliente\n",
    "- Education: escolaridade\n",
    "- Marital_Status: estado civil\n",
    "- Income: salário da família\n",
    "- Kidhome: número de crianças\n",
    "- Teenhome: número de adolescentes\n",
    "- Dt_Customer: data do cadastro do cliente na empresa\n",
    "- Recency: número de dias desde a última compra\n",
    "- MntWines: valor gasto em vinho\n",
    "- MntFruits: valor gasto em frutas\n",
    "- MntMeatProducts: valor gasto em carne\n",
    "- MntFishProducts: valor gasto em peixe\n",
    "- MntSweetProducts: valor gasto em doces\n",
    "- MntGoldProds: valor gasto em produtos gourmet\n",
    "- NumDealsPurchases: número de compras feitas por promoções\n",
    "- NumWebPurchases: número de compras feita pela web\n",
    "- NumCatalogPurchases: número de compras feitas por catálogo\n",
    "- NumStorePurchases: número de compras na loja\n",
    "- NumWebVisitsMonth: número de visitas na web por mês\n",
    "- AcceptedCmp1: aceitou a campanha 1\n",
    "- AcceptedCmp2: aceitou a campanha 2\n",
    "- AcceptedCmp3: aceitou a campanha 3\n",
    "- AcceptedCmp4: aceitou a campanha 4\n",
    "- AcceptedCmp5: aceitou a campanha 5\n",
    "- Complain: reclamações\n",
    "- Z_CostContact: NA\n",
    "- Z_Revenue: NA\n",
    "- Response: 0 ou 1\n",
    "\n",
    "\n",
    "\n",
    "   <a id='top'></a>\n",
    "<div class=\"list-group\" id=\"list-tab\" role=\"tablist\">\n",
    "<p style=\"background-color:#2F5597;font-family:newtimeroman;color:#FFF9ED;font-size:150%;text-align:center;border-radius:10px 10px;\">CONTEÚDO DO PROJETO</p>   \n",
    "    \n",
    "* [1. IMPORTANDO BIBLIOTECAS](#1)\n",
    "    \n",
    "* [2. CARREGANDO DADOS e EDA](#2)\n",
    "    \n",
    "* [3. LIMPEZA DOS DADOS](#3)\n",
    "    \n",
    "* [4. PRÉ-PROCESSAMENTO DOS DADOS](#4)   \n",
    "    \n",
    "* [5. REDUÇÃO DE DIMENSIONALIDADE](#5) \n",
    "      \n",
    "* [6. CLUSTERIZAÇÃO](#6)\n",
    "    \n",
    "* [7. AVALIAÇÃO DOS MODELOS](#7)\n",
    "    \n",
    "* [8. ANÁLISE DOS RESULTADOS E TOMADA DE DECISÃO](#8)\n",
    "    \n",
    "* [9. CONCLUSÃO](#9)\n",
    "    \n",
    "* [10. FIM](#10)\n"
   ]
  },
  {
   "cell_type": "markdown",
   "metadata": {
    "papermill": {
     "duration": 0.028812,
     "end_time": "2021-10-08T04:14:39.192253",
     "exception": false,
     "start_time": "2021-10-08T04:14:39.163441",
     "status": "completed"
    },
    "tags": []
   },
   "source": [
    "<a id=\"1\"></a>\n",
    "# <p style=\"background-color:#2F5597;font-family:newtimeroman;color:#FFF9ED;font-size:120%;text-align:center;border-radius:10px 10px;\">1. Importando Bibliotecas</p>"
   ]
  },
  {
   "cell_type": "code",
   "execution_count": null,
   "metadata": {
    "execution": {
     "iopub.execute_input": "2021-10-08T04:14:39.256813Z",
     "iopub.status.busy": "2021-10-08T04:14:39.256071Z",
     "iopub.status.idle": "2021-10-08T04:14:40.759591Z",
     "shell.execute_reply": "2021-10-08T04:14:40.759031Z",
     "shell.execute_reply.started": "2021-10-08T04:12:13.782444Z"
    },
    "papermill": {
     "duration": 1.53841,
     "end_time": "2021-10-08T04:14:40.759736",
     "exception": false,
     "start_time": "2021-10-08T04:14:39.221326",
     "status": "completed"
    },
    "tags": []
   },
   "outputs": [],
   "source": [
    "# Importando as bibliotecas de manipulação de dados, machine learning e visualização de dados\n",
    "\n",
    "import numpy as np\n",
    "import pandas as pd\n",
    "import datetime\n",
    "import matplotlib\n",
    "import matplotlib.pyplot as plt\n",
    "from matplotlib import colors\n",
    "import seaborn as sns\n",
    "from sklearn.preprocessing import LabelEncoder\n",
    "from sklearn.preprocessing import StandardScaler\n",
    "from sklearn.decomposition import PCA\n",
    "from yellowbrick.cluster import KElbowVisualizer\n",
    "import sklearn.metrics._classification\n",
    "from sklearn.cluster import KMeans\n",
    "import matplotlib.pyplot as plt, numpy as np\n",
    "from mpl_toolkits.mplot3d import Axes3D\n",
    "from sklearn.cluster import AgglomerativeClustering\n",
    "from matplotlib.colors import ListedColormap\n",
    "from sklearn import metrics\n",
    "import warnings\n",
    "import sys\n",
    "if not sys.warnoptions:\n",
    "    warnings.simplefilter(\"ignore\")\n",
    "np.random.seed(42)"
   ]
  },
  {
   "cell_type": "markdown",
   "metadata": {
    "papermill": {
     "duration": 0.029156,
     "end_time": "2021-10-08T04:14:40.817772",
     "exception": false,
     "start_time": "2021-10-08T04:14:40.788616",
     "status": "completed"
    },
    "tags": []
   },
   "source": [
    "<a id=\"2\"></a>\n",
    "# <p style=\"background-color:#2F5597;font-family:newtimeroman;color:#FFF9ED;font-size:120%;text-align:center;border-radius:10px 10px;\">2. Carregando o Dataset e EDA</p>"
   ]
  },
  {
   "cell_type": "code",
   "execution_count": null,
   "metadata": {
    "execution": {
     "iopub.execute_input": "2021-10-08T04:14:40.879581Z",
     "iopub.status.busy": "2021-10-08T04:14:40.878909Z",
     "iopub.status.idle": "2021-10-08T04:14:40.932630Z",
     "shell.execute_reply": "2021-10-08T04:14:40.933049Z",
     "shell.execute_reply.started": "2021-10-08T04:12:15.114297Z"
    },
    "papermill": {
     "duration": 0.087752,
     "end_time": "2021-10-08T04:14:40.933340",
     "exception": false,
     "start_time": "2021-10-08T04:14:40.845588",
     "status": "completed"
    },
    "tags": []
   },
   "outputs": [],
   "source": [
    "# Carregando o dataset\n",
    "data = pd.read_csv(\"campanha_marketing.csv\", sep=\"\\t\")\n",
    "print(\"Número de registros no dataset:\", len(data))\n",
    "data.head()"
   ]
  },
  {
   "cell_type": "code",
   "execution_count": null,
   "metadata": {},
   "outputs": [],
   "source": [
    "print(\"Dimensão do dataset:\", data.shape)"
   ]
  },
  {
   "cell_type": "code",
   "execution_count": null,
   "metadata": {},
   "outputs": [],
   "source": [
    "# vamos agora fazer nosso famoso EDA automatizado :)\n",
    "from dataprep.eda import plot, create_report\n",
    "\n",
    "# Utilizando o método plot para construção do relatório EDA de forma automática dos nomes dos restaurantes\n",
    "plot(data)"
   ]
  },
  {
   "cell_type": "code",
   "execution_count": null,
   "metadata": {},
   "outputs": [],
   "source": [
    "create_report(data)"
   ]
  },
  {
   "cell_type": "markdown",
   "metadata": {
    "papermill": {
     "duration": 0.028,
     "end_time": "2021-10-08T04:14:40.989700",
     "exception": false,
     "start_time": "2021-10-08T04:14:40.961700",
     "status": "completed"
    },
    "tags": []
   },
   "source": [
    "\n",
    "<a id=\"3\"></a>\n",
    "# <p style=\"background-color:#2F5597;font-family:newtimeroman;color:#FFF9ED;font-size:120%;text-align:center;border-radius:10px 10px;\">3. Limpeza dos Dados</p>\n",
    "\n",
    "\n",
    "**Nesta seção, fazemos as seguintes operações:** \n",
    "* Limpeza de dados\n",
    "* Feature Engineering \n",
    "* Entendimento das variáveis categóricas\n",
    "\n",
    "Para obter uma compreensão completa de quais etapas devemos realizar para a tratativa, vamos dar uma olhada mais detalhada dos dados."
   ]
  },
  {
   "cell_type": "markdown",
   "metadata": {
    "papermill": {
     "duration": 0.028603,
     "end_time": "2021-10-08T04:14:41.136192",
     "exception": false,
     "start_time": "2021-10-08T04:14:41.107589",
     "status": "completed"
    },
    "tags": []
   },
   "source": [
    "**Do resultado da análise exploratória acima, podemos concluir que:**\n",
    "\n",
    "* Há valores ausentes apenas no salário (mais precisamente 24 registros)\n",
    "* Dt_Customer que indica a data em que o cliente entrou na base de dados não está como tipo DateTime (está como object)\n",
    "* Há algumas variáveis categóricas no nosso dataframe (mais precisamente 14), que estão com o tipo \"object\". Assim, necessitamos fazer o \"encoder\" e transformá-las em variáveis numéricas. \n",
    "\n",
    "Em primeiro lugar, vamos tratar os valores ausentes. Podemos realizar várias operações, tais como:\n",
    "- Excluir os valoress ausentes\n",
    "- Preencher com a média (variáveis numéricas) \n",
    "- Preencher com a moda (variáveis categóricas)"
   ]
  },
  {
   "cell_type": "code",
   "execution_count": null,
   "metadata": {
    "execution": {
     "iopub.execute_input": "2021-10-08T04:14:41.203332Z",
     "iopub.status.busy": "2021-10-08T04:14:41.202517Z",
     "iopub.status.idle": "2021-10-08T04:14:41.207231Z",
     "shell.execute_reply": "2021-10-08T04:14:41.206495Z",
     "shell.execute_reply.started": "2021-10-08T04:12:15.199835Z"
    },
    "papermill": {
     "duration": 0.042312,
     "end_time": "2021-10-08T04:14:41.207425",
     "exception": false,
     "start_time": "2021-10-08T04:14:41.165113",
     "status": "completed"
    },
    "tags": []
   },
   "outputs": [],
   "source": [
    "# Neste projeto, vamos remover os registros nulos, porque a quantidade de registros é bem baixa e não impacta na performance do modelo\n",
    "data = data.dropna()\n",
    "print(\"O total de registros após a exclusão dos valores ausentes é\", len(data))"
   ]
  },
  {
   "cell_type": "markdown",
   "metadata": {
    "papermill": {
     "duration": 0.028861,
     "end_time": "2021-10-08T04:14:41.266284",
     "exception": false,
     "start_time": "2021-10-08T04:14:41.237423",
     "status": "completed"
    },
    "tags": []
   },
   "source": [
    "Nesse próximo passo, vamos verificar por quanto tempo os clientes estão registrados na empresa. Além disso, aplicaremos o tipo DateTime a coluna \"Dt_Customer\"."
   ]
  },
  {
   "cell_type": "code",
   "execution_count": null,
   "metadata": {
    "execution": {
     "iopub.execute_input": "2021-10-08T04:14:41.334783Z",
     "iopub.status.busy": "2021-10-08T04:14:41.334173Z",
     "iopub.status.idle": "2021-10-08T04:14:41.341585Z",
     "shell.execute_reply": "2021-10-08T04:14:41.341118Z",
     "shell.execute_reply.started": "2021-10-08T04:12:15.211459Z"
    },
    "papermill": {
     "duration": 0.046416,
     "end_time": "2021-10-08T04:14:41.341737",
     "exception": false,
     "start_time": "2021-10-08T04:14:41.295321",
     "status": "completed"
    },
    "tags": []
   },
   "outputs": [],
   "source": [
    "data[\"Dt_Customer\"] = pd.to_datetime(data[\"Dt_Customer\"])\n",
    "dates = []\n",
    "for i in data[\"Dt_Customer\"]:\n",
    "    i = i.date()\n",
    "    dates.append(i)  \n",
    "    \n",
    "# Datas dos registros mais recente e mais antigo\n",
    "print(\"O cliente mais novo da base é de:\",max(dates))\n",
    "print(\"O cliente mais antigo da base é de:\",min(dates))\n"
   ]
  },
  {
   "cell_type": "markdown",
   "metadata": {
    "papermill": {
     "duration": 0.029401,
     "end_time": "2021-10-08T04:14:41.400477",
     "exception": false,
     "start_time": "2021-10-08T04:14:41.371076",
     "status": "completed"
    },
    "tags": []
   },
   "source": [
    "Vamos agora criar uma variável chamada **(\"Customer_For\")**, que indica a quantidade de dias em que o cliente fez sua primeira compra até a data da última venda da loja."
   ]
  },
  {
   "cell_type": "code",
   "execution_count": null,
   "metadata": {
    "execution": {
     "iopub.execute_input": "2021-10-08T04:14:41.480254Z",
     "iopub.status.busy": "2021-10-08T04:14:41.479279Z",
     "iopub.status.idle": "2021-10-08T04:14:41.481715Z",
     "shell.execute_reply": "2021-10-08T04:14:41.482326Z",
     "shell.execute_reply.started": "2021-10-08T04:12:15.230607Z"
    },
    "papermill": {
     "duration": 0.051941,
     "end_time": "2021-10-08T04:14:41.482563",
     "exception": false,
     "start_time": "2021-10-08T04:14:41.430622",
     "status": "completed"
    },
    "tags": []
   },
   "outputs": [],
   "source": [
    "# Criando uma nova variável \"Customer_For\"\n",
    "days = []\n",
    "d1 = max(dates) #data da última venda da empresa\n",
    "for i in dates:\n",
    "    delta = d1 - i\n",
    "    days.append(delta)\n",
    "data[\"Customer_For\"] = days\n",
    "data[\"Customer_For\"] = pd.to_numeric(data[\"Customer_For\"], errors=\"coerce\")"
   ]
  },
  {
   "cell_type": "markdown",
   "metadata": {
    "papermill": {
     "duration": 0.029496,
     "end_time": "2021-10-08T04:14:41.700019",
     "exception": false,
     "start_time": "2021-10-08T04:14:41.670523",
     "status": "completed"
    },
    "tags": []
   },
   "source": [
    "**Ainda realizando a tratativa das variáveis, realizaremos as seguintes operações:**\n",
    "\n",
    "* Calcular a **\"Idade\"** do cliente através do campo **\"Year_Birth\"**\n",
    "* Criar uma nova variável **\"Gastos\"**  indicando o total gasto pelo cliente no supermercado durante os 2 anos.\n",
    "* Criar uma nova variável **\"Living_With\"** através do campo **\"Marital_Status\"** para obter a indicação dos casais.\n",
    "* Criar uma nova variável **\"Children\"** para indicar o total de crianças na residência.\n",
    "* Para obter mais dados da família, criar a variável **\"Family_Size\"**\n",
    "* Criar uma variável **\"Is_Parent\"** para indicar se tem filhos\n",
    "* Por fim, criaremos três categorias na **\"Educação\"** simplificando sua contagem de valores.\n",
    "* Remover algumas variáveis redundantes"
   ]
  },
  {
   "cell_type": "code",
   "execution_count": null,
   "metadata": {
    "execution": {
     "iopub.execute_input": "2021-10-08T04:14:41.763000Z",
     "iopub.status.busy": "2021-10-08T04:14:41.762048Z",
     "iopub.status.idle": "2021-10-08T04:14:41.784285Z",
     "shell.execute_reply": "2021-10-08T04:14:41.784752Z",
     "shell.execute_reply.started": "2021-10-08T04:12:15.268640Z"
    },
    "papermill": {
     "duration": 0.055238,
     "end_time": "2021-10-08T04:14:41.784923",
     "exception": false,
     "start_time": "2021-10-08T04:14:41.729685",
     "status": "completed"
    },
    "tags": []
   },
   "outputs": [],
   "source": [
    "# Engenharia de atributos\n",
    "\n",
    "#Idade do cliente no dia de hoje \n",
    "data[\"Age\"] = 2022-data[\"Year_Birth\"]\n",
    "\n",
    "#Total gasto em todas as compras de produtos\n",
    "data[\"Spent\"] = data[\"MntWines\"]+ data[\"MntFruits\"]+ data[\"MntMeatProducts\"]+ data[\"MntFishProducts\"]+ data[\"MntSweetProducts\"]+ data[\"MntGoldProds\"]\n",
    "\n",
    "#Novo campo calculado a partir da situação do estado civil \n",
    "data[\"Living_With\"]=data[\"Marital_Status\"].replace({\"Married\":\"Partner\", \"Together\":\"Partner\", \"Absurd\":\"Alone\", \"Widow\":\"Alone\", \"YOLO\":\"Alone\", \"Divorced\":\"Alone\", \"Single\":\"Alone\",})\n",
    "\n",
    "#Variável indicando o total de filhos na família\n",
    "data[\"Children\"]=data[\"Kidhome\"]+data[\"Teenhome\"]\n",
    "\n",
    "#Variável com o total de membros da família\n",
    "data[\"Family_Size\"] = data[\"Living_With\"].replace({\"Alone\": 1, \"Partner\":2})+ data[\"Children\"]\n",
    "\n",
    "#Variável relativa à paternidade\n",
    "data[\"Is_Parent\"] = np.where(data.Children> 0, 1, 0)\n",
    "\n",
    "#Segmentação da escolaridade em 3 níveis\n",
    "data[\"Education\"]=data[\"Education\"].replace({\"Basic\":\"Undergraduate\",\"2n Cycle\":\"Undergraduate\", \"Graduation\":\"Graduate\", \"Master\":\"Postgraduate\", \"PhD\":\"Postgraduate\"})\n",
    "\n",
    "#Para melhor entendimento\n",
    "data=data.rename(columns={\"MntWines\": \"Wines\",\"MntFruits\":\"Fruits\",\"MntMeatProducts\":\"Meat\",\"MntFishProducts\":\"Fish\",\"MntSweetProducts\":\"Sweets\",\"MntGoldProds\":\"Gold\"})\n",
    "\n",
    "#Eliminando as features redundantes\n",
    "to_drop = [\"Marital_Status\", \"Dt_Customer\", \"Z_CostContact\", \"Z_Revenue\", \"Year_Birth\", \"ID\"]\n",
    "data = data.drop(to_drop, axis=1)"
   ]
  },
  {
   "cell_type": "markdown",
   "metadata": {
    "papermill": {
     "duration": 0.029572,
     "end_time": "2021-10-08T04:14:41.843846",
     "exception": false,
     "start_time": "2021-10-08T04:14:41.814274",
     "status": "completed"
    },
    "tags": []
   },
   "source": [
    "Agora que temos novas variáveis, vamos dar uma olhada novamente nas informações gerais"
   ]
  },
  {
   "cell_type": "code",
   "execution_count": null,
   "metadata": {
    "execution": {
     "iopub.execute_input": "2021-10-08T04:14:41.911150Z",
     "iopub.status.busy": "2021-10-08T04:14:41.910560Z",
     "iopub.status.idle": "2021-10-08T04:14:41.983207Z",
     "shell.execute_reply": "2021-10-08T04:14:41.982716Z",
     "shell.execute_reply.started": "2021-10-08T04:12:15.401193Z"
    },
    "papermill": {
     "duration": 0.109706,
     "end_time": "2021-10-08T04:14:41.983356",
     "exception": false,
     "start_time": "2021-10-08T04:14:41.873650",
     "status": "completed"
    },
    "tags": []
   },
   "outputs": [],
   "source": [
    "data.describe()"
   ]
  },
  {
   "cell_type": "markdown",
   "metadata": {
    "papermill": {
     "duration": 0.030087,
     "end_time": "2021-10-08T04:14:42.043835",
     "exception": false,
     "start_time": "2021-10-08T04:14:42.013748",
     "status": "completed"
    },
    "tags": []
   },
   "source": [
    "Os valores acima mostram uma discrepância grande entre o salário mais baixo (1730 dólares) e o salário mais alto (666.666  dólares).\n",
    "\n",
    "Note que a idade máxima é de 129 anos, conforme nosso cálculo do ano atual menos o ano de nascimento.\n",
    "Vamos plotar algumas variáveis para ver o comportamento como um todo."
   ]
  },
  {
   "cell_type": "markdown",
   "metadata": {
    "papermill": {
     "duration": 0.046896,
     "end_time": "2021-10-08T04:14:51.147774",
     "exception": false,
     "start_time": "2021-10-08T04:14:51.100878",
     "status": "completed"
    },
    "tags": []
   },
   "source": [
    "Há, portanto, alguns outliers nas variáveis, como idade e salário. Portanto, vamos retirá-las. Há diversas formas de tratamento de outliers (medidas estatísticas, etc). Aqui o caso é bem simples e vamos apenas fazer um filtro no dataset."
   ]
  },
  {
   "cell_type": "code",
   "execution_count": null,
   "metadata": {
    "execution": {
     "iopub.execute_input": "2021-10-08T04:14:51.244803Z",
     "iopub.status.busy": "2021-10-08T04:14:51.244208Z",
     "iopub.status.idle": "2021-10-08T04:14:51.251678Z",
     "shell.execute_reply": "2021-10-08T04:14:51.252401Z",
     "shell.execute_reply.started": "2021-10-08T04:12:24.093947Z"
    },
    "papermill": {
     "duration": 0.05833,
     "end_time": "2021-10-08T04:14:51.252647",
     "exception": false,
     "start_time": "2021-10-08T04:14:51.194317",
     "status": "completed"
    },
    "tags": []
   },
   "outputs": [],
   "source": [
    "# Eliminando os valores discrepantes, definindo um limite para idade (90 anos) e renda (menor que 600k).\n",
    "print(\"O total de registros antes da exclusão dos outliers é:\", len(data))\n",
    "data = data[(data[\"Age\"]<90)]\n",
    "data = data[(data[\"Income\"]<600000)]\n",
    "print(\"O total de registros após a exclusão dos outliers é:\", len(data))"
   ]
  },
  {
   "cell_type": "markdown",
   "metadata": {
    "papermill": {
     "duration": 0.046761,
     "end_time": "2021-10-08T04:14:51.348041",
     "exception": false,
     "start_time": "2021-10-08T04:14:51.301280",
     "status": "completed"
    },
    "tags": []
   },
   "source": [
    "Vamos agora dar uma olhada na correlação entre as variáveis, sem considerar as variáveis categóricas."
   ]
  },
  {
   "cell_type": "code",
   "execution_count": null,
   "metadata": {
    "execution": {
     "iopub.execute_input": "2021-10-08T04:14:51.451283Z",
     "iopub.status.busy": "2021-10-08T04:14:51.450603Z",
     "iopub.status.idle": "2021-10-08T04:14:55.872170Z",
     "shell.execute_reply": "2021-10-08T04:14:55.872855Z",
     "shell.execute_reply.started": "2021-10-08T04:12:24.103737Z"
    },
    "papermill": {
     "duration": 4.47676,
     "end_time": "2021-10-08T04:14:55.873081",
     "exception": false,
     "start_time": "2021-10-08T04:14:51.396321",
     "status": "completed"
    },
    "tags": []
   },
   "outputs": [],
   "source": [
    "#correlation matrix\n",
    "corrmat= data.corr()\n",
    "plt.figure(figsize=(20,20))  \n",
    "metade = np.triu(data.corr())\n",
    "sns.heatmap(corrmat,annot=True, cmap='coolwarm', center=0, mask=metade)"
   ]
  },
  {
   "cell_type": "markdown",
   "metadata": {
    "papermill": {
     "duration": 0.063054,
     "end_time": "2021-10-08T04:14:56.005374",
     "exception": false,
     "start_time": "2021-10-08T04:14:55.942320",
     "status": "completed"
    },
    "tags": []
   },
   "source": [
    "\n",
    "<a id=\"4\"></a>\n",
    "# <p style=\"background-color:#2F5597;font-family:newtimeroman;color:#FFF9ED;font-size:120%;text-align:center;border-radius:10px 10px;\">4. Pré-processamento dos Dados</p>\n",
    "\n",
    "Nessa seção vamos pré-processar os dados para prepará-los para a clusterização\n",
    "\n",
    "**Realizaremos as seguintes operações na etapa de pré-processamento dos dados:**\n",
    "\n",
    "* \"LabelEncoder\" das variáveis categóricas: para transformar nomes em números. Ex: (diretor: 0, analista: 1, gerente: 2, programador: 3 e fundador: 4) \n",
    "* Escala das variáveis com \"Standard scaler\". Exemplo: renda e idade estão em uma escala bem diferente e isto pode causar um grande problema no treino do nosso modelo uma vez o salário por possuir uma escala muito maior que a idade terá uma influência consequentemente muito maior no resultado. \n",
    "* Criar um dataframe separado para redução de dimensionalidade\n",
    "\n",
    "Link interessante sobre encoder, scaling, etc: https://caiquecoelho.medium.com/um-guia-completo-para-o-pr%C3%A9-processamento-de-dados-em-machine-learning-f860fbadabe1"
   ]
  },
  {
   "cell_type": "markdown",
   "metadata": {},
   "source": [
    "#### Tratamento das variáveis categóricas"
   ]
  },
  {
   "cell_type": "code",
   "execution_count": null,
   "metadata": {
    "execution": {
     "iopub.execute_input": "2021-10-08T04:14:56.143780Z",
     "iopub.status.busy": "2021-10-08T04:14:56.143069Z",
     "iopub.status.idle": "2021-10-08T04:14:56.148332Z",
     "shell.execute_reply": "2021-10-08T04:14:56.147769Z",
     "shell.execute_reply.started": "2021-10-08T04:12:28.363650Z"
    },
    "papermill": {
     "duration": 0.085186,
     "end_time": "2021-10-08T04:14:56.148485",
     "exception": false,
     "start_time": "2021-10-08T04:14:56.063299",
     "status": "completed"
    },
    "tags": []
   },
   "outputs": [],
   "source": [
    "# Obter lista das variáveis categóricas\n",
    "s = (data.dtypes == 'object')\n",
    "object_cols = list(s[s].index)\n",
    "\n",
    "print(\"Variáveis categóricas no dataset\", object_cols)"
   ]
  },
  {
   "cell_type": "code",
   "execution_count": null,
   "metadata": {
    "execution": {
     "iopub.execute_input": "2021-10-08T04:14:56.284601Z",
     "iopub.status.busy": "2021-10-08T04:14:56.283653Z",
     "iopub.status.idle": "2021-10-08T04:14:56.295535Z",
     "shell.execute_reply": "2021-10-08T04:14:56.295995Z",
     "shell.execute_reply.started": "2021-10-08T04:12:28.371665Z"
    },
    "papermill": {
     "duration": 0.078164,
     "end_time": "2021-10-08T04:14:56.296208",
     "exception": false,
     "start_time": "2021-10-08T04:14:56.218044",
     "status": "completed"
    },
    "tags": []
   },
   "outputs": [],
   "source": [
    "# Label encoding para variáveis categóricas\n",
    "LE=LabelEncoder()\n",
    "for i in object_cols:\n",
    "    data[i]=data[[i]].apply(LE.fit_transform)\n",
    "    \n",
    "print(\"Todas as variáveis agora são numéricas\")"
   ]
  },
  {
   "cell_type": "code",
   "execution_count": null,
   "metadata": {},
   "outputs": [],
   "source": [
    "# Verificando as duas colunas transformadas\n",
    "data"
   ]
  },
  {
   "cell_type": "markdown",
   "metadata": {},
   "source": [
    "#### Escala das variáveis"
   ]
  },
  {
   "cell_type": "markdown",
   "metadata": {},
   "source": [
    "Muitos algoritmos de aprendizado de máquina têm melhor desempenho quando as variáveis ​​de entrada numéricas são dimensionadas para um intervalo padrão. \n",
    "\n",
    "As duas técnicas mais populares para dimensionar dados numéricos antes da modelagem são normalização e padronização. Normalização dimensiona cada variável de entrada separadamente para o intervalo 0-1, que é o intervalo para valores de ponto flutuante onde temos mais precisão. Padronização dimensiona cada variável de entrada separadamente subtraindo a média (chamada centralização) e dividindo pelo desvio padrão para deslocar a distribuição para ter uma média de zero e um desvio padrão de um."
   ]
  },
  {
   "cell_type": "code",
   "execution_count": null,
   "metadata": {
    "execution": {
     "iopub.execute_input": "2021-10-08T04:14:56.418843Z",
     "iopub.status.busy": "2021-10-08T04:14:56.417813Z",
     "iopub.status.idle": "2021-10-08T04:14:56.429945Z",
     "shell.execute_reply": "2021-10-08T04:14:56.429482Z",
     "shell.execute_reply.started": "2021-10-08T04:12:28.392454Z"
    },
    "papermill": {
     "duration": 0.075769,
     "end_time": "2021-10-08T04:14:56.430085",
     "exception": false,
     "start_time": "2021-10-08T04:14:56.354316",
     "status": "completed"
    },
    "tags": []
   },
   "outputs": [],
   "source": [
    "#Criando uma cópia dos dados\n",
    "ds = data.copy()\n",
    "\n",
    "# criando um subconjunto de dataframe, descartando as variáveis \"deals accepted\" e \"promotions\"\n",
    "cols_del = ['AcceptedCmp3', 'AcceptedCmp4', 'AcceptedCmp5', 'AcceptedCmp1','AcceptedCmp2', 'Complain', 'Response']\n",
    "ds = ds.drop(cols_del, axis=1)\n",
    "\n",
    "# Scaling\n",
    "scaler = StandardScaler() #valor = (valor — média) / desvioPadão\n",
    "scaler.fit(ds)\n",
    "scaled_ds = pd.DataFrame(scaler.transform(ds),columns= ds.columns )\n",
    "print(\"As variáveis agora estão na mesma escala.\")"
   ]
  },
  {
   "cell_type": "code",
   "execution_count": null,
   "metadata": {
    "execution": {
     "iopub.execute_input": "2021-10-08T04:14:56.559863Z",
     "iopub.status.busy": "2021-10-08T04:14:56.557570Z",
     "iopub.status.idle": "2021-10-08T04:14:56.574476Z",
     "shell.execute_reply": "2021-10-08T04:14:56.574908Z",
     "shell.execute_reply.started": "2021-10-08T04:12:28.409942Z"
    },
    "papermill": {
     "duration": 0.087305,
     "end_time": "2021-10-08T04:14:56.575069",
     "exception": false,
     "start_time": "2021-10-08T04:14:56.487764",
     "status": "completed"
    },
    "tags": []
   },
   "outputs": [],
   "source": [
    "# Dados dimensionados a serem usados para a etapa de redução de dimensionalidade\n",
    "print(\"Dataframe a ser usado para modelagem:\")\n",
    "scaled_ds.head()"
   ]
  },
  {
   "cell_type": "markdown",
   "metadata": {
    "papermill": {
     "duration": 0.062052,
     "end_time": "2021-10-08T04:14:56.694594",
     "exception": false,
     "start_time": "2021-10-08T04:14:56.632542",
     "status": "completed"
    },
    "tags": []
   },
   "source": [
    "<a id=\"5\"></a>\n",
    "# <p style=\"background-color:#2F5597;font-family:newtimeroman;color:#FFF9ED;font-size:120%;text-align:center;border-radius:10px 10px;\">5. Redução de Dimensionalidade</p>\n",
    "Neste problema, existem muitos fatores /características com base nos quais a classificação final será feita. Esses fatores são basicamente atributos ou variáveis. Quanto maior o número de recursos, mais difícil é de se trabalhar com o problema. \n",
    "\n",
    "Muitas dessas variáveis estão correlacionadas e, portanto, são redundantes. É por isso que é recomendada a redução de dimensionalidade nos atributos selecionados antes de colocá-los em um estimador. Assim, *redução de dimensionalidade é o processo de redução do número de variáveis aleatórias em consideração, obtendo um conjunto de variáveis principais.*\n",
    "\n",
    "**Principal component analysis (PCA)** é uma das técnicas para a redução de dimensionalidade de datasets, incrementando a interpretabilidade dos dados mas ao mesmo tempo minimizando a perda de informação. Adicionalmente, o PCA nada mais é que uma técnica a qual transforma atributos com uma certa correlação em um único atributo. O PCA deve ser aplicado apenas em casos em que o seu dataset possui muitas colunase o treino do seu modelo acaba por ser muito demorado ou inviável devido ao alto número de colunas.\n",
    "\n",
    "**Operações a serem realizadas nessa etapa:**\n",
    "* Redução de dimensionalidade com PCA\n",
    "* Plotar o dataset reduzido após a seleção das variáveis\n",
    "\n",
    "**Redução de dimensionalidade com PCA**\n",
    "\n",
    "Para esse projeto, reduziremos para 3 dimensões, assim facilitando a visualizacão da informação."
   ]
  },
  {
   "cell_type": "code",
   "execution_count": null,
   "metadata": {
    "execution": {
     "iopub.execute_input": "2021-10-08T04:14:56.823997Z",
     "iopub.status.busy": "2021-10-08T04:14:56.816062Z",
     "iopub.status.idle": "2021-10-08T04:14:56.869227Z",
     "shell.execute_reply": "2021-10-08T04:14:56.870468Z",
     "shell.execute_reply.started": "2021-10-08T04:12:28.438263Z"
    },
    "papermill": {
     "duration": 0.118668,
     "end_time": "2021-10-08T04:14:56.870748",
     "exception": false,
     "start_time": "2021-10-08T04:14:56.752080",
     "status": "completed"
    },
    "tags": []
   },
   "outputs": [],
   "source": [
    "#Inicializando o PCA com 3 componentes\n",
    "pca = PCA(n_components=3)\n",
    "pca.fit(scaled_ds)\n",
    "PCA_ds = pd.DataFrame(pca.transform(scaled_ds), columns=([\"col1\",\"col2\",\"col3\"]))\n",
    "PCA_ds.describe()"
   ]
  },
  {
   "cell_type": "code",
   "execution_count": null,
   "metadata": {},
   "outputs": [],
   "source": [
    "PCA_ds.info()"
   ]
  },
  {
   "cell_type": "code",
   "execution_count": null,
   "metadata": {
    "execution": {
     "iopub.execute_input": "2021-10-08T04:14:57.061968Z",
     "iopub.status.busy": "2021-10-08T04:14:57.055234Z",
     "iopub.status.idle": "2021-10-08T04:14:57.336741Z",
     "shell.execute_reply": "2021-10-08T04:14:57.337174Z",
     "shell.execute_reply.started": "2021-10-08T04:12:28.499006Z"
    },
    "papermill": {
     "duration": 0.367462,
     "end_time": "2021-10-08T04:14:57.337354",
     "exception": false,
     "start_time": "2021-10-08T04:14:56.969892",
     "status": "completed"
    },
    "scrolled": false,
    "tags": []
   },
   "outputs": [],
   "source": [
    "# Uma projeção 3D de dados na dimensão reduzida\n",
    "x =PCA_ds[\"col1\"]\n",
    "y =PCA_ds[\"col2\"]\n",
    "z =PCA_ds[\"col3\"]\n",
    "#To plot\n",
    "fig = plt.figure(figsize=(10,8))\n",
    "ax = fig.add_subplot(111, projection=\"3d\")\n",
    "ax.scatter(x,y,z, c=\"blue\", marker=\"o\" )\n",
    "ax.set_title(\"Uma projeção 3D dos dados em uma dimensão reduzida\")\n",
    "plt.show()"
   ]
  },
  {
   "cell_type": "markdown",
   "metadata": {
    "papermill": {
     "duration": 0.061136,
     "end_time": "2021-10-08T04:14:57.460284",
     "exception": false,
     "start_time": "2021-10-08T04:14:57.399148",
     "status": "completed"
    },
    "tags": []
   },
   "source": [
    "<a id=\"6\"></a>\n",
    "# <p style=\"background-color:#2F5597;font-family:newtimeroman;color:#FFF9ED;font-size:120%;text-align:center;border-radius:10px 10px;\">6. Clusterização</p>\n",
    "\n",
    "Agora que temos a dimensão reduzida para 3 atributos, iremos realizar a clusterização utilizando a técnica de cluster aglomerativo. \"Agglomerative Clustering\" é um método de clusterização hierárquica. Envolve exemplos de agrupamento até o número de clusters apropriado ser encontrado. \n",
    "\n",
    "Algoritmos desse tipo têm como objetivo agrupar dados similares entre si usando ferramentas como a distância entre eles. A diferença desse tipo de algoritmo para os demais está na criação de diversos clusters (alguns agrupamentos dentro de outros), o que, por fim, acaba gerando uma árvore de clusters, na qual um dado pertence a grupos menores e maiores, criando, dessa forma, uma hierarquia.\n",
    "\n",
    "Contudo, esses algoritmos apresentam duas desvantagens principais:\n",
    "\n",
    "Não lidam muito bem com outliers, tendo em vista que, graças a lógica do algoritmo, tendem a classificar o dado distante como um novo cluster, ou, em piores casos, acabam deformando outro cluster para incluí-lo.\n",
    "Não costumam ser utilizados em larga escala e em quantidades grandes de dados devido a sua complexidade e ineficiência com muitos dados. Por isso, estuda-se esses métodos uma vez que servem de base para soluções mais sofisticadas (como o density-based).\n",
    "\n",
    "**Passos envolvidos na clusterização:**\n",
    "* Método Elbow para determinar o número de clusters a serem formados\n",
    "* Clusterização utilizando o \"Agglomerative Clustering\"\n",
    "* Examinar os clusters através de visualização gráfica\n",
    "\n",
    "**O Método Elbow (Cotovelo)**\n",
    "A ideia é rodar o KMeans para vários quantidades diferentes de clusters e dizer qual dessas quantidades é o número ótimo de clusters. O que geralmente acontece ao aumentar a quantidade de clusters no KMeans é que as diferenças entre clusters se tornam muito pequenas, e as diferenças das observações intra-clusters vão aumentando. Então é preciso achar um equilíbrio em que as observações que formam cada agrupamento sejam o mais homogêneas possível e que os agrupamentos formados sejam o mais diferentes um dos outros.  \n",
    "Mais info: https://medium.com/pizzadedados/kmeans-e-metodo-do-cotovelo-94ded9fdf3a9"
   ]
  },
  {
   "cell_type": "code",
   "execution_count": null,
   "metadata": {
    "execution": {
     "iopub.execute_input": "2021-10-08T04:14:57.586371Z",
     "iopub.status.busy": "2021-10-08T04:14:57.585728Z",
     "iopub.status.idle": "2021-10-08T04:14:59.263906Z",
     "shell.execute_reply": "2021-10-08T04:14:59.263310Z",
     "shell.execute_reply.started": "2021-10-08T04:12:28.811409Z"
    },
    "papermill": {
     "duration": 1.74229,
     "end_time": "2021-10-08T04:14:59.264051",
     "exception": false,
     "start_time": "2021-10-08T04:14:57.521761",
     "status": "completed"
    },
    "scrolled": false,
    "tags": []
   },
   "outputs": [],
   "source": [
    "# Exame rápido do \"método do cotovelo\" para encontrar o número de clusters a serem feitos.\n",
    "print('Método Elbow Methodpara determinar o número ótimo de clusters.')\n",
    "k= range(2,10)\n",
    "Elbow_M = KElbowVisualizer(KMeans(), k=k, random_state=42)\n",
    "Elbow_M.fit(PCA_ds)\n",
    "Elbow_M.show()"
   ]
  },
  {
   "cell_type": "markdown",
   "metadata": {
    "execution": {
     "iopub.execute_input": "2021-09-24T12:48:31.555898Z",
     "iopub.status.busy": "2021-09-24T12:48:31.555573Z",
     "iopub.status.idle": "2021-09-24T12:48:31.559969Z",
     "shell.execute_reply": "2021-09-24T12:48:31.559288Z",
     "shell.execute_reply.started": "2021-09-24T12:48:31.55586Z"
    },
    "papermill": {
     "duration": 0.063192,
     "end_time": "2021-10-08T04:14:59.390530",
     "exception": false,
     "start_time": "2021-10-08T04:14:59.327338",
     "status": "completed"
    },
    "tags": []
   },
   "source": [
    "O gráfico acima indica que 4 é o número ótimo de clusters para os nossos dados.\n",
    "A seguir, vamos fazer o fit de Agglomerative Clustering para obter os clusters finais. \n",
    "\n",
    "#### Parâmetros Iniciais de Entrada do Agglomerative Clustering\n",
    "\n",
    "**n_clusters**: número de clusters que queremos obter/acreditamos que existe  \n",
    "**affinity**: forma de medir a distância (afinidade) entre os datapoints  \n",
    "**connectivity**: matriz de conectividade que define os vizinhos para cada ponto  \n",
    "**compute_full_tree**: parâmetro que permite a “parada” do algoritmo caso o dendograma já apresente o número de clusters previsto em n_clusters. É útil para reduzir o tempo de computação dos Clusters.  \n",
    "**linkage**: critério de ligação escolhido  \n",
    "**distance_threshold**: limite o qual permite que os pontos possam ser agrupados em um cluster. Se essa distância for maior, o algoritmo não os junta."
   ]
  },
  {
   "cell_type": "markdown",
   "metadata": {},
   "source": [
    "#### Funcionamento Agglomerative Clustering\n",
    "\n",
    "O algoritmo se dá da seguinte forma:\n",
    "\n",
    "- Ache dois pontos que estejam o mais próximo possível\n",
    "- Substitua eles por um ponto com a média dos valores deles\n",
    "- Repita o processo até que todos tenham um único cluster\n",
    "- A proximidade dos pontos é definida pelo cálculo da sua distância, sendo o método mais comum para isso a distância euclidiana."
   ]
  },
  {
   "cell_type": "code",
   "execution_count": null,
   "metadata": {
    "execution": {
     "iopub.execute_input": "2021-10-08T04:14:59.527275Z",
     "iopub.status.busy": "2021-10-08T04:14:59.526543Z",
     "iopub.status.idle": "2021-10-08T04:14:59.670409Z",
     "shell.execute_reply": "2021-10-08T04:14:59.669779Z",
     "shell.execute_reply.started": "2021-10-08T04:12:30.673084Z"
    },
    "papermill": {
     "duration": 0.213864,
     "end_time": "2021-10-08T04:14:59.670550",
     "exception": false,
     "start_time": "2021-10-08T04:14:59.456686",
     "status": "completed"
    },
    "tags": []
   },
   "outputs": [],
   "source": [
    "#Inicilizando o modelo Agglomerative Clustering  \n",
    "AC = AgglomerativeClustering(n_clusters=4)\n",
    "\n",
    "# Ajustar o modelo e prever os clusters\n",
    "clusters_formados = AC.fit_predict(PCA_ds)\n",
    "PCA_ds[\"Clusters\"] = clusters_formados\n",
    "\n",
    "# Adicionando a variável Clusters ao dataframe original.\n",
    "data[\"Clusters\"]= clusters_formados"
   ]
  },
  {
   "cell_type": "markdown",
   "metadata": {
    "papermill": {
     "duration": 0.063434,
     "end_time": "2021-10-08T04:14:59.798310",
     "exception": false,
     "start_time": "2021-10-08T04:14:59.734876",
     "status": "completed"
    },
    "tags": []
   },
   "source": [
    "Para examinar os clusters formados, vamos dar uma olhada na distribuição 3-D dos clusters."
   ]
  },
  {
   "cell_type": "code",
   "execution_count": null,
   "metadata": {
    "execution": {
     "iopub.execute_input": "2021-10-08T04:14:59.948296Z",
     "iopub.status.busy": "2021-10-08T04:14:59.942685Z",
     "iopub.status.idle": "2021-10-08T04:15:00.243746Z",
     "shell.execute_reply": "2021-10-08T04:15:00.244210Z",
     "shell.execute_reply.started": "2021-10-08T04:12:30.828912Z"
    },
    "papermill": {
     "duration": 0.381844,
     "end_time": "2021-10-08T04:15:00.244379",
     "exception": false,
     "start_time": "2021-10-08T04:14:59.862535",
     "status": "completed"
    },
    "tags": []
   },
   "outputs": [],
   "source": [
    "# Plotando os clusters\n",
    "fig = plt.figure(figsize=(10,8))\n",
    "ax = plt.subplot(111, projection='3d')\n",
    "ax.scatter(x, y, z, s=40, c=PCA_ds[\"Clusters\"], marker='o', cmap ='coolwarm' )\n",
    "ax.set_title(\"Visualizando os clusters\")\n",
    "plt.show()"
   ]
  },
  {
   "cell_type": "markdown",
   "metadata": {
    "papermill": {
     "duration": 0.065606,
     "end_time": "2021-10-08T04:15:00.376433",
     "exception": false,
     "start_time": "2021-10-08T04:15:00.310827",
     "status": "completed"
    },
    "tags": []
   },
   "source": [
    "<a id=\"7\"></a>\n",
    "# <p style=\"background-color:#2F5597;font-family:newtimeroman;color:#FFF9ED;font-size:120%;text-align:center;border-radius:10px 10px;\">7. Avaliação do Modelo</p>\n",
    "\n",
    "Uma vez que este é um algoritmo não supervisionado, não temos uma variável target marcada para avaliar ou pontuar o modelo. O objetivo desta seção é estudar os padrões nos clusters formados e determinar a natureza dos padrões dos clusters.\n",
    "\n",
    "Para isso, analisaremos os dados dos clusters por meio de análise exploratória de dados e assim tirar algumas conclusões.\n",
    "\n",
    "**Primeiramente, vamos ver a distribuição do grupo de clusters**"
   ]
  },
  {
   "cell_type": "code",
   "execution_count": null,
   "metadata": {
    "execution": {
     "iopub.execute_input": "2021-10-08T04:15:00.515866Z",
     "iopub.status.busy": "2021-10-08T04:15:00.514854Z",
     "iopub.status.idle": "2021-10-08T04:15:00.913031Z",
     "shell.execute_reply": "2021-10-08T04:15:00.912447Z",
     "shell.execute_reply.started": "2021-10-08T04:12:31.157287Z"
    },
    "papermill": {
     "duration": 0.470936,
     "end_time": "2021-10-08T04:15:00.913213",
     "exception": false,
     "start_time": "2021-10-08T04:15:00.442277",
     "status": "completed"
    },
    "tags": []
   },
   "outputs": [],
   "source": [
    "#Plotando os registros de cada cluster\n",
    "pal = 'coolwarm'\n",
    "pl = sns.countplot(x=data[\"Clusters\"], palette= pal)\n",
    "pl.set_title(\"Distribuição dos clusters\")\n",
    "plt.show()"
   ]
  },
  {
   "cell_type": "markdown",
   "metadata": {
    "papermill": {
     "duration": 0.066727,
     "end_time": "2021-10-08T04:15:01.186736",
     "exception": false,
     "start_time": "2021-10-08T04:15:01.120009",
     "status": "completed"
    },
    "tags": []
   },
   "source": [
    "Os clusters parecem estar distribuídos de forma bastante uniforme."
   ]
  },
  {
   "cell_type": "code",
   "execution_count": null,
   "metadata": {
    "execution": {
     "iopub.execute_input": "2021-10-08T04:15:01.360323Z",
     "iopub.status.busy": "2021-10-08T04:15:01.359683Z",
     "iopub.status.idle": "2021-10-08T04:15:01.793924Z",
     "shell.execute_reply": "2021-10-08T04:15:01.792766Z",
     "shell.execute_reply.started": "2021-10-08T04:12:31.389440Z"
    },
    "papermill": {
     "duration": 0.510132,
     "end_time": "2021-10-08T04:15:01.794103",
     "exception": false,
     "start_time": "2021-10-08T04:15:01.283971",
     "status": "completed"
    },
    "tags": []
   },
   "outputs": [],
   "source": [
    "pl = sns.scatterplot(data = data,x=data[\"Spent\"], y=data[\"Income\"],hue=data[\"Clusters\"], palette= pal)\n",
    "pl.set_title(\"Clusters baseados no Salário e no Gasto\")\n",
    "plt.legend()\n",
    "plt.show()"
   ]
  },
  {
   "cell_type": "markdown",
   "metadata": {
    "papermill": {
     "duration": 0.07143,
     "end_time": "2021-10-08T04:15:01.938650",
     "exception": false,
     "start_time": "2021-10-08T04:15:01.867220",
     "status": "completed"
    },
    "tags": []
   },
   "source": [
    "**Salário vs Gastos mostra pra gente os seguintes padrões**\n",
    "* Grupo 0: Alto Gasto & Médio Salário\n",
    "* Grupo 1: Alto Gasto & Alto Salário\n",
    "* Grupo 2: Baixo Gasto & Baixo Salário\n",
    "* Grupo 3: Baixo Gasto & Médio Salário  \n",
    "\n"
   ]
  },
  {
   "cell_type": "code",
   "execution_count": null,
   "metadata": {
    "execution": {
     "iopub.execute_input": "2021-10-08T04:15:02.088310Z",
     "iopub.status.busy": "2021-10-08T04:15:02.087626Z",
     "iopub.status.idle": "2021-10-08T04:15:06.694890Z",
     "shell.execute_reply": "2021-10-08T04:15:06.695350Z",
     "shell.execute_reply.started": "2021-10-08T04:12:31.819670Z"
    },
    "papermill": {
     "duration": 4.684948,
     "end_time": "2021-10-08T04:15:06.695522",
     "exception": false,
     "start_time": "2021-10-08T04:15:02.010574",
     "status": "completed"
    },
    "tags": []
   },
   "outputs": [],
   "source": [
    "plt.figure()\n",
    "\n",
    "pl=sns.boxenplot(x=data[\"Clusters\"], y=data[\"Spent\"], palette=pal)\n",
    "plt.show()"
   ]
  },
  {
   "cell_type": "markdown",
   "metadata": {
    "papermill": {
     "duration": 0.07193,
     "end_time": "2021-10-08T04:15:06.840213",
     "exception": false,
     "start_time": "2021-10-08T04:15:06.768283",
     "status": "completed"
    },
    "tags": []
   },
   "source": [
    "Agora vamos explorar uma parte muito importante do projeto, que é o que cada cluster está gastando nas estratégias de marketing direcionadas."
   ]
  },
  {
   "cell_type": "code",
   "execution_count": null,
   "metadata": {
    "execution": {
     "iopub.execute_input": "2021-10-08T04:15:07.146675Z",
     "iopub.status.busy": "2021-10-08T04:15:07.145665Z",
     "iopub.status.idle": "2021-10-08T04:15:07.434967Z",
     "shell.execute_reply": "2021-10-08T04:15:07.434335Z",
     "shell.execute_reply.started": "2021-10-08T04:12:36.278010Z"
    },
    "papermill": {
     "duration": 0.373835,
     "end_time": "2021-10-08T04:15:07.435114",
     "exception": false,
     "start_time": "2021-10-08T04:15:07.061279",
     "status": "completed"
    },
    "tags": []
   },
   "outputs": [],
   "source": [
    "#Criando uma variável que é a soma de todas as promoções aceitas\n",
    "data[\"Total_Promos\"] = data[\"AcceptedCmp1\"]+ data[\"AcceptedCmp2\"]+ data[\"AcceptedCmp3\"]+ data[\"AcceptedCmp4\"]+ data[\"AcceptedCmp5\"]\n",
    "\n",
    "#Plotando os dados das campanhas\n",
    "plt.figure()\n",
    "pl = sns.countplot(x=data[\"Total_Promos\"],hue=data[\"Clusters\"], palette= pal)\n",
    "pl.set_title(\"Promoções aceitas\")\n",
    "pl.set_xlabel(\"Número total de promoções aceitas\")\n",
    "plt.show()"
   ]
  },
  {
   "cell_type": "markdown",
   "metadata": {
    "papermill": {
     "duration": 0.075057,
     "end_time": "2021-10-08T04:15:07.585345",
     "exception": false,
     "start_time": "2021-10-08T04:15:07.510288",
     "status": "completed"
    },
    "tags": []
   },
   "source": [
    "As campanhas de marketing não estão surtindo o efeito desejsado. Muito poucos participantes no geral. Além disso, nenhum cluster participou de todas as 5 campanhas. Talvez sejam necessárias campanhas mais bem direcionadas e bem planejadas para aumentar as vendas.\n"
   ]
  },
  {
   "cell_type": "code",
   "execution_count": null,
   "metadata": {
    "execution": {
     "iopub.execute_input": "2021-10-08T04:15:07.734414Z",
     "iopub.status.busy": "2021-10-08T04:15:07.733808Z",
     "iopub.status.idle": "2021-10-08T04:15:07.983586Z",
     "shell.execute_reply": "2021-10-08T04:15:07.983066Z",
     "shell.execute_reply.started": "2021-10-08T04:12:36.567195Z"
    },
    "papermill": {
     "duration": 0.325298,
     "end_time": "2021-10-08T04:15:07.983731",
     "exception": false,
     "start_time": "2021-10-08T04:15:07.658433",
     "status": "completed"
    },
    "tags": []
   },
   "outputs": [],
   "source": [
    "#Plotando o número de ofertas compradas\n",
    "plt.figure()\n",
    "pl=sns.boxenplot(y=data[\"NumDealsPurchases\"],x=data[\"Clusters\"], palette= pal)\n",
    "pl.set_title(\"Número de ofertas compradas\")\n",
    "plt.show()"
   ]
  },
  {
   "cell_type": "markdown",
   "metadata": {
    "papermill": {
     "duration": 0.075506,
     "end_time": "2021-10-08T04:15:08.136009",
     "exception": false,
     "start_time": "2021-10-08T04:15:08.060503",
     "status": "completed"
    },
    "tags": []
   },
   "source": [
    "Ao contrário das campanhas, as ofertas oferecidas tiveram boa conversão. Tem melhor resultado o cluster 0 e o cluster 3.\n",
    "Nada parece atrair o cluster 1 nem o cluster 2.\n"
   ]
  },
  {
   "cell_type": "code",
   "execution_count": null,
   "metadata": {
    "_kg_hide-input": true,
    "_kg_hide-output": true,
    "execution": {
     "iopub.execute_input": "2021-10-08T04:15:08.291394Z",
     "iopub.status.busy": "2021-10-08T04:15:08.290733Z",
     "iopub.status.idle": "2021-10-08T04:15:11.506052Z",
     "shell.execute_reply": "2021-10-08T04:15:11.506546Z",
     "shell.execute_reply.started": "2021-10-08T04:12:36.807697Z"
    },
    "papermill": {
     "duration": 3.296251,
     "end_time": "2021-10-08T04:15:11.506721",
     "exception": false,
     "start_time": "2021-10-08T04:15:08.210470",
     "status": "completed"
    },
    "scrolled": false,
    "tags": []
   },
   "outputs": [],
   "source": [
    "# Verificar os detalhes das compras realizadas por canais\n",
    "Canais =[\"NumWebPurchases\", \"NumCatalogPurchases\", \"NumStorePurchases\",  \"NumWebVisitsMonth\"] \n",
    "\n",
    "for i in Canais:\n",
    "    plt.figure()\n",
    "    sns.jointplot(x=data[i],y = data[\"Spent\"],hue=data[\"Clusters\"], palette= pal)\n",
    "    plt.show()"
   ]
  },
  {
   "cell_type": "markdown",
   "metadata": {
    "papermill": {
     "duration": 0.083796,
     "end_time": "2021-10-08T04:15:11.674202",
     "exception": false,
     "start_time": "2021-10-08T04:15:11.590406",
     "status": "completed"
    },
    "tags": []
   },
   "source": [
    "<a id=\"8\"></a>\n",
    "# <p style=\"background-color:#2F5597;font-family:newtimeroman;color:#FFF9ED;font-size:120%;text-align:center;border-radius:10px 10px;\">8. Análise dos Resultados e Tomada de Decisão</p>\n",
    "\n",
    "Agora que formamos os clusters e analisamos seus hábitos de compra, vamos ver quem são todos esses clusters. Para isso, vamos traçar o perfil dos clusters formados e chegar a uma conclusão sobre quem é nosso cliente estrela e quem precisa de mais atenção da equipe de marketing da loja.\n",
    "\n",
    "Para decidir sobre, vamos plotar alguns gráficos que são indicativos das características pessoais e familiares do cliente à luz do cluster em que ele está. Com base nos resultados, faremos nossas conclusões."
   ]
  },
  {
   "cell_type": "code",
   "execution_count": null,
   "metadata": {
    "execution": {
     "iopub.execute_input": "2021-10-08T04:15:11.864726Z",
     "iopub.status.busy": "2021-10-08T04:15:11.863979Z",
     "iopub.status.idle": "2021-10-08T04:15:37.658767Z",
     "shell.execute_reply": "2021-10-08T04:15:37.659280Z",
     "shell.execute_reply.started": "2021-10-08T04:12:39.974905Z"
    },
    "papermill": {
     "duration": 25.901281,
     "end_time": "2021-10-08T04:15:37.659466",
     "exception": false,
     "start_time": "2021-10-08T04:15:11.758185",
     "status": "completed"
    },
    "scrolled": true,
    "tags": []
   },
   "outputs": [],
   "source": [
    "Personal = [ \"Kidhome\",\"Teenhome\", \"Age\", \"Children\", \"Family_Size\", \"Is_Parent\", \"Education\",\"Living_With\"]\n",
    "\n",
    "for i in Personal:\n",
    "    plt.figure()\n",
    "    sns.jointplot(x=data[i], y=data[\"Spent\"], hue =data[\"Clusters\"], kind=\"kde\", palette=pal)\n",
    "    plt.show()\n"
   ]
  },
  {
   "cell_type": "markdown",
   "metadata": {
    "papermill": {
     "duration": 0.10691,
     "end_time": "2021-10-08T04:15:37.873431",
     "exception": false,
     "start_time": "2021-10-08T04:15:37.766521",
     "status": "completed"
    },
    "tags": []
   },
   "source": [
    "**Análise e Tomada de Decisão:**\n",
    "\n",
    "As informações a seguir podem ser deduzidas sobre os clientes nos diferentes clusters.\n",
    "\n",
    "### CLUSTER 0\n",
    "- São definitivamente pais\n",
    "- Tem pelo menos 2 membros na família e no máximo 4\n",
    "- Pais sem filhos são um sub-grupo deste grupo\n",
    "- A maioria tem um adolescente em casa\n",
    "- São relativamente mais velhos (em idade)\n",
    "\n",
    "### CLUSTER 1\n",
    "- Definitivamente não são pais\n",
    "- Máximo de 2 pessoas por família\n",
    "- Há uma quantidade considerável de pessoas solteiras\n",
    "- São de todas as idades\n",
    "- Grupo que possui um salário alto\n",
    "\n",
    "### CLUSTER 2\n",
    "- A maioria das pessoas são pais\n",
    "- O máximo de membros na família é 3\n",
    "- A maioria tem uma criança (e não adolescentes)\n",
    "- São relativamente mais jovens\n",
    "\n",
    "### CLUSTER 3\n",
    "- São definitivamente pais\n",
    "- Tem pelo menos 2 membros na família e no máximo 5\n",
    "- A maioria tem um adolescente em casa\n",
    "- São relativamente mais velhos (em idade)\n",
    "- Grupo com baixa-média renda\n",
    "\n",
    "\n",
    "  "
   ]
  },
  {
   "cell_type": "markdown",
   "metadata": {
    "papermill": {
     "duration": 0.106499,
     "end_time": "2021-10-08T04:15:38.087648",
     "exception": false,
     "start_time": "2021-10-08T04:15:37.981149",
     "status": "completed"
    },
    "tags": []
   },
   "source": [
    "<a id=\"9\"></a>\n",
    "# <p style=\"background-color:#2F5597;font-family:newtimeroman;color:#FFF9ED;font-size:120%;text-align:center;border-radius:10px 10px;\">9. Conclusão</p>\n",
    "\n",
    "\n",
    "Neste projeto, realizamos um agrupamento não supervisionado. Fizemos várias operações incluindo redução de dimensionalidade seguida de agrupamento aglomerativo. Criamos 4 clusters e os usamos ainda mais na criação de perfis de clientes em clusters de acordo com suas estruturas familiares e renda/gastos.\n",
    "Isso pode ser usado no planejamento de melhores estratégias de marketing.\n",
    "\n",
    "Como exemplo, caso queiram ofertar um novo brinquedo para crianças, realizar a divulgação somente para os clientes do cluster 2, para ter maior assertividade.\n",
    "Dessa maneira, há inúmeras formas de utilizar os clusters obtidos para realizar campanhas de marketing mais inteligentes. \n",
    "\n",
    "<a id=\"10\"></a>\n",
    "# <p style=\"background-color:#2F5597;font-family:newtimeroman;color:#FFF9ED;font-size:120%;text-align:center;border-radius:10px 10px;\">10 - Fim</p>"
   ]
  },
  {
   "cell_type": "code",
   "execution_count": null,
   "metadata": {},
   "outputs": [],
   "source": []
  }
 ],
 "metadata": {
  "kernelspec": {
   "display_name": "Python 3",
   "language": "python",
   "name": "python3"
  },
  "language_info": {
   "codemirror_mode": {
    "name": "ipython",
    "version": 3
   },
   "file_extension": ".py",
   "mimetype": "text/x-python",
   "name": "python",
   "nbconvert_exporter": "python",
   "pygments_lexer": "ipython3",
   "version": "3.8.5"
  },
  "papermill": {
   "default_parameters": {},
   "duration": 68.93969,
   "end_time": "2021-10-08T04:15:39.992191",
   "environment_variables": {},
   "exception": null,
   "input_path": "__notebook__.ipynb",
   "output_path": "__notebook__.ipynb",
   "parameters": {},
   "start_time": "2021-10-08T04:14:31.052501",
   "version": "2.3.3"
  }
 },
 "nbformat": 4,
 "nbformat_minor": 5
}
