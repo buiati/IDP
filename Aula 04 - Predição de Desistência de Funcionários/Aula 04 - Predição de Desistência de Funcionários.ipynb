{
 "cells": [
  {
   "cell_type": "markdown",
   "metadata": {},
   "source": [
    "<img src=\"../idp.jpg\">"
   ]
  },
  {
   "cell_type": "markdown",
   "metadata": {},
   "source": [
    "# <p style=\"background-color:#2F5597;font-family:newtimeroman;color:#FFF9ED;font-size:150%;text-align:center;border-radius:10px 10px;\">Aula 4 - Predição de Desistência de Funcionários</p>"
   ]
  },
  {
   "cell_type": "markdown",
   "metadata": {
    "papermill": {
     "duration": 0.014547,
     "end_time": "2022-07-28T14:15:04.390447",
     "exception": false,
     "start_time": "2022-07-28T14:15:04.375900",
     "status": "completed"
    },
    "tags": []
   },
   "source": [
    "# Introdução"
   ]
  },
  {
   "cell_type": "markdown",
   "metadata": {
    "papermill": {
     "duration": 0.013226,
     "end_time": "2022-07-28T14:15:04.417408",
     "exception": false,
     "start_time": "2022-07-28T14:15:04.404182",
     "status": "completed"
    },
    "tags": []
   },
   "source": [
    "Este é um conjunto de dados criado por cientistas de dados da IBM para analisar os fatores que levam ao desgaste dos funcionários. Neste notebook, construiremos um sistema que prevê a desistência e saída dos funcionários da empresa. Primeiro, faremos um pré-processamento, análise exploratória de dados e, em seguida, construiremos e compararemos 3 modelos de classificação diferentes."
   ]
  },
  {
   "cell_type": "markdown",
   "metadata": {},
   "source": [
    "## Dados"
   ]
  },
  {
   "cell_type": "markdown",
   "metadata": {},
   "source": [
    "Os dados nos trazem várias informações relevantes que levam ao desgaste dos funcionários. Como exemplo: \"distância trabalho-casa por função e possível desgaste do funciário\" ou \"comparação da renda mensal média por educação e desgaste\". Este é um conjunto de dados fictício criado por cientistas de dados da IBM.\n",
    "\n",
    "Link do dataset: https://www.kaggle.com/datasets/pavansubhasht/ibm-hr-analytics-attrition-dataset\n",
    "\n",
    "Variáveis de interesse:\n",
    "\n",
    "**Education**\n",
    "1 'Below College'\n",
    "2 'College'\n",
    "3 'Bachelor'\n",
    "4 'Master'\n",
    "5 'Doctor'\n",
    "\n",
    "**EnvironmentSatisfaction**\n",
    "1 'Low'\n",
    "2 'Medium'\n",
    "3 'High'\n",
    "4 'Very High'\n",
    "\n",
    "**JobInvolvement**\n",
    "1 'Low'\n",
    "2 'Medium'\n",
    "3 'High'\n",
    "4 'Very High'\n",
    "\n",
    "**JobSatisfaction**\n",
    "1 'Low'\n",
    "2 'Medium'\n",
    "3 'High'\n",
    "4 'Very High'\n",
    "\n",
    "**PerformanceRating**\n",
    "1 'Low'\n",
    "2 'Good'\n",
    "3 'Excellent'\n",
    "4 'Outstanding'\n",
    "\n",
    "**RelationshipSatisfaction**\n",
    "1 'Low'\n",
    "2 'Medium'\n",
    "3 'High'\n",
    "4 'Very High'\n",
    "\n",
    "**WorkLifeBalance**\n",
    "1 'Bad'\n",
    "2 'Good'\n",
    "3 'Better'\n",
    "4 'Best'"
   ]
  },
  {
   "cell_type": "markdown",
   "metadata": {},
   "source": [
    "### Roteiro\n",
    "\n",
    "- Importar bibliotecas\n",
    "- Análise exploratória dos dados\n",
    "- Limpeza e tratamento\n",
    "- Engenharia de atributos \n",
    "- Pré-processamento\n",
    "- Label encoding \n",
    "- Data standardization \n",
    "- Modelagem\n",
    "- Treinamento \n",
    "- Verificar performance\n",
    "- Visualização com SHAP"
   ]
  },
  {
   "cell_type": "markdown",
   "metadata": {
    "papermill": {
     "duration": 0.014217,
     "end_time": "2022-07-28T14:15:04.445031",
     "exception": false,
     "start_time": "2022-07-28T14:15:04.430814",
     "status": "completed"
    },
    "tags": []
   },
   "source": [
    "# Importando bibliotecas"
   ]
  },
  {
   "cell_type": "code",
   "execution_count": null,
   "metadata": {
    "_cell_guid": "b1076dfc-b9ad-4769-8c92-a6c4dae69d19",
    "_uuid": "8f2839f25d086af736a60e9eeb907d3b93b6e0e5",
    "execution": {
     "iopub.execute_input": "2022-07-28T14:15:04.474456Z",
     "iopub.status.busy": "2022-07-28T14:15:04.473976Z",
     "iopub.status.idle": "2022-07-28T14:15:06.251365Z",
     "shell.execute_reply": "2022-07-28T14:15:06.250202Z"
    },
    "papermill": {
     "duration": 1.795526,
     "end_time": "2022-07-28T14:15:06.254365",
     "exception": false,
     "start_time": "2022-07-28T14:15:04.458839",
     "status": "completed"
    },
    "tags": []
   },
   "outputs": [],
   "source": [
    "import numpy as np\n",
    "import pandas as pd\n",
    "import matplotlib.pyplot as plt\n",
    "import seaborn as sns\n",
    "from sklearn import preprocessing\n",
    "from sklearn.preprocessing import StandardScaler\n",
    "from sklearn.model_selection import train_test_split\n",
    "from sklearn.linear_model import LogisticRegression\n",
    "from xgboost import XGBClassifier\n",
    "from sklearn.ensemble import RandomForestClassifier\n",
    "from sklearn.neighbors import KNeighborsClassifier\n",
    "from sklearn import model_selection\n",
    "from sklearn.metrics import accuracy_score"
   ]
  },
  {
   "cell_type": "code",
   "execution_count": null,
   "metadata": {
    "execution": {
     "iopub.execute_input": "2022-07-28T14:15:06.283531Z",
     "iopub.status.busy": "2022-07-28T14:15:06.282936Z",
     "iopub.status.idle": "2022-07-28T14:15:06.348906Z",
     "shell.execute_reply": "2022-07-28T14:15:06.347541Z"
    },
    "papermill": {
     "duration": 0.083443,
     "end_time": "2022-07-28T14:15:06.351261",
     "exception": false,
     "start_time": "2022-07-28T14:15:06.267818",
     "status": "completed"
    },
    "tags": []
   },
   "outputs": [],
   "source": [
    "funcionarios = pd.read_csv(\"ibm-employees.csv\")\n",
    "funcionarios.head()"
   ]
  },
  {
   "cell_type": "markdown",
   "metadata": {
    "papermill": {
     "duration": 0.015045,
     "end_time": "2022-07-28T14:15:06.380306",
     "exception": false,
     "start_time": "2022-07-28T14:15:06.365261",
     "status": "completed"
    },
    "tags": []
   },
   "source": [
    "# Limpeza"
   ]
  },
  {
   "cell_type": "code",
   "execution_count": null,
   "metadata": {
    "execution": {
     "iopub.execute_input": "2022-07-28T14:15:06.411441Z",
     "iopub.status.busy": "2022-07-28T14:15:06.411033Z",
     "iopub.status.idle": "2022-07-28T14:15:06.423579Z",
     "shell.execute_reply": "2022-07-28T14:15:06.422579Z"
    },
    "papermill": {
     "duration": 0.030798,
     "end_time": "2022-07-28T14:15:06.425842",
     "exception": false,
     "start_time": "2022-07-28T14:15:06.395044",
     "status": "completed"
    },
    "tags": []
   },
   "outputs": [],
   "source": [
    "# Vamos verificar se exixtem valores nulos\n",
    "funcionarios.isnull().sum()"
   ]
  },
  {
   "cell_type": "markdown",
   "metadata": {
    "papermill": {
     "duration": 0.013854,
     "end_time": "2022-07-28T14:15:06.453937",
     "exception": false,
     "start_time": "2022-07-28T14:15:06.440083",
     "status": "completed"
    },
    "tags": []
   },
   "source": [
    "Não há valores nulos no dataset. Que maravilha."
   ]
  },
  {
   "cell_type": "markdown",
   "metadata": {
    "papermill": {
     "duration": 0.015831,
     "end_time": "2022-07-28T14:15:06.483848",
     "exception": false,
     "start_time": "2022-07-28T14:15:06.468017",
     "status": "completed"
    },
    "tags": []
   },
   "source": [
    "# Análise exploratória dos dados"
   ]
  },
  {
   "cell_type": "code",
   "execution_count": null,
   "metadata": {},
   "outputs": [],
   "source": [
    "# vamos agora fazer nosso famoso EDA automatizado :)\n",
    "from dataprep.eda import plot, create_report\n",
    "\n",
    "# Utilizando o método plot para construção do relatório EDA de forma automática dos nomes dos restaurantes\n",
    "plot(funcionarios)"
   ]
  },
  {
   "cell_type": "code",
   "execution_count": null,
   "metadata": {},
   "outputs": [],
   "source": [
    "create_report(funcionarios)"
   ]
  },
  {
   "cell_type": "code",
   "execution_count": null,
   "metadata": {
    "execution": {
     "iopub.execute_input": "2022-07-28T14:15:06.780418Z",
     "iopub.status.busy": "2022-07-28T14:15:06.780038Z",
     "iopub.status.idle": "2022-07-28T14:15:06.804985Z",
     "shell.execute_reply": "2022-07-28T14:15:06.803685Z"
    },
    "papermill": {
     "duration": 0.045227,
     "end_time": "2022-07-28T14:15:06.807714",
     "exception": false,
     "start_time": "2022-07-28T14:15:06.762487",
     "status": "completed"
    },
    "tags": []
   },
   "outputs": [],
   "source": [
    "# Analisando as variáveis, podemos ver que a target está como categórica. Vamos tranformá-la em numérica.\n",
    "funcionarios['Attrition'] = funcionarios['Attrition'].factorize(['No','Yes'])[0]\n",
    "funcionarios.head()"
   ]
  },
  {
   "cell_type": "code",
   "execution_count": null,
   "metadata": {},
   "outputs": [],
   "source": [
    "# Vendo a dimensão do nosso dataset\n",
    "funcionarios.shape"
   ]
  },
  {
   "cell_type": "code",
   "execution_count": null,
   "metadata": {
    "execution": {
     "iopub.execute_input": "2022-07-28T14:15:06.870943Z",
     "iopub.status.busy": "2022-07-28T14:15:06.870503Z",
     "iopub.status.idle": "2022-07-28T14:15:07.060285Z",
     "shell.execute_reply": "2022-07-28T14:15:07.058917Z"
    },
    "papermill": {
     "duration": 0.210698,
     "end_time": "2022-07-28T14:15:07.064080",
     "exception": false,
     "start_time": "2022-07-28T14:15:06.853382",
     "status": "completed"
    },
    "tags": []
   },
   "outputs": [],
   "source": [
    "# Vamos ver a distruição da target\n",
    "plt.figure(figsize=(8,8))\n",
    "pie = funcionarios.groupby('Attrition')['Attrition'].count()\n",
    "plt.pie(pie, explode=[0.1, 0.1], labels=['No', 'Yes'], autopct='%1.1f%%');"
   ]
  },
  {
   "cell_type": "markdown",
   "metadata": {
    "papermill": {
     "duration": 0.022841,
     "end_time": "2022-07-28T14:15:07.115719",
     "exception": false,
     "start_time": "2022-07-28T14:15:07.092878",
     "status": "completed"
    },
    "tags": []
   },
   "source": [
    "**84% dos funcionários não pediram demissão. 16% pediu demissão.**"
   ]
  },
  {
   "cell_type": "markdown",
   "metadata": {},
   "source": [
    "### Análise das variáveis x target"
   ]
  },
  {
   "cell_type": "code",
   "execution_count": null,
   "metadata": {
    "execution": {
     "iopub.execute_input": "2022-07-28T14:15:07.230833Z",
     "iopub.status.busy": "2022-07-28T14:15:07.230078Z",
     "iopub.status.idle": "2022-07-28T14:15:07.495115Z",
     "shell.execute_reply": "2022-07-28T14:15:07.493860Z"
    },
    "papermill": {
     "duration": 0.285641,
     "end_time": "2022-07-28T14:15:07.497511",
     "exception": false,
     "start_time": "2022-07-28T14:15:07.211870",
     "status": "completed"
    },
    "tags": []
   },
   "outputs": [],
   "source": [
    "# Vamos agora iniciar a análise das variáveis com a target para entender um pouco melhor os dados\n",
    "sns.histplot(funcionarios[\"Age\"])"
   ]
  },
  {
   "cell_type": "code",
   "execution_count": null,
   "metadata": {
    "execution": {
     "iopub.execute_input": "2022-07-28T14:15:07.531556Z",
     "iopub.status.busy": "2022-07-28T14:15:07.531027Z",
     "iopub.status.idle": "2022-07-28T14:15:07.543155Z",
     "shell.execute_reply": "2022-07-28T14:15:07.542073Z"
    },
    "papermill": {
     "duration": 0.032358,
     "end_time": "2022-07-28T14:15:07.545941",
     "exception": false,
     "start_time": "2022-07-28T14:15:07.513583",
     "status": "completed"
    },
    "tags": []
   },
   "outputs": [],
   "source": [
    "funcionarios[['Age']].value_counts().sort_values(ascending=False).head(10)"
   ]
  },
  {
   "cell_type": "code",
   "execution_count": null,
   "metadata": {},
   "outputs": [],
   "source": [
    "funcionarios['Age'].describe()"
   ]
  },
  {
   "cell_type": "markdown",
   "metadata": {
    "papermill": {
     "duration": 0.016451,
     "end_time": "2022-07-28T14:15:07.625809",
     "exception": false,
     "start_time": "2022-07-28T14:15:07.609358",
     "status": "completed"
    },
    "tags": []
   },
   "source": [
    "**Maioria dos funcionários tem a idade entre 29 a 40 anos, com média de 37 e mediana de 36 anos**"
   ]
  },
  {
   "cell_type": "code",
   "execution_count": null,
   "metadata": {
    "execution": {
     "iopub.execute_input": "2022-07-28T14:15:07.660267Z",
     "iopub.status.busy": "2022-07-28T14:15:07.659861Z",
     "iopub.status.idle": "2022-07-28T14:15:07.668590Z",
     "shell.execute_reply": "2022-07-28T14:15:07.667671Z"
    },
    "papermill": {
     "duration": 0.028965,
     "end_time": "2022-07-28T14:15:07.670918",
     "exception": false,
     "start_time": "2022-07-28T14:15:07.641953",
     "status": "completed"
    },
    "tags": []
   },
   "outputs": [],
   "source": [
    "# Verificando a hora padrão de trabalho\n",
    "funcionarios['StandardHours'].value_counts()"
   ]
  },
  {
   "cell_type": "code",
   "execution_count": null,
   "metadata": {},
   "outputs": [],
   "source": [
    "# Vamos ver novamente o nosso mapa de correlação das variáveis\n",
    "corr = funcionarios.corr()\n",
    "plt.figure(figsize=(12,12))\n",
    "sns.heatmap(corr,cbar=True,square=True,fmt='.1f',annot=True,cmap='CMRmap')"
   ]
  },
  {
   "cell_type": "markdown",
   "metadata": {
    "papermill": {
     "duration": 0.020011,
     "end_time": "2022-07-28T14:15:10.561433",
     "exception": false,
     "start_time": "2022-07-28T14:15:10.541422",
     "status": "completed"
    },
    "tags": []
   },
   "source": [
    "**Como podemos ver, não há uma correlação muito forte da target ('Attrition') com nenhuma das colunas numéricas. Mas podemos ver outras correlações como;**\n",
    "* Funcionários mais seniores têm um total de anos de trabalho mais alto (muito óbvio)\n",
    "* Classificações de desempenho mais altas levam ao aumento da porcentagem de aumento salarial\n",
    "* Quanto mais anos um funcionário trabalha, mais sua renda mensal aumenta\n",
    "* Muitos funcionários permanecem em sua função atual e também sob o mesmo gerente com o passar dos anos, o que significa que eles não recebem promoção e isso pode ser um fator importante que contribui para o pedido de demissão.\n",
    "\n",
    "**A partir daqui, podemos deduzir que a falta de promoções pode ser um fator crucial para os pedidos de demissão.**"
   ]
  },
  {
   "cell_type": "code",
   "execution_count": null,
   "metadata": {
    "execution": {
     "iopub.execute_input": "2022-07-28T14:15:10.604828Z",
     "iopub.status.busy": "2022-07-28T14:15:10.603522Z",
     "iopub.status.idle": "2022-07-28T14:15:10.779515Z",
     "shell.execute_reply": "2022-07-28T14:15:10.778350Z"
    },
    "papermill": {
     "duration": 0.199925,
     "end_time": "2022-07-28T14:15:10.782161",
     "exception": false,
     "start_time": "2022-07-28T14:15:10.582236",
     "status": "completed"
    },
    "tags": []
   },
   "outputs": [],
   "source": [
    "# Avaliando o tempo na companhia\n",
    "sns.boxplot(funcionarios[\"YearsAtCompany\"])"
   ]
  },
  {
   "cell_type": "markdown",
   "metadata": {
    "papermill": {
     "duration": 0.021184,
     "end_time": "2022-07-28T14:15:10.824024",
     "exception": false,
     "start_time": "2022-07-28T14:15:10.802840",
     "status": "completed"
    },
    "tags": []
   },
   "source": [
    "**A maioria dos funcionários permanece na empresa por 3-9 anos, sendo a mediana de 5 anos. É considerável também o número de outliers que estão na companhia a mais de 20 anos.**"
   ]
  },
  {
   "cell_type": "code",
   "execution_count": null,
   "metadata": {
    "execution": {
     "iopub.execute_input": "2022-07-28T14:15:10.866062Z",
     "iopub.status.busy": "2022-07-28T14:15:10.865698Z",
     "iopub.status.idle": "2022-07-28T14:15:11.063213Z",
     "shell.execute_reply": "2022-07-28T14:15:11.061980Z"
    },
    "papermill": {
     "duration": 0.221661,
     "end_time": "2022-07-28T14:15:11.065947",
     "exception": false,
     "start_time": "2022-07-28T14:15:10.844286",
     "status": "completed"
    },
    "tags": []
   },
   "outputs": [],
   "source": [
    "# Vamos verificar agora se o funcionário viaja pela companhia x target\n",
    "sns.countplot(x='BusinessTravel', hue='Attrition', data=funcionarios);"
   ]
  },
  {
   "cell_type": "markdown",
   "metadata": {
    "papermill": {
     "duration": 0.02157,
     "end_time": "2022-07-28T14:15:11.108850",
     "exception": false,
     "start_time": "2022-07-28T14:15:11.087280",
     "status": "completed"
    },
    "tags": []
   },
   "source": [
    "**A maioria dos funcionários que viajam raramente deixam a empresa. A partir do gráfico, podemos dizer também que enviar funcionários em viagens de negócios ou não não faz muita diferença e não tem um efeito significativo nos pedidos de demissão.**"
   ]
  },
  {
   "cell_type": "code",
   "execution_count": null,
   "metadata": {
    "execution": {
     "iopub.execute_input": "2022-07-28T14:15:11.152132Z",
     "iopub.status.busy": "2022-07-28T14:15:11.151353Z",
     "iopub.status.idle": "2022-07-28T14:15:11.362108Z",
     "shell.execute_reply": "2022-07-28T14:15:11.360919Z"
    },
    "papermill": {
     "duration": 0.235461,
     "end_time": "2022-07-28T14:15:11.364836",
     "exception": false,
     "start_time": "2022-07-28T14:15:11.129375",
     "status": "completed"
    },
    "tags": []
   },
   "outputs": [],
   "source": [
    "# Vamos verificar agora o departamento de trabalho x target\n",
    "plt.figure(figsize=(8,6))\n",
    "sns.countplot(x='Department', hue='Attrition', data=funcionarios);"
   ]
  },
  {
   "cell_type": "code",
   "execution_count": null,
   "metadata": {
    "execution": {
     "iopub.execute_input": "2022-07-28T14:15:11.408294Z",
     "iopub.status.busy": "2022-07-28T14:15:11.407895Z",
     "iopub.status.idle": "2022-07-28T14:15:11.417140Z",
     "shell.execute_reply": "2022-07-28T14:15:11.416031Z"
    },
    "papermill": {
     "duration": 0.033651,
     "end_time": "2022-07-28T14:15:11.419493",
     "exception": false,
     "start_time": "2022-07-28T14:15:11.385842",
     "status": "completed"
    },
    "tags": []
   },
   "outputs": [],
   "source": [
    "funcionarios['Department'].value_counts()"
   ]
  },
  {
   "cell_type": "markdown",
   "metadata": {
    "papermill": {
     "duration": 0.020048,
     "end_time": "2022-07-28T14:15:11.459980",
     "exception": false,
     "start_time": "2022-07-28T14:15:11.439932",
     "status": "completed"
    },
    "tags": []
   },
   "source": [
    "**A maioria das desistências são do departamento de pesquisa e desenvolvimento. Em segundo lugar temos os funcionários da equipe de vendas. A equipe de Recursos Humanos tem o menor número de desistências. Mas precisamos ter em mente que P&D tem muito mais funcionários do que vendas e RH.**\n",
    "\n",
    "**Se considerássemos a porcentagem de demissões por departamento, veríamos que o departamento de RH tem a maioria das demissões.**"
   ]
  },
  {
   "cell_type": "code",
   "execution_count": null,
   "metadata": {
    "execution": {
     "iopub.execute_input": "2022-07-28T14:15:11.503135Z",
     "iopub.status.busy": "2022-07-28T14:15:11.502350Z",
     "iopub.status.idle": "2022-07-28T14:15:11.694674Z",
     "shell.execute_reply": "2022-07-28T14:15:11.693526Z"
    },
    "papermill": {
     "duration": 0.216491,
     "end_time": "2022-07-28T14:15:11.697074",
     "exception": false,
     "start_time": "2022-07-28T14:15:11.480583",
     "status": "completed"
    },
    "tags": []
   },
   "outputs": [],
   "source": [
    "# Verificar a target x gênero\n",
    "funcionarios['Gender'].value_counts()"
   ]
  },
  {
   "cell_type": "code",
   "execution_count": null,
   "metadata": {},
   "outputs": [],
   "source": [
    "sns.countplot(x='Gender', hue='Attrition', data=funcionarios);"
   ]
  },
  {
   "cell_type": "markdown",
   "metadata": {
    "papermill": {
     "duration": 0.020598,
     "end_time": "2022-07-28T14:15:11.738433",
     "exception": false,
     "start_time": "2022-07-28T14:15:11.717835",
     "status": "completed"
    },
    "tags": []
   },
   "source": [
    "**Claramente há mais homens na organização do que mulheres, então as desistências são maiores. Parece que o gênero não seja um fator muito significativo por trás dos pedidos de demissão.**"
   ]
  },
  {
   "cell_type": "code",
   "execution_count": null,
   "metadata": {
    "execution": {
     "iopub.execute_input": "2022-07-28T14:15:11.784923Z",
     "iopub.status.busy": "2022-07-28T14:15:11.784143Z",
     "iopub.status.idle": "2022-07-28T14:15:12.064628Z",
     "shell.execute_reply": "2022-07-28T14:15:12.063406Z"
    },
    "papermill": {
     "duration": 0.307886,
     "end_time": "2022-07-28T14:15:12.067381",
     "exception": false,
     "start_time": "2022-07-28T14:15:11.759495",
     "status": "completed"
    },
    "tags": []
   },
   "outputs": [],
   "source": [
    "# Análise da target x Perfil profisional\n",
    "plt.figure(figsize=(8,6))\n",
    "sns.countplot(x='JobRole', hue='Attrition', data=funcionarios);\n",
    "plt.xticks(rotation=90)"
   ]
  },
  {
   "cell_type": "markdown",
   "metadata": {
    "papermill": {
     "duration": 0.021475,
     "end_time": "2022-07-28T14:15:12.111434",
     "exception": false,
     "start_time": "2022-07-28T14:15:12.089959",
     "status": "completed"
    },
    "tags": []
   },
   "source": [
    "**Entre as funções de trabalho, o destaque fica por conta dos técnicos de laboratório, que pediram demissão. Depois vem o profissional de cientistas de pesquisa, executivos de vendas e representantes de vendas. Poderíamos analisar os salários de cada função e ver se esse pode ser o motivo.**"
   ]
  },
  {
   "cell_type": "code",
   "execution_count": null,
   "metadata": {
    "execution": {
     "iopub.execute_input": "2022-07-28T14:15:12.158730Z",
     "iopub.status.busy": "2022-07-28T14:15:12.158003Z",
     "iopub.status.idle": "2022-07-28T14:15:13.069438Z",
     "shell.execute_reply": "2022-07-28T14:15:13.068513Z"
    },
    "papermill": {
     "duration": 0.937699,
     "end_time": "2022-07-28T14:15:13.071782",
     "exception": false,
     "start_time": "2022-07-28T14:15:12.134083",
     "status": "completed"
    },
    "scrolled": false,
    "tags": []
   },
   "outputs": [],
   "source": [
    "# Análise do perfil profissional x salário x target\n",
    "plt.figure(figsize=(10,6))\n",
    "sns.barplot(x='JobRole', y='MonthlyIncome', hue='Attrition', data=funcionarios)\n",
    "plt.xticks(rotation=90)"
   ]
  },
  {
   "cell_type": "markdown",
   "metadata": {
    "papermill": {
     "duration": 0.021972,
     "end_time": "2022-07-28T14:15:13.115951",
     "exception": false,
     "start_time": "2022-07-28T14:15:13.093979",
     "status": "completed"
    },
    "tags": []
   },
   "source": [
    "\n",
    "**Como suspeitávemos, técnicos de laboratório, cientistas de pesquisa e representantes de vendas e executivos têm salários muito baixos e isso pode ser um fator importante por trás dos pedidos de demissão.**\n",
    "\n",
    "**Além disso, como vimos anteriormente, o departamento de RH teve o maior número de demissões e podemos ver que eles também têm salários muito baixos, então, mais uma vez, isso é algo para se pensar (Sonineide, think about it).**\n",
    "\n",
    "**Entretanto, a evasão é alta em todos os perfis, inclusive nos salários mais altos, também é um pouco alta.**"
   ]
  },
  {
   "cell_type": "code",
   "execution_count": null,
   "metadata": {
    "execution": {
     "iopub.execute_input": "2022-07-28T14:15:13.164153Z",
     "iopub.status.busy": "2022-07-28T14:15:13.163547Z",
     "iopub.status.idle": "2022-07-28T14:15:13.354447Z",
     "shell.execute_reply": "2022-07-28T14:15:13.353121Z"
    },
    "papermill": {
     "duration": 0.218663,
     "end_time": "2022-07-28T14:15:13.357898",
     "exception": false,
     "start_time": "2022-07-28T14:15:13.139235",
     "status": "completed"
    },
    "tags": []
   },
   "outputs": [],
   "source": [
    "# Analisar o campo de atuação x target\n",
    "sns.countplot(x='EducationField', hue='Attrition', data=funcionarios);\n",
    "plt.xticks(rotation=45)"
   ]
  },
  {
   "cell_type": "code",
   "execution_count": null,
   "metadata": {
    "execution": {
     "iopub.execute_input": "2022-07-28T14:15:13.738854Z",
     "iopub.status.busy": "2022-07-28T14:15:13.738046Z",
     "iopub.status.idle": "2022-07-28T14:15:13.906393Z",
     "shell.execute_reply": "2022-07-28T14:15:13.904913Z"
    },
    "papermill": {
     "duration": 0.195915,
     "end_time": "2022-07-28T14:15:13.909139",
     "exception": false,
     "start_time": "2022-07-28T14:15:13.713224",
     "status": "completed"
    },
    "tags": []
   },
   "outputs": [],
   "source": [
    "# Analisando a satisfação do funcionário com o ambiente da empresa. Quase um NPS :)\n",
    "sns.countplot(x='EnvironmentSatisfaction', data=funcionarios);"
   ]
  },
  {
   "cell_type": "code",
   "execution_count": null,
   "metadata": {},
   "outputs": [],
   "source": [
    "funcionarios['EnvironmentSatisfaction'].value_counts(normalize=True)"
   ]
  },
  {
   "cell_type": "markdown",
   "metadata": {
    "papermill": {
     "duration": 0.023505,
     "end_time": "2022-07-28T14:15:13.955958",
     "exception": false,
     "start_time": "2022-07-28T14:15:13.932453",
     "status": "completed"
    },
    "tags": []
   },
   "source": [
    "**60% dos funcionários estão satisfeitos com a empresa.**"
   ]
  },
  {
   "cell_type": "code",
   "execution_count": null,
   "metadata": {},
   "outputs": [],
   "source": [
    "# Exclusão de algumas variáveis\n",
    "funcionarios.drop(['BusinessTravel','EducationField','OverTime'],axis=1, inplace=True)"
   ]
  },
  {
   "cell_type": "markdown",
   "metadata": {
    "papermill": {
     "duration": 0.024558,
     "end_time": "2022-07-28T14:15:14.004372",
     "exception": false,
     "start_time": "2022-07-28T14:15:13.979814",
     "status": "completed"
    },
    "tags": []
   },
   "source": [
    "# Modelagem"
   ]
  },
  {
   "cell_type": "code",
   "execution_count": null,
   "metadata": {
    "execution": {
     "iopub.execute_input": "2022-07-28T14:15:14.116841Z",
     "iopub.status.busy": "2022-07-28T14:15:14.115461Z",
     "iopub.status.idle": "2022-07-28T14:15:14.127722Z",
     "shell.execute_reply": "2022-07-28T14:15:14.126757Z"
    },
    "papermill": {
     "duration": 0.039283,
     "end_time": "2022-07-28T14:15:14.130203",
     "exception": false,
     "start_time": "2022-07-28T14:15:14.090920",
     "status": "completed"
    },
    "tags": []
   },
   "outputs": [],
   "source": [
    "# Label encoding das variáveis categóricas\n",
    "\n",
    "funcionarios['Department'] = preprocessing.LabelEncoder().fit_transform(funcionarios['Department'])\n",
    "funcionarios['Education'] = preprocessing.LabelEncoder().fit_transform(funcionarios['Education'])\n",
    "funcionarios['JobRole'] = preprocessing.LabelEncoder().fit_transform(funcionarios['JobRole'])\n",
    "funcionarios['Gender'] = preprocessing.LabelEncoder().fit_transform(funcionarios['Gender'])\n",
    "funcionarios['MaritalStatus'] = preprocessing.LabelEncoder().fit_transform(funcionarios['MaritalStatus'])\n",
    "funcionarios['Over18'] = preprocessing.LabelEncoder().fit_transform(funcionarios['Over18'])"
   ]
  },
  {
   "cell_type": "code",
   "execution_count": null,
   "metadata": {},
   "outputs": [],
   "source": [
    "# Separando as variáveis da target\n",
    "X = funcionarios.drop(['Attrition'], axis=1) \n",
    "y = funcionarios['Attrition'] # Target"
   ]
  },
  {
   "cell_type": "code",
   "execution_count": null,
   "metadata": {
    "execution": {
     "iopub.execute_input": "2022-07-28T14:15:14.238108Z",
     "iopub.status.busy": "2022-07-28T14:15:14.236980Z",
     "iopub.status.idle": "2022-07-28T14:15:14.243662Z",
     "shell.execute_reply": "2022-07-28T14:15:14.242807Z"
    },
    "papermill": {
     "duration": 0.033361,
     "end_time": "2022-07-28T14:15:14.246086",
     "exception": false,
     "start_time": "2022-07-28T14:15:14.212725",
     "status": "completed"
    },
    "tags": []
   },
   "outputs": [],
   "source": [
    "# Dividindo o dataset em treino e teste\n",
    "X_train, X_test, y_train, y_test = train_test_split(X,y,test_size = 0.2, random_state = 2)"
   ]
  },
  {
   "cell_type": "code",
   "execution_count": null,
   "metadata": {
    "execution": {
     "iopub.execute_input": "2022-07-28T14:15:14.295055Z",
     "iopub.status.busy": "2022-07-28T14:15:14.294308Z",
     "iopub.status.idle": "2022-07-28T14:15:14.300270Z",
     "shell.execute_reply": "2022-07-28T14:15:14.298926Z"
    },
    "papermill": {
     "duration": 0.033785,
     "end_time": "2022-07-28T14:15:14.303604",
     "exception": false,
     "start_time": "2022-07-28T14:15:14.269819",
     "status": "completed"
    },
    "tags": []
   },
   "outputs": [],
   "source": [
    "print(\"Base de treino\", X_train.shape)\n",
    "print(\"Base de teste\", X_test.shape)"
   ]
  },
  {
   "cell_type": "markdown",
   "metadata": {
    "papermill": {
     "duration": 0.02312,
     "end_time": "2022-07-28T14:15:14.396269",
     "exception": false,
     "start_time": "2022-07-28T14:15:14.373149",
     "status": "completed"
    },
    "tags": []
   },
   "source": [
    "**Vamos rodar 3 diferentes modelos - Random Forest, Logistic Regression e XGBoost para o problema de classificação**"
   ]
  },
  {
   "cell_type": "code",
   "execution_count": null,
   "metadata": {
    "execution": {
     "iopub.execute_input": "2022-07-28T14:15:14.445837Z",
     "iopub.status.busy": "2022-07-28T14:15:14.445435Z",
     "iopub.status.idle": "2022-07-28T14:15:17.688110Z",
     "shell.execute_reply": "2022-07-28T14:15:17.686450Z"
    },
    "papermill": {
     "duration": 3.270438,
     "end_time": "2022-07-28T14:15:17.691166",
     "exception": false,
     "start_time": "2022-07-28T14:15:14.420728",
     "status": "completed"
    },
    "tags": []
   },
   "outputs": [],
   "source": [
    "models = [] # modelos\n",
    "models.append((\"Random Forest\", RandomForestClassifier()))\n",
    "models.append((\"Logistic Regression\", LogisticRegression()))\n",
    "models.append(('KNeighbors Classifier',  KNeighborsClassifier()))\n",
    "models.append((\"XGBoost Classifier\", XGBClassifier()))\n",
    "\n",
    "\n",
    "n_folds = 5\n",
    "results = []\n",
    "for name, model in models:\n",
    "    kfold = model_selection.KFold(n_splits=n_folds)\n",
    "    print(\"Executando o modelo:\", name)\n",
    "    \n",
    "    # Validação cruzada\n",
    "    cv_results = model_selection.cross_val_score(model, X_train, y_train, cv=kfold, scoring=\"f1_weighted\", verbose=0, n_jobs=-1)\n",
    "    \n",
    "    # Fit no modelo\n",
    "    model.fit(X_train,y_train)\n",
    "    \n",
    "    # Predição do modelo\n",
    "    train_pred = model.predict(X_train)\n",
    "    Training_score = accuracy_score(train_pred,y_train)\n",
    "    test_pred = model.predict(X_test)\n",
    "    Test_score = accuracy_score(test_pred,y_test)\n",
    "    \n",
    "    results.append(cv_results)\n",
    "    \n",
    "    msg = f\"Cross_Val Mean: {cv_results.mean()}, Acurácia Treino: {Training_score}, Acurácia Teste: {Test_score}\"\n",
    "    print(msg + \"\\n\")"
   ]
  },
  {
   "cell_type": "markdown",
   "metadata": {
    "papermill": {
     "duration": 0.025758,
     "end_time": "2022-07-28T14:15:17.742264",
     "exception": false,
     "start_time": "2022-07-28T14:15:17.716506",
     "status": "completed"
    },
    "tags": []
   },
   "source": [
    "Opa. Vamos entender um pouco esses resultados. Os 3 classificadores performam praticamente igual. Vamos plotar a matriz de confusão do XGBoost como exemplo."
   ]
  },
  {
   "cell_type": "markdown",
   "metadata": {},
   "source": [
    "### Matriz de confusão"
   ]
  },
  {
   "cell_type": "markdown",
   "metadata": {},
   "source": [
    "<img src=\"matriz.png\">"
   ]
  },
  {
   "cell_type": "markdown",
   "metadata": {},
   "source": [
    "Verdadeiro Positivo (TP): previsão correta como desistência  \n",
    "Verdadeiro Negativo (TN): previsão correta como não desistência  \n",
    "Falso Positivo (FP): Predição incorreta como desistência  \n",
    "Falso Negativo (FN): Predição Incorreta como não-desistência  "
   ]
  },
  {
   "cell_type": "code",
   "execution_count": null,
   "metadata": {},
   "outputs": [],
   "source": [
    "from sklearn.metrics import confusion_matrix\n",
    "\n",
    "# Gerando a matriz de confusão\n",
    "cf_matrix = confusion_matrix(y_test, test_pred)\n",
    "print(cf_matrix)"
   ]
  },
  {
   "cell_type": "code",
   "execution_count": null,
   "metadata": {},
   "outputs": [],
   "source": [
    "import seaborn as sns\n",
    "ax = sns.heatmap(cf_matrix, annot=True, cmap='Blues')\n",
    "ax.set_title('Matriz de correlação do XGBoost\\n\\n');\n",
    "ax.set_xlabel('\\nPredito')\n",
    "ax.set_ylabel('Valores reais ');\n",
    "ax.xaxis.set_ticklabels(['Falso','Verdadeiro'])\n",
    "ax.yaxis.set_ticklabels(['Falso','Verdadeiro'])\n",
    "\n",
    "plt.show()"
   ]
  },
  {
   "cell_type": "markdown",
   "metadata": {},
   "source": [
    "Podemos ver claramente que o modelo acerta muita bem os não desistentes, mas os desistentes ele erra de forma considerável. Vamos analisar as outras métricas através do classification_report do sklearn."
   ]
  },
  {
   "cell_type": "code",
   "execution_count": null,
   "metadata": {},
   "outputs": [],
   "source": [
    "from sklearn.metrics import classification_report\n",
    "print(classification_report(y_test, test_pred))"
   ]
  },
  {
   "cell_type": "markdown",
   "metadata": {},
   "source": [
    "Na primeira linha e segunda coluna temos a Especificidade igual a 96%. Na segunda linha e primeira coluna temos o Precision igual a 48% e na segunda linha e segunda coluna temos o Recall igual a 21%."
   ]
  },
  {
   "cell_type": "markdown",
   "metadata": {},
   "source": [
    "**Precision**:  métrica que traz a informação de quantas observações o modelo classificou corretamente como 1.\n",
    "Observe como o modelo consegue prever melhor a classe 0 do que a classe 1.\n",
    "\n",
    "**Recall** analisa entre todos os desistentes, quantos realmente o modelo conseguiu prever como desistente.\n",
    "\n",
    "**F1-Score** é a média harmônica entre o Recall e Precision, ou seja, ela resume as informações dessas duas métricas."
   ]
  },
  {
   "cell_type": "markdown",
   "metadata": {},
   "source": [
    "## Utilizando o SHAP para ver quais variáveis tem mais impacto no modelo\n",
    "\n",
    "https://shap.readthedocs.io/en/latest/index.html"
   ]
  },
  {
   "cell_type": "code",
   "execution_count": null,
   "metadata": {},
   "outputs": [],
   "source": [
    "import shap\n",
    "\n",
    "explainer = shap.Explainer(model)\n",
    "shap_values = explainer(X)\n",
    "shap.summary_plot(shap_values, X)"
   ]
  },
  {
   "cell_type": "markdown",
   "metadata": {
    "papermill": {
     "duration": 0.023559,
     "end_time": "2022-07-28T14:15:17.792444",
     "exception": false,
     "start_time": "2022-07-28T14:15:17.768885",
     "status": "completed"
    },
    "tags": []
   },
   "source": [
    "# Conclusão"
   ]
  },
  {
   "cell_type": "markdown",
   "metadata": {
    "papermill": {
     "duration": 0.02343,
     "end_time": "2022-07-28T14:15:17.840996",
     "exception": false,
     "start_time": "2022-07-28T14:15:17.817566",
     "status": "completed"
    },
    "tags": []
   },
   "source": [
    "O modelo pode ser melhorado através de técnicas de feature engineering ou com hiperparametrização."
   ]
  }
 ],
 "metadata": {
  "kernelspec": {
   "display_name": "Python 3",
   "language": "python",
   "name": "python3"
  },
  "language_info": {
   "codemirror_mode": {
    "name": "ipython",
    "version": 3
   },
   "file_extension": ".py",
   "mimetype": "text/x-python",
   "name": "python",
   "nbconvert_exporter": "python",
   "pygments_lexer": "ipython3",
   "version": "3.8.5"
  },
  "papermill": {
   "default_parameters": {},
   "duration": 27.430097,
   "end_time": "2022-07-28T14:15:20.486976",
   "environment_variables": {},
   "exception": null,
   "input_path": "__notebook__.ipynb",
   "output_path": "__notebook__.ipynb",
   "parameters": {},
   "start_time": "2022-07-28T14:14:53.056879",
   "version": "2.3.4"
  }
 },
 "nbformat": 4,
 "nbformat_minor": 5
}
