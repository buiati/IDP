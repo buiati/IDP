{
 "cells": [
  {
   "cell_type": "markdown",
   "metadata": {},
   "source": [
    "<img src=\"../idp.jpg\">"
   ]
  },
  {
   "cell_type": "markdown",
   "metadata": {},
   "source": [
    "# <p style=\"background-color:#2F5597;font-family:newtimeroman;color:#FFF9ED;font-size:150%;text-align:center;border-radius:10px 10px;\">Aula 6 - Data Visualization</p>"
   ]
  },
  {
   "cell_type": "markdown",
   "metadata": {},
   "source": [
    "<img src=\"datahackers2.jpeg\">"
   ]
  },
  {
   "cell_type": "markdown",
   "metadata": {},
   "source": [
    "## Objetivo do trabalho\n",
    "\n",
    "Utilizar os conceitos, técnicas e novas formas de visualização de dados conforme vimos na nossa aula teórica.\n",
    "\n",
    "Hoje vamos trabalhar com o maior e mais completo panorama sobre o mercado de trabalho brasileiro na área de dados. Veja mais detalhes no site da pesquisa: www.stateofdata.com.br - No site da pesquisa você também encontra um relatório completo onde exploramos esse dataset e chegamos a conclusões interessantes sobre o mercado de trabalho brasileiro na área de dados.\n",
    "\n",
    "No período entre 18 de outubro de 2021 e 6 de dezembro de 2021, a maior comunidade de dados do Brasil,o <font color=\"#023469\"><b>Data Hackers</b></font> juntamente com a consultoria global *Bain & Company* realizaram uma pesquisa por meio da aplicação de um questionário online, cujo objetivo é <b>mapear o mercado profissional de dados brasileiro</b>. \n",
    "A presente pesquisa é o resultado de um esforço conjunto da Data Hackers, a maior comunidade de dados do Brasil, e da Bain & Company, consultoria global que ajuda empresas e organizações a promover mudanças que definam o futuro dos negócios, para mapear o mercado de trabalho de dados no Brasil.\n",
    "\n",
    "\n",
    "Em Maio de 2022, foram abertos os dados da pesquisa, para que a comunidade pudesse realizar suas próprias análises, concorrendo a prêmios, mas também podendo contar com o privilégio de grandes profissionais da área como jurados dessa competição.\n"
   ]
  },
  {
   "cell_type": "markdown",
   "metadata": {
    "_kg_hide-input": true,
    "id": "qKdTKfUUSrvM",
    "papermill": {
     "duration": 0.021593,
     "end_time": "2022-07-13T02:34:49.246537",
     "exception": false,
     "start_time": "2022-07-13T02:34:49.224944",
     "status": "completed"
    },
    "tags": []
   },
   "source": [
    "## Fonte de dados\n",
    "\n",
    "\n",
    "Link dos dados: https://www.kaggle.com/datasets/datahackers/state-of-data-2021  \n",
    "\n",
    "O dataset foi anonimizado com o objetivo de garantir a privacidade dos respondentes, para isso foi necessário em alguns casos remover outliers que poderiam identificar o entrevistado e, portanto, nem todos os dados coletados na pesquisa estarão disponíveis aqui. Estados com menor incidência de resposta, como aqueles das regiões Norte, terão apenas sua região indicada no dataset, também como consequência do processo de anonimização, o mesmo aconteceu em algumas outras perguntas.\n",
    "\n",
    "As perguntas cujas respostas são multi-valoradas ocupam mais de uma coluna no dataset. Portanto, para diferenciar quais colunas pertencem a quais perguntas, cada coluna é identificada com uma tupla. Sendo o primeiro identificador o da pergunta, e, no caso de várias respostas, o segundo identificador referencia a alternativa escolhida. As perguntas mapeadas são mostradas abaixo (lembrando que algumas foram removidas e outras tiveram alguns outliers transformados/apagados no processo de anonimização).\n",
    "\n",
    "Parte 1 - Dados demográficos  \n",
    "Parte 2 - Dados sobre carreira  \n",
    "Parte 3 - Desafios dos gestores de times de dados  \n",
    "Parte 4 - Conhecimentos na área de dados  \n",
    "Parte 5 - Objetivos na área de dados  \n",
    "Parte 6 - Conhecimentos em Engenharia de Dados/DE  \n",
    "Parte 7 - Conhecimentos em Análise de Dados/DA  \n",
    "Parte 8 - Conhecimentos em Ciências de Dados/DS  \n",
    "Parte 9 - Sobre a comunidade Data Hackers  \n"
   ]
  },
  {
   "cell_type": "markdown",
   "metadata": {},
   "source": [
    "## Nesse notebook faremos 2 análises com visualização de dados\n",
    "1 - Análise visual (storytelling) com dados sobre a faixa salarial, região do país, senioridade e conhecimentos na área de dados  \n",
    "2 - Análise visual (storytelling) explorando a desigualdade de gênero na área de dados\n",
    "\n",
    "<hr/>"
   ]
  },
  {
   "cell_type": "markdown",
   "metadata": {},
   "source": [
    "# 1. Análise Visual utilizando storytelling\n",
    "\n",
    "Este projeto vislumbra examinar apenas uma fatia dessas dimensões, tendo como objeto de estudo a variável ('P2_h ', 'Faixa salarial') dentro de um recorte regional, por senioridade e conhecimentos na área de dados."
   ]
  },
  {
   "cell_type": "markdown",
   "metadata": {},
   "source": [
    "<img src=\"dataviz01.png\">"
   ]
  },
  {
   "cell_type": "code",
   "execution_count": null,
   "metadata": {},
   "outputs": [],
   "source": [
    "import numpy as np # linear algebra\n",
    "import pandas as pd # data processing, CSV file I/O (e.g. pd.read_csv)\n",
    "import re\n",
    "\n",
    "import warnings\n",
    "warnings.filterwarnings(\"ignore\")\n",
    "\n",
    "pd.set_option('display.max_columns', 500)"
   ]
  },
  {
   "cell_type": "code",
   "execution_count": null,
   "metadata": {},
   "outputs": [],
   "source": [
    "colunas_selecionadas = [\"('P1_e_b ', 'Regiao onde mora')\",\n",
    " \"('P1_g_c ', 'Mudou de Estado?')\",\n",
    "\"('P2_a ', 'Qual sua situação atual de trabalho?')\",\n",
    " \"('P2_g ', 'Nivel')\",\n",
    " \"('P2_h ', 'Faixa salarial')\",\n",
    " \"('P2_i ', 'Quanto tempo de experiência na área de dados você tem?')\",\n",
    " \"('P4_d ', 'Quais das linguagens listadas abaixo você utiliza no trabalho?')\",\n",
    " \"('P4_f ', 'Quais dos bancos de dados/fontes de dados listados abaixo você utiliza no trabalho?')\",\n",
    " \"('P4_g ', 'Quais das opções de Cloud listadas abaixo você utiliza no trabalho?')\",\n",
    " \"('P4_h ', 'Quais as Ferramentas de Business Intelligence você utiliza no trabalho?')\",                   \n",
    "]\n",
    "\n",
    "colunas_renomeadas = [\n",
    "'regiao_mora',\n",
    " 'mudou_estado',\n",
    "'situacao_trabalho',\n",
    " 'nivel',\n",
    " 'faixa_salarial',\n",
    " 'xp_dados',\n",
    " 'linguagens_utilizadas',\n",
    "'banco_dados_utilizados',\n",
    " 'cloud_utilizadas',\n",
    " 'ferramentas_bi_utilizadas',\n",
    "]\n",
    "\n",
    "trabalham = ['Empreendedor ou Empregado (CNPJ)',\n",
    " 'Empregado (CLT)',\n",
    " 'Estagiário',\n",
    " 'Freelancer',\n",
    " 'Servidor Público',\n",
    " 'Trabalho na área Acadêmica/Pesquisador',\n",
    " 'Vivo fora do Brasil e trabalho para empresa de fora do Brasil',\n",
    " 'Vivo no Brasil e trabalho remoto para empresa de fora do Brasil (PJ)']\n",
    "\n",
    "\n",
    "pesquisa2021 = pd.read_csv('datahackers.csv',low_memory=False,usecols=colunas_selecionadas)\n",
    "\n",
    "#renomeando colunas\n",
    "pesquisa2021.columns = colunas_renomeadas\n",
    "\n",
    "\n",
    "#Removendo profissioanais que se consideram desempregados, apenas estudantes ...\n",
    "pesquisa2021 = pesquisa2021[pesquisa2021[\"situacao_trabalho\"].isin(trabalham)].reset_index(drop=True)\n",
    "\n",
    "#Removendo profissionais que trabalham no exterior:\n",
    "pesquisa2021 = pesquisa2021[pesquisa2021[\"regiao_mora\"] != 'Exterior'].reset_index(drop=True)\n",
    "\n",
    "\n",
    "print(f'Quantidade de registros:  {len(pesquisa2021)}')"
   ]
  },
  {
   "cell_type": "code",
   "execution_count": null,
   "metadata": {},
   "outputs": [],
   "source": [
    "def ordena_respostas(respostas,sep):\n",
    "    try: \n",
    "        respostas = sorted([res.strip() for res in respostas.split(sep)])\n",
    "        respostas = ' - '.join(respostas).strip()\n",
    "        return respostas\n",
    "    except:\n",
    "        pass"
   ]
  },
  {
   "cell_type": "code",
   "execution_count": null,
   "metadata": {},
   "outputs": [],
   "source": [
    "import matplotlib\n",
    "from matplotlib import transforms, pyplot as plt\n",
    "\n",
    "%matplotlib inline\n",
    "\n",
    "# definição da paleta de cores\n",
    "GRAY1, GRAY2, GRAY3 = '#231F20', '#414040', '#555655'\n",
    "GRAY4, GRAY5, GRAY6 = '#646369', '#76787B', '#828282'\n",
    "GRAY7, GRAY8, GRAY9 = '#929497', '#A6A6A5', '#BFBEBE'\n",
    "BLUE1, BLUE2 = '#174A7E', '#4A81BF'\n",
    "RED1, RED2 = '#C3514E', '#E6BAB7'\n",
    "GREEN1, GREEN2 = '#0C8040', '#9ABB59'\n",
    "\n",
    "\n",
    "# definição de algumas fontes para os gráficos\n",
    "plt.rcParams['font.family'] = 'Arial'\n",
    "matplotlib.rcParams['mathtext.fontset'] = 'custom'\n",
    "matplotlib.rcParams['mathtext.bf'] = 'Arial:bold'\n",
    "matplotlib.rcParams['mathtext.it'] = 'Arial:italic'"
   ]
  },
  {
   "cell_type": "markdown",
   "metadata": {},
   "source": [
    "## Descoberta e insights\n",
    "\n",
    "Vamos tentar responder várias perguntas e contar histórias com os dados utilizando a técnica de storytelling e construindo gráficos diferenciados.\n",
    "\n",
    "Entre as descobertas realizadas, teremos:\n",
    "\n",
    "- D1 - O começo da vida nômade  \n",
    "- D2 - Qual o principal destino desses profissionais?  \n",
    "- D3 - Faixa salarial: diferenças regionais e por senioridade  \n",
    "- D4 - Principais tecnologias vs Faixa salarial  \n",
    "- D5 - Python e SQL reinam absolutos  \n",
    "- D6 - Qual banco de dados devo aprender primeiro?  \n",
    "- D7 - Quem ganha? AWS, Azure ou Google Cloud?  \n",
    "- D8 - PowerBI Google Studio ou Tableau?  \n"
   ]
  },
  {
   "cell_type": "markdown",
   "metadata": {},
   "source": [
    "## D1 - O começo da vida nômade\n",
    "\n",
    "- É o que os dados dizem ao olharmos para os respondentes que afirmaram ter mudado de estado de origem.\n",
    "\n",
    "- Observa-se um percentual relevante.\n",
    "\n",
    "- **Nota**: exclui-se desse espaço amostral, respondentes que apenas estudam, ou não trabalham ou residem no exterior"
   ]
  },
  {
   "cell_type": "code",
   "execution_count": null,
   "metadata": {},
   "outputs": [],
   "source": [
    "coluna_mudou_de_estado = pesquisa2021[\"mudou_estado\"]\n",
    "dist_mudou_de_estado = coluna_mudou_de_estado.value_counts()\n",
    "percent_mudou_de_estado = 100*(dist_mudou_de_estado[1]/sum(dist_mudou_de_estado))\n",
    "\n",
    "\n",
    "fig = plt.figure(figsize=(7.45, 4.9),\n",
    "           dpi=110)            \n",
    "\n",
    "# remove chart border\n",
    "for spine in plt.gca().spines.values():\n",
    "    spine.set_visible(False)\n",
    "\n",
    "ax=plt.gca()\n",
    "ax.get_xaxis().set_visible(False)\n",
    "ax.get_yaxis().set_visible(False)\n",
    "\n",
    "plt.text(-0.15, 1.03,\n",
    "         'Profissionais mudam de cidade'+' '*27,\n",
    "         fontsize=26,\n",
    "         color='white',\n",
    "\n",
    "         bbox={'facecolor': GRAY7, 'pad': 10, 'edgecolor': 'none'})\n",
    "\n",
    "plt.text(-0.15, 0.04,\n",
    "         '*desconsidera respondentes que se consideram desempregados, apenas estudantes, e que preferiram não informar a situação atual de trabalho',\n",
    "         fontsize=10.5,\n",
    "         color=GRAY3)\n",
    "\n",
    "plt.text(-0.12, 0.77,\n",
    "         'Entre os profissionais de dados que trabalham*,',\n",
    "         fontsize=19,\n",
    "         color=BLUE2)\n",
    "\n",
    "plt.text(-0.15, 0.41,\n",
    "     f'$\\\\bf{percent_mudou_de_estado:.2f}\\%$', # use mathtext \\\\bf for bold text\n",
    "         fontsize=72,\n",
    "         color=BLUE2)\n",
    "\n",
    "plt.text(-0.15, 0.25,\n",
    "         # use mathtext \\\\bf for bold text\n",
    "         '$\\\\bf{mudaram\\ de\\ estado\\ de\\ origem.}$',\n",
    "         fontsize=19,\n",
    "         color=BLUE2);\n"
   ]
  },
  {
   "cell_type": "markdown",
   "metadata": {},
   "source": [
    "## D2 - Qual o principal destino desses profissionais?"
   ]
  },
  {
   "cell_type": "code",
   "execution_count": null,
   "metadata": {},
   "outputs": [],
   "source": [
    "mudaram_de_estado = pesquisa2021[pesquisa2021[\"mudou_estado\"] == 1].copy()\n",
    "ranking_migracao = mudaram_de_estado.groupby([\"regiao_mora\"])[\"regiao_mora\"].count().sort_values(ascending=False)\n",
    "\n",
    "regioes = list(ranking_migracao.keys())\n",
    "dist_regioes = list(ranking_migracao)\n",
    "percent_regioes = [(dist*100)/sum(dist_regioes) for dist in dist_regioes]\n",
    "\n",
    "# create new figure\n",
    "fig, ax1 = plt.subplots(figsize=(15,15),  # width, height in inches\n",
    "                        dpi=110)             # resolution of the figure\n",
    "\n",
    "# tune the subplot layout by setting sides of the figure\n",
    "fig.subplots_adjust(left=0.1, right=0.3, top=0.3, bottom=0.1)\n",
    "\n",
    "# draw horizontal bars\n",
    "ax1.barh(range(len(regioes)),\n",
    "         percent_regioes[::-1],\n",
    "         color=[GRAY9,GRAY7,GRAY5,GRAY3,GRAY1])\n",
    "\n",
    "\n",
    "# set properties for axes object\n",
    "plt.setp(ax1,\n",
    "         xticks=[0, 20, 40, 60],  # 5 x-ticks only 0 and 1\n",
    "         xticklabels=['0%', '20%', '40%', '60%'],  # with n% labels\n",
    "         yticks=np.arange(len(regioes)),  # tick for all response\n",
    "         yticklabels=regioes[::-1])  # with text labels\n",
    "\n",
    "# change the appearance of ticks, tick labels, and gridlines \n",
    "ax1.tick_params(top='on', bottom='off', left='off', \n",
    "                labelbottom='off', labeltop='on')\n",
    "\n",
    "\n",
    "\n",
    "# remove chart border\n",
    "ax1.tick_params(color=GRAY7)\n",
    "ax1.spines['top'].set_color(GRAY7)\n",
    "ax1.spines['left'].set_visible(False)\n",
    "ax1.spines['right'].set_visible(False)\n",
    "ax1.spines['bottom'].set_visible(False)\n",
    "\n",
    "\n",
    "plt.text(0, 6,\n",
    "         'A $\\\\bf{ Região\\ Sudeste}$'\n",
    "             ' é o principal destino\\n'\n",
    "             'entre os profissionais que mudam de estado',\n",
    "         fontsize=15,\n",
    "         color=GRAY1);"
   ]
  },
  {
   "cell_type": "markdown",
   "metadata": {},
   "source": [
    "## D3 - Faixa salarial: diferenças regionais e por senioridade"
   ]
  },
  {
   "cell_type": "code",
   "execution_count": null,
   "metadata": {},
   "outputs": [],
   "source": [
    "# Manipulação dos dados para construir o gráfico\n",
    "top_salario_regiao = pesquisa2021.groupby([\"regiao_mora\"])[\"faixa_salarial\"].describe().sort_values(by='freq',ascending=False)\n",
    "count = list(top_salario_regiao['count'])\n",
    "freq = list(top_salario_regiao['freq'])\n",
    "percent = [round((count_/sum(count))*100,2) for count_ in count]\n",
    "top_salario_regiao['percent'] = percent\n",
    "\n",
    "#top_salario_regiao\n",
    "regiao_norte = top_salario_regiao.T['Norte']['percent']\n",
    "regiao_nordeste = top_salario_regiao.T['Nordeste']['percent']\n",
    "regiao_centro_oeste = top_salario_regiao.T['Centro-oeste']['percent']\n",
    "regiao_sudeste = top_salario_regiao.T['Sudeste']['percent']\n",
    "regiao_sul = top_salario_regiao.T['Sul']['percent']\n",
    "\n",
    "#faixa predominate por regiao\n",
    "faixa_regiao_norte = top_salario_regiao.T['Norte']['top']\n",
    "faixa_regiao_nordeste = top_salario_regiao.T['Nordeste']['top']\n",
    "faixa_regiao_centro_oeste = top_salario_regiao.T['Centro-oeste']['top']\n",
    "faixa_regiao_sudeste = top_salario_regiao.T['Sudeste']['top']\n",
    "faixa_regiao_sul = top_salario_regiao.T['Sul']['top']"
   ]
  },
  {
   "cell_type": "code",
   "execution_count": null,
   "metadata": {},
   "outputs": [],
   "source": [
    "top_salario_nivel_regiao = {}\n",
    "\n",
    "for regiao in set(pesquisa2021[\"regiao_mora\"]):\n",
    "    salario_nivel_regiao = pesquisa2021[pesquisa2021[\"regiao_mora\"] == regiao].groupby([\"nivel\"])[\"faixa_salarial\"].describe().sort_values(by='freq',ascending=False).T\n",
    "    top_salario_nivel_regiao[regiao] = [salario_nivel_regiao['Júnior']['top'],salario_nivel_regiao['Pleno']['top'],salario_nivel_regiao['Sênior']['top']]\n",
    "    \n",
    "dfTopSalarioNivelRegiao = pd.DataFrame(data=top_salario_nivel_regiao, index=['Júnior','Pleno','Sênior'])\n",
    "\n",
    "#fixar a ordem das colunas das regiões\n",
    "dfTopSalarioNivelRegiao = dfTopSalarioNivelRegiao[['Norte','Nordeste','Centro-oeste','Sudeste','Sul']]"
   ]
  },
  {
   "cell_type": "markdown",
   "metadata": {},
   "source": [
    "Fazendo um corte por senioridade e região, a Faixa salarial predominante apresenta algumas particularidades:\n",
    "Em contraste de possuir os maiores salários, ao olharmos por nível, a região Sudeste apresenta menor salário no nível Júnior.\n",
    "\n",
    "No nível Pleno, as regiões Sul e Sudeste possuem maiores salários, entre 6k e 8k/mês.\n",
    "\n",
    "Centro-Oeste possui o maior salário do nível Sênior, chegando a pagar entre 12k e 16k/mês."
   ]
  },
  {
   "cell_type": "code",
   "execution_count": null,
   "metadata": {},
   "outputs": [],
   "source": [
    "# Vamos chamar a atenção para essas descobertas afirmados acima.\n",
    "dfTopSalarioNivelRegiao.style.applymap(lambda x: \"background-color: orange\", subset=pd.IndexSlice[('Júnior'),'Sudeste'])"
   ]
  },
  {
   "cell_type": "code",
   "execution_count": null,
   "metadata": {},
   "outputs": [],
   "source": [
    "dfTopSalarioNivelRegiao.style.applymap(lambda x: \"background-color: orange\", subset=pd.IndexSlice[('Pleno'),'Sudeste':'Sul'])"
   ]
  },
  {
   "cell_type": "code",
   "execution_count": null,
   "metadata": {},
   "outputs": [],
   "source": [
    "dfTopSalarioNivelRegiao.style.applymap(lambda x: \"background-color: orange\", subset=pd.IndexSlice[('Sênior'),'Centro-oeste'])"
   ]
  },
  {
   "cell_type": "markdown",
   "metadata": {},
   "source": [
    "## D4 - Principais tecnologias vs Faixa salarial\n",
    "\n",
    "- Quais são as tecnologias gerais mais utilizadas na área de dados?\n",
    "- Quais devo estudar primeiro?"
   ]
  },
  {
   "cell_type": "code",
   "execution_count": null,
   "metadata": {},
   "outputs": [],
   "source": [
    "def top_tecnologia_faixa_predominante(tecnologia):\n",
    "    \n",
    "    pesquisa2021[tecnologia] = pesquisa2021[tecnologia].apply(ordena_respostas,sep=',')\n",
    "    df_top_tecnologia_faixa_predominante = pesquisa2021.groupby([tecnologia])['faixa_salarial'].describe().sort_values(by=\"count\",ascending=False)[:10]\n",
    "    count = list( df_top_tecnologia_faixa_predominante['count'])\n",
    "    freq = list( df_top_tecnologia_faixa_predominante['freq'])\n",
    "    percent = [round((count_/sum(count))*100,2) for count_ in count]\n",
    "    df_top_tecnologia_faixa_predominante['percent'] = percent\n",
    "    \n",
    "    tecnologias = list(df_top_tecnologia_faixa_predominante.T)\n",
    "    dist_tecnologias = list(df_top_tecnologia_faixa_predominante['percent'])\n",
    "    faixa_predominante = list(df_top_tecnologia_faixa_predominante['top'])\n",
    "    \n",
    "    return tecnologias,dist_tecnologias,faixa_predominante"
   ]
  },
  {
   "cell_type": "code",
   "execution_count": null,
   "metadata": {},
   "outputs": [],
   "source": [
    "def grafico_principais_tecnologias(tecnologias,dist_tecnologias,titulo,subtitulo,faixa_predominante):\n",
    "    \n",
    "    X = tecnologias[::-1]\n",
    "    Y = dist_tecnologias[::-1]\n",
    "\n",
    "    fig, ax1 = plt.subplots(figsize=(15,15), # width, height in inches\n",
    "                            dpi=110)           # resolution of the figure\n",
    "\n",
    "\n",
    "    fig.subplots_adjust(left=0.1, right=0.3, top=0.3, bottom=0.1)\n",
    "\n",
    "\n",
    "    bars = ax1.barh(range(len(X)),\n",
    "                    Y,\n",
    "                    height=0.65,\n",
    "                    color=[GRAY9,GRAY7,GRAY5,GRAY3,GRAY1])\n",
    "\n",
    "\n",
    "    for i, b in enumerate(bars):\n",
    "        plt.text(b.get_width() + 1, b.get_y() + 0.15,\n",
    "                 f'{str(Y[i])}%',\n",
    "                 fontsize=13,\n",
    "                 color='black')\n",
    "\n",
    "\n",
    "    plt.setp(ax1, yticks=np.arange(len(X)), yticklabels=X)\n",
    "\n",
    "\n",
    "    ax1.tick_params(bottom='off', left='off', labelbottom='off')\n",
    "\n",
    "\n",
    "    for item in ax1.get_yticklabels():\n",
    "        item.set_fontsize(12.5)\n",
    "        item.set_color(GRAY3)\n",
    "\n",
    "\n",
    "    for spine in ax1.spines.values():\n",
    "        spine.set_visible(False)\n",
    "\n",
    "    # title the plot\n",
    "    ax1.text(-10,6, titulo, fontsize=19, color=GRAY1)\n",
    "    ax1.text(0,5.2, subtitulo,\n",
    "             fontsize=14, color=GREEN1, fontweight='bold')\n",
    "\n",
    "\n",
    "    plt.text(\n",
    "       65, 4.5,\n",
    "        'Faixa Salarial Predominante',size=12, color=BLUE1);\n",
    "    \n",
    "    plt.text(\n",
    "       65, 3.8,\n",
    "        f'{faixa_predominante[0]}',size=12, color=GRAY1);\n",
    "    \n",
    "    plt.text(\n",
    "       65, 2.9,\n",
    "        f'{faixa_predominante[1]}',size=12, color=GRAY3);\n",
    "    \n",
    "    plt.text(\n",
    "       65, 2.0,\n",
    "        f'{faixa_predominante[2]}',size=12, color=GRAY5);\n",
    "    \n",
    "    plt.text(\n",
    "       65, 1.1,\n",
    "        f'{faixa_predominante[3]}',size=12, color=GRAY7);\n",
    "    \n",
    "    plt.text(\n",
    "       65, 0.2,\n",
    "        f'{faixa_predominante[4]}',size=12, color=GRAY9);"
   ]
  },
  {
   "cell_type": "markdown",
   "metadata": {},
   "source": [
    "## D5 - Python e SQL reinam absolutos\n",
    "\n",
    "- Python e SQL de longe, são as linguagens de programação mais utilizadas.\n",
    "\n",
    "- Um verdadeiro arroz e feijão de todo profissional de dados.\n",
    "\n",
    "- Ao selecionarmos este grupo, encontrou-se a faixa salarial predominante entre 8k e 12k/mês\n"
   ]
  },
  {
   "cell_type": "code",
   "execution_count": null,
   "metadata": {},
   "outputs": [],
   "source": [
    "linguagens, dist_linguagens, linguagens_top_faixa = top_tecnologia_faixa_predominante('linguagens_utilizadas')\n",
    "\n",
    "grafico_principais_tecnologias(tecnologias=linguagens[:5],dist_tecnologias=dist_linguagens[:5],\n",
    "                               titulo='Principais linguagens utilizadas',subtitulo='Python e SQL reinam absolutos',\n",
    "                               faixa_predominante=linguagens_top_faixa)"
   ]
  },
  {
   "cell_type": "markdown",
   "metadata": {},
   "source": [
    "## D6 - Qual banco de dados devo aprender primeiro?\n",
    "\n",
    "- SQL Server liderou o ranking, entre os bancos de dados mais utilizados.\n",
    "\n",
    "- Ao observarmos por faixa salarial, ganhamos a seguinte pista...\n",
    "\n",
    "- Talvez seja interessante começar com SQL Server, porém aprender Googke BigQuery trás maiores oportunidades"
   ]
  },
  {
   "cell_type": "code",
   "execution_count": null,
   "metadata": {},
   "outputs": [],
   "source": [
    "bancos, dist_bancos, bancos_top_faixa = top_tecnologia_faixa_predominante('banco_dados_utilizados')\n",
    "\n",
    "grafico_principais_tecnologias(tecnologias=bancos[:5],dist_tecnologias=dist_bancos[:5],\n",
    "                               titulo='Principais bancos de dados utilizados',subtitulo='SQL Server é o principal BD.\\nAprender Google BigQuery parece promissor.',\n",
    "                               faixa_predominante=bancos_top_faixa)"
   ]
  },
  {
   "cell_type": "markdown",
   "metadata": {},
   "source": [
    "## D7 - Quem ganha? AWS, Azure ou Google Cloud?\n",
    "\n",
    "- AWS é bastante popular e os dados da pesquisa nos comprovam isso.\n",
    "\n",
    "- Contudo, adicionalmente aprender mais adiante Google Cloud pode levar a maiores salários."
   ]
  },
  {
   "cell_type": "code",
   "execution_count": null,
   "metadata": {},
   "outputs": [],
   "source": [
    "clouds, dist_clouds, clouds_top_faixa = top_tecnologia_faixa_predominante('cloud_utilizadas')\n",
    "\n",
    "grafico_principais_tecnologias(tecnologias=clouds[:5],dist_tecnologias=dist_clouds[:5],\n",
    "                               titulo='Principais clouds utilizadas',subtitulo='AWS pode ser uma boa oportunidade para aprender cloud.',\n",
    "                               faixa_predominante=clouds_top_faixa)"
   ]
  },
  {
   "cell_type": "markdown",
   "metadata": {},
   "source": [
    "## D8 - PowerBI Google Studio ou Tableau?\n",
    "\n",
    "- Se você já ficou esperto até aqui, provavelmente sabe o que vou dizer.\n",
    "\n",
    "- PowerBI tem se demonstrado bastante popular no mercado de dados.\n",
    "\n",
    "- Porém, o profissional que aprende Tableau, pode atingir maiores salários."
   ]
  },
  {
   "cell_type": "code",
   "execution_count": null,
   "metadata": {},
   "outputs": [],
   "source": [
    "bi, dist_bi, bi_top_faixa = top_tecnologia_faixa_predominante('ferramentas_bi_utilizadas')\n",
    "\n",
    "grafico_principais_tecnologias(tecnologias=bi[:5],dist_tecnologias=dist_bi[:5],\n",
    "                               titulo='Principais ferramentas de Business Intelligence',subtitulo='PowerBI ainda é carro chefe em BI',\n",
    "                               faixa_predominante=bi_top_faixa[:5])"
   ]
  },
  {
   "cell_type": "markdown",
   "metadata": {},
   "source": [
    "Não tenho muita experiência em dados, e agora?\n",
    "Tudo tem saída. Mesmo entre os profissionais que não possuem experiência na área, conseguem atingir salários dentro da média de entrada júnior do mercado."
   ]
  },
  {
   "cell_type": "code",
   "execution_count": null,
   "metadata": {},
   "outputs": [],
   "source": [
    "xp_faixa_salarial = pesquisa2021.groupby(['xp_dados'])['faixa_salarial'].describe().sort_values(by=\"count\",ascending=False)"
   ]
  },
  {
   "cell_type": "code",
   "execution_count": null,
   "metadata": {},
   "outputs": [],
   "source": [
    "xp_faixa_salarial.T.style.applymap(lambda x: \"background-color: orange\", subset=pd.IndexSlice[('top'),'Não tenho experiência na área de dados'])"
   ]
  },
  {
   "cell_type": "markdown",
   "metadata": {},
   "source": [
    "**Em resumo, aprendemos nesse Storytelling que :**\n",
    "\n",
    "- A região sudeste é o principal destino de quem se muda, e possui os melhores salários\n",
    "\n",
    "- Entre as linguagens que você deve dominar, definitivamente aprende Python e SQL o mais rápido possível.\n",
    "\n",
    "- Você pode começar a estudar por SQL Server, mas já mirar em aprender Google BigQuery mais adiante\n",
    "\n",
    "- AWS é a cloud popular, mas novamente o produto da Google pode oferecer melhores oportunidades de salários\n",
    "\n",
    "- PowerBi e Tableau são suas amigas para Business Intelligence"
   ]
  },
  {
   "cell_type": "markdown",
   "metadata": {},
   "source": [
    "<hr/>"
   ]
  },
  {
   "cell_type": "markdown",
   "metadata": {
    "id": "pZsgus47SuxQ",
    "papermill": {
     "duration": 0.018743,
     "end_time": "2022-07-13T02:34:49.285515",
     "exception": false,
     "start_time": "2022-07-13T02:34:49.266772",
     "status": "completed"
    },
    "tags": []
   },
   "source": [
    "# 2. Análise Visual (storytlelling) explorando a desigualdade de gênero na área de dados\n",
    " \n",
    "* Foram feitas análises de comparação dos gêneros, ligando os resultados as **metáforas da desigualdade**;\n",
    "* Os gráficos são construidos utilizando o pacote plotly, que são interativos.\n",
    "* Homens são maioria na área;\n",
    "* Sobre os salários, há predominância (propocional) de mulheres nos salários mais baixos e de homens nos mais altos;\n",
    "* Homens tem cargos mais altos e mais tempo de experiência;\n",
    "* Balanceando fatores como nível educacional, nível de senioridade, cargo e tempo de experiência, a diferença salarial deixa de ser identificável.\n",
    "* Em um primeiro olhar o resultado é positivo: ou seja, se tivermos as mesmas condições para homens e mulheres (tempo de experiência, cargos e formações mais requeridas), as mulheres podem alcançar as maiores faixas salariais também.\n",
    "* Então, para que a igualdade salarial seja atingida: é preciso entender porque mulheres não alcançam os mesmos espaços que homens e ser proativos em ações que mudem esse cenário."
   ]
  },
  {
   "cell_type": "code",
   "execution_count": null,
   "metadata": {
    "_kg_hide-input": true,
    "cellView": "form",
    "execution": {
     "iopub.execute_input": "2022-07-13T02:34:49.403458Z",
     "iopub.status.busy": "2022-07-13T02:34:49.402948Z",
     "iopub.status.idle": "2022-07-13T02:34:53.137143Z",
     "shell.execute_reply": "2022-07-13T02:34:53.136053Z"
    },
    "id": "OygSPk_dvvBf",
    "papermill": {
     "duration": 3.757739,
     "end_time": "2022-07-13T02:34:53.139988",
     "exception": false,
     "start_time": "2022-07-13T02:34:49.382249",
     "status": "completed"
    },
    "tags": []
   },
   "outputs": [],
   "source": [
    "#importando pacotes\n",
    "import pandas as pd\n",
    "import numpy as np\n",
    "import matplotlib.pyplot as plt\n",
    "import seaborn as sns\n",
    "import plotly.express as px\n",
    "import plotly.graph_objects as go\n",
    "import plotly.graph_objects as go\n",
    "from plotly.subplots import make_subplots\n"
   ]
  },
  {
   "cell_type": "code",
   "execution_count": null,
   "metadata": {
    "_kg_hide-input": true,
    "cellView": "form",
    "execution": {
     "iopub.execute_input": "2022-07-13T02:34:53.182499Z",
     "iopub.status.busy": "2022-07-13T02:34:53.182175Z",
     "iopub.status.idle": "2022-07-13T02:34:53.402164Z",
     "shell.execute_reply": "2022-07-13T02:34:53.401008Z"
    },
    "id": "cYNVN_HmwWkP",
    "papermill": {
     "duration": 0.243544,
     "end_time": "2022-07-13T02:34:53.404714",
     "exception": false,
     "start_time": "2022-07-13T02:34:53.161170",
     "status": "completed"
    },
    "tags": []
   },
   "outputs": [],
   "source": [
    "#importando dados\n",
    "df = pd.read_csv('datahackers.csv', low_memory=False)"
   ]
  },
  {
   "cell_type": "markdown",
   "metadata": {
    "id": "xvTwA6aQB2In",
    "papermill": {
     "duration": 0.019783,
     "end_time": "2022-07-13T02:34:53.444869",
     "exception": false,
     "start_time": "2022-07-13T02:34:53.425086",
     "status": "completed"
    },
    "tags": []
   },
   "source": [
    "Pra facilitar a leitura e compreensão dos resultados, foram feitas algumas edições necessárias no banco de dados. \n",
    "\n",
    "*   Exclusão de individuos que definiram o gênero como \"Outro\", que apesar de ser um grupo muito importante para a análise de gênero, ainda não traz uma população grande o suficiente para uma análise estatística adequada. Além disso, pode facilitar a identificação de indivíduos.\n",
    "*   Reordenação de algumas categorias\n",
    "*   Agrupamento e renomeação variáveis\n",
    "\n",
    "Além disso, para facilitar a leitura do código, foi criada uma função para geração de um tipo de gráfico mais utilizado nesta análise.\n",
    "\n",
    "\n"
   ]
  },
  {
   "cell_type": "code",
   "execution_count": null,
   "metadata": {
    "_kg_hide-input": true,
    "cellView": "form",
    "execution": {
     "iopub.execute_input": "2022-07-13T02:34:53.486395Z",
     "iopub.status.busy": "2022-07-13T02:34:53.485897Z",
     "iopub.status.idle": "2022-07-13T02:34:53.561892Z",
     "shell.execute_reply": "2022-07-13T02:34:53.560919Z"
    },
    "id": "D-zBNlaoeNsS",
    "papermill": {
     "duration": 0.099793,
     "end_time": "2022-07-13T02:34:53.564141",
     "exception": false,
     "start_time": "2022-07-13T02:34:53.464348",
     "status": "completed"
    },
    "tags": []
   },
   "outputs": [],
   "source": [
    "# Removendo linhas em que o gênero é igual a \"outro\"\n",
    "df = df[df[\"('P1_b ', 'Genero')\"] != \"Outro\"]\n",
    "\n",
    "# Atualizando a variável  \"('P2_g ', 'Nivel')\" da seguinte forma\n",
    "# Quando a pessoa respondeu que é gestor \"('P2_d ', 'Gestor?')\" e não respondeu a pergunta \"('P2_g ', 'Nivel')\", \n",
    "# assume-se que o nível é \"Gestor\"\n",
    "\n",
    "df.loc[(df[\"('P2_d ', 'Gestor?')\"] == 1) & (df[\"('P2_g ', 'Nivel')\"].isna()), \"('P2_g ', 'Nivel')\"] = 'Gestor'\n",
    "\n",
    "\n",
    "# Atualizando a variável  \"('P1_h ', 'Nivel de Ensino')\"  da seguinte forma:\n",
    "# Quando a pessoa  que ´refere não informar, define-se que a resposta foi None\n",
    "df[\"('P1_h ', 'Nivel de Ensino')\"] = df[\"('P1_h ', 'Nivel de Ensino')\"].replace({'Prefiro não informar': None})\n",
    "\n",
    "# Renomeando variáveis para que o nome fique mais curto e viável de inserir nos gráficos\n",
    "df = df.rename(columns=({\n",
    "\"('P4_f_a ', 'MySQL')\"                        : \"MySQL\",\n",
    "\"('P4_f_b ', 'Oracle')\"                       : \"Oracle\",\n",
    "\"('P4_f_c ', 'SQL SERVER')\"                   : \"SQL SERVER\",\n",
    "\"('P4_f_d ', 'SAP')\"                          : \"SAP\",\n",
    "\"('P4_f_e ', 'Amazon Aurora ou RDS')\"         : \"Amazon Aurora ou RDS\",\n",
    "\"('P4_f_f ', 'Amazon DynamoDB')\"              : \"Amazon DynamoDB\",\n",
    "\"('P4_f_g ', 'CoachDB')\"                      : \"CoachDB\",\n",
    "\"('P4_f_h ', 'Cassandra')\"                    : \"Cassandra\",\n",
    "\"('P4_f_i ', 'MongoDB')\"                      : \"MongoDB\",\n",
    "\"('P4_f_j ', 'MariaDB')\"                      : \"MariaDB\",\n",
    "\"('P4_f_k ', 'Datomic')\"                      : \"Datomic\",\n",
    "\"('P4_f_l ', 'S3')\"                           : \"S3\",\n",
    "\"('P4_f_m ', 'PostgreSQL')\"                   : \"PostgreSQL\",\n",
    "\"('P4_f_n ', 'ElasticSearch')\"                : \"ElasticSearch\",\n",
    "\"('P4_f_o ', 'DB2')\"                          : \"DB2\",\n",
    "\"('P4_f_p ', 'Microsoft Access')\"             : \"Microsoft Access\",\n",
    "\"('P4_f_q ', 'SQLite')\"                       : \"SQLite\",\n",
    "\"('P4_f_r ', 'Sybase')\"                       : \"Sybase\",\n",
    "\"('P4_f_s ', 'Firebase')\"                     : \"Firebase\",\n",
    "\"('P4_f_t ', 'Vertica')\"                      : \"Vertica\",\n",
    "\"('P4_f_u ', 'Redis')\"                        : \"Redis\",\n",
    "\"('P4_f_v ', 'Neo4J')\"                        : \"Neo4J\",\n",
    "\"('P4_f_x ', 'Google BigQuery')\"              : \"Google BigQuery\",\n",
    "\"('P4_f_y ', 'Google Firestore')\"             : \"Google Firestore\",\n",
    "\"('P4_f_z ', 'Amazon Redshift')\"              : \"Amazon Redshift\",\n",
    "\"('P4_f_z1 ', 'Amazon Athena')\"               : \"Amazon Athena\",\n",
    "\"('P4_f_z2 ', 'Snowflake')\"                   : \"Snowflake\",\n",
    "\"('P4_f_z3 ', 'Databricks')\"                  : \"Databricks\",\n",
    "\"('P4_f_z4 ', 'HBase')\"                       : \"HBase\",\n",
    "\"('P4_f_z5 ', 'Presto')\"                      : \"Presto\",\n",
    "\"('P4_f_z6 ', 'Splunk')\"                      : \"Splunk\",\n",
    "\"('P4_f_z7 ', 'SAP HANA')\"                    : \"SAP HANA\",\n",
    "\"('P4_f_z8 ', 'Hive')\"                        : \"Hive\",\n",
    "\"('P4_f_z9 ', 'Firebird')\"                    : \"Firebird\"}))\n",
    "\n",
    "#Renomeando categorias de variáveis para que o nome fique mais curto e viável de inserir nos gráficos\n",
    "\n",
    "df[\"('P2_h ', 'Faixa salarial')\"] = df[\"('P2_h ', 'Faixa salarial')\"].replace({'Menos de R$ 1.000/mês' : \"R&#36;1k\",\n",
    "                                             'de R$ 1.001/mês a R$ 2.000/mês'  : \"R&#36;1k-2k\",\n",
    "                                             'de R$ 2.001/mês a R$ 3000/mês'   : \"R&#36; 2k-3k\",\n",
    "                                             'de R$ 3.001/mês a R$ 4.000/mês'  : \"R&#36; 3k-4k\", \n",
    "                                             'de R$ 4.001/mês a R$ 6.000/mês'  : \"R&#36; 4k-6k\",\n",
    "                                             'de R$ 6.001/mês a R$ 8.000/mês'  : \"R&#36; 6k-8k\",\n",
    "                                             'de R$ 8.001/mês a R$ 12.000/mês' : \"R&#36; 8k-12k\",\n",
    "                                             'de R$ 12.001/mês a R$ 16.000/mês' : \"R&#36; 12k-16k\",\n",
    "                                             'de R$ 16.001/mês a R$ 20.000/mês' : \"R&#36; 16k-20k\",\n",
    "                                             'de R$ 20.001/mês a R$ 25.000/mês' : \"R&#36; 20k-25k\",\n",
    "                                             'de R$ 25.001/mês a R$ 30.000/mês' : \"R&#36; 25k-30k\",\n",
    "                                             'de R$ 30.001/mês a R$ 40.000/mês' : \"R&#36; 30k-40k\",\n",
    "                                             'Acima de R$ 40.001/mês' : \"R&#36; 40k\"                                      \n",
    "                                                    })\n",
    "\n",
    "df[\"('P2_i ', 'Quanto tempo de experiência na área de dados você tem?')\"] = \\\n",
    "    df[\"('P2_i ', 'Quanto tempo de experiência na área de dados você tem?')\"]\\\n",
    "    .replace({'Não tenho experiência na área de dados':'Não tenho experiência <br />na área de dados'})\n",
    "\n",
    "df[\"('P2_j ', 'Quanto tempo de experiência na área de TI/Engenharia de Software você teve antes de começar a trabalhar na área de dados?')\"] = \\\n",
    "            df[\"('P2_j ', 'Quanto tempo de experiência na área de TI/Engenharia de Software você teve antes de começar a trabalhar na área de dados?')\"]. \\\n",
    "            replace({'Não tive experiência na área de TI/Engenharia de Software antes de começar a trabalhar na área de dados' :\n",
    "                         'Não tive experiência<br /> em TI antes' })\n",
    "\n",
    "df[\"('P2_f ', 'Cargo Atual')\"] = df[\"('P2_f ', 'Cargo Atual')\"].replace({ \n",
    "    \"Cientista de Dados/Data Scientist\"                       : \"Cientista de Dados\"\n",
    "  , \"Analista de BI/BI Analyst/Analytics Engineer\"            : \"Analista de BI\"\n",
    "  , \"Analista de Dados/Data Analyst\"                          : \"Analista de Dados\"\n",
    "  , \"Engenheiro de Dados/Data Engineer\"                       : \"Engenheiro de Dados\"\n",
    "  , \"Outro\"                                                   : \"Outro\"\n",
    "  , \"Analista de Negócios/Business Analyst\"                   : \"Analista de Negócios\"\n",
    "  , \"Desenvolvedor ou Engenheiro de Software\"                 : \"Dev ou Engenheiro de Software\"\n",
    "  , \"Engenheiro de Machine Learning/ML Engineer\"              : \"Engenheiro de Machine Learning\"\n",
    "  , \"Outras Engenharias (não inclui dev)\"                     : \"Outras Engenharias (não inclui dev)\"\n",
    "  , \"Estatístico\"                                             : \"Estatístico\"\n",
    "  , \"Analista Administrativo\"                                 : \"Analista Administrativo\"\n",
    "  , \"Analista de Inteligência de Mercado/Market Intelligence\" : \"Analista de Inteligência de Mercado\"\n",
    "  , \"DBA/Administrador de Banco de Dados\"                     : \"Administrador de Banco de Dados\"\n",
    "  , \"Analista de Sistemas/Analista de TI\"                     : \"Analista de Sistemas\"\n",
    "  , \"Analista de Marketing\"                                   : \"Analista de Marketing\"\n",
    "  , \"Técnico\"                                                 : \"Técnico\"\n",
    "  , \"Suporte Técnico\"                                         : \"Suporte Técnico\"\n",
    "  , \"Professor\"                                               : \"Professor\"\n",
    "  , \"Arquiteto de Dados\"                                      : \"Arquiteto de Dados\"\n",
    "  , \"Product Manager\"                                         : \"Product Manager\"\n",
    "  , \"Arquiteto de dados\"                                      : \"Arquiteto de Dados\" })\n",
    "\n",
    "df[\"('P3_a ', 'Qual o número aproximado de pessoas que atuam com dados na sua empresa hoje?')\"] = df[\"('P3_a ', 'Qual o número aproximado de pessoas que atuam com dados na sua empresa hoje?')\"].astype('category')\n",
    "df[\"('P3_a ', 'Qual o número aproximado de pessoas que atuam com dados na sua empresa hoje?')\"] =  \\\n",
    "  df[\"('P3_a ', 'Qual o número aproximado de pessoas que atuam com dados na sua empresa hoje?')\"].cat.rename_categories(\n",
    "                                                         {'Ainda não temos pessoas atuando com dados na empresa': '0' })\n",
    "\n",
    "\n",
    "#Reordenando categorias de variáveis para deixar em uma ordem que faça mais sentido na apresentação gráfica\n",
    "df[\"('P1_h ', 'Nivel de Ensino')\"] = df[\"('P1_h ', 'Nivel de Ensino')\"].astype('category')\n",
    "df[\"('P1_h ', 'Nivel de Ensino')\"] = df[\"('P1_h ', 'Nivel de Ensino')\"].cat\\\n",
    "                                     .reorder_categories(['Não tenho graduação formal', \n",
    "                                                          'Estudante de Graduação',\n",
    "                                                          'Graduação/Bacharelado', \n",
    "                                                          'Pós-graduação',\n",
    "                                                          'Mestrado',\n",
    "                                                          'Doutorado ou Phd'\n",
    "                                                           ])\n",
    "df[\"('P2_i ', 'Quanto tempo de experiência na área de dados você tem?')\"] = \\\n",
    "    df[\"('P2_i ', 'Quanto tempo de experiência na área de dados você tem?')\"].astype('category')\n",
    "\n",
    "df[\"('P2_i ', 'Quanto tempo de experiência na área de dados você tem?')\"] = \\\n",
    "    df[\"('P2_i ', 'Quanto tempo de experiência na área de dados você tem?')\"].cat\\\n",
    "    .reorder_categories(['Não tenho experiência <br />na área de dados', \n",
    "                           'Menos de 1 ano', \n",
    "                           'de 1 a 2 anos', \n",
    "                            'de 2 a 3 anos', \n",
    "                           'de 4 a 5 anos', \n",
    "                           'de 6 a 10 anos', \n",
    "                           'Mais de 10 anos'])\n",
    "                                     \n",
    "\n",
    "df[\"('P2_c ', 'Numero de Funcionarios')\"] = df[\"('P2_c ', 'Numero de Funcionarios')\"].astype('category')\n",
    "df[\"('P2_c ', 'Numero de Funcionarios')\"] = df[\"('P2_c ', 'Numero de Funcionarios')\"].cat\\\n",
    "                                            .reorder_categories(['de 1 a 5', \n",
    "                                                                 'de 6 a 10',\n",
    "                                                                 'de 11 a 50', \n",
    "                                                                 'de 51 a 100', \n",
    "                                                                 'de 101 a 500',\n",
    "                                                                 'de 501 a 1000', \n",
    "                                                                 'de 1001 a 3000', \n",
    "                                                                 'Acima de 3000'])\n",
    "\n",
    "\n",
    "df['faixa_salarial'] = df[\"('P2_h ', 'Faixa salarial')\"].astype('category')\n",
    "df['faixa_salarial'] = df['faixa_salarial'].cat.reorder_categories([\"R&#36;1k\",\n",
    "                                                                    \"R&#36;1k-2k\", \"R&#36; 2k-3k\",\n",
    "                                                                    \"R&#36; 3k-4k\", \"R&#36; 4k-6k\",\n",
    "                                                                    \"R&#36; 6k-8k\", \"R&#36; 8k-12k\",\n",
    "                                                                    \"R&#36; 12k-16k\", \"R&#36; 16k-20k\",\n",
    "                                                                    \"R&#36; 20k-25k\", \"R&#36; 25k-30k\",\n",
    "                                                                    \"R&#36; 30k-40k\", \"R&#36; 40k\" ])\n",
    "\n",
    "\n",
    "\n",
    "df[\"('P2_j ', 'Quanto tempo de experiência na área de TI/Engenharia de Software você teve antes de começar a trabalhar na área de dados?')\"] = \\\n",
    "        df[\"('P2_j ', 'Quanto tempo de experiência na área de TI/Engenharia de Software você teve antes de começar a trabalhar na área de dados?')\"].astype('category')\n",
    "\n",
    "df[\"('P2_j ', 'Quanto tempo de experiência na área de TI/Engenharia de Software você teve antes de começar a trabalhar na área de dados?')\"] = \\\n",
    "  df[\"('P2_j ', 'Quanto tempo de experiência na área de TI/Engenharia de Software você teve antes de começar a trabalhar na área de dados?')\"]. \\\n",
    "  cat.reorder_categories(['Não tive experiência<br /> em TI antes',\n",
    "                          'Menos de 1 ano', \n",
    "                          'de 1 a 2 anos', \n",
    "                          'de 2 a 3 anos', \n",
    "                          'de 4 a 5 anos', \n",
    "                          'de 6 a 10 anos', \n",
    "                          'Mais de 10 anos'])\n",
    "\n",
    "\n",
    "df[\"('P2_g ', 'Nivel')\"] = df[\"('P2_g ', 'Nivel')\"].astype('category')\n",
    "df[\"('P2_g ', 'Nivel')\"] = df[\"('P2_g ', 'Nivel')\"].cat\\\n",
    "                          .reorder_categories(['Júnior', 'Pleno', 'Sênior', 'Gestor'])\n",
    "\n",
    "df[\"('P3_a ', 'Qual o número aproximado de pessoas que atuam com dados na sua empresa hoje?')\"] =\\\n",
    "    df[\"('P3_a ', 'Qual o número aproximado de pessoas que atuam com dados na sua empresa hoje?')\"].astype('category')\n",
    "\n",
    "df[\"('P3_a ', 'Qual o número aproximado de pessoas que atuam com dados na sua empresa hoje?')\"] = \\\n",
    "    df[\"('P3_a ', 'Qual o número aproximado de pessoas que atuam com dados na sua empresa hoje?')\"].cat.reorder_categories([\n",
    "                                                         '0',\n",
    "                                                         '1 - 3',\n",
    "                                                         '4 - 10',\n",
    "                                                         '11 - 20',\n",
    "                                                         '21 - 50', \n",
    "                                                         '51 - 100',\n",
    "                                                         '101 - 300',\n",
    "                                                         'Acima de 300 pessoas'                              \n",
    "                                                            ])\n",
    "\n",
    "\n",
    "# criando variavel \"desfecho\" para ser utilizada nos gráficos a seguir\n",
    "desfecho = \"('P1_b ', 'Genero')\"\n"
   ]
  },
  {
   "cell_type": "code",
   "execution_count": null,
   "metadata": {
    "_kg_hide-input": true,
    "execution": {
     "iopub.execute_input": "2022-07-13T02:34:53.605884Z",
     "iopub.status.busy": "2022-07-13T02:34:53.604904Z",
     "iopub.status.idle": "2022-07-13T02:34:53.617463Z",
     "shell.execute_reply": "2022-07-13T02:34:53.616518Z"
    },
    "id": "7AwDtDVsDfCC",
    "papermill": {
     "duration": 0.035745,
     "end_time": "2022-07-13T02:34:53.619510",
     "exception": false,
     "start_time": "2022-07-13T02:34:53.583765",
     "status": "completed"
    },
    "tags": []
   },
   "outputs": [],
   "source": [
    "#Função que cria gráficos de linha acoplado a gráfico de barra que mostra a diferença entre os grupos\n",
    "\n",
    "def faz_grafico_diferenca_propocao(df, variavel, desfecho, titulo):\n",
    "    fig = make_subplots(rows=2, cols=1, row_heights = [3,5], \n",
    "                        specs=[[{\"secondary_y\":True}],[{\"secondary_y\":True}]],\n",
    "                        print_grid=False,\n",
    "                        shared_xaxes=\"rows\" )\n",
    "\n",
    "    prop_genero = pd.crosstab(df[variavel], df[desfecho], normalize='columns')*100\n",
    "    novo_df = pd.DataFrame(prop_genero['Feminino'] - prop_genero['Masculino'], columns=['diff'])\n",
    "    linhas_2 = px.bar(novo_df, x=novo_df.index, y='diff', color_discrete_sequence = ['#710c04','lightgray'])\n",
    "\n",
    "    linhas_2.update_layout(xaxis_showticklabels=False)\n",
    "    for d in linhas_2.data:\n",
    "        fig.add_trace((go.Bar(x=d['x'], y=d['y'], name = \"Diferença <br />(Feminino - Masculino)\", marker_color=np.where(novo_df[\"diff\"]>0, '#710c04','lightgray'))), row=1, col=1)\n",
    "\n",
    "    prop_genero = pd.crosstab(df[variavel],df[desfecho],normalize='columns')*100\n",
    "    linhas_1 = px.line(prop_genero, x=prop_genero.index, y=['Feminino','Masculino'],\n",
    "                  color_discrete_sequence = ['#710c04','lightgray' ])\n",
    "\n",
    "    for d in linhas_1.data:\n",
    "        fig.add_trace((go.Scatter(x=d['x'], y=d['y'], name = d['name'], line=d['line'], yaxis=d['yaxis'])), row=2, col=1)\n",
    "\n",
    "\n",
    "    fig.update_layout(plot_bgcolor='rgba(0,0,0,0)')   \n",
    "    fig.update_layout(xaxis_showticklabels=False)\n",
    "\n",
    "    fig['layout']['title']= titulo\n",
    "    fig['layout']['yaxis']['title']='Diferença entre<br /> proporções (%)'\n",
    "    fig['layout']['yaxis3']['title']='Proporção (%)'\n",
    "    fig.show()\n",
    "    "
   ]
  },
  {
   "cell_type": "markdown",
   "metadata": {
    "id": "bWcC0Owwyvl3",
    "papermill": {
     "duration": 0.019263,
     "end_time": "2022-07-13T02:34:53.658064",
     "exception": false,
     "start_time": "2022-07-13T02:34:53.638801",
     "status": "completed"
    },
    "tags": []
   },
   "source": [
    "# Diferenças salariais\n",
    "\n",
    "Para avaliar as diferenças salariais, é apresentada, inicialmente,  uma visualização no estilo de pirâmide etária, utilizando as faixas salariais. \n",
    "\n",
    "Com essa visualização é possivel enxergar a variação de pessoas em cada faixa de salário e como cada gênero é representado quantitativamente.\n",
    "\n",
    "Fica bem claro que a presença absoluta feminina em todas as faixas é consideravelmente menor, mas ela quase desaparece nas 3 faixas mais altas. Assim, além de exemplificar a diferença salarial, a pirâmide também deixa claro a baixa representatividade de mulheres no mundo de dados. Nessa pesquisa, o total de respondentes mulheres foi de 493, o que representa 18,7% dos respondentes (como pode ser visto na tabela abaixo do gráfico de pirâmide).\n",
    "\n",
    "\n",
    "\n",
    "\n",
    "\n",
    "\n"
   ]
  },
  {
   "cell_type": "code",
   "execution_count": null,
   "metadata": {
    "_kg_hide-input": true,
    "cellView": "form",
    "execution": {
     "iopub.execute_input": "2022-07-13T02:34:53.699178Z",
     "iopub.status.busy": "2022-07-13T02:34:53.698856Z",
     "iopub.status.idle": "2022-07-13T02:34:53.835792Z",
     "shell.execute_reply": "2022-07-13T02:34:53.834711Z"
    },
    "id": "zLYtmipHyS4f",
    "outputId": "9f91d72d-4b9f-486a-d2a1-78e7013b0fc0",
    "papermill": {
     "duration": 0.160064,
     "end_time": "2022-07-13T02:34:53.838005",
     "exception": false,
     "start_time": "2022-07-13T02:34:53.677941",
     "status": "completed"
    },
    "tags": []
   },
   "outputs": [],
   "source": [
    "#criando gráfico de pirâmide para salários\n",
    "\n",
    "abs_genero = pd.crosstab(df[\"faixa_salarial\"],df[\"('P1_b ', 'Genero')\"])\n",
    "\n",
    "women_pop = list(abs_genero.Feminino)\n",
    "men_pop   = list(abs_genero.Masculino)\n",
    "men_pop = [element * 1 for element in men_pop]\n",
    "\n",
    "faixa = list(abs_genero.index.values)\n",
    "\n",
    "fig = go.Figure()\n",
    "fig.add_trace(go.Bar(\n",
    "    y=faixa,\n",
    "    x=men_pop,\n",
    "    name='Masculino',\n",
    "    marker_color='lightgray',\n",
    "    orientation='h'\n",
    "))\n",
    "fig.add_trace(go.Bar(\n",
    "    y=faixa,\n",
    "    x=women_pop,\n",
    "    name='Feminino',\n",
    "    marker_color='#710c04',\n",
    "    orientation='h'\n",
    "))\n",
    "\n",
    "fig['layout']['title']= \"Pirâmide salarial segundo o gênero\"\n",
    "fig['layout']['yaxis']['title']='Faixa salarial'\n",
    "\n",
    "fig.update_layout(barmode='relative', xaxis_tickangle=-90)\n",
    "fig.update_layout(plot_bgcolor='rgba(0,0,0,0)')\n",
    "fig.update_layout( width=800, height=500)\n",
    "fig.show()"
   ]
  },
  {
   "cell_type": "code",
   "execution_count": null,
   "metadata": {
    "_kg_hide-input": true,
    "cellView": "form",
    "execution": {
     "iopub.execute_input": "2022-07-13T02:34:53.881256Z",
     "iopub.status.busy": "2022-07-13T02:34:53.880906Z",
     "iopub.status.idle": "2022-07-13T02:34:53.915951Z",
     "shell.execute_reply": "2022-07-13T02:34:53.915041Z"
    },
    "id": "3aFbi15mLaDI",
    "outputId": "c0a5a673-25c5-4ebe-ced6-f721cebf162f",
    "papermill": {
     "duration": 0.059701,
     "end_time": "2022-07-13T02:34:53.918172",
     "exception": false,
     "start_time": "2022-07-13T02:34:53.858471",
     "status": "completed"
    },
    "tags": []
   },
   "outputs": [],
   "source": [
    "#contruindo tabelas de frequências absolutas e percentuais \n",
    "# a partir da concatenação de duas crosstabs (frequencia absoluta e percentual)\n",
    "\n",
    "tab = pd.concat(\n",
    "[pd.crosstab(index=df[\"('P1_b ', 'Genero')\"], columns = 'count').transpose(),\n",
    "pd.crosstab(index=df[\"('P1_b ', 'Genero')\"], columns = 'count',normalize=True).transpose()*100]).T\n",
    "\n",
    "# mudando o nome das colunas \n",
    "tab.set_axis(['Freq',\"%\"],axis=1,inplace=True)\n",
    "\n",
    "tab.index.name = 'Gênero'\n",
    "\n",
    "tab\n"
   ]
  },
  {
   "cell_type": "markdown",
   "metadata": {
    "id": "18S-rgtmrl3W",
    "papermill": {
     "duration": 0.020208,
     "end_time": "2022-07-13T02:34:53.959048",
     "exception": false,
     "start_time": "2022-07-13T02:34:53.938840",
     "status": "completed"
    },
    "tags": []
   },
   "source": [
    "A diferença salarial fica ainda mais clara quando ignoramos os números absolutos e vemos as proporções dentro dos grupos (gêneros).\n",
    "\n",
    "Para essa observação, são apresentados dois gráficos. Embaixo, um gráfico de linhas que apresentas as proporções salariais dentro de cada genêro e, acima dele, um gráfico de barras que mostra a diferença entre essas propoções. Quando a diferença é positiva, indica que as mulheres tem uma maior proporção do que homens naquela faixa salarial.\n",
    "\n",
    "Nesse caso, vemos que a curva de salário segue o esperado: valores muito baixos e muito altos são pouco frequentes, e a maioria das pessoas recebe valores intermediários.\n",
    "\n",
    "Um ponto de atenção nesse gráfico é que que a maior diferença entre os gêneros ocorre na faixa de 12 a 16 mil reais por mês, onde há uma diferença de 4% (7,8% das mulheres está nessa faixa, contra 11,9% dos homens). Um ponto interessante é que, juridicamente se define a faixa salarial acima de 12.867,14 como [\"Trabalhadores Hipersuficientes\"](https://www.conjur.com.br/2021-dez-25/trt-empregado-nao-diploma-hipersuficiente) e é exatamente nessa faixa que os homens passam a superar as mulheres\n"
   ]
  },
  {
   "cell_type": "code",
   "execution_count": null,
   "metadata": {
    "_kg_hide-input": true,
    "_kg_hide-output": false,
    "cellView": "form",
    "execution": {
     "iopub.execute_input": "2022-07-13T02:34:54.000861Z",
     "iopub.status.busy": "2022-07-13T02:34:54.000536Z",
     "iopub.status.idle": "2022-07-13T02:34:54.949332Z",
     "shell.execute_reply": "2022-07-13T02:34:54.948426Z"
    },
    "id": "OglYiTeXDXlq",
    "outputId": "fbdc4876-ad3b-4b23-f4b4-c3504d551fc3",
    "papermill": {
     "duration": 0.97223,
     "end_time": "2022-07-13T02:34:54.951368",
     "exception": false,
     "start_time": "2022-07-13T02:34:53.979138",
     "status": "completed"
    },
    "tags": []
   },
   "outputs": [],
   "source": [
    "faz_grafico_diferenca_propocao(df, 'faixa_salarial', desfecho, \n",
    "                               'Comparação entre as proproções de faixas salariais dentro de cada gênero')"
   ]
  },
  {
   "cell_type": "markdown",
   "metadata": {
    "id": "cVUmbPfHIRUi",
    "papermill": {
     "duration": 0.019541,
     "end_time": "2022-07-13T02:34:54.991850",
     "exception": false,
     "start_time": "2022-07-13T02:34:54.972309",
     "status": "completed"
    },
    "tags": []
   },
   "source": [
    "Esse resultado nos leva a seguinte pergunta: \n",
    "\n",
    "**Existem diferenças objetivas entre homens e mulheres que justifiquem a disparidade salarial? Ou seja, é possível encontrar fatores como formação, tempo de experiência, entre outros, que auxiliem a explicar a disparidade?**"
   ]
  },
  {
   "cell_type": "markdown",
   "metadata": {
    "id": "kZtMGBmuOfeW",
    "papermill": {
     "duration": 0.01946,
     "end_time": "2022-07-13T02:34:55.031462",
     "exception": false,
     "start_time": "2022-07-13T02:34:55.012002",
     "status": "completed"
    },
    "tags": []
   },
   "source": [
    "# O efeito tesoura: homens têm cargos em maior nível\n",
    "\n",
    "\n",
    "Ao longo da análise, conforme as diferenças de gênero são investigadas, podemos encontrar semelhanças entre o mundo de dados e outros ambientes em que as desigualadades de gênero são velhas conhecidas. Algumas dessas desigualdades são tão conhecidas que tem nomes, são as metáforas da desigualdade. Deste modo, apontaremos quando os dados desse estudo refletirem tais metáforas\n",
    "\n",
    "Uma dessas metáforas  é o **\"efeito tesoura\"**. Esse nome se deve ao desenho do gráfico que apresenta o número ou propoção de pessoas por gênero conforme a carreira avança.\n",
    "\n",
    "Quando observamos a proporção de cargos dentro de cada gêneros, conseguimos ver com clareza o efeito tesoura para o nível de senioridade por gênero: a proporção entre mulheres decai conforme o nível do cargo aumenta e o inverso acontece para homens.\n",
    "\n",
    "\n"
   ]
  },
  {
   "cell_type": "code",
   "execution_count": null,
   "metadata": {
    "_kg_hide-input": true,
    "cellView": "form",
    "execution": {
     "iopub.execute_input": "2022-07-13T02:34:55.072171Z",
     "iopub.status.busy": "2022-07-13T02:34:55.071853Z",
     "iopub.status.idle": "2022-07-13T02:34:55.240748Z",
     "shell.execute_reply": "2022-07-13T02:34:55.239713Z"
    },
    "id": "9kJKtZASOjqh",
    "outputId": "f6a4ac8d-be3c-4782-fd9c-cb5b82cfae20",
    "papermill": {
     "duration": 0.192013,
     "end_time": "2022-07-13T02:34:55.243352",
     "exception": false,
     "start_time": "2022-07-13T02:34:55.051339",
     "status": "completed"
    },
    "tags": []
   },
   "outputs": [],
   "source": [
    "faz_grafico_diferenca_propocao(df, \"('P2_g ', 'Nivel')\", desfecho, \n",
    "                        'Comparação das proproções dos níveis de senioridade <br /> dentro de cada gênero')"
   ]
  },
  {
   "cell_type": "markdown",
   "metadata": {
    "id": "eYxqfPzjI7PQ",
    "papermill": {
     "duration": 0.020962,
     "end_time": "2022-07-13T02:34:55.284975",
     "exception": false,
     "start_time": "2022-07-13T02:34:55.264013",
     "status": "completed"
    },
    "tags": []
   },
   "source": [
    "# Homens tem maior nível de escolaridade ou tempo de experiência?"
   ]
  },
  {
   "cell_type": "markdown",
   "metadata": {
    "id": "n6zG_TQvJlKA",
    "papermill": {
     "duration": 0.020686,
     "end_time": "2022-07-13T02:34:55.327097",
     "exception": false,
     "start_time": "2022-07-13T02:34:55.306411",
     "status": "completed"
    },
    "tags": []
   },
   "source": [
    "**Nível de escolaridade**\n",
    "\n",
    "Quando se analisa o nível de escolaridade, vemos que a proporção entre os homens é levemente maior nos níveis de escolaridade mais baixa. A curva das mulheres passa a ser superior a dos homens nos níveis de escolaridade mais alta. \n",
    "\n",
    "Aqui podemos tratar de outra metáfora da desigualdade: **\"o chão grudento\"**. Essa metáfora fala da dificuldade das mulheres deslancharem nas suas carreiras por situações que as \"grudam\". Nesse caso, apesar de terem tempo de estudo igual ou superior aos homens, algo tem atrasado as mulheres de alcançar os salários mais altos."
   ]
  },
  {
   "cell_type": "code",
   "execution_count": null,
   "metadata": {
    "_kg_hide-input": true,
    "cellView": "form",
    "execution": {
     "iopub.execute_input": "2022-07-13T02:34:55.370211Z",
     "iopub.status.busy": "2022-07-13T02:34:55.369688Z",
     "iopub.status.idle": "2022-07-13T02:34:55.541019Z",
     "shell.execute_reply": "2022-07-13T02:34:55.540117Z"
    },
    "id": "_DbgIN8vJpek",
    "outputId": "7afcfc1d-5e43-4c7e-c818-22061f441179",
    "papermill": {
     "duration": 0.19556,
     "end_time": "2022-07-13T02:34:55.543231",
     "exception": false,
     "start_time": "2022-07-13T02:34:55.347671",
     "status": "completed"
    },
    "tags": []
   },
   "outputs": [],
   "source": [
    "faz_grafico_diferenca_propocao(df, \"('P1_h ', 'Nivel de Ensino')\", desfecho, \n",
    "                        'Comparação das proproções dos níveis de escolaridade por gênero')"
   ]
  },
  {
   "cell_type": "markdown",
   "metadata": {
    "id": "n8t3vCtf0PDp",
    "papermill": {
     "duration": 0.02112,
     "end_time": "2022-07-13T02:34:55.585716",
     "exception": false,
     "start_time": "2022-07-13T02:34:55.564596",
     "status": "completed"
    },
    "tags": []
   },
   "source": [
    "**Área de formação**\n",
    "\n",
    "No gráfico abaixo são apresentadas as proporções de cada área de formação dentro dos gêneros. Observa-se por exemplo, uma grande diferença entre as proporções de homens e mulheres que fazem cursos relacionados à computação\\engenharia de software\\S.I.\\T.I (44% dos homens vs 35 % das mulheres). Comportamento diferente acontece nas áreas de Estatística/Matematica e Marketing onde a proporção de mulheres supera a masculina."
   ]
  },
  {
   "cell_type": "code",
   "execution_count": null,
   "metadata": {
    "_kg_hide-input": true,
    "cellView": "form",
    "execution": {
     "iopub.execute_input": "2022-07-13T02:34:55.628740Z",
     "iopub.status.busy": "2022-07-13T02:34:55.628389Z",
     "iopub.status.idle": "2022-07-13T02:34:55.657454Z",
     "shell.execute_reply": "2022-07-13T02:34:55.656558Z"
    },
    "id": "QnsEmn2Y0R8H",
    "outputId": "cb157a12-334b-49ec-f29f-0c2534eabeda",
    "papermill": {
     "duration": 0.052767,
     "end_time": "2022-07-13T02:34:55.659508",
     "exception": false,
     "start_time": "2022-07-13T02:34:55.606741",
     "status": "completed"
    },
    "tags": []
   },
   "outputs": [],
   "source": [
    "# Criando gráficos de barras horizontais\n",
    "\n",
    "#criando tabela cruzada para ser criada como input do gráfico de barras\n",
    "prop_form = pd.crosstab(df[\"('P1_i ', 'Área de Formação')\"],df[\"('P1_b ', 'Genero')\"],normalize='columns')\\\n",
    "            .sort_values(by='Feminino',ascending=True)*100\n",
    "\n",
    "formacao = list(prop_form.index.values)\n",
    "\n",
    "fig = go.Figure()\n",
    "fig.add_trace(go.Bar(\n",
    "    y=formacao,\n",
    "    x=prop_form['Masculino'] ,\n",
    "    name='Masculino',\n",
    "    marker_color='lightgray',\n",
    "    orientation='h'\n",
    "))\n",
    "fig.add_trace(go.Bar(\n",
    "    y=formacao,\n",
    "    x=prop_form['Feminino'] ,\n",
    "    name='Feminino',\n",
    "    marker_color='#710c04',\n",
    "    orientation='h'\n",
    "))\n",
    "\n",
    "fig.update_layout(title=\"Proporção cada categoria de formação entre homens e mulheres\")\n",
    "fig.update_layout(barmode='group', xaxis_tickangle=-45)\n",
    "fig.update_layout( width=900, height=500)\n",
    "fig.update_layout(plot_bgcolor='rgba(0,0,0,0)')\n",
    "fig.show()"
   ]
  },
  {
   "cell_type": "markdown",
   "metadata": {
    "id": "iWOSEKuNStFM",
    "papermill": {
     "duration": 0.02136,
     "end_time": "2022-07-13T02:34:55.702776",
     "exception": false,
     "start_time": "2022-07-13T02:34:55.681416",
     "status": "completed"
    },
    "tags": []
   },
   "source": [
    "De maneira complementar, no gráfico abaixo podemos observar também os percentuais de gênero dentro de cada área. Nesse caso, as áreas com maior prevalência feminina ficam ainda mais claras. Sendo que algumas áreas superam a proporção geral de mulheres (acima da linha preta), são elas: estatística, marketing e cinecias biológicas e relacionadas."
   ]
  },
  {
   "cell_type": "code",
   "execution_count": null,
   "metadata": {
    "_kg_hide-input": true,
    "execution": {
     "iopub.execute_input": "2022-07-13T02:34:55.747475Z",
     "iopub.status.busy": "2022-07-13T02:34:55.747168Z",
     "iopub.status.idle": "2022-07-13T02:34:55.800628Z",
     "shell.execute_reply": "2022-07-13T02:34:55.799779Z"
    },
    "id": "wsgR8qvm0cQO",
    "outputId": "bb61cf22-d864-4765-b970-bac34c5e4e51",
    "papermill": {
     "duration": 0.078793,
     "end_time": "2022-07-13T02:34:55.802852",
     "exception": false,
     "start_time": "2022-07-13T02:34:55.724059",
     "status": "completed"
    },
    "tags": []
   },
   "outputs": [],
   "source": [
    "# criando tabela  com as frequencias percentuais em cada genero  \n",
    "# para poder obter o percentual feminina amostra e utilizá-lo como referencial no gráfico\n",
    "tab_genero = pd.crosstab(df[\"('P1_b ', 'Genero')\"],columns='count',normalize='columns')*100\n",
    "\n",
    "media_participacao_feminina =  tab_genero.loc['Feminino']['count']\n",
    "\n",
    "\n",
    "#criando tabela cruzada formação vs genero para ser criada como input do gráfico de barras\n",
    "prop_form = pd.crosstab(df[\"('P1_i ', 'Área de Formação')\"],df[\"('P1_b ', 'Genero')\"],normalize='index')\\\n",
    "            .sort_values(by='Feminino',ascending=False)*100\n",
    "\n",
    "formacao = list(prop_form.index.values)\n",
    "\n",
    "\n",
    "\n",
    "fig = go.Figure()\n",
    "fig.add_trace(go.Bar(\n",
    "    y=formacao,\n",
    "    orientation='h',\n",
    "    x=prop_form['Feminino'] ,\n",
    "    name='Feminino',\n",
    "    marker_color='#710c04',\n",
    "))\n",
    "fig.add_trace(go.Bar(\n",
    "    y=formacao,\n",
    "    x=prop_form['Masculino'] ,\n",
    "    name='Masculino',\n",
    "    marker_color='lightgray',\n",
    "    orientation='h'\n",
    "))\n",
    "\n",
    "fig.update_layout(title=\"Proporção de homens e mulheres dentro de cada categoria de formação\")\n",
    "fig.update_layout(barmode='stack', xaxis_tickangle=-45)\n",
    "fig.update_layout( width=1000, height=400)\n",
    "fig.update_layout(plot_bgcolor='rgba(0,0,0,0)')\n",
    "fig.add_vline(x=media_participacao_feminina,y1=0.85,line_color=\"black\")\n",
    "fig.add_annotation(x=media_participacap_feminina, y=8,\n",
    "            text=\"Media participação feminina\",showarrow=True,yshift=10,arrowhead=1)\n",
    "fig.show()"
   ]
  },
  {
   "cell_type": "markdown",
   "metadata": {
    "id": "v154PL78LNng",
    "papermill": {
     "duration": 0.021069,
     "end_time": "2022-07-13T02:34:55.846111",
     "exception": false,
     "start_time": "2022-07-13T02:34:55.825042",
     "status": "completed"
    },
    "tags": []
   },
   "source": [
    "**Tempo de experiência**\n",
    "\n",
    "Quando falamos em tempo de experiência em dados, entre as mulheres existe uma proporção maior das que tem menos tempo de experiência.\n",
    "\n",
    "Podemos fazer uma analogia aqui mais uma metáfora da desiguadade conhecida como \"cano furado\". Essa metáfora fala da perda de pessoas ao longo dos anos, principalmente quando se relaciona a mulheres. Podemos fazer a seguinte reflexão: mulheres tem menor tempo de experiência pois passaram a ingressar mais recentemente ou por que não conseguem permanecer muito tempo e geram a situação definida na metáfora do cano furado?\n",
    "\n",
    "Para responder essa pergunta, é importante que esses dados continuem a ser coletados periodicamente para que possamos avaliar se esse esse padrão se perpetua, ou se estamos conseguindo tapar esse buraco e manter mulheres experientes dentro da área."
   ]
  },
  {
   "cell_type": "code",
   "execution_count": null,
   "metadata": {
    "_kg_hide-input": true,
    "cellView": "form",
    "execution": {
     "iopub.execute_input": "2022-07-13T02:34:55.890836Z",
     "iopub.status.busy": "2022-07-13T02:34:55.889907Z",
     "iopub.status.idle": "2022-07-13T02:34:56.059767Z",
     "shell.execute_reply": "2022-07-13T02:34:56.058726Z"
    },
    "id": "1IHdBqeE6WwQ",
    "outputId": "cf2b0ea9-b346-4c60-b53d-c1ca31bc9cc5",
    "papermill": {
     "duration": 0.194875,
     "end_time": "2022-07-13T02:34:56.062078",
     "exception": false,
     "start_time": "2022-07-13T02:34:55.867203",
     "status": "completed"
    },
    "tags": []
   },
   "outputs": [],
   "source": [
    "faz_grafico_diferenca_propocao(df, \"('P2_i ', 'Quanto tempo de experiência na área de dados você tem?')\", desfecho, \n",
    "                        'Comparação das proprorções dos tempos de experiência em dados<br /> dentro de cada gênero')"
   ]
  },
  {
   "cell_type": "markdown",
   "metadata": {
    "id": "5bNSX47iytS6",
    "papermill": {
     "duration": 0.021433,
     "end_time": "2022-07-13T02:34:56.105133",
     "exception": false,
     "start_time": "2022-07-13T02:34:56.083700",
     "status": "completed"
    },
    "tags": []
   },
   "source": [
    "  Em relação a experiência previa em TI/Engenharia de software, os grupos são mais semelhantes. \n",
    "  Mesmo assim, há um destaque para maior proporção de mulheres sem experiência nesse quesito. \n",
    "\n",
    "  É possível levantar a hipótese que mulheres tenham sido mais atraídas para a área de dados antes de tentar algo em computação pura."
   ]
  },
  {
   "cell_type": "code",
   "execution_count": null,
   "metadata": {
    "_kg_hide-input": true,
    "execution": {
     "iopub.execute_input": "2022-07-13T02:34:56.149374Z",
     "iopub.status.busy": "2022-07-13T02:34:56.148803Z",
     "iopub.status.idle": "2022-07-13T02:34:56.323987Z",
     "shell.execute_reply": "2022-07-13T02:34:56.322228Z"
    },
    "id": "8_de0DYjQJzs",
    "outputId": "51c70f86-c6e7-4962-c817-b093aa4be683",
    "papermill": {
     "duration": 0.199323,
     "end_time": "2022-07-13T02:34:56.326197",
     "exception": false,
     "start_time": "2022-07-13T02:34:56.126874",
     "status": "completed"
    },
    "tags": []
   },
   "outputs": [],
   "source": [
    "faz_grafico_diferenca_propocao(df, \"('P2_j ', 'Quanto tempo de experiência na área de TI/Engenharia de Software você teve antes de começar a trabalhar na área de dados?')\",\n",
    "                               desfecho, \n",
    "                               'Comparação das proprorções do tempo de experiência prévia em TI dentro de cada gênero')\n"
   ]
  },
  {
   "cell_type": "markdown",
   "metadata": {
    "id": "qHCRPdpYTXj7",
    "papermill": {
     "duration": 0.022159,
     "end_time": "2022-07-13T02:34:56.371471",
     "exception": false,
     "start_time": "2022-07-13T02:34:56.349312",
     "status": "completed"
    },
    "tags": []
   },
   "source": [
    "# Quais são os cargos com maior representatividade feminina?\n",
    "\n",
    "Um outro fator que pode influenciar na valorização do profissional é o cargo que ocupa. Por diversos motivos, as faixas salariais de alguns cargos são superiores a de outros. O gráfico abaixo mostra o percentual de homens e mulheres dentro de cada possível cargo. Vemos que as mulheres, em geral, superam o percentual geral da amostra (linha preta) em cargos de analista, já os homens são maioria em cargos relacionados à engenharia."
   ]
  },
  {
   "cell_type": "code",
   "execution_count": null,
   "metadata": {
    "_kg_hide-input": true,
    "execution": {
     "iopub.execute_input": "2022-07-13T02:34:56.416578Z",
     "iopub.status.busy": "2022-07-13T02:34:56.415899Z",
     "iopub.status.idle": "2022-07-13T02:34:56.450261Z",
     "shell.execute_reply": "2022-07-13T02:34:56.449354Z"
    },
    "id": "yV9H1ayY6ZA3",
    "outputId": "34fdc94b-d72e-4780-8344-4d9bf9422f99",
    "papermill": {
     "duration": 0.059331,
     "end_time": "2022-07-13T02:34:56.452348",
     "exception": false,
     "start_time": "2022-07-13T02:34:56.393017",
     "status": "completed"
    },
    "tags": []
   },
   "outputs": [],
   "source": [
    "#criando gráfico de barras empilhadas para cargos\n",
    "\n",
    "prop_form = pd.crosstab(df[\"('P2_f ', 'Cargo Atual')\"],df[\"('P1_b ', 'Genero')\"],normalize='index')\\\n",
    "            .sort_values(by='Feminino',ascending=False)*100\n",
    "\n",
    "cargo = list(prop_form.index.values)\n",
    "\n",
    "\n",
    "\n",
    "fig = go.Figure()\n",
    "fig.add_trace(go.Bar(\n",
    "    y=cargo,\n",
    "    orientation='h',\n",
    "    x=prop_form['Feminino'] ,\n",
    "    name='Feminino',\n",
    "    marker_color='#710c04',\n",
    "))\n",
    "fig.add_trace(go.Bar(\n",
    "    y=cargo,\n",
    "    x=prop_form['Masculino'] ,\n",
    "    name='Masculino',\n",
    "    marker_color='lightgray',\n",
    "    orientation='h'\n",
    "))\n",
    "\n",
    "# Here we modify the tickangle of the xaxis, resulting in rotated labels.\n",
    "fig.update_layout(title=\"Proporção de gênero dentro de cada ocupação\")\n",
    "fig.update_layout(barmode='stack', xaxis_tickangle=-45)\n",
    "fig.update_layout(plot_bgcolor='rgba(0,0,0,0)')\n",
    "fig.add_vline(x=media_participacap_feminina,y1=.85,line_color=\"black\")\n",
    "fig.add_annotation(x=media_participacap_feminina, y=8,\n",
    "            text=\"Proporção geral de mulheres\",showarrow=True,yshift=180,arrowhead=1)\n",
    "fig.show()"
   ]
  },
  {
   "cell_type": "markdown",
   "metadata": {
    "id": "nOfSPzIbRlvm",
    "papermill": {
     "duration": 0.021383,
     "end_time": "2022-07-13T02:34:56.495066",
     "exception": false,
     "start_time": "2022-07-13T02:34:56.473683",
     "status": "completed"
    },
    "tags": []
   },
   "source": [
    "# Porte das empresas em que trabalham\n",
    "\n",
    "Um outro fator que pode interferir no salário é o porte das empresas em que esses funcionários trabalham. Pensando nisso, os gráficos abaixo comparam a quantidade de funcionários das empresas de homens e mulheres. \n",
    "Quando falamos em número de funcinários na empresa de forma geral, não é possível identificar uma diferença entre os gêneros. Quando falamos na quantidade de funcionários em dados, podemos destacar que existe uma proporção maior de homens trabalhando em empresa com 4 a 10 funcionários."
   ]
  },
  {
   "cell_type": "code",
   "execution_count": null,
   "metadata": {
    "_kg_hide-input": true,
    "execution": {
     "iopub.execute_input": "2022-07-13T02:34:56.539965Z",
     "iopub.status.busy": "2022-07-13T02:34:56.539578Z",
     "iopub.status.idle": "2022-07-13T02:34:56.712369Z",
     "shell.execute_reply": "2022-07-13T02:34:56.711348Z"
    },
    "id": "TwzU-MbSRkwu",
    "outputId": "954ecb56-4b76-49eb-e144-19b3202e6da5",
    "papermill": {
     "duration": 0.198167,
     "end_time": "2022-07-13T02:34:56.714504",
     "exception": false,
     "start_time": "2022-07-13T02:34:56.516337",
     "status": "completed"
    },
    "tags": []
   },
   "outputs": [],
   "source": [
    "fig = make_subplots(rows=1, cols=2)\n",
    "\n",
    "var = \"('P2_c ', 'Numero de Funcionarios')\"\n",
    "\n",
    "\n",
    "prop_genero = pd.crosstab(df[var],df[\"('P1_b ', 'Genero')\"],normalize='columns')*100\n",
    "g1 = px.line(prop_genero, x=prop_genero.index, y=['Feminino','Masculino'],\n",
    "              color_discrete_sequence = ['#710c04','lightgray' ]\n",
    "               )\n",
    "for d in g1.data:\n",
    "        fig.add_trace((go.Scatter(x=d['x'], y=d['y'], name = d['name'], line=d['line'], yaxis=d['yaxis'],showlegend=False)), row=1, col=1)\n",
    "        \n",
    "\n",
    "var = \"('P3_a ', 'Qual o número aproximado de pessoas que atuam com dados na sua empresa hoje?')\"\n",
    "\n",
    "\n",
    "prop_genero = pd.crosstab(df[var],df[\"('P1_b ', 'Genero')\"],normalize='columns')*100\n",
    "g2 = px.line(prop_genero, x=prop_genero.index, y=['Feminino','Masculino'],\n",
    "              color_discrete_sequence = ['#710c04','lightgray' ]\n",
    "               )\n",
    "\n",
    "for d in g2.data:\n",
    "        fig.add_trace((go.Scatter(x=d['x'], y=d['y'], name = d['name'], line=d['line'], yaxis=d['yaxis'])), row=1, col=2)  \n",
    "        \n",
    "\n",
    "\n",
    "\n",
    "fig['layout']['title'] = \"Proporção do número de funcionários geral (esquerda) e em dados(direita) em cada gênero\"\n",
    "fig['layout']['yaxis']['title']='Proporção(%)'\n",
    "fig['layout']['yaxis2']['title']='Proporção(%)'\n",
    "fig['layout']['xaxis']['title']='Número de funcionários em geral'\n",
    "fig['layout']['xaxis2']['title']='Número de funcionários em dados'\n",
    "fig.update_layout(plot_bgcolor='rgba(0,0,0,0)')  \n",
    "fig['layout']['yaxis2']['range']=[0,35]\n",
    "fig['layout']['yaxis']['range']=[0,35]\n",
    "#fig.update_layout()\n",
    "\n",
    "fig.show()\n",
    "\n",
    "\n"
   ]
  },
  {
   "cell_type": "markdown",
   "metadata": {
    "id": "Rkewf_VMJ0Vs",
    "papermill": {
     "duration": 0.021818,
     "end_time": "2022-07-13T02:34:56.758623",
     "exception": false,
     "start_time": "2022-07-13T02:34:56.736805",
     "status": "completed"
    },
    "tags": []
   },
   "source": [
    "# Ferramentas e linguagens mais utilizadas\n",
    "\n",
    "Neste ponto são analisadas as linguagens de programação mais citadas entre homens e mulheres, que também são um fator de possível influência no salário. Observa-se que a proporção de homens que cita Python é superior a de mulheres (41% de homens contra 32% das mulheres). Em contrapartida, as mulheres tem maior proporção das que citam SQL ou que não utilizam linguagem."
   ]
  },
  {
   "cell_type": "code",
   "execution_count": null,
   "metadata": {
    "_kg_hide-input": true,
    "cellView": "form",
    "execution": {
     "iopub.execute_input": "2022-07-13T02:34:56.804982Z",
     "iopub.status.busy": "2022-07-13T02:34:56.804607Z",
     "iopub.status.idle": "2022-07-13T02:34:56.858108Z",
     "shell.execute_reply": "2022-07-13T02:34:56.857169Z"
    },
    "id": "g-FehPVcgYHN",
    "outputId": "d7af3b0e-21ab-43d2-a459-f9c6ea5cf8aa",
    "papermill": {
     "duration": 0.078696,
     "end_time": "2022-07-13T02:34:56.860034",
     "exception": false,
     "start_time": "2022-07-13T02:34:56.781338",
     "status": "completed"
    },
    "tags": []
   },
   "outputs": [],
   "source": [
    "lista_P4_e = [\"('P1_b ', 'Genero')\",\"('P4_e_c ', 'Python')\",\n",
    "\"('P4_e_f ', 'Java')\",\"('P4_e_m ', 'Javascript')\",\n",
    "#\"('P4_e_g ', 'Julia')\",\n",
    "\"('P4_e_j ', 'Scala')\",\"('P4_e_d ', 'C/C++/C#')\",\n",
    "\"('P4_e_e ', '.NET')\",\"('P4_e_k ', 'Matlab')\",\n",
    "\"('P4_e_l ', 'PHP')\",\"('P4_e_b ', 'R ')\",\n",
    "\"('P4_e_h ', 'SAS/Stata')\",\"('P4_e_i ', 'Visual Basic/VBA')\",\n",
    "\"('P4_e_n ', 'Não utilizo nenhuma linguagem')\",\"('P4_e_a ', 'SQL')\"]\n",
    "\n",
    "\n",
    "tab = df[lista_P4_e].groupby(\"('P1_b ', 'Genero')\").mean()\n",
    "\n",
    "tab = tab.transpose()\n",
    "\n",
    "linguagem =  ['Python', 'Java',\n",
    " 'Javascript', 'Scala', 'C/C++/C#', '.NET', 'Matlab', 'PHP', 'R ',\n",
    " 'SAS/Stata', 'Visual Basic/VBA', 'Não utilizo nenhuma linguagem','SQL']\n",
    "\n",
    "\n",
    "fig = go.Figure()\n",
    "fig.add_trace(go.Bar(\n",
    "    x=linguagem,\n",
    "    y=tab['Masculino'] ,\n",
    "    name='Masculino',\n",
    "    marker_color='lightgray',\n",
    "    orientation='v'\n",
    "))\n",
    "fig.add_trace(go.Bar(\n",
    "    x=linguagem,\n",
    "    y=tab['Feminino'] ,\n",
    "    name='Feminino',\n",
    "    marker_color='#710c04',#'#bd1e1e',\n",
    "    orientation='v'\n",
    "))\n",
    "\n",
    "\n",
    "fig.update_layout(barmode='group', xaxis_tickangle=-45)\n",
    "#fig.add_hrect(y0=6.5, y1=8.5, line_width=0, fillcolor=\"gray\", opacity=0.2)\n",
    "fig.update_layout(plot_bgcolor='rgba(0,0,0,0)')\n",
    "fig.add_vrect(x0=-.5, x1=0.5,line_dash=\"dash\", line_color=\"gray\",line_width=1,\n",
    "              annotation_text=\"Predominância masculina\", \n",
    "              annotation_position=\"top left\",\n",
    "              annotation=dict(font_size=12))\n",
    "fig.add_vrect(x0=8.5, x1=12.5,line_dash=\"dash\", line_color=\"gray\",line_width=1,\n",
    "              annotation_text=\"Predominância feminina\", \n",
    "              annotation_position=\"top left\",\n",
    "              annotation=dict(font_size=12))\n",
    "\n",
    "fig.update_layout(title=\"Proporções das linguagens dentro de cada gênero\")\n",
    "\n",
    "fig.show()"
   ]
  },
  {
   "cell_type": "markdown",
   "metadata": {
    "id": "3NyoFas7KSbF",
    "papermill": {
     "duration": 0.021864,
     "end_time": "2022-07-13T02:34:56.904164",
     "exception": false,
     "start_time": "2022-07-13T02:34:56.882300",
     "status": "completed"
    },
    "tags": []
   },
   "source": [
    "# Maiores interesses"
   ]
  },
  {
   "cell_type": "markdown",
   "metadata": {
    "id": "ggiK9r8L03QB",
    "papermill": {
     "duration": 0.022164,
     "end_time": "2022-07-13T02:34:56.948230",
     "exception": false,
     "start_time": "2022-07-13T02:34:56.926066",
     "status": "completed"
    },
    "tags": []
   },
   "source": [
    "Outra característica no mercado de trabalho que pode ser influenciada pelo gênero, são os itens mais buscados pelas pessoas.\n",
    "Historicamente, homens sabem negociar melhor seus salários e tem menos aversão a risco, o que facilita a troca de emprego considerando apenas a remuneração. \n",
    "Os dados da pesquisa confirmaram essa hipótese, visto que quando perguntados sobre os interessem mais homens citam remuneração e benefícios do que mulheres.\n",
    "\n",
    "Por outro lado, as mulheres apresentam maior frequência do que homens no interesse por ambiente, propósito e qualidade dos gestores, além da flexibilidade do trabalho remoto. Tais pontos podem refletir a necessidade de mulheres estarem em ambientes seguros (o que infelizmente ainda pode ser um desafio). Além disso, a flexibilidade de trabalho também é um fator importante, visto que mulheres são responsáveis pelas tarefas domesticas e familiares, sem ter com quem dividir."
   ]
  },
  {
   "cell_type": "code",
   "execution_count": null,
   "metadata": {
    "_kg_hide-input": true,
    "execution": {
     "iopub.execute_input": "2022-07-13T02:34:56.994207Z",
     "iopub.status.busy": "2022-07-13T02:34:56.993555Z",
     "iopub.status.idle": "2022-07-13T02:34:57.033444Z",
     "shell.execute_reply": "2022-07-13T02:34:57.032572Z"
    },
    "id": "7MiPhQj0eVVV",
    "outputId": "4ed1d7e4-efc4-4e03-ea86-67a0b92a6fe1",
    "papermill": {
     "duration": 0.065677,
     "end_time": "2022-07-13T02:34:57.035593",
     "exception": false,
     "start_time": "2022-07-13T02:34:56.969916",
     "status": "completed"
    },
    "tags": []
   },
   "outputs": [],
   "source": [
    "lista_P2_o = [\"('P1_b ', 'Genero')\",\"('P2_o_a ', 'Remuneração/Salário')\", \"('P2_o_b ', 'Benefícios')\",\n",
    "       \"('P2_o_f ', 'Oportunidade de aprendizado e trabalhar com referências na área')\",\n",
    "       \"('P2_o_j ', 'Reputação que a empresa tem no mercado')\",\n",
    "       \"('P2_o_h ', 'Maturidade da empresa em termos de tecnologia e dados')\",\n",
    "       \"('P2_o_g ', 'Plano de carreira e oportunidades de crescimento profissional')\",\n",
    "       \"('P2_o_i ', 'Qualidade dos gestores e líderes')\",\n",
    "       \"('P2_o_d ', 'Flexibilidade de trabalho remoto')\",\n",
    "       \"('P2_o_c ', 'Propósito do trabalho e da empresa')\",\n",
    "       \"('P2_o_e ', 'Ambiente e clima de trabalho')\"]\n",
    "\n",
    "\n",
    "tab = df[lista_P2_o].groupby(\"('P1_b ', 'Genero')\").mean()\n",
    "\n",
    "tab = tab.transpose()\n",
    "\n",
    "tab\n",
    "\n",
    "motivacoes = ['Remuneração','Benefícios','Oportunidades','Reputação',\\\n",
    "              'Maturidade tech','Plano de carreira', 'Qualidade gestores','Flexibilidade remoto',\\\n",
    "             'Propósito', 'Ambiente']\n",
    "\n",
    "\n",
    "fig = go.Figure()\n",
    "fig.add_trace(go.Bar(\n",
    "    x=motivacoes,\n",
    "    y=tab['Masculino'] ,\n",
    "    name='Masculino',\n",
    "    marker_color='lightgray',\n",
    "    orientation='v'\n",
    "))\n",
    "fig.add_trace(go.Bar(\n",
    "    x=motivacoes,\n",
    "    y=tab['Feminino'] ,\n",
    "    name='Feminino',\n",
    "    marker_color='#710c04',\n",
    "    orientation='v'\n",
    "))\n",
    "\n",
    "# Here we modify the tickangle of the xaxis, resulting in rotated labels.\n",
    "fig.update_layout(barmode='group', xaxis_tickangle=-45)\n",
    "#fig.add_hrect(y0=6.5, y1=8.5, line_width=0, fillcolor=\"gray\", opacity=0.2)\n",
    "fig.update_layout(plot_bgcolor='rgba(0,0,0,0)')\n",
    "fig.add_vrect(x0=-.5, x1=2.5,line_dash=\"dash\", line_color=\"gray\",line_width=1,\n",
    "              annotation_text=\"Predominância masculina\", \n",
    "              annotation_position=\"top right\",\n",
    "              annotation=dict(font_size=18))\n",
    "fig.add_vrect(x0=5.5, x1=9.5,line_dash=\"dash\", line_color=\"gray\",line_width=1,\n",
    "              annotation_text=\"Predominância feminina\", \n",
    "              annotation_position=\"top left\",\n",
    "              annotation=dict(font_size=18))\n",
    "\n",
    "fig.update_layout(title=\"Proporções dos maiores interesses em cada gênero\")\n",
    "\n",
    "fig.show()"
   ]
  },
  {
   "cell_type": "markdown",
   "metadata": {
    "id": "X4Aj_bARa2mP",
    "papermill": {
     "duration": 0.022238,
     "end_time": "2022-07-13T02:34:57.080275",
     "exception": false,
     "start_time": "2022-07-13T02:34:57.058037",
     "status": "completed"
    },
    "tags": []
   },
   "source": [
    "# Pontos principais da análise exploratória\n",
    "\n",
    "Em resumo, a análise exploratória realizada mostra que ainda que mulheres tenham, proporcionalmente, maiores níveis educacionais do que os homens, existe uma disparidade salarial e dos níveis de cargos ocupados por homens e mulheres. É possível que essa disparidade seja explicada, por exemplo, pelo maior tempo de experiência ou formação em carreiras ligadas à computação entre os homens, entre outros.\n",
    "\n",
    "Sabemos que variáveis confundidoras como formação, tempo de experiência, nível educacional, cargo podem afetar diretamente os níveis salariais e cargos ocupados.  Por isso, as diferenças entre homens e mulheres nessas variáveis dificultam o entendimento de quais são os causadores da disparidade salarial. Na prática, gostaríamos de entender: \n",
    "\n",
    "- Se os grupos fossem semelhantes em relação à variáveis confundidoras, a disparidade salarial deixaria de existir?\n",
    "- O padrão de definição de salários para homens é o mesmo seguido para mulheres?\n"
   ]
  },
  {
   "cell_type": "markdown",
   "metadata": {
    "id": "L2FU6_oiRhBR",
    "papermill": {
     "duration": 0.035853,
     "end_time": "2022-07-13T02:35:01.228909",
     "exception": false,
     "start_time": "2022-07-13T02:35:01.193056",
     "status": "completed"
    },
    "tags": []
   },
   "source": [
    "Mesmo que os resultados acima sejam otimistas, vemos que os fatores mais importantes na predição de salário são a senioridade do cargo, tempo de experiência e ocupar cargos relacionados à engenharia. Na análise exploratória, vimos que esses são pontos de difícil acesso para as mulheres. Podemos inferir, então, que a disparidade salarial se deve à dificuldade que as mulheres tem de acessarem cargos mais altos, formações/ocupações ligadas à computação ou terem tempo de experiência equivalente.\n",
    "\n",
    "Sendo assim, podemos falar em uma última métafora da desigualdade: **a metáfora do teto de vidro**, que é definida pela dificuldade de mulheres alcançarem cargos mais altos, apesar de não existirem barreiras visíveis (objetivas) que as impeçam. \n",
    "\n",
    "\n",
    "Um outro ponto importante a se destacar é que esse estudo considerou faixas amplas de salário (de 4 em 4 mil), o que pode maquear algumas diferenças que possam estar ocorrendo dentro dessas faixas. Em outras palavras, é possível que um grupo esteja mais localizado nas bordas superiores de uma faixa, enquanto o outro esta nas bordas inferiores.\n",
    "Nesse sentido, poderíamos testar outros modelos e avaliar se os resultados se mantêm. Se soubessemos os valores absolutos de salário (ou algo próximo disso), por exemplo, será que os erros para mais e para menos teriam um padrão?\n",
    "\n",
    "\n",
    "\n"
   ]
  },
  {
   "cell_type": "markdown",
   "metadata": {
    "id": "JT_k4WAU35nk",
    "papermill": {
     "duration": 0.030401,
     "end_time": "2022-07-13T02:35:01.290070",
     "exception": false,
     "start_time": "2022-07-13T02:35:01.259669",
     "status": "completed"
    },
    "tags": []
   },
   "source": [
    "## Conclusão\n",
    "\n",
    "- O cenário pode ser considerado positivo, visto que em condições de igualdade é provavável que haja equivalência salarial. \n",
    "- A análise exploratória indica que **ainda não estamos em codições de igualdade**, por isso é necessário:\n",
    "> - Criar ambientes agradáveis que permitam a permanência das mulheres\n",
    "> - Criar ações propositivas para que elas alcancem cargos de maior senioridade\n",
    "> - Manter e intensificar as ações afirmativas de atração de mulheres para a área de dados e de meninas para cursos de graduação ligados a dados. \n",
    "\n",
    "\n",
    "\n"
   ]
  }
 ],
 "metadata": {
  "kernelspec": {
   "display_name": "Python 3",
   "language": "python",
   "name": "python3"
  },
  "language_info": {
   "codemirror_mode": {
    "name": "ipython",
    "version": 3
   },
   "file_extension": ".py",
   "mimetype": "text/x-python",
   "name": "python",
   "nbconvert_exporter": "python",
   "pygments_lexer": "ipython3",
   "version": "3.8.5"
  },
  "papermill": {
   "default_parameters": {},
   "duration": 22.193022,
   "end_time": "2022-07-13T02:35:02.542436",
   "environment_variables": {},
   "exception": null,
   "input_path": "__notebook__.ipynb",
   "output_path": "__notebook__.ipynb",
   "parameters": {},
   "start_time": "2022-07-13T02:34:40.349414",
   "version": "2.3.4"
  }
 },
 "nbformat": 4,
 "nbformat_minor": 5
}
