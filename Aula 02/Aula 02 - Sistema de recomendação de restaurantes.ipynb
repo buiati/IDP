{
 "cells": [
  {
   "cell_type": "markdown",
   "metadata": {},
   "source": [
    "<img src=\"../idp.jpg\">"
   ]
  },
  {
   "cell_type": "markdown",
   "metadata": {},
   "source": [
    "<a id='1'></a>\n",
    "# <p style=\"background-color:#2F5597; text-font:white; font-family:newtimeroman; font-size:120%; text-align:center\"><span style=\"color:white\">📚 AULA 2 - Sistema de Recomendação de Restaurantes</span></p>\n",
    "\n",
    "<img src=\"zomato.jpg\">\n"
   ]
  },
  {
   "cell_type": "markdown",
   "metadata": {},
   "source": [
    "## Objetivo do notebook\n",
    "Criar um sistema de recomendação baseado em uma lista de restaurantes, tipos de cozinha e avaliações.\n",
    "\n",
    "Funcionamento do modelo:\n",
    "- Escrever um nome de restaurante\n",
    "- O sistema de recomendação analisará as avaliações de outros restaurantes\n",
    "- O sistema nos recomendará outros restaurantes com avaliações semelhantes e os classificará a partir dos mais bem avaliados.\n",
    "\n",
    "### O que é\n",
    "A Zomato é um serviço de busca de restaurantes para quem quer sair para jantar, buscar comida ou pedir em casa na Índia, Brasil, Portugal, Turquia, Indonésia, Nova Zelândia, Itália, Filipinas, África do Sul, Sri Lanka, Catar, Emirados Árabes Unidos, Reino Unido, Estados Unidos, Austrália e Canadá. O site estava posicionado no ranking Alexa como 99 na Índia e 595 no mundo em Outubro de 2015.\n",
    "\n",
    "### Dados de interesse\n",
    "Zomato é principalmente um aplicativo de entrega de comida, tendo parceria com 350 mil restaurantes e cafés em 526 cidades indianas. Também permite que os clientes reservem mesas para jantar, escrevam críticas sobre comida e carreguem fotos. A app Zomato tem 41,5 milhões de clientes que usam seu serviço todos os meses, e as encomendas na sua plataforma aumentaram para 403,1 milhões no ano 2019-2020.\n",
    "\n",
    "### Dados que vamos trabalhar\n",
    "O guia de restaurantes Zomato permite ao usuário buscar informações relacionadas a restaurantes, bares, cafés, pubs e casa noturnas. As informações fornecidas geralmente incluem:\n",
    "- nome do estabelecimento\n",
    "- telefones de contato\n",
    "- endereço\n",
    "- horário de funcionamento\n",
    "- cardápio\n",
    "- fotografias\n",
    "- avaliações \n",
    "- mapas de localização\n",
    "- avaliações e notas em uma escala de 1 a 5\n",
    "- informações do tipo de cozinha (italiana, espanhola, mineira :) )\n",
    "- custo aproximado de uma refeição para 2\n",
    "- se aceita cartão de crédito\n",
    "- se tem delivery\n",
    "- etc.\n",
    "\n",
    "----"
   ]
  },
  {
   "cell_type": "markdown",
   "metadata": {},
   "source": [
    "## Conteúdo do notebook:\n",
    "\n",
    "#### Parte 1: Análise Exploratória dos Dados (EDA):\n",
    "1) Análise das variáveis\n",
    "\n",
    "#### Parte 2: Engenharia e Limpeza de Variáveis\n",
    "1) Adicionando novas variáveis\n",
    "\n",
    "2) Removendo variáveis duplicadas\n",
    "\n",
    "3) Convertendo o formato das variáveis para a etapa de modelagem, escala, etc.\n",
    "\n",
    "#### Parte 3: Sistema de recomendação\n",
    "1) Preparando os dados\n",
    "\n",
    "2) Matriz TF-IDF\n",
    "\n",
    "3) Testando o sistema"
   ]
  },
  {
   "cell_type": "code",
   "execution_count": null,
   "metadata": {
    "_kg_hide-input": true
   },
   "outputs": [],
   "source": [
    "# Importando as principais bibliotecas de manipulação e visualização de dados\n",
    "import pandas as pd\n",
    "import numpy as np\n",
    "import matplotlib.pyplot as plt\n",
    "import seaborn as sns\n",
    "from warnings import filterwarnings\n",
    "filterwarnings('ignore')"
   ]
  },
  {
   "cell_type": "code",
   "execution_count": null,
   "metadata": {},
   "outputs": [],
   "source": [
    "# Lendo os 2 datasets\n",
    "nomes_restaurantes = pd.read_csv('restaurant_names.csv') # restaurantes e dados cadastrais\n",
    "reviews_restaurantes = pd.read_csv('restaurant_reviews.csv') # reviews dos restaurantes, comentários, etc."
   ]
  },
  {
   "cell_type": "markdown",
   "metadata": {},
   "source": [
    "<a id='1'></a>\n",
    "# <p style=\"background-color:#2F5597; text-font:white; font-family:newtimeroman; font-size:120%; text-align:center\"><span style=\"color:white\">Parte 1: Análise Exploratória dos Dados</span></p>\n"
   ]
  },
  {
   "cell_type": "code",
   "execution_count": null,
   "metadata": {},
   "outputs": [],
   "source": [
    "# Visualizando a estrutura dos nossos dados\n",
    "nomes_restaurantes.head()"
   ]
  },
  {
   "cell_type": "code",
   "execution_count": null,
   "metadata": {},
   "outputs": [],
   "source": [
    "# Visualizando a estrutura dos nossos dados\n",
    "reviews_restaurantes.head()"
   ]
  },
  {
   "cell_type": "code",
   "execution_count": null,
   "metadata": {},
   "outputs": [],
   "source": [
    "# vamos agora fazer nosso famoso EDA automatizado :)\n",
    "from dataprep.eda import plot, plot_correlation, create_report, plot_missing\n",
    "\n",
    "# Utilizando o método plot para construção do relatório EDA de forma automática dos nomes dos restaurantes\n",
    "plot(nomes_restaurantes)"
   ]
  },
  {
   "cell_type": "code",
   "execution_count": null,
   "metadata": {
    "scrolled": true
   },
   "outputs": [],
   "source": [
    "create_report(nomes_restaurantes)"
   ]
  },
  {
   "cell_type": "code",
   "execution_count": null,
   "metadata": {
    "scrolled": false
   },
   "outputs": [],
   "source": [
    "# Vamos agora fazer o EDA para os reviews\n",
    "plot(reviews_restaurantes)"
   ]
  },
  {
   "cell_type": "code",
   "execution_count": null,
   "metadata": {},
   "outputs": [],
   "source": [
    "create_report(reviews_restaurantes)"
   ]
  },
  {
   "cell_type": "markdown",
   "metadata": {},
   "source": [
    "## Combinando os 2 datasets\n",
    "\n",
    "Iremos fazer um merge dos 2 datasets para facilitar nossa manipulação de dados e permitir que façamos análises mais completas."
   ]
  },
  {
   "cell_type": "code",
   "execution_count": null,
   "metadata": {},
   "outputs": [],
   "source": [
    "# Renomeando a coluna do nome do restaurante para ter o mesmo valor do outro conjunto de dados\n",
    "reviews_restaurantes = reviews_restaurantes.rename(columns={'Restaurant': 'Name'})\n",
    "\n",
    "# Unindo os 2 datasets:\n",
    "df = pd.merge(reviews_restaurantes, nomes_restaurantes, how='left', on='Name')\n",
    "\n",
    "# Eliminando as colunas que não vamos usar\n",
    "df.drop(['Reviewer', 'Time', 'Pictures', 'Links', 'Collections'], axis=1, inplace=True)\n",
    "df.head()"
   ]
  },
  {
   "cell_type": "code",
   "execution_count": null,
   "metadata": {},
   "outputs": [],
   "source": [
    "df.info()"
   ]
  },
  {
   "cell_type": "markdown",
   "metadata": {},
   "source": [
    "<a id='2'></a>\n",
    "# <p style=\"background-color:#2F5597; text-font:white; font-family:newtimeroman; font-size:120%; text-align:center\"><span style=\"color:white\">Parte 2: Engenharia e Limpeza de Dados</span></p>\n"
   ]
  },
  {
   "cell_type": "markdown",
   "metadata": {},
   "source": [
    "## Preparando as colunas de Cost e Rating"
   ]
  },
  {
   "cell_type": "code",
   "execution_count": null,
   "metadata": {},
   "outputs": [],
   "source": [
    "# Alterando os tipos de dados das colunas de Cost e Rating\n",
    "df['Cost'] = df['Cost'].str.replace(',', '').astype(int)\n",
    "df['Rating'] = df['Rating'].str.replace('Like', '1').astype(float)\n",
    "df.info()"
   ]
  },
  {
   "cell_type": "markdown",
   "metadata": {},
   "source": [
    "## Manipulando os valores ausentes"
   ]
  },
  {
   "cell_type": "code",
   "execution_count": null,
   "metadata": {},
   "outputs": [],
   "source": [
    "print('Número de registros:', len(df))\n",
    "print('\\nNúmero nulos para cada coluna:\\n')\n",
    "print(df.isnull().sum())"
   ]
  },
  {
   "cell_type": "markdown",
   "metadata": {},
   "source": [
    "A coluna Rating é muito importante para o sistema de recomendação. Portanto, não vamos descartar esses valores de 38 NaN.\n",
    "Vamos preencher esses valores NaN com o valor médio de classificação de cada restaurante."
   ]
  },
  {
   "cell_type": "code",
   "execution_count": null,
   "metadata": {},
   "outputs": [],
   "source": [
    "# Examine missing Rating values:\n",
    "df['Name'][df['Rating'].isnull() == True].value_counts()"
   ]
  },
  {
   "cell_type": "markdown",
   "metadata": {},
   "source": [
    "Portanto, existem apenas dois restaurantes com um total de 38 valores de classificação NaN.\n",
    "Vamos ver o valor médio da classificação de cada restaurante."
   ]
  },
  {
   "cell_type": "code",
   "execution_count": null,
   "metadata": {},
   "outputs": [],
   "source": [
    "print('Média de avaliações para American Wild Wings: ', df['Rating'][df['Name'] == 'American Wild Wings'].mean())\n",
    "print('Média de avaliações para Arena Eleven: ', df['Rating'][df['Name'] == 'Arena Eleven'].mean())\n",
    "print('Média geral das avaliações: ', df['Rating'].mean())"
   ]
  },
  {
   "cell_type": "markdown",
   "metadata": {},
   "source": [
    "Podemos ver que o valor médio para o valor de classificação ausente deve ser 4 (3,9 e 4,1 para cada restaurante).\n",
    "Vamos preencher esses restaurantes com esses valores."
   ]
  },
  {
   "cell_type": "code",
   "execution_count": null,
   "metadata": {},
   "outputs": [],
   "source": [
    "df['Rating'].fillna(4, inplace=True)\n",
    "\n",
    "# Mudando os NaN para '-'\n",
    "df['Review'] = df['Review'].fillna('-')\n",
    "df.isnull().sum()"
   ]
  },
  {
   "cell_type": "markdown",
   "metadata": {},
   "source": [
    "## Separando os metadados (Reviews and Followers)\n",
    "\n",
    "Separamos os números de Reviews e Followers em colunas diferentes para usá-lo mais tarde."
   ]
  },
  {
   "cell_type": "code",
   "execution_count": null,
   "metadata": {},
   "outputs": [],
   "source": [
    "# Preenchendo os valores nulos:\n",
    "df['Metadata'].fillna('0 Review , 0 Follower', inplace=True)\n",
    "\n",
    "# Padronizando as strings\n",
    "df['Metadata'] = df['Metadata'].str.replace('Reviews', 'Review')\n",
    "df['Metadata'] = df['Metadata'].str.replace('Followers', 'Follower')\n",
    "\n",
    "df['Metadata'][df['Metadata'].str.endswith('w')] = df['Metadata'][df['Metadata'].str.endswith('w')] + ' , - Follower'\n",
    "\n",
    "# Dividindo em duas colunas\n",
    "df[['Reviews', 'Followers']] = df['Metadata'].str.split(' , ', expand=True)\n",
    "\n",
    "# Removendo algumas strings dos reviews\n",
    "df['Reviews'] = df['Reviews'].str.replace('Review', '')\n",
    "df['Reviews'] = df['Reviews'].str.replace('Posts', '')\n",
    "df['Reviews'] = df['Reviews'].str.replace('Post', '')\n",
    "\n",
    "df['Followers'] = df['Followers'].str.replace('Follower', '')\n",
    "df['Followers'] = df['Followers'].str.replace('-', '0')\n",
    "\n",
    "# Mudando str para int\n",
    "df[['Reviews', 'Followers']] = df[['Reviews', 'Followers']].astype(int)\n",
    "\n",
    "# Removendo a coluna inicial\n",
    "df.drop(['Metadata'], axis=1, inplace=True)\n",
    "\n",
    "# Ordenando os restaurantes por custo\n",
    "df = df.sort_values(['Name', 'Cost'], ascending=False).reset_index()\n",
    "df.drop('index', axis=1, inplace=True)"
   ]
  },
  {
   "cell_type": "code",
   "execution_count": null,
   "metadata": {},
   "outputs": [],
   "source": [
    "# Visualizando uma amostra nosso dataset\n",
    "df.sample(5)"
   ]
  },
  {
   "cell_type": "markdown",
   "metadata": {},
   "source": [
    "## Criando novas variáveis (Média de Ratings, Reviews e Followers)\n",
    "\n",
    "As colunas Rating, Review e Followers representam as entradas de clientes individuais.\n",
    "Vamos encontrar as médias desses valores e atribuí-los aos restaurantes."
   ]
  },
  {
   "cell_type": "code",
   "execution_count": null,
   "metadata": {},
   "outputs": [],
   "source": [
    "restaurants = list(df['Name'].unique())\n",
    "df['Mean Rating'] = 0\n",
    "df['Mean Reviews'] = 0\n",
    "df['Mean Followers'] = 0\n",
    "\n",
    "for i in range(len(restaurants)):\n",
    "    df['Mean Rating'][df['Name'] == restaurants[i]] = df['Rating'][df['Name'] == restaurants[i]].mean()\n",
    "    df['Mean Reviews'][df['Name'] == restaurants[i]] = df['Reviews'][df['Name'] == restaurants[i]].mean()\n",
    "    df['Mean Followers'][df['Name'] == restaurants[i]] = df['Followers'][df['Name'] == restaurants[i]].mean()"
   ]
  },
  {
   "cell_type": "code",
   "execution_count": null,
   "metadata": {},
   "outputs": [],
   "source": [
    "df.sample(3)"
   ]
  },
  {
   "cell_type": "markdown",
   "metadata": {},
   "source": [
    "## Feature Scaling das 3 variáveis de média\n",
    "\n",
    "Iremos utilizar a escala de 1-5"
   ]
  },
  {
   "cell_type": "code",
   "execution_count": null,
   "metadata": {},
   "outputs": [],
   "source": [
    "from sklearn.preprocessing import MinMaxScaler\n",
    "\n",
    "scaler = MinMaxScaler(feature_range = (1,5))\n",
    "\n",
    "df[['Mean Rating', 'Mean Reviews', 'Mean Followers']] = scaler.fit_transform(df[['Mean Rating', 'Mean Reviews', 'Mean Followers']]).round(2)\n",
    "\n",
    "df.sample(3)"
   ]
  },
  {
   "cell_type": "markdown",
   "metadata": {},
   "source": [
    "## Processamento do texto e limpeza dos dados\n",
    "\n",
    "Usaremos a variável 'Review' e 'Cuisines' para criar um sistema de recomendação.\n",
    "Portanto, precisamos preparar e limpar o texto nessas colunas."
   ]
  },
  {
   "cell_type": "code",
   "execution_count": null,
   "metadata": {},
   "outputs": [],
   "source": [
    "import re\n",
    "from nltk.corpus import stopwords\n",
    "from sklearn.metrics.pairwise import linear_kernel\n",
    "from sklearn.feature_extraction.text import CountVectorizer\n",
    "from sklearn.feature_extraction.text import TfidfVectorizer"
   ]
  },
  {
   "cell_type": "code",
   "execution_count": null,
   "metadata": {},
   "outputs": [],
   "source": [
    "# 5 exemplos dessas colunas antes do processamento de texto:\n",
    "df[['Review', 'Cuisines']].sample(5)"
   ]
  },
  {
   "cell_type": "code",
   "execution_count": null,
   "metadata": {},
   "outputs": [],
   "source": [
    "import nltk\n",
    "nltk.download('stopwords')\n",
    "\n",
    "# Símbolos para ser substuidos pelos espaços\n",
    "replace_space = re.compile('[/(){}\\[\\]\\|@,;]')\n",
    "\n",
    "# Símbolos a serem removidos\n",
    "remove_symbols = re.compile('[^0-9a-z #+_]')\n",
    "\n",
    "# Definição de stopwords\n",
    "stopwords = set(stopwords.words('english'))\n",
    "\n",
    "def text_preprocessing(text):\n",
    "    # Converter para minúsculas\n",
    "    text = text.lower()\n",
    "    \n",
    "    # Substituir os símbolos com espaços\n",
    "    text = replace_space.sub(' ', text)\n",
    "    \n",
    "    # Remover os símbolos\n",
    "    text = remove_symbols.sub('', text)\n",
    "    \n",
    "    # Remover stopwords\n",
    "    text = ' '.join(word for word in text.split() if word not in stopwords)\n",
    "    \n",
    "    return text"
   ]
  },
  {
   "cell_type": "code",
   "execution_count": null,
   "metadata": {},
   "outputs": [],
   "source": [
    "df['Review'] = df['Review'].apply(text_preprocessing)\n",
    "df['Cuisines'] = df['Cuisines'].apply(text_preprocessing)"
   ]
  },
  {
   "cell_type": "code",
   "execution_count": null,
   "metadata": {},
   "outputs": [],
   "source": [
    "# Colunas após o processamento\n",
    "df[['Review','Cuisines']].sample(5)"
   ]
  },
  {
   "cell_type": "markdown",
   "metadata": {},
   "source": [
    "## Analisando restaurantes e sua popularidade"
   ]
  },
  {
   "cell_type": "code",
   "execution_count": null,
   "metadata": {},
   "outputs": [],
   "source": [
    "# Verificando os dados\n",
    "restaurant_names = list(df['Name'].unique())\n",
    "restaurant_names"
   ]
  },
  {
   "cell_type": "code",
   "execution_count": null,
   "metadata": {},
   "outputs": [],
   "source": [
    "df_rating = df.drop_duplicates(subset='Name')\n",
    "df_rating = df_rating.sort_values(by='Mean Rating', ascending=False).head(10)\n",
    "\n",
    "plt.figure(figsize=(7,5))\n",
    "sns.barplot(data=df_rating, x='Mean Rating', y='Name', palette='RdBu')\n",
    "plt.title('Top 10 restaurantes com melhores notas');"
   ]
  },
  {
   "cell_type": "code",
   "execution_count": null,
   "metadata": {},
   "outputs": [],
   "source": [
    "df_reviews = df.drop_duplicates(subset='Name')\n",
    "df_reviews = df_reviews.sort_values(by='Mean Reviews', ascending=False).head(10)\n",
    "\n",
    "plt.figure(figsize=(7,5))\n",
    "sns.barplot(data=df_reviews, x='Mean Reviews', y='Name', palette='RdBu')\n",
    "plt.title('Top 10 Restaurantes mais avaliados');"
   ]
  },
  {
   "cell_type": "code",
   "execution_count": null,
   "metadata": {},
   "outputs": [],
   "source": [
    "df_followers = df.drop_duplicates(subset='Name')\n",
    "df_followers = df_followers.sort_values(by='Mean Followers', ascending=False).head(10)\n",
    "\n",
    "plt.figure(figsize=(7,5))\n",
    "sns.barplot(data=df_followers, x='Mean Followers', y='Name', palette='RdBu')\n",
    "plt.title('TOP 10 restaurantes com mais seguidores');"
   ]
  },
  {
   "cell_type": "markdown",
   "metadata": {},
   "source": [
    "## Distribuição de Frequência das palavras:"
   ]
  },
  {
   "cell_type": "code",
   "execution_count": null,
   "metadata": {},
   "outputs": [],
   "source": [
    "def get_top_words(column, top_nu_of_words, nu_of_word):\n",
    "    \n",
    "    # CountVectorizer é uma ótima ferramenta fornecida pela biblioteca scikit-learn em Python. \n",
    "    # Ele é usado para transformar um determinado texto em um vetor com base na frequência (contagem) \n",
    "    # de cada palavra que ocorre em todo o texto\n",
    "    vec = CountVectorizer(ngram_range= nu_of_word, stop_words='english')\n",
    "    \n",
    "    bag_of_words = vec.fit_transform(column)\n",
    "    \n",
    "    sum_words = bag_of_words.sum(axis=0)\n",
    "    \n",
    "    words_freq = [(word, sum_words[0, idx]) for word, idx in vec.vocabulary_.items()]\n",
    "    \n",
    "    words_freq =sorted(words_freq, key = lambda x: x[1], reverse=True)\n",
    "    \n",
    "    return words_freq[:top_nu_of_words]"
   ]
  },
  {
   "cell_type": "code",
   "execution_count": null,
   "metadata": {},
   "outputs": [],
   "source": [
    "# Top 20 dupla de palavras por tipo de cozinha\n",
    "list1 = get_top_words(df['Cuisines'], 20, (2,2))\n",
    "\n",
    "df_words1 = pd.DataFrame(list1, columns=['Word', 'Count'])\n",
    "\n",
    "plt.figure(figsize=(7,6))\n",
    "sns.barplot(data=df_words1, x='Count', y='Word')\n",
    "plt.title('Frequência de pares de palavras para os tipos de cozinhas');"
   ]
  },
  {
   "cell_type": "code",
   "execution_count": null,
   "metadata": {},
   "outputs": [],
   "source": [
    "# Top 20 dupla de palavras por Reviews\n",
    "list2 = get_top_words(df['Review'], 20, (2,2))\n",
    "\n",
    "df_words2 = pd.DataFrame(list2, columns=['Word', 'Count'])\n",
    "\n",
    "plt.figure(figsize=(7,6))\n",
    "sns.barplot(data=df_words2, x='Count', y='Word')\n",
    "plt.title('Frequência de pares de palavras para avaliações');"
   ]
  },
  {
   "cell_type": "markdown",
   "metadata": {},
   "source": [
    "<a id='3'></a>\n",
    "# <p style=\"background-color:#2F5597; text-font:white; font-family:newtimeroman; font-size:120%; text-align:center\"><span style=\"color:white\">Parte 3: Sistema de Recomendação baseado em conteúdo</span></p>\n"
   ]
  },
  {
   "cell_type": "markdown",
   "metadata": {},
   "source": [
    "\n",
    "### TF-IDF Matrix (Term Frequency — Inverse Document Frequency Matrix)\n",
    "\n",
    "O valor TF-IDF (abreviação do inglês term frequency–inverse document frequency, que significa frequência do termo–inverso da frequência nos documentos), é uma medida estatística que tem o intuito de indicar a importância de uma palavra de um documento em relação a uma coleção de documentos ou em um corpus linguístico. Ela é frequentemente utilizada como fator de ponderação na recuperação de informações e na mineração de dados.\n",
    "\n",
    "O valor TF-IDF de uma palavra aumenta proporcionalmente à medida que aumenta o número de ocorrências dela no documento, no entanto, esse valor é equilibrado pela frequência da palavra no corpus. Isso auxilia a distinguir o fato da ocorrência de algumas palavras serem geralmente mais comuns que outras.\n",
    "\n",
    "Assim, o método TF-IDF é usado para quantificar palavras e calcular pesos para elas.\n",
    "\n",
    "Em outras palavras, representar cada palavra (ou pares de palavras etc.) com um número para usar a matemática no sistema de recomendação.\n",
    "\n",
    "A similaridade de cosseno é uma métrica usada para determinar quão semelhantes os documentos são, independentemente de seu tamanho."
   ]
  },
  {
   "cell_type": "code",
   "execution_count": null,
   "metadata": {},
   "outputs": [],
   "source": [
    "# Alterando o índice do conjunto de dados por nome do restaurante\n",
    "df.set_index('Name', inplace=True)\n",
    "\n",
    "# Salvando os índices como series\n",
    "indices = pd.Series(df.index)\n",
    "\n",
    "# Criando uma matriz tf-idf\n",
    "# Mais info: https://scikit-learn.org/stable/modules/generated/sklearn.feature_extraction.text.TfidfVectorizer.html\n",
    "tfidf = TfidfVectorizer(analyzer='word', ngram_range=(1, 2), min_df=0, stop_words='english')\n",
    "tfidf_matrix = tfidf.fit_transform(df['Review'])\n",
    "\n",
    "# Calculando a similaridade de cosseno\n",
    "# O linear_kernel é usado quando os dados são separáveis linearmente, ou seja, podem ser separados usando uma única Linha. \n",
    "# É um dos kernels mais comuns a serem usados. É usado principalmente quando há um grande número de recursos em um determinado conjunto de dados\n",
    "cosine_similarities = linear_kernel(tfidf_matrix, tfidf_matrix)"
   ]
  },
  {
   "cell_type": "markdown",
   "metadata": {},
   "source": [
    "## Criando o sistema de recomendação"
   ]
  },
  {
   "cell_type": "code",
   "execution_count": null,
   "metadata": {},
   "outputs": [],
   "source": [
    "def recommend(name, cosine_similarities = cosine_similarities):\n",
    "    \n",
    "    # Criar uma lista para por os 10 restaurantes recomendados\n",
    "    recommend_restaurant = []\n",
    "    \n",
    "    # Fixar o índice do hotel inserido\n",
    "    idx = indices[indices == name].index[0]\n",
    "    \n",
    "    # Encontrar os restaurantes com um valor de cosseno semelhante e ordená-los-os do maior para o menor\n",
    "    score_series = pd.Series(cosine_similarities[idx]).sort_values(ascending=False)\n",
    "    \n",
    "    # Extrair os 30 principais índices de restaurantes com um valor de cosseno semelhante\n",
    "    top30_indexes = list(score_series.iloc[0:31].index)\n",
    "    \n",
    "    # Nomes dos top 30 restaurantes\n",
    "    for each in top30_indexes:\n",
    "        recommend_restaurant.append(list(df.index)[each])\n",
    "    \n",
    "    # Criar o novo conjunto de dados para mostrar os restaurantes semelhantes\n",
    "    df_new = pd.DataFrame(columns=['Cuisines', 'Mean Rating', 'Cost', 'Timings'])\n",
    "    \n",
    "    # Criar um dataframe com 30 melhores restaurantes semelhantes com algumas de suas colunas\n",
    "    for each in recommend_restaurant:\n",
    "        df_new = df_new.append(pd.DataFrame(df[['Cuisines','Mean Rating', 'Cost', 'Timings']][df.index == each].sample()))\n",
    "    \n",
    "    # Eliminar os restaurantes com o mesmo nome e classificar apenas os 10 primeiros pela classificação mais alta\n",
    "    df_new = df_new.drop_duplicates(subset=['Cuisines','Mean Rating', 'Cost'], keep=False)\n",
    "    df_new = df_new.sort_values(by='Mean Rating', ascending=False).head(10)\n",
    "    \n",
    "    print('Top %s restaurantes como %s com avaliações similares: ' % (str(len(df_new)), name))\n",
    "    \n",
    "    return df_new"
   ]
  },
  {
   "cell_type": "markdown",
   "metadata": {},
   "source": [
    "## Testando nosso sistema de recomendação\n",
    "\n",
    "## 1. Exemplo:"
   ]
  },
  {
   "cell_type": "code",
   "execution_count": null,
   "metadata": {},
   "outputs": [],
   "source": [
    "# AQUI ESTÁ UM RESTAURANTE ALEATÓRIO. VAMOS VER OS DETALHES SOBRE ESSE RESTAURANTE:\n",
    "df[df.index == 'Hyderabadi Daawat'].head(1)"
   ]
  },
  {
   "cell_type": "code",
   "execution_count": null,
   "metadata": {},
   "outputs": [],
   "source": [
    "# VAMOS VER O QUE O ALGORITMO NOS RECOMENDA\n",
    "recommend('Hyderabadi Daawat')"
   ]
  },
  {
   "cell_type": "markdown",
   "metadata": {},
   "source": [
    "## 2. Exemplo:"
   ]
  },
  {
   "cell_type": "code",
   "execution_count": null,
   "metadata": {},
   "outputs": [],
   "source": [
    "# AQUI VAMOS PROVAR UMA PADARIA. VAMOS VER OS DETALHES SOBRE ESSE ESTABELECIMENTO:\n",
    "df[df.index == 'Labonel'].head(1)"
   ]
  },
  {
   "cell_type": "code",
   "execution_count": null,
   "metadata": {},
   "outputs": [],
   "source": [
    "# VAMOS VER O QUE O ALGORITMO NOS RECOMENDA\n",
    "recommend('Labonel')"
   ]
  },
  {
   "cell_type": "markdown",
   "metadata": {},
   "source": [
    "## 3. Exemplo:"
   ]
  },
  {
   "cell_type": "code",
   "execution_count": null,
   "metadata": {},
   "outputs": [],
   "source": [
    "# AQUI ESTÁ UM RESTAURANTE MEDITERRÂNEO / NORTE DA ÍNDIA / KEBAB / CHURRASCO. VAMOS VER OS DETALHES SOBRE ESSE RESTAURANTE:\n",
    "df[df.index == 'Barbeque Nation'].sample(1)"
   ]
  },
  {
   "cell_type": "code",
   "execution_count": null,
   "metadata": {},
   "outputs": [],
   "source": [
    "# VAMOS VER O QUE O ALGORITMO NOS RECOMENDA\n",
    "recommend('Barbeque Nation')"
   ]
  },
  {
   "cell_type": "markdown",
   "metadata": {},
   "source": [
    "### Isso é tudo. Espero que tenham gostado :)"
   ]
  }
 ],
 "metadata": {
  "kernelspec": {
   "display_name": "Python 3",
   "language": "python",
   "name": "python3"
  },
  "language_info": {
   "codemirror_mode": {
    "name": "ipython",
    "version": 3
   },
   "file_extension": ".py",
   "mimetype": "text/x-python",
   "name": "python",
   "nbconvert_exporter": "python",
   "pygments_lexer": "ipython3",
   "version": "3.8.5"
  }
 },
 "nbformat": 4,
 "nbformat_minor": 4
}
