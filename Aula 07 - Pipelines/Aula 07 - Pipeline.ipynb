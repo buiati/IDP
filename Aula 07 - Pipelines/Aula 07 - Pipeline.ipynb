{
 "cells": [
  {
   "cell_type": "markdown",
   "metadata": {},
   "source": [
    "<img src=\"../idp.jpg\">"
   ]
  },
  {
   "cell_type": "markdown",
   "metadata": {},
   "source": [
    "# <p style=\"background-color:#2F5597;font-family:newtimeroman;color:#FFF9ED;font-size:150%;text-align:center;border-radius:10px 10px;\">Aula 7 - Pipeline</p>"
   ]
  },
  {
   "cell_type": "markdown",
   "metadata": {},
   "source": [
    "## Objetivo do trabalho\n",
    "\n",
    "Utilizar os conceitos de pipeline do sklearn e melhorar a legibilidade e manuntenção dos seus códigos de machine learning\n"
   ]
  },
  {
   "cell_type": "markdown",
   "metadata": {},
   "source": [
    "## Fonte de dados\n",
    "\n",
    "Link dos dados: https://www.kaggle.com/competitions/house-prices-advanced-regression-techniques/data\n",
    "\n",
    "Prever o valor de um imóvel não depende somente do bairro, da localização e do número de quartos. Envolve muito mais variáveis. \n",
    "Com 79 variáveis explicativas que descrevem (quase) todos os aspectos das casas residenciais em Ames, Iowa, esta competição desafia você a prever o preço final de cada casa.\n",
    "\n",
    "A ideia deste notebook não é fazer uma regressão para adivinhar o preço da casa, mas sim aprender a trabalhar com o pipeline do sklearn. Mais info em: https://scikit-learn.org/stable/modules/generated/sklearn.pipeline.Pipeline.html  "
   ]
  },
  {
   "cell_type": "markdown",
   "metadata": {},
   "source": [
    "<img src=\"house.png\">"
   ]
  },
  {
   "cell_type": "markdown",
   "metadata": {},
   "source": [
    "## Como funciona o pipeline do sklearn?"
   ]
  },
  {
   "cell_type": "markdown",
   "metadata": {},
   "source": [
    "A classe Pipeline é uma funcionalidade do Scikit-Learn que ajuda criar códigos que possuam um padrão que possa ser facilmente entendido e compartilhando entre times de cientistas e engenheiros de dados.\n",
    "\n",
    "Códigos de machine-learning são melhores escritos através de pipelines, que em essência fazem o output de uma dada transformação nos dados se tornarem o input para uma outra transformação que será aplicada nos dados."
   ]
  },
  {
   "cell_type": "markdown",
   "metadata": {},
   "source": [
    "<img src=\"pipeline.jpg\">"
   ]
  },
  {
   "cell_type": "code",
   "execution_count": null,
   "metadata": {
    "_cell_guid": "b1076dfc-b9ad-4769-8c92-a6c4dae69d19",
    "_uuid": "8f2839f25d086af736a60e9eeb907d3b93b6e0e5",
    "execution": {
     "iopub.execute_input": "2021-02-03T10:54:09.540156Z",
     "iopub.status.busy": "2021-02-03T10:54:09.539436Z",
     "iopub.status.idle": "2021-02-03T10:54:09.544580Z",
     "shell.execute_reply": "2021-02-03T10:54:09.545711Z"
    },
    "papermill": {
     "duration": 0.026895,
     "end_time": "2021-02-03T10:54:09.546262",
     "exception": false,
     "start_time": "2021-02-03T10:54:09.519367",
     "status": "completed"
    },
    "tags": []
   },
   "outputs": [],
   "source": [
    "# Importando as bibliotecas\n",
    "\n",
    "import numpy as np \n",
    "import pandas as pd"
   ]
  },
  {
   "cell_type": "markdown",
   "metadata": {
    "papermill": {
     "duration": 0.012061,
     "end_time": "2021-02-03T10:54:09.572998",
     "exception": false,
     "start_time": "2021-02-03T10:54:09.560937",
     "status": "completed"
    },
    "tags": []
   },
   "source": [
    "## Lendo os datasets de treino e teste"
   ]
  },
  {
   "cell_type": "code",
   "execution_count": null,
   "metadata": {
    "execution": {
     "iopub.execute_input": "2021-02-03T10:54:09.601929Z",
     "iopub.status.busy": "2021-02-03T10:54:09.601128Z",
     "iopub.status.idle": "2021-02-03T10:54:09.695083Z",
     "shell.execute_reply": "2021-02-03T10:54:09.694358Z"
    },
    "papermill": {
     "duration": 0.109645,
     "end_time": "2021-02-03T10:54:09.695264",
     "exception": false,
     "start_time": "2021-02-03T10:54:09.585619",
     "status": "completed"
    },
    "tags": []
   },
   "outputs": [],
   "source": [
    "df_train = pd.read_csv('train.csv')\n",
    "df_test = pd.read_csv('test.csv')"
   ]
  },
  {
   "cell_type": "code",
   "execution_count": null,
   "metadata": {},
   "outputs": [],
   "source": [
    "# Verificando o shape do dataset\n",
    "df_train.shape"
   ]
  },
  {
   "cell_type": "code",
   "execution_count": null,
   "metadata": {},
   "outputs": [],
   "source": [
    "df_test.shape"
   ]
  },
  {
   "cell_type": "markdown",
   "metadata": {
    "papermill": {
     "duration": 0.012935,
     "end_time": "2021-02-03T10:54:09.721313",
     "exception": false,
     "start_time": "2021-02-03T10:54:09.708378",
     "status": "completed"
    },
    "tags": []
   },
   "source": [
    "## Limpeza de valores nulos"
   ]
  },
  {
   "cell_type": "code",
   "execution_count": null,
   "metadata": {},
   "outputs": [],
   "source": [
    "df_train.isna().sum()"
   ]
  },
  {
   "cell_type": "code",
   "execution_count": null,
   "metadata": {},
   "outputs": [],
   "source": [
    "df_test.isna().sum()"
   ]
  },
  {
   "cell_type": "code",
   "execution_count": null,
   "metadata": {
    "execution": {
     "iopub.execute_input": "2021-02-03T10:54:09.768018Z",
     "iopub.status.busy": "2021-02-03T10:54:09.767311Z",
     "iopub.status.idle": "2021-02-03T10:54:09.816143Z",
     "shell.execute_reply": "2021-02-03T10:54:09.816698Z"
    },
    "papermill": {
     "duration": 0.082855,
     "end_time": "2021-02-03T10:54:09.816904",
     "exception": false,
     "start_time": "2021-02-03T10:54:09.734049",
     "status": "completed"
    },
    "tags": []
   },
   "outputs": [],
   "source": [
    "df_train.drop(['Alley', 'PoolQC', 'Fence', 'MiscFeature'], axis=1)\n",
    "df_test.drop(['Alley', 'PoolQC', 'Fence', 'MiscFeature'], axis=1)"
   ]
  },
  {
   "cell_type": "markdown",
   "metadata": {
    "papermill": {
     "duration": 0.013177,
     "end_time": "2021-02-03T10:54:09.844060",
     "exception": false,
     "start_time": "2021-02-03T10:54:09.830883",
     "status": "completed"
    },
    "tags": []
   },
   "source": [
    "## Dividindo o dataset em treino e teste"
   ]
  },
  {
   "cell_type": "code",
   "execution_count": null,
   "metadata": {
    "execution": {
     "iopub.execute_input": "2021-02-03T10:54:09.879926Z",
     "iopub.status.busy": "2021-02-03T10:54:09.878833Z",
     "iopub.status.idle": "2021-02-03T10:54:09.886023Z",
     "shell.execute_reply": "2021-02-03T10:54:09.885432Z"
    },
    "papermill": {
     "duration": 0.027835,
     "end_time": "2021-02-03T10:54:09.886185",
     "exception": false,
     "start_time": "2021-02-03T10:54:09.858350",
     "status": "completed"
    },
    "tags": []
   },
   "outputs": [],
   "source": [
    "X_train = df_train.iloc[:, 1:-1] # ignora a coluna Id e Sale_price\n",
    "X_test = df_test.iloc[:, 1:] # ignora a coluna Id\n",
    "y_train = df_train.iloc[:, -1] # Apenas a coluna Sale_price"
   ]
  },
  {
   "cell_type": "code",
   "execution_count": null,
   "metadata": {
    "execution": {
     "iopub.execute_input": "2021-02-03T10:54:09.919796Z",
     "iopub.status.busy": "2021-02-03T10:54:09.918926Z",
     "iopub.status.idle": "2021-02-03T10:54:09.922024Z",
     "shell.execute_reply": "2021-02-03T10:54:09.922616Z"
    },
    "papermill": {
     "duration": 0.02284,
     "end_time": "2021-02-03T10:54:09.922830",
     "exception": false,
     "start_time": "2021-02-03T10:54:09.899990",
     "status": "completed"
    },
    "tags": []
   },
   "outputs": [],
   "source": [
    "print(X_train.shape)\n",
    "print(X_test.shape)\n",
    "print(y_train.shape)"
   ]
  },
  {
   "cell_type": "code",
   "execution_count": null,
   "metadata": {},
   "outputs": [],
   "source": [
    "y_train"
   ]
  },
  {
   "cell_type": "markdown",
   "metadata": {
    "papermill": {
     "duration": 0.014126,
     "end_time": "2021-02-03T10:54:09.952025",
     "exception": false,
     "start_time": "2021-02-03T10:54:09.937899",
     "status": "completed"
    },
    "tags": []
   },
   "source": [
    "## Selecione as colunas numéricas e categóricas"
   ]
  },
  {
   "cell_type": "code",
   "execution_count": null,
   "metadata": {
    "execution": {
     "iopub.execute_input": "2021-02-03T10:54:09.984462Z",
     "iopub.status.busy": "2021-02-03T10:54:09.983749Z",
     "iopub.status.idle": "2021-02-03T10:54:09.991106Z",
     "shell.execute_reply": "2021-02-03T10:54:09.990587Z"
    },
    "papermill": {
     "duration": 0.024787,
     "end_time": "2021-02-03T10:54:09.991285",
     "exception": false,
     "start_time": "2021-02-03T10:54:09.966498",
     "status": "completed"
    },
    "tags": []
   },
   "outputs": [],
   "source": [
    "num_features = X_train.dtypes[X_train.dtypes!='object'].index\n",
    "cat_features = X_train.dtypes[X_train.dtypes=='object'].index"
   ]
  },
  {
   "cell_type": "markdown",
   "metadata": {
    "papermill": {
     "duration": 0.013793,
     "end_time": "2021-02-03T10:54:10.021186",
     "exception": false,
     "start_time": "2021-02-03T10:54:10.007393",
     "status": "completed"
    },
    "tags": []
   },
   "source": [
    "## Criar os transformers e o modelo"
   ]
  },
  {
   "cell_type": "code",
   "execution_count": null,
   "metadata": {
    "execution": {
     "iopub.execute_input": "2021-02-03T10:54:10.057626Z",
     "iopub.status.busy": "2021-02-03T10:54:10.056873Z",
     "iopub.status.idle": "2021-02-03T10:54:11.464863Z",
     "shell.execute_reply": "2021-02-03T10:54:11.463641Z"
    },
    "papermill": {
     "duration": 1.429755,
     "end_time": "2021-02-03T10:54:11.465048",
     "exception": false,
     "start_time": "2021-02-03T10:54:10.035293",
     "status": "completed"
    },
    "tags": []
   },
   "outputs": [],
   "source": [
    "from sklearn.impute import SimpleImputer\n",
    "from sklearn.compose import ColumnTransformer\n",
    "from sklearn.pipeline import Pipeline\n",
    "from sklearn.preprocessing import OneHotEncoder\n",
    "from sklearn.ensemble import RandomForestRegressor\n",
    "\n",
    "# Definindo o transformer para as variáveis numéricas\n",
    "numerical_transformer = SimpleImputer(strategy='mean')\n",
    "\n",
    "# Definindo o transformer para as variáveis categóricas\n",
    "categorical_transformer = Pipeline(steps=[('imputer', SimpleImputer(strategy='most_frequent')), \n",
    "                                          ('onehot', OneHotEncoder(sparse=False, handle_unknown='ignore'))])\n",
    "\n",
    "\n",
    "\n",
    "preprocessor = ColumnTransformer(transformers=[('numerical', numerical_transformer, num_features),\n",
    "                                               ('categorical', categorical_transformer, cat_features)],\n",
    "                                 remainder='passthrough')\n",
    "# By specifying remainder='passthrough' , all remaining columns that were not specified in transformers will be automatically passed through. This subset of columns is concatenated with the output of the transformers.\n",
    "\n",
    "# Setando o modelo /  estimador\n",
    "model = RandomForestRegressor(n_estimators=1500)"
   ]
  },
  {
   "cell_type": "markdown",
   "metadata": {
    "papermill": {
     "duration": 0.014159,
     "end_time": "2021-02-03T10:54:11.494001",
     "exception": false,
     "start_time": "2021-02-03T10:54:11.479842",
     "status": "completed"
    },
    "tags": []
   },
   "source": [
    "## Criando efetivamente o pipeline e realizando .fit"
   ]
  },
  {
   "cell_type": "code",
   "execution_count": null,
   "metadata": {
    "execution": {
     "iopub.execute_input": "2021-02-03T10:54:11.536357Z",
     "iopub.status.busy": "2021-02-03T10:54:11.535191Z",
     "iopub.status.idle": "2021-02-03T10:55:07.571369Z",
     "shell.execute_reply": "2021-02-03T10:55:07.571873Z"
    },
    "papermill": {
     "duration": 56.062838,
     "end_time": "2021-02-03T10:55:07.572067",
     "exception": false,
     "start_time": "2021-02-03T10:54:11.509229",
     "status": "completed"
    },
    "tags": []
   },
   "outputs": [],
   "source": [
    "my_pipeline = Pipeline(steps=[('preprocessor', preprocessor), \n",
    "                              ('model', model)])\n",
    "\n",
    "my_pipeline.fit(X_train, y_train)"
   ]
  },
  {
   "cell_type": "markdown",
   "metadata": {
    "papermill": {
     "duration": 0.014613,
     "end_time": "2021-02-03T10:55:07.601350",
     "exception": false,
     "start_time": "2021-02-03T10:55:07.586737",
     "status": "completed"
    },
    "tags": []
   },
   "source": [
    "## Fazendo a predição"
   ]
  },
  {
   "cell_type": "code",
   "execution_count": null,
   "metadata": {
    "execution": {
     "iopub.execute_input": "2021-02-03T10:55:07.640600Z",
     "iopub.status.busy": "2021-02-03T10:55:07.639565Z",
     "iopub.status.idle": "2021-02-03T10:55:08.205937Z",
     "shell.execute_reply": "2021-02-03T10:55:08.205258Z"
    },
    "papermill": {
     "duration": 0.589897,
     "end_time": "2021-02-03T10:55:08.206082",
     "exception": false,
     "start_time": "2021-02-03T10:55:07.616185",
     "status": "completed"
    },
    "tags": []
   },
   "outputs": [],
   "source": [
    "y_pred = my_pipeline.predict(X_test)"
   ]
  },
  {
   "cell_type": "code",
   "execution_count": null,
   "metadata": {
    "execution": {
     "iopub.execute_input": "2021-02-03T10:55:08.240972Z",
     "iopub.status.busy": "2021-02-03T10:55:08.240311Z",
     "iopub.status.idle": "2021-02-03T10:55:08.244804Z",
     "shell.execute_reply": "2021-02-03T10:55:08.245319Z"
    },
    "papermill": {
     "duration": 0.024671,
     "end_time": "2021-02-03T10:55:08.245527",
     "exception": false,
     "start_time": "2021-02-03T10:55:08.220856",
     "status": "completed"
    },
    "tags": []
   },
   "outputs": [],
   "source": [
    "y_pred"
   ]
  },
  {
   "cell_type": "markdown",
   "metadata": {
    "papermill": {
     "duration": 0.014995,
     "end_time": "2021-02-03T10:55:08.275778",
     "exception": false,
     "start_time": "2021-02-03T10:55:08.260783",
     "status": "completed"
    },
    "tags": []
   },
   "source": [
    "## Gerando a saída com as predições dos valores dos imóveis"
   ]
  },
  {
   "cell_type": "code",
   "execution_count": null,
   "metadata": {
    "execution": {
     "iopub.execute_input": "2021-02-03T10:55:08.312216Z",
     "iopub.status.busy": "2021-02-03T10:55:08.311603Z",
     "iopub.status.idle": "2021-02-03T10:55:08.325703Z",
     "shell.execute_reply": "2021-02-03T10:55:08.324921Z"
    },
    "papermill": {
     "duration": 0.03472,
     "end_time": "2021-02-03T10:55:08.325858",
     "exception": false,
     "start_time": "2021-02-03T10:55:08.291138",
     "status": "completed"
    },
    "tags": []
   },
   "outputs": [],
   "source": [
    "output = pd.DataFrame({'Id': df_test.Id,\n",
    "                       'Preço oficial': y_train.iloc[:-1].round(),\n",
    "                      'Preço estimado': y_pred.round()})"
   ]
  },
  {
   "cell_type": "code",
   "execution_count": null,
   "metadata": {
    "execution": {
     "iopub.execute_input": "2021-02-03T10:55:08.368891Z",
     "iopub.status.busy": "2021-02-03T10:55:08.368231Z",
     "iopub.status.idle": "2021-02-03T10:55:08.372262Z",
     "shell.execute_reply": "2021-02-03T10:55:08.372773Z"
    },
    "papermill": {
     "duration": 0.031164,
     "end_time": "2021-02-03T10:55:08.372960",
     "exception": false,
     "start_time": "2021-02-03T10:55:08.341796",
     "status": "completed"
    },
    "tags": []
   },
   "outputs": [],
   "source": [
    "output"
   ]
  },
  {
   "cell_type": "markdown",
   "metadata": {
    "papermill": {
     "duration": 0.015748,
     "end_time": "2021-02-03T10:55:08.405037",
     "exception": false,
     "start_time": "2021-02-03T10:55:08.389289",
     "status": "completed"
    },
    "tags": []
   },
   "source": [
    "## Fim"
   ]
  }
 ],
 "metadata": {
  "kernelspec": {
   "display_name": "Python 3",
   "language": "python",
   "name": "python3"
  },
  "language_info": {
   "codemirror_mode": {
    "name": "ipython",
    "version": 3
   },
   "file_extension": ".py",
   "mimetype": "text/x-python",
   "name": "python",
   "nbconvert_exporter": "python",
   "pygments_lexer": "ipython3",
   "version": "3.8.5"
  },
  "papermill": {
   "default_parameters": {},
   "duration": 65.62983,
   "end_time": "2021-02-03T10:55:09.131070",
   "environment_variables": {},
   "exception": null,
   "input_path": "__notebook__.ipynb",
   "output_path": "__notebook__.ipynb",
   "parameters": {},
   "start_time": "2021-02-03T10:54:03.501240",
   "version": "2.2.2"
  }
 },
 "nbformat": 4,
 "nbformat_minor": 4
}
