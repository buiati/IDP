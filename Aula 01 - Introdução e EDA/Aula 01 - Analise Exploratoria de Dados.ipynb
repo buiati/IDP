{
 "cells": [
  {
   "cell_type": "markdown",
   "metadata": {},
   "source": [
   
   ]
  },
  {
   "cell_type": "markdown",
   "metadata": {},
   "source": [
    "<a id='1'></a>\n",
    "# <p style=\"background-color:#2F5597; text-font:white; font-family:newtimeroman; font-size:120%; text-align:center\"><span style=\"color:white\">📚 AULA 1 - ANÁLISE EXPLORATÓRIA DE DADOS </span></p>\n"
   ]
  },
  {
   "cell_type": "markdown",
   "metadata": {
    "papermill": {
     "duration": 0.031287,
     "end_time": "2021-04-29T20:00:57.360091",
     "exception": false,
     "start_time": "2021-04-29T20:00:57.328804",
     "status": "completed"
    },
    "tags": []
   },
   "source": [
    "Neste notebook vamos comparar duas principais bibliotecas automáticas de EDA que realmente facilitam a análise e visualização do conjunto de dados!\n",
    "\n",
    "A ideia principal é que você possa comparar o tempo de execução e os resultados de cada biblioteca para selecionar a melhor para o seu trabalho.\n",
    "\n",
    "Vamos trabalhar com as seguintes bibliotecas de EDA:\n",
    "- **Dataprep**: https://dataprep.ai/\n",
    "- **Pandas Profiling**: https://github.com/ydataai/pandas-profiling\n",
    "\n",
    "-------------------"
   ]
  },
  {
   "cell_type": "markdown",
   "metadata": {},
   "source": [
    "Vamos seguir o modelo CRISP-DM para a construção do nosso projeto. Nessa aula, daremos foco nas etapas 2 (Data Understaning) e 3 (Data Preparation), realizando uma primeira análise exploratória, tentando entender com mais detalhes o comportamento do nosso conjunto de dados, verificar sua qualidade e pensar em algumas ações a serem tomadas.\n",
    "\n",
    "Um ponto interessante sobre esse modelo é que algumas empresas incluem uma Etapa 0, de avaliação da necessidade. Ou seja, a equipe de cientistas de dados, juntamente com a equipe da área de negócios, discute sobre a necessidade e viabilidade do projeto. Dessa forma, os projetos são priorizados de acordo com os objetivos estratégicos da companhia.\n",
    "\n"
 
   ]
  },
  {
   "cell_type": "markdown",
   "metadata": {
    "papermill": {
     "duration": 0.032867,
     "end_time": "2021-04-29T20:00:57.423947",
     "exception": false,
     "start_time": "2021-04-29T20:00:57.391080",
     "status": "completed"
    },
    "tags": []
   },
   "source": [
    "<a id='1'></a>\n",
    "# <p style=\"background-color:#2F5597; text-font:white; font-family:newtimeroman; font-size:120%; text-align:center\"><span style=\"color:white\">📚 1 - DATAPREP</span></p>\n"
   ]
  },
  {
   "cell_type": "markdown",
   "metadata": {},
   "source": [
    "A Análise Exploratória de Dados (EDA) é o processo de explorar um conjunto de dados e obter uma compreensão de suas principais características. O pacote dataprep.eda simplifica esse processo, permitindo que o usuário explore características importantes com APIs simples. Cada API permite que o usuário analise o conjunto de dados de um nível alto a um nível baixo e de diferentes perspectivas.\n",
    "\n",
    "Antes de executarmos o Dataprep, vamos dar uma olhada em suas principais funções:\n",
    "    \n",
    "- **plot()**: analyze distributions\n",
    "- **plot_correlation()**: analyze correlations\n",
    "- **plot_missing()**: analyze missing values\n",
    "- **plot_diff()**: analyze difference betweenDataFrames\n",
    "- **create_report()**: create a profile report\n",
    "\n",
    "Você pode encontrar mais informações das funções em https://docs.dataprep.ai/user_guide/eda/introduction.html#userguide-eda"
   ]
  },
  {
   "cell_type": "code",
   "execution_count": null,
   "metadata": {
    "_kg_hide-input": true,
    "_kg_hide-output": true,
    "execution": {
     "iopub.execute_input": "2021-04-29T20:00:57.268634Z",
     "iopub.status.busy": "2021-04-29T20:00:57.267937Z",
     "iopub.status.idle": "2021-04-29T20:00:57.292335Z",
     "shell.execute_reply": "2021-04-29T20:00:57.293237Z"
    },
    "papermill": {
     "duration": 0.061493,
     "end_time": "2021-04-29T20:00:57.293484",
     "exception": false,
     "start_time": "2021-04-29T20:00:57.231991",
     "status": "completed"
    },
    "tags": []
   },
   "outputs": [],
   "source": [
    "# Importando as bibliotecas básicas de manipulação de dados\n",
    "import datetime as dt\n",
    "import pandas as pd\n",
    "import os"
   ]
  },
  {
   "cell_type": "code",
   "execution_count": null,
   "metadata": {
    "execution": {
     "iopub.execute_input": "2021-04-29T20:01:15.259575Z",
     "iopub.status.busy": "2021-04-29T20:01:15.258875Z",
     "iopub.status.idle": "2021-04-29T20:01:18.050213Z",
     "shell.execute_reply": "2021-04-29T20:01:18.049623Z"
    },
    "papermill": {
     "duration": 2.852596,
     "end_time": "2021-04-29T20:01:18.050369",
     "exception": false,
     "start_time": "2021-04-29T20:01:15.197773",
     "status": "completed"
    },
    "tags": []
   },
   "outputs": [],
   "source": [
    "# Importando o dataprep e suas funções principais\n",
    "from dataprep.eda import plot, plot_correlation, create_report, plot_missing"
   ]
  },
  {
   "cell_type": "code",
   "execution_count": null,
   "metadata": {
    "execution": {
     "iopub.execute_input": "2021-04-29T20:01:18.297476Z",
     "iopub.status.busy": "2021-04-29T20:01:18.296824Z",
     "iopub.status.idle": "2021-04-29T20:01:18.324873Z",
     "shell.execute_reply": "2021-04-29T20:01:18.324128Z"
    },
    "papermill": {
     "duration": 0.151597,
     "end_time": "2021-04-29T20:01:18.325033",
     "exception": false,
     "start_time": "2021-04-29T20:01:18.173436",
     "status": "completed"
    },
    "tags": []
   },
   "outputs": [],
   "source": [
    "# Leitura de um arquivo exemplo, que se encontra disponível aqui no Github.\n",
    "\n",
    "df = pd.read_csv('marketing_campaign.csv', sep=\"\\t\")"
   ]
  },
  {
   "cell_type": "code",
   "execution_count": null,
   "metadata": {},
   "outputs": [],
   "source": [
    "# Visualizando as colunas e alguns registros do dataframe\n",
    "df.head()"
   ]
  },
  {
   "cell_type": "code",
   "execution_count": null,
   "metadata": {},
   "outputs": [],
   "source": [
    "# Visualizando a estrutura do dataframe\n",
    "df.shape"
   ]
  },
  {
   "cell_type": "code",
   "execution_count": null,
   "metadata": {
    "execution": {
     "iopub.execute_input": "2021-04-29T20:01:18.832254Z",
     "iopub.status.busy": "2021-04-29T20:01:18.831440Z",
     "iopub.status.idle": "2021-04-29T20:01:20.287204Z",
     "shell.execute_reply": "2021-04-29T20:01:20.287747Z"
    },
    "papermill": {
     "duration": 1.582819,
     "end_time": "2021-04-29T20:01:20.287923",
     "exception": false,
     "start_time": "2021-04-29T20:01:18.705104",
     "status": "completed"
    },
    "scrolled": false,
    "tags": []
   },
   "outputs": [],
   "source": [
    "# Utilizando o método plot para construção do relatório EDA de forma automática\n",
    "plot(df)"
   ]
  },
  {
   "cell_type": "code",
   "execution_count": null,
   "metadata": {
    "execution": {
     "iopub.execute_input": "2021-04-29T20:01:20.624614Z",
     "iopub.status.busy": "2021-04-29T20:01:20.622976Z",
     "iopub.status.idle": "2021-04-29T20:01:26.822538Z",
     "shell.execute_reply": "2021-04-29T20:01:26.550631Z"
    },
    "papermill": {
     "duration": 6.368688,
     "end_time": "2021-04-29T20:01:26.822747",
     "exception": false,
     "start_time": "2021-04-29T20:01:20.454059",
     "status": "completed"
    },
    "scrolled": true,
    "tags": []
   },
   "outputs": [],
   "source": [
    "create_report(df)"
   ]
  },
  {
   "cell_type": "code",
   "execution_count": null,
   "metadata": {
    "execution": {
     "iopub.execute_input": "2021-04-29T20:01:27.795529Z",
     "iopub.status.busy": "2021-04-29T20:01:27.746116Z",
     "iopub.status.idle": "2021-04-29T20:01:28.227130Z",
     "shell.execute_reply": "2021-04-29T20:01:28.227668Z"
    },
    "papermill": {
     "duration": 0.949045,
     "end_time": "2021-04-29T20:01:28.227850",
     "exception": false,
     "start_time": "2021-04-29T20:01:27.278805",
     "status": "completed"
    },
    "scrolled": false,
    "tags": []
   },
   "outputs": [],
   "source": [
    "plot(df, \"Income\")"
   ]
  },
  {
   "cell_type": "markdown",
   "metadata": {
    "papermill": {
     "duration": 0.784354,
     "end_time": "2021-04-29T20:19:18.659205",
     "exception": false,
     "start_time": "2021-04-29T20:19:17.874851",
     "status": "completed"
    },
    "tags": []
   },
   "source": [
    "<a id='2'></a>\n",
    "# <p style=\"background-color:skyblue; font-family:newtimeroman; font-size:150%; text-align:center\">2. 📊 Pandas Profiling 📚</p>"
   ]
  },
  {
   "cell_type": "markdown",
   "metadata": {},
   "source": [
    "**Pandas Profiling** gera relatórios de perfil de um DataFrame pandas. A função pandas df.describe() é útil, mas um pouco básica para análise exploratória de dados. A biblioteca pandas-profiling estende o DataFrame do pandas com df.profile_report(), que gera automaticamente um relatório univariado e multivariado padronizado para compreensão dos dados.\n",
    "\n",
    "O relatório contém três seções principais:\n",
    "\n",
    "**Visão geral**: detalhes globais sobre o conjunto de dados (número de registros, número de variáveis, dados duplicados e dados ausentes, espaço de memória)\n",
    "\n",
    "**Alertas**: uma lista abrangente e automática de possíveis problemas de qualidade de dados (alta correlação, assimetria, uniformidade, zeros, valores ausentes, valores constantes, entre outros)\n",
    "\n",
    "**Reprodução**: detalhes técnicos sobre a análise (tempo, versão e configuração)"
   ]
  },
  {
   "cell_type": "code",
   "execution_count": null,
   "metadata": {
    "execution": {
     "iopub.execute_input": "2021-04-29T20:19:20.262371Z",
     "iopub.status.busy": "2021-04-29T20:19:20.261525Z",
     "iopub.status.idle": "2021-04-29T20:19:21.464709Z",
     "shell.execute_reply": "2021-04-29T20:19:21.463171Z"
    },
    "papermill": {
     "duration": 2.000555,
     "end_time": "2021-04-29T20:19:21.464919",
     "exception": false,
     "start_time": "2021-04-29T20:19:19.464364",
     "status": "completed"
    },
    "tags": []
   },
   "outputs": [],
   "source": [
    "# Importando o Pandas Profiling\n",
    "from pandas_profiling import ProfileReport"
   ]
  },
  {
   "cell_type": "code",
   "execution_count": null,
   "metadata": {
    "_kg_hide-output": true,
    "execution": {
     "iopub.execute_input": "2021-04-29T20:19:23.175495Z",
     "iopub.status.busy": "2021-04-29T20:19:23.174765Z",
     "iopub.status.idle": "2021-04-29T20:19:23.257707Z",
     "shell.execute_reply": "2021-04-29T20:19:23.257177Z"
    },
    "papermill": {
     "duration": 0.865574,
     "end_time": "2021-04-29T20:19:23.257852",
     "exception": false,
     "start_time": "2021-04-29T20:19:22.392278",
     "status": "completed"
    },
    "tags": []
   },
   "outputs": [],
   "source": [
    "# Lendo a base de dados\n",
    "df = pd.read_csv('BankChurners.csv')"
   ]
  },
  {
   "cell_type": "code",
   "execution_count": null,
   "metadata": {
    "execution": {
     "iopub.execute_input": "2021-04-29T20:19:26.398479Z",
     "iopub.status.busy": "2021-04-29T20:19:26.393186Z",
     "iopub.status.idle": "2021-04-29T20:19:26.433102Z",
     "shell.execute_reply": "2021-04-29T20:19:26.432521Z"
    },
    "papermill": {
     "duration": 0.825992,
     "end_time": "2021-04-29T20:19:26.433281",
     "exception": false,
     "start_time": "2021-04-29T20:19:25.607289",
     "status": "completed"
    },
    "tags": []
   },
   "outputs": [],
   "source": [
    "# Construindo o relatório automático de análise exploratória\n",
    "report = ProfileReport(df)\n",
    "report"
   ]
  },
  {
   "cell_type": "code",
   "execution_count": null,
   "metadata": {},
   "outputs": [],
   "source": [
    "# Caso deseje salvar o relatório em um arquivo HTML\n",
    "report.to_file('output.html')"
   ]
  },
  {
   "cell_type": "markdown",
   "metadata": {
    "papermill": {
     "duration": 2.084377,
     "end_time": "2021-04-29T20:23:26.507029",
     "exception": false,
     "start_time": "2021-04-29T20:23:24.422652",
     "status": "completed"
    },
    "tags": []
   },
   "source": [
    "# Referências\n",
    "\n",
    "\n",
    "* DataPrep - https://sfu-db.github.io/dataprep/user_guide/eda/plot.html\n",
    "* Pandas Profiling GitHub - https://github.com/pandas-profiling/pandas-profiling\n",
    "* George Vyshnya, PROs and CONs of Rapid EDA Tools - https://medium.com/sbc-group-blog/pros-and-cons-of-rapid-eda-tools-e1ccd159ab07\n"
   ]
  }
 ],
 "metadata": {
  "kernelspec": {
   "display_name": "Python 3",
   "language": "python",
   "name": "python3"
  },
  "language_info": {
   "codemirror_mode": {
    "name": "ipython",
    "version": 3
   },
   "file_extension": ".py",
   "mimetype": "text/x-python",
   "name": "python",
   "nbconvert_exporter": "python",
   "pygments_lexer": "ipython3",
   "version": "3.8.5"
  },
  "papermill": {
   "default_parameters": {},
   "duration": 1360.04641,
   "end_time": "2021-04-29T20:23:30.698808",
   "environment_variables": {},
   "exception": null,
   "input_path": "__notebook__.ipynb",
   "output_path": "__notebook__.ipynb",
   "parameters": {},
   "start_time": "2021-04-29T20:00:50.652398",
   "version": "2.2.2"
  },
  "widgets": {
   "application/vnd.jupyter.widget-state+json": {
    "state": {
     "026dec7ca0df416e8eeec2b2b0c64694": {
      "model_module": "@jupyter-widgets/controls",
      "model_module_version": "1.5.0",
      "model_name": "DescriptionStyleModel",
      "state": {
       "_model_module": "@jupyter-widgets/controls",
       "_model_module_version": "1.5.0",
       "_model_name": "DescriptionStyleModel",
       "_view_count": null,
       "_view_module": "@jupyter-widgets/base",
       "_view_module_version": "1.2.0",
       "_view_name": "StyleView",
       "description_width": ""
      }
     },
     "031dc7159fa1444a9d4f0b9df2c46ce3": {
      "model_module": "@jupyter-widgets/controls",
      "model_module_version": "1.5.0",
      "model_name": "DescriptionStyleModel",
      "state": {
       "_model_module": "@jupyter-widgets/controls",
       "_model_module_version": "1.5.0",
       "_model_name": "DescriptionStyleModel",
       "_view_count": null,
       "_view_module": "@jupyter-widgets/base",
       "_view_module_version": "1.2.0",
       "_view_name": "StyleView",
       "description_width": ""
      }
     },
     "035d69ad16114510af33bec1198a1d86": {
      "model_module": "@jupyter-widgets/base",
      "model_module_version": "1.2.0",
      "model_name": "LayoutModel",
      "state": {
       "_model_module": "@jupyter-widgets/base",
       "_model_module_version": "1.2.0",
       "_model_name": "LayoutModel",
       "_view_count": null,
       "_view_module": "@jupyter-widgets/base",
       "_view_module_version": "1.2.0",
       "_view_name": "LayoutView",
       "align_content": null,
       "align_items": null,
       "align_self": null,
       "border": null,
       "bottom": null,
       "display": null,
       "flex": null,
       "flex_flow": null,
       "grid_area": null,
       "grid_auto_columns": null,
       "grid_auto_flow": null,
       "grid_auto_rows": null,
       "grid_column": null,
       "grid_gap": null,
       "grid_row": null,
       "grid_template_areas": null,
       "grid_template_columns": null,
       "grid_template_rows": null,
       "height": null,
       "justify_content": null,
       "justify_items": null,
       "left": null,
       "margin": null,
       "max_height": null,
       "max_width": null,
       "min_height": null,
       "min_width": null,
       "object_fit": null,
       "object_position": null,
       "order": null,
       "overflow": null,
       "overflow_x": null,
       "overflow_y": null,
       "padding": null,
       "right": null,
       "top": null,
       "visibility": null,
       "width": null
      }
     },
     "053a60487ad44d519d7b797cb59c5917": {
      "model_module": "@jupyter-widgets/base",
      "model_module_version": "1.2.0",
      "model_name": "LayoutModel",
      "state": {
       "_model_module": "@jupyter-widgets/base",
       "_model_module_version": "1.2.0",
       "_model_name": "LayoutModel",
       "_view_count": null,
       "_view_module": "@jupyter-widgets/base",
       "_view_module_version": "1.2.0",
       "_view_name": "LayoutView",
       "align_content": null,
       "align_items": null,
       "align_self": null,
       "border": null,
       "bottom": null,
       "display": null,
       "flex": null,
       "flex_flow": null,
       "grid_area": null,
       "grid_auto_columns": null,
       "grid_auto_flow": null,
       "grid_auto_rows": null,
       "grid_column": null,
       "grid_gap": null,
       "grid_row": null,
       "grid_template_areas": null,
       "grid_template_columns": null,
       "grid_template_rows": null,
       "height": null,
       "justify_content": null,
       "justify_items": null,
       "left": null,
       "margin": null,
       "max_height": null,
       "max_width": null,
       "min_height": null,
       "min_width": null,
       "object_fit": null,
       "object_position": null,
       "order": null,
       "overflow": null,
       "overflow_x": null,
       "overflow_y": null,
       "padding": null,
       "right": null,
       "top": null,
       "visibility": null,
       "width": null
      }
     },
     "069deb4dc0084050a2c4b72cf0f69853": {
      "model_module": "@jupyter-widgets/base",
      "model_module_version": "1.2.0",
      "model_name": "LayoutModel",
      "state": {
       "_model_module": "@jupyter-widgets/base",
       "_model_module_version": "1.2.0",
       "_model_name": "LayoutModel",
       "_view_count": null,
       "_view_module": "@jupyter-widgets/base",
       "_view_module_version": "1.2.0",
       "_view_name": "LayoutView",
       "align_content": null,
       "align_items": null,
       "align_self": null,
       "border": null,
       "bottom": null,
       "display": null,
       "flex": null,
       "flex_flow": null,
       "grid_area": null,
       "grid_auto_columns": null,
       "grid_auto_flow": null,
       "grid_auto_rows": null,
       "grid_column": null,
       "grid_gap": null,
       "grid_row": null,
       "grid_template_areas": null,
       "grid_template_columns": null,
       "grid_template_rows": null,
       "height": null,
       "justify_content": null,
       "justify_items": null,
       "left": null,
       "margin": null,
       "max_height": null,
       "max_width": null,
       "min_height": null,
       "min_width": null,
       "object_fit": null,
       "object_position": null,
       "order": null,
       "overflow": null,
       "overflow_x": null,
       "overflow_y": null,
       "padding": null,
       "right": null,
       "top": null,
       "visibility": null,
       "width": null
      }
     },
     "06c023ac03f04e53af17ee20b8cb8aa3": {
      "model_module": "@jupyter-widgets/controls",
      "model_module_version": "1.5.0",
      "model_name": "DescriptionStyleModel",
      "state": {
       "_model_module": "@jupyter-widgets/controls",
       "_model_module_version": "1.5.0",
       "_model_name": "DescriptionStyleModel",
       "_view_count": null,
       "_view_module": "@jupyter-widgets/base",
       "_view_module_version": "1.2.0",
       "_view_name": "StyleView",
       "description_width": ""
      }
     },
     "0bb1c258f79040d2986d43d769a1cd15": {
      "model_module": "@jupyter-widgets/controls",
      "model_module_version": "1.5.0",
      "model_name": "ProgressStyleModel",
      "state": {
       "_model_module": "@jupyter-widgets/controls",
       "_model_module_version": "1.5.0",
       "_model_name": "ProgressStyleModel",
       "_view_count": null,
       "_view_module": "@jupyter-widgets/base",
       "_view_module_version": "1.2.0",
       "_view_name": "StyleView",
       "bar_color": null,
       "description_width": ""
      }
     },
     "1886bacf18884670a26bf37c51d4658e": {
      "model_module": "@jupyter-widgets/base",
      "model_module_version": "1.2.0",
      "model_name": "LayoutModel",
      "state": {
       "_model_module": "@jupyter-widgets/base",
       "_model_module_version": "1.2.0",
       "_model_name": "LayoutModel",
       "_view_count": null,
       "_view_module": "@jupyter-widgets/base",
       "_view_module_version": "1.2.0",
       "_view_name": "LayoutView",
       "align_content": null,
       "align_items": null,
       "align_self": null,
       "border": null,
       "bottom": null,
       "display": null,
       "flex": null,
       "flex_flow": null,
       "grid_area": null,
       "grid_auto_columns": null,
       "grid_auto_flow": null,
       "grid_auto_rows": null,
       "grid_column": null,
       "grid_gap": null,
       "grid_row": null,
       "grid_template_areas": null,
       "grid_template_columns": null,
       "grid_template_rows": null,
       "height": null,
       "justify_content": null,
       "justify_items": null,
       "left": null,
       "margin": null,
       "max_height": null,
       "max_width": null,
       "min_height": null,
       "min_width": null,
       "object_fit": null,
       "object_position": null,
       "order": null,
       "overflow": null,
       "overflow_x": null,
       "overflow_y": null,
       "padding": null,
       "right": null,
       "top": null,
       "visibility": null,
       "width": null
      }
     },
     "18d3d704eb514941819512bee0dd6797": {
      "model_module": "@jupyter-widgets/controls",
      "model_module_version": "1.5.0",
      "model_name": "HBoxModel",
      "state": {
       "_dom_classes": [],
       "_model_module": "@jupyter-widgets/controls",
       "_model_module_version": "1.5.0",
       "_model_name": "HBoxModel",
       "_view_count": null,
       "_view_module": "@jupyter-widgets/controls",
       "_view_module_version": "1.5.0",
       "_view_name": "HBoxView",
       "box_style": "",
       "children": [
        "IPY_MODEL_b53cecd375b5458e95612007f1489920",
        "IPY_MODEL_ee6559e0c5054ef5a07b887fbc06304c",
        "IPY_MODEL_3bf7e87e046d48cfac8c4ffccdc1424b"
       ],
       "layout": "IPY_MODEL_2971e0ca170c46139890860c88f04d0c"
      }
     },
     "19a20825dad64ee38c97d7ad902fc9c5": {
      "model_module": "@jupyter-widgets/controls",
      "model_module_version": "1.5.0",
      "model_name": "ButtonModel",
      "state": {
       "_dom_classes": [],
       "_model_module": "@jupyter-widgets/controls",
       "_model_module_version": "1.5.0",
       "_model_name": "ButtonModel",
       "_view_count": null,
       "_view_module": "@jupyter-widgets/controls",
       "_view_module_version": "1.5.0",
       "_view_name": "ButtonView",
       "button_style": "",
       "description": "Toggle Pandas/Lux",
       "disabled": false,
       "icon": "",
       "layout": "IPY_MODEL_ce3674c6e3b4432c8bb6c8f4b9d11977",
       "style": "IPY_MODEL_35d665c2081c4eef8830e5273f53f226",
       "tooltip": ""
      }
     },
     "21d6368db9564efc8774a85467f63b58": {
      "model_module": "@jupyter-widgets/base",
      "model_module_version": "1.2.0",
      "model_name": "LayoutModel",
      "state": {
       "_model_module": "@jupyter-widgets/base",
       "_model_module_version": "1.2.0",
       "_model_name": "LayoutModel",
       "_view_count": null,
       "_view_module": "@jupyter-widgets/base",
       "_view_module_version": "1.2.0",
       "_view_name": "LayoutView",
       "align_content": null,
       "align_items": null,
       "align_self": null,
       "border": null,
       "bottom": null,
       "display": null,
       "flex": null,
       "flex_flow": null,
       "grid_area": null,
       "grid_auto_columns": null,
       "grid_auto_flow": null,
       "grid_auto_rows": null,
       "grid_column": null,
       "grid_gap": null,
       "grid_row": null,
       "grid_template_areas": null,
       "grid_template_columns": null,
       "grid_template_rows": null,
       "height": null,
       "justify_content": null,
       "justify_items": null,
       "left": null,
       "margin": null,
       "max_height": null,
       "max_width": null,
       "min_height": null,
       "min_width": null,
       "object_fit": null,
       "object_position": null,
       "order": null,
       "overflow": null,
       "overflow_x": null,
       "overflow_y": null,
       "padding": null,
       "right": null,
       "top": null,
       "visibility": null,
       "width": null
      }
     },
     "2613a94e94c54d0c87c31b87a4a19996": {
      "model_module": "@jupyter-widgets/controls",
      "model_module_version": "1.5.0",
      "model_name": "DescriptionStyleModel",
      "state": {
       "_model_module": "@jupyter-widgets/controls",
       "_model_module_version": "1.5.0",
       "_model_name": "DescriptionStyleModel",
       "_view_count": null,
       "_view_module": "@jupyter-widgets/base",
       "_view_module_version": "1.2.0",
       "_view_name": "StyleView",
       "description_width": ""
      }
     },
     "2971e0ca170c46139890860c88f04d0c": {
      "model_module": "@jupyter-widgets/base",
      "model_module_version": "1.2.0",
      "model_name": "LayoutModel",
      "state": {
       "_model_module": "@jupyter-widgets/base",
       "_model_module_version": "1.2.0",
       "_model_name": "LayoutModel",
       "_view_count": null,
       "_view_module": "@jupyter-widgets/base",
       "_view_module_version": "1.2.0",
       "_view_name": "LayoutView",
       "align_content": null,
       "align_items": null,
       "align_self": null,
       "border": null,
       "bottom": null,
       "display": "inline-flex",
       "flex": null,
       "flex_flow": "row wrap",
       "grid_area": null,
       "grid_auto_columns": null,
       "grid_auto_flow": null,
       "grid_auto_rows": null,
       "grid_column": null,
       "grid_gap": null,
       "grid_row": null,
       "grid_template_areas": null,
       "grid_template_columns": null,
       "grid_template_rows": null,
       "height": null,
       "justify_content": null,
       "justify_items": null,
       "left": null,
       "margin": null,
       "max_height": null,
       "max_width": null,
       "min_height": null,
       "min_width": null,
       "object_fit": null,
       "object_position": null,
       "order": null,
       "overflow": null,
       "overflow_x": null,
       "overflow_y": null,
       "padding": null,
       "right": null,
       "top": null,
       "visibility": null,
       "width": "100%"
      }
     },
     "2c23c569051c454facab3467d29a2cc6": {
      "model_module": "@jupyter-widgets/controls",
      "model_module_version": "1.5.0",
      "model_name": "HTMLModel",
      "state": {
       "_dom_classes": [],
       "_model_module": "@jupyter-widgets/controls",
       "_model_module_version": "1.5.0",
       "_model_name": "HTMLModel",
       "_view_count": null,
       "_view_module": "@jupyter-widgets/controls",
       "_view_module_version": "1.5.0",
       "_view_name": "HTMLView",
       "description": "",
       "description_tooltip": null,
       "layout": "IPY_MODEL_053a60487ad44d519d7b797cb59c5917",
       "placeholder": "​",
       "style": "IPY_MODEL_359d8a2f00ba4e569e54b7d388b2567d",
       "value": "Computing between-a4b416e30ed309668ea7fef6d717f9f7:  92%"
      }
     },
     "2e1838813db04bf1bed6bd88296582c6": {
      "model_module": "@jupyter-widgets/controls",
      "model_module_version": "1.5.0",
      "model_name": "FloatProgressModel",
      "state": {
       "_dom_classes": [],
       "_model_module": "@jupyter-widgets/controls",
       "_model_module_version": "1.5.0",
       "_model_name": "FloatProgressModel",
       "_view_count": null,
       "_view_module": "@jupyter-widgets/controls",
       "_view_module_version": "1.5.0",
       "_view_name": "ProgressView",
       "bar_style": "",
       "description": "",
       "description_tooltip": null,
       "layout": "IPY_MODEL_d21a7dad04384f7cace163315d205f2b",
       "max": 30,
       "min": 0,
       "orientation": "horizontal",
       "style": "IPY_MODEL_72382994de454255a0552d9b611ff51c",
       "value": 30
      }
     },
     "315176b0053b4703ae59f8f7bfb9dfe2": {
      "model_module": "@jupyter-widgets/controls",
      "model_module_version": "1.5.0",
      "model_name": "DescriptionStyleModel",
      "state": {
       "_model_module": "@jupyter-widgets/controls",
       "_model_module_version": "1.5.0",
       "_model_name": "DescriptionStyleModel",
       "_view_count": null,
       "_view_module": "@jupyter-widgets/base",
       "_view_module_version": "1.2.0",
       "_view_name": "StyleView",
       "description_width": ""
      }
     },
     "359d8a2f00ba4e569e54b7d388b2567d": {
      "model_module": "@jupyter-widgets/controls",
      "model_module_version": "1.5.0",
      "model_name": "DescriptionStyleModel",
      "state": {
       "_model_module": "@jupyter-widgets/controls",
       "_model_module_version": "1.5.0",
       "_model_name": "DescriptionStyleModel",
       "_view_count": null,
       "_view_module": "@jupyter-widgets/base",
       "_view_module_version": "1.2.0",
       "_view_name": "StyleView",
       "description_width": ""
      }
     },
     "35d665c2081c4eef8830e5273f53f226": {
      "model_module": "@jupyter-widgets/controls",
      "model_module_version": "1.5.0",
      "model_name": "ButtonStyleModel",
      "state": {
       "_model_module": "@jupyter-widgets/controls",
       "_model_module_version": "1.5.0",
       "_model_name": "ButtonStyleModel",
       "_view_count": null,
       "_view_module": "@jupyter-widgets/base",
       "_view_module_version": "1.2.0",
       "_view_name": "StyleView",
       "button_color": null,
       "font_weight": ""
      }
     },
     "37f18521204c4abd8be2fc77098fc6bb": {
      "model_module": "@jupyter-widgets/controls",
      "model_module_version": "1.5.0",
      "model_name": "HBoxModel",
      "state": {
       "_dom_classes": [],
       "_model_module": "@jupyter-widgets/controls",
       "_model_module_version": "1.5.0",
       "_model_name": "HBoxModel",
       "_view_count": null,
       "_view_module": "@jupyter-widgets/controls",
       "_view_module_version": "1.5.0",
       "_view_name": "HBoxView",
       "box_style": "",
       "children": [
        "IPY_MODEL_7d8fa53b5be047979b7a7ba26b4b67e5",
        "IPY_MODEL_a678be8aebea41b290a7b1a4cd3a7754",
        "IPY_MODEL_393739cd28604125b2507eb84af8afd7"
       ],
       "layout": "IPY_MODEL_929ca9af96ee40d9ad11a8c67a43a8fa"
      }
     },
     "38342ec53b904d7bb16077de9517ad8f": {
      "model_module": "@jupyter-widgets/controls",
      "model_module_version": "1.5.0",
      "model_name": "HBoxModel",
      "state": {
       "_dom_classes": [],
       "_model_module": "@jupyter-widgets/controls",
       "_model_module_version": "1.5.0",
       "_model_name": "HBoxModel",
       "_view_count": null,
       "_view_module": "@jupyter-widgets/controls",
       "_view_module_version": "1.5.0",
       "_view_name": "HBoxView",
       "box_style": "",
       "children": [
        "IPY_MODEL_8c8b68c26ce3437194793aa6a268ed15",
        "IPY_MODEL_2e1838813db04bf1bed6bd88296582c6",
        "IPY_MODEL_5a7a2980635d4716b76d14da36f9402c"
       ],
       "layout": "IPY_MODEL_d12f57d34fde451dbf403526bdc8ed9d"
      }
     },
     "393739cd28604125b2507eb84af8afd7": {
      "model_module": "@jupyter-widgets/controls",
      "model_module_version": "1.5.0",
      "model_name": "HTMLModel",
      "state": {
       "_dom_classes": [],
       "_model_module": "@jupyter-widgets/controls",
       "_model_module_version": "1.5.0",
       "_model_name": "HTMLModel",
       "_view_count": null,
       "_view_module": "@jupyter-widgets/controls",
       "_view_module_version": "1.5.0",
       "_view_name": "HTMLView",
       "description": "",
       "description_tooltip": null,
       "layout": "IPY_MODEL_c2af15a7b5dc4b1485321c168cc85a26",
       "placeholder": "​",
       "style": "IPY_MODEL_7d608d83804247dca2f6271c722a411f",
       "value": " 0/107 [00:00&lt;?, ?it/s]"
      }
     },
     "39377f32fb6f4b388279d735824f9eed": {
      "model_module": "@jupyter-widgets/controls",
      "model_module_version": "1.5.0",
      "model_name": "FloatProgressModel",
      "state": {
       "_dom_classes": [],
       "_model_module": "@jupyter-widgets/controls",
       "_model_module_version": "1.5.0",
       "_model_name": "FloatProgressModel",
       "_view_count": null,
       "_view_module": "@jupyter-widgets/controls",
       "_view_module_version": "1.5.0",
       "_view_name": "ProgressView",
       "bar_style": "success",
       "description": "",
       "description_tooltip": null,
       "layout": "IPY_MODEL_8c377b898d064561989970597591c660",
       "max": 1,
       "min": 0,
       "orientation": "horizontal",
       "style": "IPY_MODEL_5f7db75dd00a4b7f9c1ec9fabe658c9a",
       "value": 1
      }
     },
     "39c46187b48748b6b5b8c9751d1779e6": {
      "model_module": "@jupyter-widgets/base",
      "model_module_version": "1.2.0",
      "model_name": "LayoutModel",
      "state": {
       "_model_module": "@jupyter-widgets/base",
       "_model_module_version": "1.2.0",
       "_model_name": "LayoutModel",
       "_view_count": null,
       "_view_module": "@jupyter-widgets/base",
       "_view_module_version": "1.2.0",
       "_view_name": "LayoutView",
       "align_content": null,
       "align_items": null,
       "align_self": null,
       "border": null,
       "bottom": null,
       "display": null,
       "flex": "2",
       "flex_flow": null,
       "grid_area": null,
       "grid_auto_columns": null,
       "grid_auto_flow": null,
       "grid_auto_rows": null,
       "grid_column": null,
       "grid_gap": null,
       "grid_row": null,
       "grid_template_areas": null,
       "grid_template_columns": null,
       "grid_template_rows": null,
       "height": null,
       "justify_content": null,
       "justify_items": null,
       "left": null,
       "margin": null,
       "max_height": null,
       "max_width": null,
       "min_height": null,
       "min_width": null,
       "object_fit": null,
       "object_position": null,
       "order": null,
       "overflow": null,
       "overflow_x": null,
       "overflow_y": null,
       "padding": null,
       "right": null,
       "top": null,
       "visibility": null,
       "width": null
      }
     },
     "3b03f3d7d2b14434a918b2647379e07e": {
      "model_module": "@jupyter-widgets/controls",
      "model_module_version": "1.5.0",
      "model_name": "DescriptionStyleModel",
      "state": {
       "_model_module": "@jupyter-widgets/controls",
       "_model_module_version": "1.5.0",
       "_model_name": "DescriptionStyleModel",
       "_view_count": null,
       "_view_module": "@jupyter-widgets/base",
       "_view_module_version": "1.2.0",
       "_view_name": "StyleView",
       "description_width": ""
      }
     },
     "3b8fb28875464ab6a52ab91e95d9ed69": {
      "model_module": "@jupyter-widgets/base",
      "model_module_version": "1.2.0",
      "model_name": "LayoutModel",
      "state": {
       "_model_module": "@jupyter-widgets/base",
       "_model_module_version": "1.2.0",
       "_model_name": "LayoutModel",
       "_view_count": null,
       "_view_module": "@jupyter-widgets/base",
       "_view_module_version": "1.2.0",
       "_view_name": "LayoutView",
       "align_content": null,
       "align_items": null,
       "align_self": null,
       "border": null,
       "bottom": null,
       "display": null,
       "flex": "2",
       "flex_flow": null,
       "grid_area": null,
       "grid_auto_columns": null,
       "grid_auto_flow": null,
       "grid_auto_rows": null,
       "grid_column": null,
       "grid_gap": null,
       "grid_row": null,
       "grid_template_areas": null,
       "grid_template_columns": null,
       "grid_template_rows": null,
       "height": null,
       "justify_content": null,
       "justify_items": null,
       "left": null,
       "margin": null,
       "max_height": null,
       "max_width": null,
       "min_height": null,
       "min_width": null,
       "object_fit": null,
       "object_position": null,
       "order": null,
       "overflow": null,
       "overflow_x": null,
       "overflow_y": null,
       "padding": null,
       "right": null,
       "top": null,
       "visibility": null,
       "width": null
      }
     },
     "3bf7e87e046d48cfac8c4ffccdc1424b": {
      "model_module": "@jupyter-widgets/controls",
      "model_module_version": "1.5.0",
      "model_name": "HTMLModel",
      "state": {
       "_dom_classes": [],
       "_model_module": "@jupyter-widgets/controls",
       "_model_module_version": "1.5.0",
       "_model_name": "HTMLModel",
       "_view_count": null,
       "_view_module": "@jupyter-widgets/controls",
       "_view_module_version": "1.5.0",
       "_view_name": "HTMLView",
       "description": "",
       "description_tooltip": null,
       "layout": "IPY_MODEL_77027ff9d9aa452a8485402baca3d794",
       "placeholder": "​",
       "style": "IPY_MODEL_b24c9b6fd13949459bc8e3d39f02bf4a",
       "value": " 492/599 [00:00&lt;00:00, 1795.14it/s]"
      }
     },
     "3d4bef51d8944c1d8c5534323baeae5f": {
      "model_module": "@jupyter-widgets/base",
      "model_module_version": "1.2.0",
      "model_name": "LayoutModel",
      "state": {
       "_model_module": "@jupyter-widgets/base",
       "_model_module_version": "1.2.0",
       "_model_name": "LayoutModel",
       "_view_count": null,
       "_view_module": "@jupyter-widgets/base",
       "_view_module_version": "1.2.0",
       "_view_name": "LayoutView",
       "align_content": null,
       "align_items": null,
       "align_self": null,
       "border": null,
       "bottom": null,
       "display": null,
       "flex": "2",
       "flex_flow": null,
       "grid_area": null,
       "grid_auto_columns": null,
       "grid_auto_flow": null,
       "grid_auto_rows": null,
       "grid_column": null,
       "grid_gap": null,
       "grid_row": null,
       "grid_template_areas": null,
       "grid_template_columns": null,
       "grid_template_rows": null,
       "height": null,
       "justify_content": null,
       "justify_items": null,
       "left": null,
       "margin": null,
       "max_height": null,
       "max_width": null,
       "min_height": null,
       "min_width": null,
       "object_fit": null,
       "object_position": null,
       "order": null,
       "overflow": null,
       "overflow_x": null,
       "overflow_y": null,
       "padding": null,
       "right": null,
       "top": null,
       "visibility": null,
       "width": null
      }
     },
     "4432fd13c8d24f63ae56a3afc7728ec4": {
      "model_module": "@jupyter-widgets/base",
      "model_module_version": "1.2.0",
      "model_name": "LayoutModel",
      "state": {
       "_model_module": "@jupyter-widgets/base",
       "_model_module_version": "1.2.0",
       "_model_name": "LayoutModel",
       "_view_count": null,
       "_view_module": "@jupyter-widgets/base",
       "_view_module_version": "1.2.0",
       "_view_name": "LayoutView",
       "align_content": null,
       "align_items": null,
       "align_self": null,
       "border": null,
       "bottom": null,
       "display": null,
       "flex": null,
       "flex_flow": null,
       "grid_area": null,
       "grid_auto_columns": null,
       "grid_auto_flow": null,
       "grid_auto_rows": null,
       "grid_column": null,
       "grid_gap": null,
       "grid_row": null,
       "grid_template_areas": null,
       "grid_template_columns": null,
       "grid_template_rows": null,
       "height": null,
       "justify_content": null,
       "justify_items": null,
       "left": null,
       "margin": null,
       "max_height": null,
       "max_width": null,
       "min_height": null,
       "min_width": null,
       "object_fit": null,
       "object_position": null,
       "order": null,
       "overflow": null,
       "overflow_x": null,
       "overflow_y": null,
       "padding": null,
       "right": null,
       "top": null,
       "visibility": null,
       "width": null
      }
     },
     "4840598bec454f77b98e2d2b0e3183d9": {
      "model_module": "@jupyter-widgets/base",
      "model_module_version": "1.2.0",
      "model_name": "LayoutModel",
      "state": {
       "_model_module": "@jupyter-widgets/base",
       "_model_module_version": "1.2.0",
       "_model_name": "LayoutModel",
       "_view_count": null,
       "_view_module": "@jupyter-widgets/base",
       "_view_module_version": "1.2.0",
       "_view_name": "LayoutView",
       "align_content": null,
       "align_items": null,
       "align_self": null,
       "border": null,
       "bottom": null,
       "display": null,
       "flex": null,
       "flex_flow": null,
       "grid_area": null,
       "grid_auto_columns": null,
       "grid_auto_flow": null,
       "grid_auto_rows": null,
       "grid_column": null,
       "grid_gap": null,
       "grid_row": null,
       "grid_template_areas": null,
       "grid_template_columns": null,
       "grid_template_rows": null,
       "height": null,
       "justify_content": null,
       "justify_items": null,
       "left": null,
       "margin": null,
       "max_height": null,
       "max_width": null,
       "min_height": null,
       "min_width": null,
       "object_fit": null,
       "object_position": null,
       "order": null,
       "overflow": null,
       "overflow_x": null,
       "overflow_y": null,
       "padding": null,
       "right": null,
       "top": null,
       "visibility": null,
       "width": null
      }
     },
     "4b2ee41c0fbb4e4bbbd80fe3fd32f8f9": {
      "model_module": "@jupyter-widgets/base",
      "model_module_version": "1.2.0",
      "model_name": "LayoutModel",
      "state": {
       "_model_module": "@jupyter-widgets/base",
       "_model_module_version": "1.2.0",
       "_model_name": "LayoutModel",
       "_view_count": null,
       "_view_module": "@jupyter-widgets/base",
       "_view_module_version": "1.2.0",
       "_view_name": "LayoutView",
       "align_content": null,
       "align_items": null,
       "align_self": null,
       "border": null,
       "bottom": null,
       "display": null,
       "flex": null,
       "flex_flow": null,
       "grid_area": null,
       "grid_auto_columns": null,
       "grid_auto_flow": null,
       "grid_auto_rows": null,
       "grid_column": null,
       "grid_gap": null,
       "grid_row": null,
       "grid_template_areas": null,
       "grid_template_columns": null,
       "grid_template_rows": null,
       "height": null,
       "justify_content": null,
       "justify_items": null,
       "left": null,
       "margin": null,
       "max_height": null,
       "max_width": null,
       "min_height": null,
       "min_width": null,
       "object_fit": null,
       "object_position": null,
       "order": null,
       "overflow": null,
       "overflow_x": null,
       "overflow_y": null,
       "padding": null,
       "right": null,
       "top": null,
       "visibility": null,
       "width": null
      }
     },
     "4d6799705db841a6a179b251b03f2853": {
      "model_module": "@jupyter-widgets/base",
      "model_module_version": "1.2.0",
      "model_name": "LayoutModel",
      "state": {
       "_model_module": "@jupyter-widgets/base",
       "_model_module_version": "1.2.0",
       "_model_name": "LayoutModel",
       "_view_count": null,
       "_view_module": "@jupyter-widgets/base",
       "_view_module_version": "1.2.0",
       "_view_name": "LayoutView",
       "align_content": null,
       "align_items": null,
       "align_self": null,
       "border": null,
       "bottom": null,
       "display": null,
       "flex": null,
       "flex_flow": null,
       "grid_area": null,
       "grid_auto_columns": null,
       "grid_auto_flow": null,
       "grid_auto_rows": null,
       "grid_column": null,
       "grid_gap": null,
       "grid_row": null,
       "grid_template_areas": null,
       "grid_template_columns": null,
       "grid_template_rows": null,
       "height": null,
       "justify_content": null,
       "justify_items": null,
       "left": null,
       "margin": null,
       "max_height": null,
       "max_width": null,
       "min_height": null,
       "min_width": null,
       "object_fit": null,
       "object_position": null,
       "order": null,
       "overflow": null,
       "overflow_x": null,
       "overflow_y": null,
       "padding": null,
       "right": null,
       "top": null,
       "visibility": null,
       "width": null
      }
     },
     "510de9c1ba134a17acdff596176a4a1c": {
      "model_module": "@jupyter-widgets/base",
      "model_module_version": "1.2.0",
      "model_name": "LayoutModel",
      "state": {
       "_model_module": "@jupyter-widgets/base",
       "_model_module_version": "1.2.0",
       "_model_name": "LayoutModel",
       "_view_count": null,
       "_view_module": "@jupyter-widgets/base",
       "_view_module_version": "1.2.0",
       "_view_name": "LayoutView",
       "align_content": null,
       "align_items": null,
       "align_self": null,
       "border": null,
       "bottom": null,
       "display": null,
       "flex": null,
       "flex_flow": null,
       "grid_area": null,
       "grid_auto_columns": null,
       "grid_auto_flow": null,
       "grid_auto_rows": null,
       "grid_column": null,
       "grid_gap": null,
       "grid_row": null,
       "grid_template_areas": null,
       "grid_template_columns": null,
       "grid_template_rows": null,
       "height": null,
       "justify_content": null,
       "justify_items": null,
       "left": null,
       "margin": null,
       "max_height": null,
       "max_width": null,
       "min_height": null,
       "min_width": null,
       "object_fit": null,
       "object_position": null,
       "order": null,
       "overflow": null,
       "overflow_x": null,
       "overflow_y": null,
       "padding": null,
       "right": null,
       "top": null,
       "visibility": null,
       "width": null
      }
     },
     "51ebe29d2b5142e1bde83c6f91dc630b": {
      "model_module": "@jupyter-widgets/controls",
      "model_module_version": "1.5.0",
      "model_name": "HTMLModel",
      "state": {
       "_dom_classes": [],
       "_model_module": "@jupyter-widgets/controls",
       "_model_module_version": "1.5.0",
       "_model_name": "HTMLModel",
       "_view_count": null,
       "_view_module": "@jupyter-widgets/controls",
       "_view_module_version": "1.5.0",
       "_view_name": "HTMLView",
       "description": "",
       "description_tooltip": null,
       "layout": "IPY_MODEL_b34a6c0afc1f4f669308cf6a1b4fecbf",
       "placeholder": "​",
       "style": "IPY_MODEL_06c023ac03f04e53af17ee20b8cb8aa3",
       "value": " 1/1 [00:07&lt;00:00,  7.38s/it]"
      }
     },
     "51ed308d4b914cde8194ba20758f5f9a": {
      "model_module": "@jupyter-widgets/base",
      "model_module_version": "1.2.0",
      "model_name": "LayoutModel",
      "state": {
       "_model_module": "@jupyter-widgets/base",
       "_model_module_version": "1.2.0",
       "_model_name": "LayoutModel",
       "_view_count": null,
       "_view_module": "@jupyter-widgets/base",
       "_view_module_version": "1.2.0",
       "_view_name": "LayoutView",
       "align_content": null,
       "align_items": null,
       "align_self": null,
       "border": null,
       "bottom": null,
       "display": "inline-flex",
       "flex": null,
       "flex_flow": "row wrap",
       "grid_area": null,
       "grid_auto_columns": null,
       "grid_auto_flow": null,
       "grid_auto_rows": null,
       "grid_column": null,
       "grid_gap": null,
       "grid_row": null,
       "grid_template_areas": null,
       "grid_template_columns": null,
       "grid_template_rows": null,
       "height": null,
       "justify_content": null,
       "justify_items": null,
       "left": null,
       "margin": null,
       "max_height": null,
       "max_width": null,
       "min_height": null,
       "min_width": null,
       "object_fit": null,
       "object_position": null,
       "order": null,
       "overflow": null,
       "overflow_x": null,
       "overflow_y": null,
       "padding": null,
       "right": null,
       "top": null,
       "visibility": null,
       "width": "100%"
      }
     },
     "58f9bf0b2b9b40509bdf7029cf37a03c": {
      "model_module": "@jupyter-widgets/controls",
      "model_module_version": "1.5.0",
      "model_name": "ProgressStyleModel",
      "state": {
       "_model_module": "@jupyter-widgets/controls",
       "_model_module_version": "1.5.0",
       "_model_name": "ProgressStyleModel",
       "_view_count": null,
       "_view_module": "@jupyter-widgets/base",
       "_view_module_version": "1.2.0",
       "_view_name": "StyleView",
       "bar_color": null,
       "description_width": ""
      }
     },
     "5a7a2980635d4716b76d14da36f9402c": {
      "model_module": "@jupyter-widgets/controls",
      "model_module_version": "1.5.0",
      "model_name": "HTMLModel",
      "state": {
       "_dom_classes": [],
       "_model_module": "@jupyter-widgets/controls",
       "_model_module_version": "1.5.0",
       "_model_name": "HTMLModel",
       "_view_count": null,
       "_view_module": "@jupyter-widgets/controls",
       "_view_module_version": "1.5.0",
       "_view_name": "HTMLView",
       "description": "",
       "description_tooltip": null,
       "layout": "IPY_MODEL_035d69ad16114510af33bec1198a1d86",
       "placeholder": "​",
       "style": "IPY_MODEL_b3e5e7ee2120478593a9ebf9d56d71ea",
       "value": " 23/30 [00:00&lt;00:00, 208.22it/s]"
      }
     },
     "5c5d65f4294d49afb82f7d2eeb16f7c2": {
      "model_module": "@jupyter-widgets/base",
      "model_module_version": "1.2.0",
      "model_name": "LayoutModel",
      "state": {
       "_model_module": "@jupyter-widgets/base",
       "_model_module_version": "1.2.0",
       "_model_name": "LayoutModel",
       "_view_count": null,
       "_view_module": "@jupyter-widgets/base",
       "_view_module_version": "1.2.0",
       "_view_name": "LayoutView",
       "align_content": null,
       "align_items": null,
       "align_self": null,
       "border": null,
       "bottom": null,
       "display": null,
       "flex": null,
       "flex_flow": null,
       "grid_area": null,
       "grid_auto_columns": null,
       "grid_auto_flow": null,
       "grid_auto_rows": null,
       "grid_column": null,
       "grid_gap": null,
       "grid_row": null,
       "grid_template_areas": null,
       "grid_template_columns": null,
       "grid_template_rows": null,
       "height": null,
       "justify_content": null,
       "justify_items": null,
       "left": null,
       "margin": null,
       "max_height": null,
       "max_width": null,
       "min_height": null,
       "min_width": null,
       "object_fit": null,
       "object_position": null,
       "order": null,
       "overflow": null,
       "overflow_x": null,
       "overflow_y": null,
       "padding": null,
       "right": null,
       "top": null,
       "visibility": null,
       "width": null
      }
     },
     "5f7db75dd00a4b7f9c1ec9fabe658c9a": {
      "model_module": "@jupyter-widgets/controls",
      "model_module_version": "1.5.0",
      "model_name": "ProgressStyleModel",
      "state": {
       "_model_module": "@jupyter-widgets/controls",
       "_model_module_version": "1.5.0",
       "_model_name": "ProgressStyleModel",
       "_view_count": null,
       "_view_module": "@jupyter-widgets/base",
       "_view_module_version": "1.2.0",
       "_view_name": "StyleView",
       "bar_color": null,
       "description_width": ""
      }
     },
     "6e0ed685f0cd4905b322ce0063100e40": {
      "model_module": "@jupyter-widgets/controls",
      "model_module_version": "1.5.0",
      "model_name": "DescriptionStyleModel",
      "state": {
       "_model_module": "@jupyter-widgets/controls",
       "_model_module_version": "1.5.0",
       "_model_name": "DescriptionStyleModel",
       "_view_count": null,
       "_view_module": "@jupyter-widgets/base",
       "_view_module_version": "1.2.0",
       "_view_name": "StyleView",
       "description_width": ""
      }
     },
     "6ed4261427f0435e9ef801b76d0ecd68": {
      "model_module": "@jupyter-widgets/controls",
      "model_module_version": "1.5.0",
      "model_name": "HTMLModel",
      "state": {
       "_dom_classes": [],
       "_model_module": "@jupyter-widgets/controls",
       "_model_module_version": "1.5.0",
       "_model_name": "HTMLModel",
       "_view_count": null,
       "_view_module": "@jupyter-widgets/controls",
       "_view_module_version": "1.5.0",
       "_view_name": "HTMLView",
       "description": "",
       "description_tooltip": null,
       "layout": "IPY_MODEL_fef9d13051bf4bec8e9476b7c8fb9cd2",
       "placeholder": "​",
       "style": "IPY_MODEL_f3ecea7caf5143e0974426fe0b7f07cb",
       "value": " 1/1 [00:13&lt;00:00, 13.20s/it]"
      }
     },
     "70177a050201464395679a1a1b9102a0": {
      "model_module": "luxwidget",
      "model_module_version": "0.1.5",
      "model_name": "LuxModel",
      "state": {
       "_dom_classes": [],
       "_model_module": "luxwidget",
       "_model_module_version": "0.1.5",
       "_model_name": "LuxModel",
       "_selectedVisIdxs": {},
       "_view_count": null,
       "_view_module": "luxwidget",
       "_view_module_version": "0.1.5",
       "_view_name": "LuxWidgetView",
       "all_column": false,
       "current_vis": {},
       "data": [],
       "deletedIndices": {},
       "intent": "",
       "layout": "IPY_MODEL_8a12d17256e74a18ba4836d7be869fc5",
       "message": "<ul><li>The column <code>Age</code> contains missing values, not shown in the displayed histogram.</li><li><code>PassengerId</code> is not visualized since it resembles an ID field.</li></ul>",
       "recommendations": [
        {
         "action": "Correlation",
         "description": "Show relationships between two <p class='highlight-descriptor'>quantitative</p> attributes.",
         "long_description": "Correlation searches through all pairwise relationship between two quantitative attributes             (e.g., Fare, Age). The visualizations are ranked from most to least linearly correlated based on                 their Pearson’s correlation score.",
         "vspec": [
          {
           "$schema": "https://vega.github.io/schema/vega-lite/v4.8.1.json",
           "config": {
            "axis": {
             "labelColor": "#505050",
             "labelFont": "Helvetica Neue",
             "labelFontSize": 9,
             "labelFontWeight": 400,
             "titleFont": "Helvetica Neue",
             "titleFontSize": 11,
             "titleFontWeight": 500
            },
            "legend": {
             "labelFont": "Helvetica Neue",
             "labelFontSize": 9,
             "labelFontWeight": 400,
             "titleFont": "Helvetica Neue",
             "titleFontSize": 10,
             "titleFontWeight": 500
            },
            "mark": {
             "tooltip": {
              "content": "encoding"
             }
            },
            "title": {
             "font": "Helvetica Neue",
             "fontSize": 13,
             "fontWeight": 500
            },
            "view": {
             "continuousHeight": 300,
             "continuousWidth": 400
            }
           },
           "data": {
            "name": "data-1bf097d21a7765e2ca2a6465d881ebf9"
           },
           "datasets": {
            "data-1bf097d21a7765e2ca2a6465d881ebf9": [
             {
              "Age": 22,
              "Fare": 7.25
             },
             {
              "Age": 38,
              "Fare": 71.2833
             },
             {
              "Age": 26,
              "Fare": 7.925
             },
             {
              "Age": 35,
              "Fare": 53.1
             },
             {
              "Age": 35,
              "Fare": 8.05
             },
             {
              "Age": null,
              "Fare": 8.4583
             },
             {
              "Age": 54,
              "Fare": 51.8625
             },
             {
              "Age": 2,
              "Fare": 21.075
             },
             {
              "Age": 27,
              "Fare": 11.1333
             },
             {
              "Age": 14,
              "Fare": 30.0708
             },
             {
              "Age": 4,
              "Fare": 16.7
             },
             {
              "Age": 58,
              "Fare": 26.55
             },
             {
              "Age": 20,
              "Fare": 8.05
             },
             {
              "Age": 39,
              "Fare": 31.275
             },
             {
              "Age": 14,
              "Fare": 7.8542
             },
             {
              "Age": 55,
              "Fare": 16
             },
             {
              "Age": 2,
              "Fare": 29.125
             },
             {
              "Age": null,
              "Fare": 13
             },
             {
              "Age": 31,
              "Fare": 18
             },
             {
              "Age": null,
              "Fare": 7.225
             },
             {
              "Age": 35,
              "Fare": 26
             },
             {
              "Age": 34,
              "Fare": 13
             },
             {
              "Age": 15,
              "Fare": 8.0292
             },
             {
              "Age": 28,
              "Fare": 35.5
             },
             {
              "Age": 8,
              "Fare": 21.075
             },
             {
              "Age": 38,
              "Fare": 31.3875
             },
             {
              "Age": null,
              "Fare": 7.225
             },
             {
              "Age": 19,
              "Fare": 263
             },
             {
              "Age": null,
              "Fare": 7.8792
             },
             {
              "Age": null,
              "Fare": 7.8958
             },
             {
              "Age": 40,
              "Fare": 27.7208
             },
             {
              "Age": null,
              "Fare": 146.5208
             },
             {
              "Age": null,
              "Fare": 7.75
             },
             {
              "Age": 66,
              "Fare": 10.5
             },
             {
              "Age": 28,
              "Fare": 82.1708
             },
             {
              "Age": 42,
              "Fare": 52
             },
             {
              "Age": null,
              "Fare": 7.2292
             },
             {
              "Age": 21,
              "Fare": 8.05
             },
             {
              "Age": 18,
              "Fare": 18
             },
             {
              "Age": 14,
              "Fare": 11.2417
             },
             {
              "Age": 40,
              "Fare": 9.475
             },
             {
              "Age": 27,
              "Fare": 21
             },
             {
              "Age": null,
              "Fare": 7.8958
             },
             {
              "Age": 3,
              "Fare": 41.5792
             },
             {
              "Age": 19,
              "Fare": 7.8792
             },
             {
              "Age": null,
              "Fare": 8.05
             },
             {
              "Age": null,
              "Fare": 15.5
             },
             {
              "Age": null,
              "Fare": 7.75
             },
             {
              "Age": null,
              "Fare": 21.6792
             },
             {
              "Age": 18,
              "Fare": 17.8
             },
             {
              "Age": 7,
              "Fare": 39.6875
             },
             {
              "Age": 21,
              "Fare": 7.8
             },
             {
              "Age": 49,
              "Fare": 76.7292
             },
             {
              "Age": 29,
              "Fare": 26
             },
             {
              "Age": 65,
              "Fare": 61.9792
             },
             {
              "Age": null,
              "Fare": 35.5
             },
             {
              "Age": 21,
              "Fare": 10.5
             },
             {
              "Age": 28.5,
              "Fare": 7.2292
             },
             {
              "Age": 5,
              "Fare": 27.75
             },
             {
              "Age": 11,
              "Fare": 46.9
             },
             {
              "Age": 22,
              "Fare": 7.2292
             },
             {
              "Age": 38,
              "Fare": 80
             },
             {
              "Age": 45,
              "Fare": 83.475
             },
             {
              "Age": 4,
              "Fare": 27.9
             },
             {
              "Age": null,
              "Fare": 27.7208
             },
             {
              "Age": null,
              "Fare": 15.2458
             },
             {
              "Age": 29,
              "Fare": 10.5
             },
             {
              "Age": 19,
              "Fare": 8.1583
             },
             {
              "Age": 17,
              "Fare": 7.925
             },
             {
              "Age": 26,
              "Fare": 8.6625
             },
             {
              "Age": 32,
              "Fare": 10.5
             },
             {
              "Age": 16,
              "Fare": 46.9
             },
             {
              "Age": 21,
              "Fare": 73.5
             },
             {
              "Age": 26,
              "Fare": 14.4542
             },
             {
              "Age": 32,
              "Fare": 56.4958
             },
             {
              "Age": 25,
              "Fare": 7.65
             },
             {
              "Age": null,
              "Fare": 7.8958
             },
             {
              "Age": null,
              "Fare": 8.05
             },
             {
              "Age": 0.83,
              "Fare": 29
             },
             {
              "Age": 30,
              "Fare": 12.475
             },
             {
              "Age": 22,
              "Fare": 9
             },
             {
              "Age": 29,
              "Fare": 9.5
             },
             {
              "Age": null,
              "Fare": 7.7875
             },
             {
              "Age": 28,
              "Fare": 47.1
             },
             {
              "Age": 17,
              "Fare": 10.5
             },
             {
              "Age": 33,
              "Fare": 15.85
             },
             {
              "Age": 16,
              "Fare": 34.375
             },
             {
              "Age": null,
              "Fare": 8.05
             },
             {
              "Age": 23,
              "Fare": 263
             },
             {
              "Age": 24,
              "Fare": 8.05
             },
             {
              "Age": 29,
              "Fare": 8.05
             },
             {
              "Age": 20,
              "Fare": 7.8542
             },
             {
              "Age": 46,
              "Fare": 61.175
             },
             {
              "Age": 26,
              "Fare": 20.575
             },
             {
              "Age": 59,
              "Fare": 7.25
             },
             {
              "Age": null,
              "Fare": 8.05
             },
             {
              "Age": 71,
              "Fare": 34.6542
             },
             {
              "Age": 23,
              "Fare": 63.3583
             },
             {
              "Age": 34,
              "Fare": 23
             },
             {
              "Age": 34,
              "Fare": 26
             },
             {
              "Age": 28,
              "Fare": 7.8958
             },
             {
              "Age": null,
              "Fare": 7.8958
             },
             {
              "Age": 21,
              "Fare": 77.2875
             },
             {
              "Age": 33,
              "Fare": 8.6542
             },
             {
              "Age": 37,
              "Fare": 7.925
             },
             {
              "Age": 28,
              "Fare": 7.8958
             },
             {
              "Age": 21,
              "Fare": 7.65
             },
             {
              "Age": null,
              "Fare": 7.775
             },
             {
              "Age": 38,
              "Fare": 7.8958
             },
             {
              "Age": null,
              "Fare": 24.15
             },
             {
              "Age": 47,
              "Fare": 52
             },
             {
              "Age": 14.5,
              "Fare": 14.4542
             },
             {
              "Age": 22,
              "Fare": 8.05
             },
             {
              "Age": 20,
              "Fare": 9.825
             },
             {
              "Age": 17,
              "Fare": 14.4583
             },
             {
              "Age": 21,
              "Fare": 7.925
             },
             {
              "Age": 70.5,
              "Fare": 7.75
             },
             {
              "Age": 29,
              "Fare": 21
             },
             {
              "Age": 24,
              "Fare": 247.5208
             },
             {
              "Age": 2,
              "Fare": 31.275
             },
             {
              "Age": 21,
              "Fare": 73.5
             },
             {
              "Age": null,
              "Fare": 8.05
             },
             {
              "Age": 32.5,
              "Fare": 30.0708
             },
             {
              "Age": 32.5,
              "Fare": 13
             },
             {
              "Age": 54,
              "Fare": 77.2875
             },
             {
              "Age": 12,
              "Fare": 11.2417
             },
             {
              "Age": null,
              "Fare": 7.75
             },
             {
              "Age": 24,
              "Fare": 7.1417
             },
             {
              "Age": null,
              "Fare": 22.3583
             },
             {
              "Age": 45,
              "Fare": 6.975
             },
             {
              "Age": 33,
              "Fare": 7.8958
             },
             {
              "Age": 20,
              "Fare": 7.05
             },
             {
              "Age": 47,
              "Fare": 14.5
             },
             {
              "Age": 29,
              "Fare": 26
             },
             {
              "Age": 25,
              "Fare": 13
             },
             {
              "Age": 23,
              "Fare": 15.0458
             },
             {
              "Age": 19,
              "Fare": 26.2833
             },
             {
              "Age": 37,
              "Fare": 53.1
             },
             {
              "Age": 16,
              "Fare": 9.2167
             },
             {
              "Age": 24,
              "Fare": 79.2
             },
             {
              "Age": null,
              "Fare": 15.2458
             },
             {
              "Age": 22,
              "Fare": 7.75
             },
             {
              "Age": 24,
              "Fare": 15.85
             },
             {
              "Age": 19,
              "Fare": 6.75
             },
             {
              "Age": 18,
              "Fare": 11.5
             },
             {
              "Age": 19,
              "Fare": 36.75
             },
             {
              "Age": 27,
              "Fare": 7.7958
             },
             {
              "Age": 9,
              "Fare": 34.375
             },
             {
              "Age": 36.5,
              "Fare": 26
             },
             {
              "Age": 42,
              "Fare": 13
             },
             {
              "Age": 51,
              "Fare": 12.525
             },
             {
              "Age": 22,
              "Fare": 66.6
             },
             {
              "Age": 55.5,
              "Fare": 8.05
             },
             {
              "Age": 40.5,
              "Fare": 14.5
             },
             {
              "Age": null,
              "Fare": 7.3125
             },
             {
              "Age": 51,
              "Fare": 61.3792
             },
             {
              "Age": 16,
              "Fare": 7.7333
             },
             {
              "Age": 30,
              "Fare": 8.05
             },
             {
              "Age": null,
              "Fare": 8.6625
             },
             {
              "Age": null,
              "Fare": 69.55
             },
             {
              "Age": 44,
              "Fare": 16.1
             },
             {
              "Age": 40,
              "Fare": 15.75
             },
             {
              "Age": 26,
              "Fare": 7.775
             },
             {
              "Age": 17,
              "Fare": 8.6625
             },
             {
              "Age": 1,
              "Fare": 39.6875
             },
             {
              "Age": 9,
              "Fare": 20.525
             },
             {
              "Age": null,
              "Fare": 55
             },
             {
              "Age": 45,
              "Fare": 27.9
             },
             {
              "Age": null,
              "Fare": 25.925
             },
             {
              "Age": 28,
              "Fare": 56.4958
             },
             {
              "Age": 61,
              "Fare": 33.5
             },
             {
              "Age": 4,
              "Fare": 29.125
             },
             {
              "Age": 1,
              "Fare": 11.1333
             },
             {
              "Age": 21,
              "Fare": 7.925
             },
             {
              "Age": 56,
              "Fare": 30.6958
             },
             {
              "Age": 18,
              "Fare": 7.8542
             },
             {
              "Age": null,
              "Fare": 25.4667
             },
             {
              "Age": 50,
              "Fare": 28.7125
             },
             {
              "Age": 30,
              "Fare": 13
             },
             {
              "Age": 36,
              "Fare": 0
             },
             {
              "Age": null,
              "Fare": 69.55
             },
             {
              "Age": null,
              "Fare": 15.05
             },
             {
              "Age": 9,
              "Fare": 31.3875
             },
             {
              "Age": 1,
              "Fare": 39
             },
             {
              "Age": 4,
              "Fare": 22.025
             },
             {
              "Age": null,
              "Fare": 50
             },
             {
              "Age": null,
              "Fare": 15.5
             },
             {
              "Age": 45,
              "Fare": 26.55
             },
             {
              "Age": 40,
              "Fare": 15.5
             },
             {
              "Age": 36,
              "Fare": 7.8958
             },
             {
              "Age": 32,
              "Fare": 13
             },
             {
              "Age": 19,
              "Fare": 13
             },
             {
              "Age": 19,
              "Fare": 7.8542
             },
             {
              "Age": 3,
              "Fare": 26
             },
             {
              "Age": 44,
              "Fare": 27.7208
             },
             {
              "Age": 58,
              "Fare": 146.5208
             },
             {
              "Age": null,
              "Fare": 7.75
             },
             {
              "Age": 42,
              "Fare": 8.4042
             },
             {
              "Age": null,
              "Fare": 7.75
             },
             {
              "Age": 24,
              "Fare": 13
             },
             {
              "Age": 28,
              "Fare": 9.5
             },
             {
              "Age": null,
              "Fare": 69.55
             },
             {
              "Age": 34,
              "Fare": 6.4958
             },
             {
              "Age": 45.5,
              "Fare": 7.225
             },
             {
              "Age": 18,
              "Fare": 8.05
             },
             {
              "Age": 2,
              "Fare": 10.4625
             },
             {
              "Age": 32,
              "Fare": 15.85
             },
             {
              "Age": 26,
              "Fare": 18.7875
             },
             {
              "Age": 16,
              "Fare": 7.75
             },
             {
              "Age": 40,
              "Fare": 31
             },
             {
              "Age": 24,
              "Fare": 7.05
             },
             {
              "Age": 35,
              "Fare": 21
             },
             {
              "Age": 22,
              "Fare": 7.25
             },
             {
              "Age": 30,
              "Fare": 13
             },
             {
              "Age": null,
              "Fare": 7.75
             },
             {
              "Age": 31,
              "Fare": 113.275
             },
             {
              "Age": 27,
              "Fare": 7.925
             },
             {
              "Age": 42,
              "Fare": 27
             },
             {
              "Age": 32,
              "Fare": 76.2917
             },
             {
              "Age": 30,
              "Fare": 10.5
             },
             {
              "Age": 16,
              "Fare": 8.05
             },
             {
              "Age": 27,
              "Fare": 13
             },
             {
              "Age": 51,
              "Fare": 8.05
             },
             {
              "Age": null,
              "Fare": 7.8958
             },
             {
              "Age": 38,
              "Fare": 90
             },
             {
              "Age": 22,
              "Fare": 9.35
             },
             {
              "Age": 19,
              "Fare": 10.5
             },
             {
              "Age": 20.5,
              "Fare": 7.25
             },
             {
              "Age": 18,
              "Fare": 13
             },
             {
              "Age": null,
              "Fare": 25.4667
             },
             {
              "Age": 35,
              "Fare": 83.475
             },
             {
              "Age": 29,
              "Fare": 7.775
             },
             {
              "Age": 59,
              "Fare": 13.5
             },
             {
              "Age": 5,
              "Fare": 31.3875
             },
             {
              "Age": 24,
              "Fare": 10.5
             },
             {
              "Age": null,
              "Fare": 7.55
             },
             {
              "Age": 44,
              "Fare": 26
             },
             {
              "Age": 8,
              "Fare": 26.25
             },
             {
              "Age": 19,
              "Fare": 10.5
             },
             {
              "Age": 33,
              "Fare": 12.275
             },
             {
              "Age": null,
              "Fare": 14.4542
             },
             {
              "Age": null,
              "Fare": 15.5
             },
             {
              "Age": 29,
              "Fare": 10.5
             },
             {
              "Age": 22,
              "Fare": 7.125
             },
             {
              "Age": 30,
              "Fare": 7.225
             },
             {
              "Age": 44,
              "Fare": 90
             },
             {
              "Age": 25,
              "Fare": 7.775
             },
             {
              "Age": 24,
              "Fare": 14.5
             },
             {
              "Age": 37,
              "Fare": 52.5542
             },
             {
              "Age": 54,
              "Fare": 26
             },
             {
              "Age": null,
              "Fare": 7.25
             },
             {
              "Age": 29,
              "Fare": 10.4625
             },
             {
              "Age": 62,
              "Fare": 26.55
             },
             {
              "Age": 30,
              "Fare": 16.1
             },
             {
              "Age": 41,
              "Fare": 20.2125
             },
             {
              "Age": 29,
              "Fare": 15.2458
             },
             {
              "Age": null,
              "Fare": 79.2
             },
             {
              "Age": 30,
              "Fare": 86.5
             },
             {
              "Age": 35,
              "Fare": 512.3292
             },
             {
              "Age": 50,
              "Fare": 26
             },
             {
              "Age": null,
              "Fare": 7.75
             },
             {
              "Age": 3,
              "Fare": 31.3875
             },
             {
              "Age": 52,
              "Fare": 79.65
             },
             {
              "Age": 40,
              "Fare": 0
             },
             {
              "Age": null,
              "Fare": 7.75
             },
             {
              "Age": 36,
              "Fare": 10.5
             },
             {
              "Age": 16,
              "Fare": 39.6875
             },
             {
              "Age": 25,
              "Fare": 7.775
             },
             {
              "Age": 58,
              "Fare": 153.4625
             },
             {
              "Age": 35,
              "Fare": 135.6333
             },
             {
              "Age": null,
              "Fare": 31
             },
             {
              "Age": 25,
              "Fare": 0
             },
             {
              "Age": 41,
              "Fare": 19.5
             },
             {
              "Age": 37,
              "Fare": 29.7
             },
             {
              "Age": null,
              "Fare": 7.75
             },
             {
              "Age": 63,
              "Fare": 77.9583
             },
             {
              "Age": 45,
              "Fare": 7.75
             },
             {
              "Age": null,
              "Fare": 0
             },
             {
              "Age": 7,
              "Fare": 29.125
             },
             {
              "Age": 35,
              "Fare": 20.25
             },
             {
              "Age": 65,
              "Fare": 7.75
             },
             {
              "Age": 28,
              "Fare": 7.8542
             },
             {
              "Age": 16,
              "Fare": 9.5
             },
             {
              "Age": 19,
              "Fare": 8.05
             },
             {
              "Age": null,
              "Fare": 26
             },
             {
              "Age": 33,
              "Fare": 8.6625
             },
             {
              "Age": 30,
              "Fare": 9.5
             },
             {
              "Age": 22,
              "Fare": 7.8958
             },
             {
              "Age": 42,
              "Fare": 13
             },
             {
              "Age": 22,
              "Fare": 7.75
             },
             {
              "Age": 26,
              "Fare": 78.85
             },
             {
              "Age": 19,
              "Fare": 91.0792
             },
             {
              "Age": 36,
              "Fare": 12.875
             },
             {
              "Age": 24,
              "Fare": 8.85
             },
             {
              "Age": 24,
              "Fare": 7.8958
             },
             {
              "Age": null,
              "Fare": 27.7208
             },
             {
              "Age": 23.5,
              "Fare": 7.2292
             },
             {
              "Age": 2,
              "Fare": 151.55
             },
             {
              "Age": null,
              "Fare": 30.5
             },
             {
              "Age": 50,
              "Fare": 247.5208
             },
             {
              "Age": null,
              "Fare": 7.75
             },
             {
              "Age": null,
              "Fare": 23.25
             },
             {
              "Age": 19,
              "Fare": 0
             },
             {
              "Age": null,
              "Fare": 12.35
             },
             {
              "Age": null,
              "Fare": 8.05
             },
             {
              "Age": 0.92,
              "Fare": 151.55
             },
             {
              "Age": null,
              "Fare": 110.8833
             },
             {
              "Age": 17,
              "Fare": 108.9
             },
             {
              "Age": 30,
              "Fare": 24
             },
             {
              "Age": 30,
              "Fare": 56.9292
             },
             {
              "Age": 24,
              "Fare": 83.1583
             },
             {
              "Age": 18,
              "Fare": 262.375
             },
             {
              "Age": 26,
              "Fare": 26
             },
             {
              "Age": 28,
              "Fare": 7.8958
             },
             {
              "Age": 43,
              "Fare": 26.25
             },
             {
              "Age": 26,
              "Fare": 7.8542
             },
             {
              "Age": 24,
              "Fare": 26
             },
             {
              "Age": 54,
              "Fare": 14
             },
             {
              "Age": 31,
              "Fare": 164.8667
             },
             {
              "Age": 40,
              "Fare": 134.5
             },
             {
              "Age": 22,
              "Fare": 7.25
             },
             {
              "Age": 27,
              "Fare": 7.8958
             },
             {
              "Age": 30,
              "Fare": 12.35
             },
             {
              "Age": 22,
              "Fare": 29
             },
             {
              "Age": null,
              "Fare": 69.55
             },
             {
              "Age": 36,
              "Fare": 135.6333
             },
             {
              "Age": 61,
              "Fare": 6.2375
             },
             {
              "Age": 36,
              "Fare": 13
             },
             {
              "Age": 31,
              "Fare": 20.525
             },
             {
              "Age": 16,
              "Fare": 57.9792
             },
             {
              "Age": null,
              "Fare": 23.25
             },
             {
              "Age": 45.5,
              "Fare": 28.5
             },
             {
              "Age": 38,
              "Fare": 153.4625
             },
             {
              "Age": 16,
              "Fare": 18
             },
             {
              "Age": null,
              "Fare": 133.65
             },
             {
              "Age": null,
              "Fare": 7.8958
             },
             {
              "Age": 29,
              "Fare": 66.6
             },
             {
              "Age": 41,
              "Fare": 134.5
             },
             {
              "Age": 45,
              "Fare": 8.05
             },
             {
              "Age": 45,
              "Fare": 35.5
             },
             {
              "Age": 2,
              "Fare": 26
             },
             {
              "Age": 24,
              "Fare": 263
             },
             {
              "Age": 28,
              "Fare": 13
             },
             {
              "Age": 25,
              "Fare": 13
             },
             {
              "Age": 36,
              "Fare": 13
             },
             {
              "Age": 24,
              "Fare": 13
             },
             {
              "Age": 40,
              "Fare": 13
             },
             {
              "Age": null,
              "Fare": 16.1
             },
             {
              "Age": 3,
              "Fare": 15.9
             },
             {
              "Age": 42,
              "Fare": 8.6625
             },
             {
              "Age": 23,
              "Fare": 9.225
             },
             {
              "Age": null,
              "Fare": 35
             },
             {
              "Age": 15,
              "Fare": 7.2292
             },
             {
              "Age": 25,
              "Fare": 17.8
             },
             {
              "Age": null,
              "Fare": 7.225
             },
             {
              "Age": 28,
              "Fare": 9.5
             },
             {
              "Age": 22,
              "Fare": 55
             },
             {
              "Age": 38,
              "Fare": 13
             },
             {
              "Age": null,
              "Fare": 7.8792
             },
             {
              "Age": null,
              "Fare": 7.8792
             },
             {
              "Age": 40,
              "Fare": 27.9
             },
             {
              "Age": 29,
              "Fare": 27.7208
             },
             {
              "Age": 45,
              "Fare": 14.4542
             },
             {
              "Age": 35,
              "Fare": 7.05
             },
             {
              "Age": null,
              "Fare": 15.5
             },
             {
              "Age": 30,
              "Fare": 7.25
             },
             {
              "Age": 60,
              "Fare": 75.25
             },
             {
              "Age": null,
              "Fare": 7.2292
             },
             {
              "Age": null,
              "Fare": 7.75
             },
             {
              "Age": 24,
              "Fare": 69.3
             },
             {
              "Age": 25,
              "Fare": 55.4417
             },
             {
              "Age": 18,
              "Fare": 6.4958
             },
             {
              "Age": 19,
              "Fare": 8.05
             },
             {
              "Age": 22,
              "Fare": 135.6333
             },
             {
              "Age": 3,
              "Fare": 21.075
             },
             {
              "Age": null,
              "Fare": 82.1708
             },
             {
              "Age": 22,
              "Fare": 7.25
             },
             {
              "Age": 27,
              "Fare": 211.5
             },
             {
              "Age": 20,
              "Fare": 4.0125
             },
             {
              "Age": 19,
              "Fare": 7.775
             },
             {
              "Age": 42,
              "Fare": 227.525
             },
             {
              "Age": 1,
              "Fare": 15.7417
             },
             {
              "Age": 32,
              "Fare": 7.925
             },
             {
              "Age": 35,
              "Fare": 52
             },
             {
              "Age": null,
              "Fare": 7.8958
             },
             {
              "Age": 18,
              "Fare": 73.5
             },
             {
              "Age": 1,
              "Fare": 46.9
             },
             {
              "Age": 36,
              "Fare": 13
             },
             {
              "Age": null,
              "Fare": 7.7292
             },
             {
              "Age": 17,
              "Fare": 12
             },
             {
              "Age": 36,
              "Fare": 120
             },
             {
              "Age": 21,
              "Fare": 7.7958
             },
             {
              "Age": 28,
              "Fare": 7.925
             },
             {
              "Age": 23,
              "Fare": 113.275
             },
             {
              "Age": 24,
              "Fare": 16.7
             },
             {
              "Age": 22,
              "Fare": 7.7958
             },
             {
              "Age": 31,
              "Fare": 7.8542
             },
             {
              "Age": 46,
              "Fare": 26
             },
             {
              "Age": 23,
              "Fare": 10.5
             },
             {
              "Age": 28,
              "Fare": 12.65
             },
             {
              "Age": 39,
              "Fare": 7.925
             },
             {
              "Age": 26,
              "Fare": 8.05
             },
             {
              "Age": 21,
              "Fare": 9.825
             },
             {
              "Age": 28,
              "Fare": 15.85
             },
             {
              "Age": 20,
              "Fare": 8.6625
             },
             {
              "Age": 34,
              "Fare": 21
             },
             {
              "Age": 51,
              "Fare": 7.75
             },
             {
              "Age": 3,
              "Fare": 18.75
             },
             {
              "Age": 21,
              "Fare": 7.775
             },
             {
              "Age": null,
              "Fare": 25.4667
             },
             {
              "Age": null,
              "Fare": 7.8958
             },
             {
              "Age": null,
              "Fare": 6.8583
             },
             {
              "Age": 33,
              "Fare": 90
             },
             {
              "Age": null,
              "Fare": 0
             },
             {
              "Age": 44,
              "Fare": 7.925
             },
             {
              "Age": null,
              "Fare": 8.05
             },
             {
              "Age": 34,
              "Fare": 32.5
             },
             {
              "Age": 18,
              "Fare": 13
             },
             {
              "Age": 30,
              "Fare": 13
             },
             {
              "Age": 10,
              "Fare": 24.15
             },
             {
              "Age": null,
              "Fare": 7.8958
             },
             {
              "Age": 21,
              "Fare": 7.7333
             },
             {
              "Age": 29,
              "Fare": 7.875
             },
             {
              "Age": 28,
              "Fare": 14.4
             },
             {
              "Age": 18,
              "Fare": 20.2125
             },
             {
              "Age": null,
              "Fare": 7.25
             },
             {
              "Age": 28,
              "Fare": 26
             },
             {
              "Age": 19,
              "Fare": 26
             },
             {
              "Age": null,
              "Fare": 7.75
             },
             {
              "Age": 32,
              "Fare": 8.05
             },
             {
              "Age": 28,
              "Fare": 26.55
             },
             {
              "Age": null,
              "Fare": 16.1
             },
             {
              "Age": 42,
              "Fare": 26
             },
             {
              "Age": 17,
              "Fare": 7.125
             },
             {
              "Age": 50,
              "Fare": 55.9
             },
             {
              "Age": 14,
              "Fare": 120
             },
             {
              "Age": 21,
              "Fare": 34.375
             },
             {
              "Age": 24,
              "Fare": 18.75
             },
             {
              "Age": 64,
              "Fare": 263
             },
             {
              "Age": 31,
              "Fare": 10.5
             },
             {
              "Age": 45,
              "Fare": 26.25
             },
             {
              "Age": 20,
              "Fare": 9.5
             },
             {
              "Age": 25,
              "Fare": 7.775
             },
             {
              "Age": 28,
              "Fare": 13
             },
             {
              "Age": null,
              "Fare": 8.1125
             },
             {
              "Age": 4,
              "Fare": 81.8583
             },
             {
              "Age": 13,
              "Fare": 19.5
             },
             {
              "Age": 34,
              "Fare": 26.55
             },
             {
              "Age": 5,
              "Fare": 19.2583
             },
             {
              "Age": 52,
              "Fare": 30.5
             },
             {
              "Age": 36,
              "Fare": 27.75
             },
             {
              "Age": null,
              "Fare": 19.9667
             },
             {
              "Age": 30,
              "Fare": 27.75
             },
             {
              "Age": 49,
              "Fare": 89.1042
             },
             {
              "Age": null,
              "Fare": 8.05
             },
             {
              "Age": 29,
              "Fare": 7.8958
             },
             {
              "Age": 65,
              "Fare": 26.55
             },
             {
              "Age": null,
              "Fare": 51.8625
             },
             {
              "Age": 50,
              "Fare": 10.5
             },
             {
              "Age": null,
              "Fare": 7.75
             },
             {
              "Age": 48,
              "Fare": 26.55
             },
             {
              "Age": 34,
              "Fare": 8.05
             },
             {
              "Age": 47,
              "Fare": 38.5
             },
             {
              "Age": 48,
              "Fare": 13
             },
             {
              "Age": null,
              "Fare": 8.05
             },
             {
              "Age": 38,
              "Fare": 7.05
             },
             {
              "Age": null,
              "Fare": 0
             },
             {
              "Age": 56,
              "Fare": 26.55
             },
             {
              "Age": null,
              "Fare": 7.725
             },
             {
              "Age": 0.75,
              "Fare": 19.2583
             },
             {
              "Age": null,
              "Fare": 7.25
             },
             {
              "Age": 38,
              "Fare": 8.6625
             },
             {
              "Age": 33,
              "Fare": 27.75
             },
             {
              "Age": 23,
              "Fare": 13.7917
             },
             {
              "Age": 22,
              "Fare": 9.8375
             },
             {
              "Age": null,
              "Fare": 52
             },
             {
              "Age": 34,
              "Fare": 21
             },
             {
              "Age": 29,
              "Fare": 7.0458
             },
             {
              "Age": 22,
              "Fare": 7.5208
             },
             {
              "Age": 2,
              "Fare": 12.2875
             },
             {
              "Age": 9,
              "Fare": 46.9
             },
             {
              "Age": null,
              "Fare": 0
             },
             {
              "Age": 50,
              "Fare": 8.05
             },
             {
              "Age": 63,
              "Fare": 9.5875
             },
             {
              "Age": 25,
              "Fare": 91.0792
             },
             {
              "Age": null,
              "Fare": 25.4667
             },
             {
              "Age": 35,
              "Fare": 90
             },
             {
              "Age": 58,
              "Fare": 29.7
             },
             {
              "Age": 30,
              "Fare": 8.05
             },
             {
              "Age": 9,
              "Fare": 15.9
             },
             {
              "Age": null,
              "Fare": 19.9667
             },
             {
              "Age": 21,
              "Fare": 7.25
             },
             {
              "Age": 55,
              "Fare": 30.5
             },
             {
              "Age": 71,
              "Fare": 49.5042
             },
             {
              "Age": 21,
              "Fare": 8.05
             },
             {
              "Age": null,
              "Fare": 14.4583
             },
             {
              "Age": 54,
              "Fare": 78.2667
             },
             {
              "Age": null,
              "Fare": 15.1
             },
             {
              "Age": 25,
              "Fare": 151.55
             },
             {
              "Age": 24,
              "Fare": 7.7958
             },
             {
              "Age": 17,
              "Fare": 8.6625
             },
             {
              "Age": 21,
              "Fare": 7.75
             },
             {
              "Age": null,
              "Fare": 7.6292
             },
             {
              "Age": 37,
              "Fare": 9.5875
             },
             {
              "Age": 16,
              "Fare": 86.5
             },
             {
              "Age": 18,
              "Fare": 108.9
             },
             {
              "Age": 33,
              "Fare": 26
             },
             {
              "Age": null,
              "Fare": 26.55
             },
             {
              "Age": 28,
              "Fare": 22.525
             },
             {
              "Age": 26,
              "Fare": 56.4958
             },
             {
              "Age": 29,
              "Fare": 7.75
             },
             {
              "Age": null,
              "Fare": 8.05
             },
             {
              "Age": 36,
              "Fare": 26.2875
             },
             {
              "Age": 54,
              "Fare": 59.4
             },
             {
              "Age": 24,
              "Fare": 7.4958
             },
             {
              "Age": 47,
              "Fare": 34.0208
             },
             {
              "Age": 34,
              "Fare": 10.5
             },
             {
              "Age": null,
              "Fare": 24.15
             },
             {
              "Age": 36,
              "Fare": 26
             },
             {
              "Age": 32,
              "Fare": 7.8958
             },
             {
              "Age": 30,
              "Fare": 93.5
             },
             {
              "Age": 22,
              "Fare": 7.8958
             },
             {
              "Age": null,
              "Fare": 7.225
             },
             {
              "Age": 44,
              "Fare": 57.9792
             },
             {
              "Age": null,
              "Fare": 7.2292
             },
             {
              "Age": 40.5,
              "Fare": 7.75
             },
             {
              "Age": 50,
              "Fare": 10.5
             },
             {
              "Age": null,
              "Fare": 221.7792
             },
             {
              "Age": 39,
              "Fare": 7.925
             },
             {
              "Age": 23,
              "Fare": 11.5
             },
             {
              "Age": 2,
              "Fare": 26
             },
             {
              "Age": null,
              "Fare": 7.2292
             },
             {
              "Age": 17,
              "Fare": 7.2292
             },
             {
              "Age": null,
              "Fare": 22.3583
             },
             {
              "Age": 30,
              "Fare": 8.6625
             },
             {
              "Age": 7,
              "Fare": 26.25
             },
             {
              "Age": 45,
              "Fare": 26.55
             },
             {
              "Age": 30,
              "Fare": 106.425
             },
             {
              "Age": null,
              "Fare": 14.5
             },
             {
              "Age": 22,
              "Fare": 49.5
             },
             {
              "Age": 36,
              "Fare": 71
             },
             {
              "Age": 9,
              "Fare": 31.275
             },
             {
              "Age": 11,
              "Fare": 31.275
             },
             {
              "Age": 32,
              "Fare": 26
             },
             {
              "Age": 50,
              "Fare": 106.425
             },
             {
              "Age": 64,
              "Fare": 26
             },
             {
              "Age": 19,
              "Fare": 26
             },
             {
              "Age": null,
              "Fare": 13.8625
             },
             {
              "Age": 33,
              "Fare": 20.525
             },
             {
              "Age": 8,
              "Fare": 36.75
             },
             {
              "Age": 17,
              "Fare": 110.8833
             },
             {
              "Age": 27,
              "Fare": 26
             },
             {
              "Age": null,
              "Fare": 7.8292
             },
             {
              "Age": 22,
              "Fare": 7.225
             },
             {
              "Age": 22,
              "Fare": 7.775
             },
             {
              "Age": 62,
              "Fare": 26.55
             },
             {
              "Age": 48,
              "Fare": 39.6
             },
             {
              "Age": null,
              "Fare": 227.525
             },
             {
              "Age": 39,
              "Fare": 79.65
             },
             {
              "Age": 36,
              "Fare": 17.4
             },
             {
              "Age": null,
              "Fare": 7.75
             },
             {
              "Age": 40,
              "Fare": 7.8958
             },
             {
              "Age": 28,
              "Fare": 13.5
             },
             {
              "Age": null,
              "Fare": 8.05
             },
             {
              "Age": null,
              "Fare": 8.05
             },
             {
              "Age": 24,
              "Fare": 24.15
             },
             {
              "Age": 19,
              "Fare": 7.8958
             },
             {
              "Age": 29,
              "Fare": 21.075
             },
             {
              "Age": null,
              "Fare": 7.2292
             },
             {
              "Age": 32,
              "Fare": 7.8542
             },
             {
              "Age": 62,
              "Fare": 10.5
             },
             {
              "Age": 53,
              "Fare": 51.4792
             },
             {
              "Age": 36,
              "Fare": 26.3875
             },
             {
              "Age": null,
              "Fare": 7.75
             },
             {
              "Age": 16,
              "Fare": 8.05
             },
             {
              "Age": 19,
              "Fare": 14.5
             },
             {
              "Age": 34,
              "Fare": 13
             },
             {
              "Age": 39,
              "Fare": 55.9
             },
             {
              "Age": null,
              "Fare": 14.4583
             },
             {
              "Age": 32,
              "Fare": 7.925
             },
             {
              "Age": 25,
              "Fare": 30
             },
             {
              "Age": 39,
              "Fare": 110.8833
             },
             {
              "Age": 54,
              "Fare": 26
             },
             {
              "Age": 36,
              "Fare": 40.125
             },
             {
              "Age": null,
              "Fare": 8.7125
             },
             {
              "Age": 18,
              "Fare": 79.65
             },
             {
              "Age": 47,
              "Fare": 15
             },
             {
              "Age": 60,
              "Fare": 79.2
             },
             {
              "Age": 22,
              "Fare": 8.05
             },
             {
              "Age": null,
              "Fare": 8.05
             },
             {
              "Age": 35,
              "Fare": 7.125
             },
             {
              "Age": 52,
              "Fare": 78.2667
             },
             {
              "Age": 47,
              "Fare": 7.25
             },
             {
              "Age": null,
              "Fare": 7.75
             },
             {
              "Age": 37,
              "Fare": 26
             },
             {
              "Age": 36,
              "Fare": 24.15
             },
             {
              "Age": null,
              "Fare": 33
             },
             {
              "Age": 49,
              "Fare": 0
             },
             {
              "Age": null,
              "Fare": 7.225
             },
             {
              "Age": 49,
              "Fare": 56.9292
             },
             {
              "Age": 24,
              "Fare": 27
             },
             {
              "Age": null,
              "Fare": 7.8958
             },
             {
              "Age": null,
              "Fare": 42.4
             },
             {
              "Age": 44,
              "Fare": 8.05
             },
             {
              "Age": 35,
              "Fare": 26.55
             },
             {
              "Age": 36,
              "Fare": 15.55
             },
             {
              "Age": 30,
              "Fare": 7.8958
             },
             {
              "Age": 27,
              "Fare": 30.5
             },
             {
              "Age": 22,
              "Fare": 41.5792
             },
             {
              "Age": 40,
              "Fare": 153.4625
             },
             {
              "Age": 39,
              "Fare": 31.275
             },
             {
              "Age": null,
              "Fare": 7.05
             },
             {
              "Age": null,
              "Fare": 15.5
             },
             {
              "Age": null,
              "Fare": 7.75
             },
             {
              "Age": 35,
              "Fare": 8.05
             },
             {
              "Age": 24,
              "Fare": 65
             },
             {
              "Age": 34,
              "Fare": 14.4
             },
             {
              "Age": 26,
              "Fare": 16.1
             },
             {
              "Age": 4,
              "Fare": 39
             },
             {
              "Age": 26,
              "Fare": 10.5
             },
             {
              "Age": 27,
              "Fare": 14.4542
             },
             {
              "Age": 42,
              "Fare": 52.5542
             },
             {
              "Age": 20,
              "Fare": 15.7417
             },
             {
              "Age": 21,
              "Fare": 7.8542
             },
             {
              "Age": 21,
              "Fare": 16.1
             },
             {
              "Age": 61,
              "Fare": 32.3208
             },
             {
              "Age": 57,
              "Fare": 12.35
             },
             {
              "Age": 21,
              "Fare": 77.9583
             },
             {
              "Age": 26,
              "Fare": 7.8958
             },
             {
              "Age": null,
              "Fare": 7.7333
             },
             {
              "Age": 80,
              "Fare": 30
             },
             {
              "Age": 51,
              "Fare": 7.0542
             },
             {
              "Age": 32,
              "Fare": 30.5
             },
             {
              "Age": null,
              "Fare": 0
             },
             {
              "Age": 9,
              "Fare": 27.9
             },
             {
              "Age": 28,
              "Fare": 13
             },
             {
              "Age": 32,
              "Fare": 7.925
             },
             {
              "Age": 31,
              "Fare": 26.25
             },
             {
              "Age": 41,
              "Fare": 39.6875
             },
             {
              "Age": null,
              "Fare": 16.1
             },
             {
              "Age": 20,
              "Fare": 7.8542
             },
             {
              "Age": 24,
              "Fare": 69.3
             },
             {
              "Age": 2,
              "Fare": 27.9
             },
             {
              "Age": null,
              "Fare": 56.4958
             },
             {
              "Age": 0.75,
              "Fare": 19.2583
             },
             {
              "Age": 48,
              "Fare": 76.7292
             },
             {
              "Age": 19,
              "Fare": 7.8958
             },
             {
              "Age": 56,
              "Fare": 35.5
             },
             {
              "Age": null,
              "Fare": 7.55
             },
             {
              "Age": 23,
              "Fare": 7.55
             },
             {
              "Age": null,
              "Fare": 7.8958
             },
             {
              "Age": 18,
              "Fare": 23
             },
             {
              "Age": 21,
              "Fare": 8.4333
             },
             {
              "Age": null,
              "Fare": 7.8292
             },
             {
              "Age": 18,
              "Fare": 6.75
             },
             {
              "Age": 24,
              "Fare": 73.5
             },
             {
              "Age": null,
              "Fare": 7.8958
             },
             {
              "Age": 32,
              "Fare": 15.5
             },
             {
              "Age": 23,
              "Fare": 13
             },
             {
              "Age": 58,
              "Fare": 113.275
             },
             {
              "Age": 50,
              "Fare": 133.65
             },
             {
              "Age": 40,
              "Fare": 7.225
             },
             {
              "Age": 47,
              "Fare": 25.5875
             },
             {
              "Age": 36,
              "Fare": 7.4958
             },
             {
              "Age": 20,
              "Fare": 7.925
             },
             {
              "Age": 32,
              "Fare": 73.5
             },
             {
              "Age": 25,
              "Fare": 13
             },
             {
              "Age": null,
              "Fare": 7.775
             },
             {
              "Age": 43,
              "Fare": 8.05
             },
             {
              "Age": null,
              "Fare": 52
             },
             {
              "Age": 40,
              "Fare": 39
             },
             {
              "Age": 31,
              "Fare": 52
             },
             {
              "Age": 70,
              "Fare": 10.5
             },
             {
              "Age": 31,
              "Fare": 13
             },
             {
              "Age": null,
              "Fare": 0
             },
             {
              "Age": 18,
              "Fare": 7.775
             },
             {
              "Age": 24.5,
              "Fare": 8.05
             },
             {
              "Age": 18,
              "Fare": 9.8417
             },
             {
              "Age": 43,
              "Fare": 46.9
             },
             {
              "Age": 36,
              "Fare": 512.3292
             },
             {
              "Age": null,
              "Fare": 8.1375
             },
             {
              "Age": 27,
              "Fare": 76.7292
             },
             {
              "Age": 20,
              "Fare": 9.225
             },
             {
              "Age": 14,
              "Fare": 46.9
             },
             {
              "Age": 60,
              "Fare": 39
             },
             {
              "Age": 25,
              "Fare": 41.5792
             },
             {
              "Age": 14,
              "Fare": 39.6875
             },
             {
              "Age": 19,
              "Fare": 10.1708
             },
             {
              "Age": 18,
              "Fare": 7.7958
             },
             {
              "Age": 15,
              "Fare": 211.3375
             },
             {
              "Age": 31,
              "Fare": 57
             },
             {
              "Age": 4,
              "Fare": 13.4167
             },
             {
              "Age": null,
              "Fare": 56.4958
             },
             {
              "Age": 25,
              "Fare": 7.225
             },
             {
              "Age": 60,
              "Fare": 26.55
             },
             {
              "Age": 52,
              "Fare": 13.5
             },
             {
              "Age": 44,
              "Fare": 8.05
             },
             {
              "Age": null,
              "Fare": 7.7333
             },
             {
              "Age": 49,
              "Fare": 110.8833
             },
             {
              "Age": 42,
              "Fare": 7.65
             },
             {
              "Age": 18,
              "Fare": 227.525
             },
             {
              "Age": 35,
              "Fare": 26.2875
             },
             {
              "Age": 18,
              "Fare": 14.4542
             },
             {
              "Age": 25,
              "Fare": 7.7417
             },
             {
              "Age": 26,
              "Fare": 7.8542
             },
             {
              "Age": 39,
              "Fare": 26
             },
             {
              "Age": 45,
              "Fare": 13.5
             },
             {
              "Age": 42,
              "Fare": 26.2875
             },
             {
              "Age": 22,
              "Fare": 151.55
             },
             {
              "Age": null,
              "Fare": 15.2458
             },
             {
              "Age": 24,
              "Fare": 49.5042
             },
             {
              "Age": null,
              "Fare": 26.55
             },
             {
              "Age": 48,
              "Fare": 52
             },
             {
              "Age": 29,
              "Fare": 9.4833
             },
             {
              "Age": 52,
              "Fare": 13
             },
             {
              "Age": 19,
              "Fare": 7.65
             },
             {
              "Age": 38,
              "Fare": 227.525
             },
             {
              "Age": 27,
              "Fare": 10.5
             },
             {
              "Age": null,
              "Fare": 15.5
             },
             {
              "Age": 33,
              "Fare": 7.775
             },
             {
              "Age": 6,
              "Fare": 33
             },
             {
              "Age": 17,
              "Fare": 7.0542
             },
             {
              "Age": 34,
              "Fare": 13
             },
             {
              "Age": 50,
              "Fare": 13
             },
             {
              "Age": 27,
              "Fare": 53.1
             },
             {
              "Age": 20,
              "Fare": 8.6625
             },
             {
              "Age": 30,
              "Fare": 21
             },
             {
              "Age": null,
              "Fare": 7.7375
             },
             {
              "Age": 25,
              "Fare": 26
             },
             {
              "Age": 25,
              "Fare": 7.925
             },
             {
              "Age": 29,
              "Fare": 211.3375
             },
             {
              "Age": 11,
              "Fare": 18.7875
             },
             {
              "Age": null,
              "Fare": 0
             },
             {
              "Age": 23,
              "Fare": 13
             },
             {
              "Age": 23,
              "Fare": 13
             },
             {
              "Age": 28.5,
              "Fare": 16.1
             },
             {
              "Age": 48,
              "Fare": 34.375
             },
             {
              "Age": 35,
              "Fare": 512.3292
             },
             {
              "Age": null,
              "Fare": 7.8958
             },
             {
              "Age": null,
              "Fare": 7.8958
             },
             {
              "Age": null,
              "Fare": 30
             },
             {
              "Age": 36,
              "Fare": 78.85
             },
             {
              "Age": 21,
              "Fare": 262.375
             },
             {
              "Age": 24,
              "Fare": 16.1
             },
             {
              "Age": 31,
              "Fare": 7.925
             },
             {
              "Age": 70,
              "Fare": 71
             },
             {
              "Age": 16,
              "Fare": 20.25
             },
             {
              "Age": 30,
              "Fare": 13
             },
             {
              "Age": 19,
              "Fare": 53.1
             },
             {
              "Age": 31,
              "Fare": 7.75
             },
             {
              "Age": 4,
              "Fare": 23
             },
             {
              "Age": 6,
              "Fare": 12.475
             },
             {
              "Age": 33,
              "Fare": 9.5
             },
             {
              "Age": 23,
              "Fare": 7.8958
             },
             {
              "Age": 48,
              "Fare": 65
             },
             {
              "Age": 0.67,
              "Fare": 14.5
             },
             {
              "Age": 28,
              "Fare": 7.7958
             },
             {
              "Age": 18,
              "Fare": 11.5
             },
             {
              "Age": 34,
              "Fare": 8.05
             },
             {
              "Age": 33,
              "Fare": 86.5
             },
             {
              "Age": null,
              "Fare": 14.5
             },
             {
              "Age": 41,
              "Fare": 7.125
             },
             {
              "Age": 20,
              "Fare": 7.2292
             },
             {
              "Age": 36,
              "Fare": 120
             },
             {
              "Age": 16,
              "Fare": 7.775
             },
             {
              "Age": 51,
              "Fare": 77.9583
             },
             {
              "Age": null,
              "Fare": 39.6
             },
             {
              "Age": 30.5,
              "Fare": 7.75
             },
             {
              "Age": null,
              "Fare": 24.15
             },
             {
              "Age": 32,
              "Fare": 8.3625
             },
             {
              "Age": 24,
              "Fare": 9.5
             },
             {
              "Age": 48,
              "Fare": 7.8542
             },
             {
              "Age": 57,
              "Fare": 10.5
             },
             {
              "Age": null,
              "Fare": 7.225
             },
             {
              "Age": 54,
              "Fare": 23
             },
             {
              "Age": 18,
              "Fare": 7.75
             },
             {
              "Age": null,
              "Fare": 7.75
             },
             {
              "Age": 5,
              "Fare": 12.475
             },
             {
              "Age": null,
              "Fare": 7.7375
             },
             {
              "Age": 43,
              "Fare": 211.3375
             },
             {
              "Age": 13,
              "Fare": 7.2292
             },
             {
              "Age": 17,
              "Fare": 57
             },
             {
              "Age": 29,
              "Fare": 30
             },
             {
              "Age": null,
              "Fare": 23.45
             },
             {
              "Age": 25,
              "Fare": 7.05
             },
             {
              "Age": 25,
              "Fare": 7.25
             },
             {
              "Age": 18,
              "Fare": 7.4958
             },
             {
              "Age": 8,
              "Fare": 29.125
             },
             {
              "Age": 1,
              "Fare": 20.575
             },
             {
              "Age": 46,
              "Fare": 79.2
             },
             {
              "Age": null,
              "Fare": 7.75
             },
             {
              "Age": 16,
              "Fare": 26
             },
             {
              "Age": null,
              "Fare": 69.55
             },
             {
              "Age": null,
              "Fare": 30.6958
             },
             {
              "Age": 25,
              "Fare": 7.8958
             },
             {
              "Age": 39,
              "Fare": 13
             },
             {
              "Age": 49,
              "Fare": 25.9292
             },
             {
              "Age": 31,
              "Fare": 8.6833
             },
             {
              "Age": 30,
              "Fare": 7.2292
             },
             {
              "Age": 30,
              "Fare": 24.15
             },
             {
              "Age": 34,
              "Fare": 13
             },
             {
              "Age": 31,
              "Fare": 26.25
             },
             {
              "Age": 11,
              "Fare": 120
             },
             {
              "Age": 0.42,
              "Fare": 8.5167
             },
             {
              "Age": 27,
              "Fare": 6.975
             },
             {
              "Age": 31,
              "Fare": 7.775
             },
             {
              "Age": 39,
              "Fare": 0
             },
             {
              "Age": 18,
              "Fare": 7.775
             },
             {
              "Age": 39,
              "Fare": 13
             },
             {
              "Age": 33,
              "Fare": 53.1
             },
             {
              "Age": 26,
              "Fare": 7.8875
             },
             {
              "Age": 39,
              "Fare": 24.15
             },
             {
              "Age": 35,
              "Fare": 10.5
             },
             {
              "Age": 6,
              "Fare": 31.275
             },
             {
              "Age": 30.5,
              "Fare": 8.05
             },
             {
              "Age": null,
              "Fare": 0
             },
             {
              "Age": 23,
              "Fare": 7.925
             },
             {
              "Age": 31,
              "Fare": 37.0042
             },
             {
              "Age": 43,
              "Fare": 6.45
             },
             {
              "Age": 10,
              "Fare": 27.9
             },
             {
              "Age": 52,
              "Fare": 93.5
             },
             {
              "Age": 27,
              "Fare": 8.6625
             },
             {
              "Age": 38,
              "Fare": 0
             },
             {
              "Age": 27,
              "Fare": 12.475
             },
             {
              "Age": 2,
              "Fare": 39.6875
             },
             {
              "Age": null,
              "Fare": 6.95
             },
             {
              "Age": null,
              "Fare": 56.4958
             },
             {
              "Age": 1,
              "Fare": 37.0042
             },
             {
              "Age": null,
              "Fare": 7.75
             },
             {
              "Age": 62,
              "Fare": 80
             },
             {
              "Age": 15,
              "Fare": 14.4542
             },
             {
              "Age": 0.83,
              "Fare": 18.75
             },
             {
              "Age": null,
              "Fare": 7.2292
             },
             {
              "Age": 23,
              "Fare": 7.8542
             },
             {
              "Age": 18,
              "Fare": 8.3
             },
             {
              "Age": 39,
              "Fare": 83.1583
             },
             {
              "Age": 21,
              "Fare": 8.6625
             },
             {
              "Age": null,
              "Fare": 8.05
             },
             {
              "Age": 32,
              "Fare": 56.4958
             },
             {
              "Age": null,
              "Fare": 29.7
             },
             {
              "Age": 20,
              "Fare": 7.925
             },
             {
              "Age": 16,
              "Fare": 10.5
             },
             {
              "Age": 30,
              "Fare": 31
             },
             {
              "Age": 34.5,
              "Fare": 6.4375
             },
             {
              "Age": 17,
              "Fare": 8.6625
             },
             {
              "Age": 42,
              "Fare": 7.55
             },
             {
              "Age": null,
              "Fare": 69.55
             },
             {
              "Age": 35,
              "Fare": 7.8958
             },
             {
              "Age": 28,
              "Fare": 33
             },
             {
              "Age": null,
              "Fare": 89.1042
             },
             {
              "Age": 4,
              "Fare": 31.275
             },
             {
              "Age": 74,
              "Fare": 7.775
             },
             {
              "Age": 9,
              "Fare": 15.2458
             },
             {
              "Age": 16,
              "Fare": 39.4
             },
             {
              "Age": 44,
              "Fare": 26
             },
             {
              "Age": 18,
              "Fare": 9.35
             },
             {
              "Age": 45,
              "Fare": 164.8667
             },
             {
              "Age": 51,
              "Fare": 26.55
             },
             {
              "Age": 24,
              "Fare": 19.2583
             },
             {
              "Age": null,
              "Fare": 7.2292
             },
             {
              "Age": 41,
              "Fare": 14.1083
             },
             {
              "Age": 21,
              "Fare": 11.5
             },
             {
              "Age": 48,
              "Fare": 25.9292
             },
             {
              "Age": null,
              "Fare": 69.55
             },
             {
              "Age": 24,
              "Fare": 13
             },
             {
              "Age": 42,
              "Fare": 13
             },
             {
              "Age": 27,
              "Fare": 13.8583
             },
             {
              "Age": 31,
              "Fare": 50.4958
             },
             {
              "Age": null,
              "Fare": 9.5
             },
             {
              "Age": 4,
              "Fare": 11.1333
             },
             {
              "Age": 26,
              "Fare": 7.8958
             },
             {
              "Age": 47,
              "Fare": 52.5542
             },
             {
              "Age": 33,
              "Fare": 5
             },
             {
              "Age": 47,
              "Fare": 9
             },
             {
              "Age": 28,
              "Fare": 24
             },
             {
              "Age": 15,
              "Fare": 7.225
             },
             {
              "Age": 20,
              "Fare": 9.8458
             },
             {
              "Age": 19,
              "Fare": 7.8958
             },
             {
              "Age": null,
              "Fare": 7.8958
             },
             {
              "Age": 56,
              "Fare": 83.1583
             },
             {
              "Age": 25,
              "Fare": 26
             },
             {
              "Age": 33,
              "Fare": 7.8958
             },
             {
              "Age": 22,
              "Fare": 10.5167
             },
             {
              "Age": 28,
              "Fare": 10.5
             },
             {
              "Age": 25,
              "Fare": 7.05
             },
             {
              "Age": 39,
              "Fare": 29.125
             },
             {
              "Age": 27,
              "Fare": 13
             },
             {
              "Age": 19,
              "Fare": 30
             },
             {
              "Age": null,
              "Fare": 23.45
             },
             {
              "Age": 26,
              "Fare": 30
             },
             {
              "Age": 32,
              "Fare": 7.75
             }
            ]
           },
           "encoding": {
            "x": {
             "axis": {
              "title": "Age"
             },
             "field": "Age",
             "scale": {
              "domain": [
               0.42,
               80
              ]
             },
             "type": "quantitative"
            },
            "y": {
             "axis": {
              "title": "Fare"
             },
             "field": "Fare",
             "scale": {
              "domain": [
               0,
               512.3292
              ]
             },
             "type": "quantitative"
            }
           },
           "height": 150,
           "mark": "circle",
           "selection": {
            "selector001": {
             "bind": "scales",
             "encodings": [
              "x",
              "y"
             ],
             "type": "interval"
            }
           },
           "vislib": "vegalite",
           "width": 160
          }
         ]
        },
        {
         "action": "Distribution",
         "description": "Show univariate histograms of <p class='highlight-descriptor'>quantitative</p>  attributes.",
         "long_description": "Distribution displays univariate histogram distributions of all quantitative attributes (e.g., Age). Visualizations are ranked from most to least skewed.",
         "vspec": [
          {
           "$schema": "https://vega.github.io/schema/vega-lite/v4.8.1.json",
           "config": {
            "axis": {
             "labelColor": "#505050",
             "labelFont": "Helvetica Neue",
             "labelFontSize": 9,
             "labelFontWeight": 400,
             "titleFont": "Helvetica Neue",
             "titleFontSize": 11,
             "titleFontWeight": 500
            },
            "legend": {
             "labelFont": "Helvetica Neue",
             "labelFontSize": 9,
             "labelFontWeight": 400,
             "titleFont": "Helvetica Neue",
             "titleFontSize": 10,
             "titleFontWeight": 500
            },
            "title": {
             "font": "Helvetica Neue",
             "fontSize": 13,
             "fontWeight": 500
            },
            "view": {
             "continuousHeight": 300,
             "continuousWidth": 400
            }
           },
           "data": {
            "name": "data-cabb8aa8446c40503510ccc0f40b7786"
           },
           "datasets": {
            "data-cabb8aa8446c40503510ccc0f40b7786": [
             {
              "Fare": 0,
              "Fare_end": 53.79,
              "Number of Records": 732
             },
             {
              "Fare": 51.23292,
              "Fare_end": 105.02292,
              "Number of Records": 106
             },
             {
              "Fare": 102.46584,
              "Fare_end": 156.25584,
              "Number of Records": 31
             },
             {
              "Fare": 153.69876,
              "Fare_end": 207.48875999999998,
              "Number of Records": 2
             },
             {
              "Fare": 204.93168,
              "Fare_end": 258.72168,
              "Number of Records": 11
             },
             {
              "Fare": 256.1646,
              "Fare_end": 309.9546,
              "Number of Records": 6
             },
             {
              "Fare": 307.39752,
              "Fare_end": 361.18752,
              "Number of Records": 0
             },
             {
              "Fare": 358.63044,
              "Fare_end": 412.42044000000004,
              "Number of Records": 0
             },
             {
              "Fare": 409.86336,
              "Fare_end": 463.65336,
              "Number of Records": 0
             },
             {
              "Fare": 461.09628,
              "Fare_end": 514.8862799999999,
              "Number of Records": 3
             }
            ]
           },
           "encoding": {
            "x": {
             "axis": {
              "title": "Fare (binned)"
             },
             "bin": {
              "binned": true,
              "step": 51.23292
             },
             "field": "Fare",
             "scale": {
              "domain": [
               0,
               512.3292
              ]
             },
             "title": "Fare (binned)",
             "type": "quantitative"
            },
            "x2": {
             "field": "Fare_end"
            },
            "y": {
             "field": "Number of Records",
             "type": "quantitative"
            }
           },
           "height": 150,
           "mark": "bar",
           "vislib": "vegalite",
           "width": 160
          },
          {
           "$schema": "https://vega.github.io/schema/vega-lite/v4.8.1.json",
           "config": {
            "axis": {
             "labelColor": "#505050",
             "labelFont": "Helvetica Neue",
             "labelFontSize": 9,
             "labelFontWeight": 400,
             "titleFont": "Helvetica Neue",
             "titleFontSize": 11,
             "titleFontWeight": 500
            },
            "legend": {
             "labelFont": "Helvetica Neue",
             "labelFontSize": 9,
             "labelFontWeight": 400,
             "titleFont": "Helvetica Neue",
             "titleFontSize": 10,
             "titleFontWeight": 500
            },
            "title": {
             "font": "Helvetica Neue",
             "fontSize": 13,
             "fontWeight": 500
            },
            "view": {
             "continuousHeight": 300,
             "continuousWidth": 400
            }
           },
           "data": {
            "name": "data-2d37061fe88a3d1e167ba0b8b79d3179"
           },
           "datasets": {
            "data-2d37061fe88a3d1e167ba0b8b79d3179": [
             {
              "Age": 0.42,
              "Age_end": 8.78,
              "Number of Records": 54
             },
             {
              "Age": 8.378,
              "Age_end": 16.738,
              "Number of Records": 46
             },
             {
              "Age": 16.336000000000002,
              "Age_end": 24.696,
              "Number of Records": 177
             },
             {
              "Age": 24.294000000000004,
              "Age_end": 32.654,
              "Number of Records": 169
             },
             {
              "Age": 32.252,
              "Age_end": 40.612,
              "Number of Records": 118
             },
             {
              "Age": 40.21,
              "Age_end": 48.57,
              "Number of Records": 70
             },
             {
              "Age": 48.168000000000006,
              "Age_end": 56.528000000000006,
              "Number of Records": 45
             },
             {
              "Age": 56.126000000000005,
              "Age_end": 64.486,
              "Number of Records": 24
             },
             {
              "Age": 64.084,
              "Age_end": 72.444,
              "Number of Records": 9
             },
             {
              "Age": 72.042,
              "Age_end": 80.402,
              "Number of Records": 2
             }
            ]
           },
           "encoding": {
            "x": {
             "axis": {
              "title": "Age (binned)"
             },
             "bin": {
              "binned": true,
              "step": 7.958
             },
             "field": "Age",
             "scale": {
              "domain": [
               0.42,
               80
              ]
             },
             "title": "Age (binned)",
             "type": "quantitative"
            },
            "x2": {
             "field": "Age_end"
            },
            "y": {
             "field": "Number of Records",
             "type": "quantitative"
            }
           },
           "height": 150,
           "mark": "bar",
           "vislib": "vegalite",
           "width": 160
          }
         ]
        },
        {
         "action": "Occurrence",
         "description": "Show frequency of occurrence for <p class='highlight-descriptor'>categorical</p> attributes.",
         "long_description": "Occurence displays bar charts of counts for all categorical attributes (e.g., Survived). Visualizations are ranked from most to least uneven across the bars. ",
         "vspec": [
          {
           "$schema": "https://vega.github.io/schema/vega-lite/v4.8.1.json",
           "config": {
            "axis": {
             "labelColor": "#505050",
             "labelFont": "Helvetica Neue",
             "labelFontSize": 9,
             "labelFontWeight": 400,
             "titleFont": "Helvetica Neue",
             "titleFontSize": 11,
             "titleFontWeight": 500
            },
            "legend": {
             "labelFont": "Helvetica Neue",
             "labelFontSize": 9,
             "labelFontWeight": 400,
             "titleFont": "Helvetica Neue",
             "titleFontSize": 10,
             "titleFontWeight": 500
            },
            "mark": {
             "tooltip": {
              "content": "encoding"
             }
            },
            "title": {
             "font": "Helvetica Neue",
             "fontSize": 13,
             "fontWeight": 500
            },
            "view": {
             "continuousHeight": 300,
             "continuousWidth": 400
            }
           },
           "data": {
            "name": "data-69f0b75956bea4cd66ed125e41f3ea29"
           },
           "datasets": {
            "data-69f0b75956bea4cd66ed125e41f3ea29": [
             {
              "Embarked": "C",
              "Record": 168
             },
             {
              "Embarked": "Q",
              "Record": 77
             },
             {
              "Embarked": "S",
              "Record": 644
             },
             {
              "Embarked": null,
              "Record": 2
             }
            ]
           },
           "encoding": {
            "x": {
             "axis": {
              "title": "Number of Records"
             },
             "field": "Record",
             "title": "Number of Records",
             "type": "quantitative"
            },
            "y": {
             "axis": {
              "labelOverlap": true,
              "title": "Embarked"
             },
             "field": "Embarked",
             "type": "nominal"
            }
           },
           "height": 150,
           "mark": "bar",
           "vislib": "vegalite",
           "width": 160
          },
          {
           "$schema": "https://vega.github.io/schema/vega-lite/v4.8.1.json",
           "config": {
            "axis": {
             "labelColor": "#505050",
             "labelFont": "Helvetica Neue",
             "labelFontSize": 9,
             "labelFontWeight": 400,
             "titleFont": "Helvetica Neue",
             "titleFontSize": 11,
             "titleFontWeight": 500
            },
            "legend": {
             "labelFont": "Helvetica Neue",
             "labelFontSize": 9,
             "labelFontWeight": 400,
             "titleFont": "Helvetica Neue",
             "titleFontSize": 10,
             "titleFontWeight": 500
            },
            "mark": {
             "tooltip": {
              "content": "encoding"
             }
            },
            "title": {
             "font": "Helvetica Neue",
             "fontSize": 13,
             "fontWeight": 500
            },
            "view": {
             "continuousHeight": 300,
             "continuousWidth": 400
            }
           },
           "data": {
            "name": "data-085ce48bbd93935119d9ac60f30ef639"
           },
           "datasets": {
            "data-085ce48bbd93935119d9ac60f30ef639": [
             {
              "Parch": 0,
              "Record": 678
             },
             {
              "Parch": 1,
              "Record": 118
             },
             {
              "Parch": 2,
              "Record": 80
             },
             {
              "Parch": 3,
              "Record": 5
             },
             {
              "Parch": 4,
              "Record": 4
             },
             {
              "Parch": 5,
              "Record": 5
             },
             {
              "Parch": 6,
              "Record": 1
             }
            ]
           },
           "encoding": {
            "x": {
             "axis": {
              "title": "Number of Records"
             },
             "field": "Record",
             "title": "Number of Records",
             "type": "quantitative"
            },
            "y": {
             "axis": {
              "labelOverlap": true,
              "title": "Parch"
             },
             "field": "Parch",
             "sort": "-x",
             "type": "nominal"
            }
           },
           "height": 150,
           "mark": "bar",
           "vislib": "vegalite",
           "width": 160
          },
          {
           "$schema": "https://vega.github.io/schema/vega-lite/v4.8.1.json",
           "config": {
            "axis": {
             "labelColor": "#505050",
             "labelFont": "Helvetica Neue",
             "labelFontSize": 9,
             "labelFontWeight": 400,
             "titleFont": "Helvetica Neue",
             "titleFontSize": 11,
             "titleFontWeight": 500
            },
            "legend": {
             "labelFont": "Helvetica Neue",
             "labelFontSize": 9,
             "labelFontWeight": 400,
             "titleFont": "Helvetica Neue",
             "titleFontSize": 10,
             "titleFontWeight": 500
            },
            "mark": {
             "tooltip": {
              "content": "encoding"
             }
            },
            "title": {
             "font": "Helvetica Neue",
             "fontSize": 13,
             "fontWeight": 500
            },
            "view": {
             "continuousHeight": 300,
             "continuousWidth": 400
            }
           },
           "data": {
            "name": "data-e30cb3a77e5eabbca110e35bdc4df61d"
           },
           "datasets": {
            "data-e30cb3a77e5eabbca110e35bdc4df61d": [
             {
              "Record": 608,
              "SibSp": 0
             },
             {
              "Record": 209,
              "SibSp": 1
             },
             {
              "Record": 28,
              "SibSp": 2
             },
             {
              "Record": 16,
              "SibSp": 3
             },
             {
              "Record": 18,
              "SibSp": 4
             },
             {
              "Record": 5,
              "SibSp": 5
             },
             {
              "Record": 7,
              "SibSp": 8
             }
            ]
           },
           "encoding": {
            "x": {
             "axis": {
              "title": "Number of Records"
             },
             "field": "Record",
             "title": "Number of Records",
             "type": "quantitative"
            },
            "y": {
             "axis": {
              "labelOverlap": true,
              "title": "SibSp"
             },
             "field": "SibSp",
             "sort": "-x",
             "type": "nominal"
            }
           },
           "height": 150,
           "mark": "bar",
           "vislib": "vegalite",
           "width": 160
          },
          {
           "$schema": "https://vega.github.io/schema/vega-lite/v4.8.1.json",
           "config": {
            "axis": {
             "labelColor": "#505050",
             "labelFont": "Helvetica Neue",
             "labelFontSize": 9,
             "labelFontWeight": 400,
             "titleFont": "Helvetica Neue",
             "titleFontSize": 11,
             "titleFontWeight": 500
            },
            "legend": {
             "labelFont": "Helvetica Neue",
             "labelFontSize": 9,
             "labelFontWeight": 400,
             "titleFont": "Helvetica Neue",
             "titleFontSize": 10,
             "titleFontWeight": 500
            },
            "mark": {
             "tooltip": {
              "content": "encoding"
             }
            },
            "title": {
             "font": "Helvetica Neue",
             "fontSize": 13,
             "fontWeight": 500
            },
            "view": {
             "continuousHeight": 300,
             "continuousWidth": 400
            }
           },
           "data": {
            "name": "data-7ea6195bc4bb854bfdcc785a7af7d424"
           },
           "datasets": {
            "data-7ea6195bc4bb854bfdcc785a7af7d424": [
             {
              "Pclass": 1,
              "Record": 216
             },
             {
              "Pclass": 2,
              "Record": 184
             },
             {
              "Pclass": 3,
              "Record": 491
             }
            ]
           },
           "encoding": {
            "x": {
             "axis": {
              "title": "Number of Records"
             },
             "field": "Record",
             "title": "Number of Records",
             "type": "quantitative"
            },
            "y": {
             "axis": {
              "labelOverlap": true,
              "title": "Pclass"
             },
             "field": "Pclass",
             "type": "nominal"
            }
           },
           "height": 150,
           "mark": "bar",
           "vislib": "vegalite",
           "width": 160
          },
          {
           "$schema": "https://vega.github.io/schema/vega-lite/v4.8.1.json",
           "config": {
            "axis": {
             "labelColor": "#505050",
             "labelFont": "Helvetica Neue",
             "labelFontSize": 9,
             "labelFontWeight": 400,
             "titleFont": "Helvetica Neue",
             "titleFontSize": 11,
             "titleFontWeight": 500
            },
            "legend": {
             "labelFont": "Helvetica Neue",
             "labelFontSize": 9,
             "labelFontWeight": 400,
             "titleFont": "Helvetica Neue",
             "titleFontSize": 10,
             "titleFontWeight": 500
            },
            "mark": {
             "tooltip": {
              "content": "encoding"
             }
            },
            "title": {
             "font": "Helvetica Neue",
             "fontSize": 13,
             "fontWeight": 500
            },
            "view": {
             "continuousHeight": 300,
             "continuousWidth": 400
            }
           },
           "data": {
            "name": "data-aa9a3740f35ec27bc83afecce8618f13"
           },
           "datasets": {
            "data-aa9a3740f35ec27bc83afecce8618f13": [
             {
              "Record": 314,
              "Sex": "female"
             },
             {
              "Record": 577,
              "Sex": "male"
             }
            ]
           },
           "encoding": {
            "x": {
             "axis": {
              "title": "Number of Records"
             },
             "field": "Record",
             "title": "Number of Records",
             "type": "quantitative"
            },
            "y": {
             "axis": {
              "labelOverlap": true,
              "title": "Sex"
             },
             "field": "Sex",
             "type": "nominal"
            }
           },
           "height": 150,
           "mark": "bar",
           "vislib": "vegalite",
           "width": 160
          },
          {
           "$schema": "https://vega.github.io/schema/vega-lite/v4.8.1.json",
           "config": {
            "axis": {
             "labelColor": "#505050",
             "labelFont": "Helvetica Neue",
             "labelFontSize": 9,
             "labelFontWeight": 400,
             "titleFont": "Helvetica Neue",
             "titleFontSize": 11,
             "titleFontWeight": 500
            },
            "legend": {
             "labelFont": "Helvetica Neue",
             "labelFontSize": 9,
             "labelFontWeight": 400,
             "titleFont": "Helvetica Neue",
             "titleFontSize": 10,
             "titleFontWeight": 500
            },
            "mark": {
             "tooltip": {
              "content": "encoding"
             }
            },
            "title": {
             "font": "Helvetica Neue",
             "fontSize": 13,
             "fontWeight": 500
            },
            "view": {
             "continuousHeight": 300,
             "continuousWidth": 400
            }
           },
           "data": {
            "name": "data-2a5899df4de5fdc194dfb7bfa094d585"
           },
           "datasets": {
            "data-2a5899df4de5fdc194dfb7bfa094d585": [
             {
              "Record": 549,
              "Survived": 0
             },
             {
              "Record": 342,
              "Survived": 1
             }
            ]
           },
           "encoding": {
            "x": {
             "axis": {
              "title": "Number of Records"
             },
             "field": "Record",
             "title": "Number of Records",
             "type": "quantitative"
            },
            "y": {
             "axis": {
              "labelOverlap": true,
              "title": "Survived"
             },
             "field": "Survived",
             "type": "nominal"
            }
           },
           "height": 150,
           "mark": "bar",
           "vislib": "vegalite",
           "width": 160
          },
          {
           "$schema": "https://vega.github.io/schema/vega-lite/v4.8.1.json",
           "config": {
            "axis": {
             "labelColor": "#505050",
             "labelFont": "Helvetica Neue",
             "labelFontSize": 9,
             "labelFontWeight": 400,
             "titleFont": "Helvetica Neue",
             "titleFontSize": 11,
             "titleFontWeight": 500
            },
            "legend": {
             "labelFont": "Helvetica Neue",
             "labelFontSize": 9,
             "labelFontWeight": 400,
             "titleFont": "Helvetica Neue",
             "titleFontSize": 10,
             "titleFontWeight": 500
            },
            "mark": {
             "tooltip": {
              "content": "encoding"
             }
            },
            "title": {
             "font": "Helvetica Neue",
             "fontSize": 13,
             "fontWeight": 500
            },
            "view": {
             "continuousHeight": 300,
             "continuousWidth": 400
            }
           },
           "datasets": {
            "data-09118774c89faa16a4b9a13736d2ff9b": [
             {
              "Cabin": null,
              "Record": 687
             },
             {
              "Cabin": "B96 B98",
              "Record": 4
             },
             {
              "Cabin": "C23 C25 C27",
              "Record": 4
             },
             {
              "Cabin": "G6",
              "Record": 4
             },
             {
              "Cabin": "C22 C26",
              "Record": 3
             },
             {
              "Cabin": "D",
              "Record": 3
             },
             {
              "Cabin": "E101",
              "Record": 3
             },
             {
              "Cabin": "F2",
              "Record": 3
             },
             {
              "Cabin": "F33",
              "Record": 3
             },
             {
              "Cabin": "B18",
              "Record": 2
             }
            ]
           },
           "height": 150,
           "layer": [
            {
             "data": {
              "name": "data-09118774c89faa16a4b9a13736d2ff9b"
             },
             "encoding": {
              "x": {
               "axis": {
                "title": "Number of Records"
               },
               "field": "Record",
               "title": "Number of Records",
               "type": "quantitative"
              },
              "y": {
               "axis": {
                "labelOverlap": true,
                "title": "Cabin"
               },
               "field": "Cabin",
               "sort": "-x",
               "type": "nominal"
              }
             },
             "mark": "bar"
            },
            {
             "data": {
              "name": "data-09118774c89faa16a4b9a13736d2ff9b"
             },
             "mark": {
              "align": "right",
              "color": "#ff8e04",
              "fontSize": 11,
              "text": "+ 138 more ...",
              "type": "text",
              "x": 155,
              "y": 142
             }
            }
           ],
           "vislib": "vegalite",
           "width": 160
          },
          {
           "$schema": "https://vega.github.io/schema/vega-lite/v4.8.1.json",
           "config": {
            "axis": {
             "labelColor": "#505050",
             "labelFont": "Helvetica Neue",
             "labelFontSize": 9,
             "labelFontWeight": 400,
             "titleFont": "Helvetica Neue",
             "titleFontSize": 11,
             "titleFontWeight": 500
            },
            "legend": {
             "labelFont": "Helvetica Neue",
             "labelFontSize": 9,
             "labelFontWeight": 400,
             "titleFont": "Helvetica Neue",
             "titleFontSize": 10,
             "titleFontWeight": 500
            },
            "mark": {
             "tooltip": {
              "content": "encoding"
             }
            },
            "title": {
             "font": "Helvetica Neue",
             "fontSize": 13,
             "fontWeight": 500
            },
            "view": {
             "continuousHeight": 300,
             "continuousWidth": 400
            }
           },
           "datasets": {
            "data-2e9bf0b54cd8652145ba1d5608dbf44d": [
             {
              "Record": 7,
              "Ticket": "1601"
             },
             {
              "Record": 7,
              "Ticket": "347082"
             },
             {
              "Record": 7,
              "Ticket": "CA. 2343"
             },
             {
              "Record": 6,
              "Ticket": "3101295"
             },
             {
              "Record": 6,
              "Ticket": "347088"
             },
             {
              "Record": 6,
              "Ticket": "CA 2144"
             },
             {
              "Record": 5,
              "Ticket": "382652"
             },
             {
              "Record": 5,
              "Ticket": "S.O.C. 14879"
             },
             {
              "Record": 4,
              "Ticket": "113760"
             },
             {
              "Record": 4,
              "Ticket": "113781"
             }
            ]
           },
           "height": 150,
           "layer": [
            {
             "data": {
              "name": "data-2e9bf0b54cd8652145ba1d5608dbf44d"
             },
             "encoding": {
              "x": {
               "axis": {
                "title": "Number of Records"
               },
               "field": "Record",
               "title": "Number of Records",
               "type": "quantitative"
              },
              "y": {
               "axis": {
                "labelOverlap": true,
                "title": "Ticket"
               },
               "field": "Ticket",
               "sort": "-x",
               "type": "nominal"
              }
             },
             "mark": "bar"
            },
            {
             "data": {
              "name": "data-2e9bf0b54cd8652145ba1d5608dbf44d"
             },
             "mark": {
              "align": "right",
              "color": "#ff8e04",
              "fontSize": 11,
              "text": "+ 671 more ...",
              "type": "text",
              "x": 155,
              "y": 142
             }
            }
           ],
           "vislib": "vegalite",
           "width": 160
          },
          {
           "$schema": "https://vega.github.io/schema/vega-lite/v4.8.1.json",
           "config": {
            "axis": {
             "labelColor": "#505050",
             "labelFont": "Helvetica Neue",
             "labelFontSize": 9,
             "labelFontWeight": 400,
             "titleFont": "Helvetica Neue",
             "titleFontSize": 11,
             "titleFontWeight": 500
            },
            "legend": {
             "labelFont": "Helvetica Neue",
             "labelFontSize": 9,
             "labelFontWeight": 400,
             "titleFont": "Helvetica Neue",
             "titleFontSize": 10,
             "titleFontWeight": 500
            },
            "mark": {
             "tooltip": {
              "content": "encoding"
             }
            },
            "title": {
             "font": "Helvetica Neue",
             "fontSize": 13,
             "fontWeight": 500
            },
            "view": {
             "continuousHeight": 300,
             "continuousWidth": 400
            }
           },
           "datasets": {
            "data-9c986e0f4be3fd906103983dbee4863f": [
             {
              "Name": "Abbing, Mr. Anthony",
              "Record": 1
             },
             {
              "Name": "Abbott, Mr. Rossmore Edward",
              "Record": 1
             },
             {
              "Name": "Abbott, Mrs. Stanton (Rosa Hunt)",
              "Record": 1
             },
             {
              "Name": "Abelson, Mr. Samuel",
              "Record": 1
             },
             {
              "Name": "Abelson, Mrs. Samuel (Hannah Wizosky)",
              "Record": 1
             },
             {
              "Name": "Adahl, Mr. Mauritz Nils Martin",
              "Record": 1
             },
             {
              "Name": "Adams, Mr. John",
              "Record": 1
             },
             {
              "Name": "Ahlin, Mrs. Johan (Johanna Persdotter Larsson)",
              "Record": 1
             },
             {
              "Name": "Aks, Mrs. Sam (Leah Rosen)",
              "Record": 1
             },
             {
              "Name": "Albimona, Mr. Nassef Cassem",
              "Record": 1
             }
            ]
           },
           "height": 150,
           "layer": [
            {
             "data": {
              "name": "data-9c986e0f4be3fd906103983dbee4863f"
             },
             "encoding": {
              "x": {
               "axis": {
                "title": "Number of Records"
               },
               "field": "Record",
               "title": "Number of Records",
               "type": "quantitative"
              },
              "y": {
               "axis": {
                "labelOverlap": true,
                "title": "Name"
               },
               "field": "Name",
               "sort": "-x",
               "type": "nominal"
              }
             },
             "mark": "bar"
            },
            {
             "data": {
              "name": "data-9c986e0f4be3fd906103983dbee4863f"
             },
             "mark": {
              "align": "right",
              "color": "#ff8e04",
              "fontSize": 11,
              "text": "+ 881 more ...",
              "type": "text",
              "x": 155,
              "y": 142
             }
            }
           ],
           "vislib": "vegalite",
           "width": 160
          }
         ]
        }
       ],
       "selectedIntentIndex": {}
      }
     },
     "72382994de454255a0552d9b611ff51c": {
      "model_module": "@jupyter-widgets/controls",
      "model_module_version": "1.5.0",
      "model_name": "ProgressStyleModel",
      "state": {
       "_model_module": "@jupyter-widgets/controls",
       "_model_module_version": "1.5.0",
       "_model_name": "ProgressStyleModel",
       "_view_count": null,
       "_view_module": "@jupyter-widgets/base",
       "_view_module_version": "1.2.0",
       "_view_name": "StyleView",
       "bar_color": null,
       "description_width": ""
      }
     },
     "72779cd9ec5d42ab9f79325fa6881733": {
      "model_module": "@jupyter-widgets/controls",
      "model_module_version": "1.5.0",
      "model_name": "DescriptionStyleModel",
      "state": {
       "_model_module": "@jupyter-widgets/controls",
       "_model_module_version": "1.5.0",
       "_model_name": "DescriptionStyleModel",
       "_view_count": null,
       "_view_module": "@jupyter-widgets/base",
       "_view_module_version": "1.2.0",
       "_view_name": "StyleView",
       "description_width": ""
      }
     },
     "7504acaf6e5b4837bdba80607497824e": {
      "model_module": "@jupyter-widgets/controls",
      "model_module_version": "1.5.0",
      "model_name": "DescriptionStyleModel",
      "state": {
       "_model_module": "@jupyter-widgets/controls",
       "_model_module_version": "1.5.0",
       "_model_name": "DescriptionStyleModel",
       "_view_count": null,
       "_view_module": "@jupyter-widgets/base",
       "_view_module_version": "1.2.0",
       "_view_name": "StyleView",
       "description_width": ""
      }
     },
     "7692b0a3afc04befb3f465f2329c6ac4": {
      "model_module": "@jupyter-widgets/controls",
      "model_module_version": "1.5.0",
      "model_name": "HTMLModel",
      "state": {
       "_dom_classes": [],
       "_model_module": "@jupyter-widgets/controls",
       "_model_module_version": "1.5.0",
       "_model_name": "HTMLModel",
       "_view_count": null,
       "_view_module": "@jupyter-widgets/controls",
       "_view_module_version": "1.5.0",
       "_view_name": "HTMLView",
       "description": "",
       "description_tooltip": null,
       "layout": "IPY_MODEL_dba89c56aa41467eb763c8c89e828030",
       "placeholder": "​",
       "style": "IPY_MODEL_7504acaf6e5b4837bdba80607497824e",
       "value": " [100%]   00:01 -&gt; (00:00 left)"
      }
     },
     "77027ff9d9aa452a8485402baca3d794": {
      "model_module": "@jupyter-widgets/base",
      "model_module_version": "1.2.0",
      "model_name": "LayoutModel",
      "state": {
       "_model_module": "@jupyter-widgets/base",
       "_model_module_version": "1.2.0",
       "_model_name": "LayoutModel",
       "_view_count": null,
       "_view_module": "@jupyter-widgets/base",
       "_view_module_version": "1.2.0",
       "_view_name": "LayoutView",
       "align_content": null,
       "align_items": null,
       "align_self": null,
       "border": null,
       "bottom": null,
       "display": null,
       "flex": null,
       "flex_flow": null,
       "grid_area": null,
       "grid_auto_columns": null,
       "grid_auto_flow": null,
       "grid_auto_rows": null,
       "grid_column": null,
       "grid_gap": null,
       "grid_row": null,
       "grid_template_areas": null,
       "grid_template_columns": null,
       "grid_template_rows": null,
       "height": null,
       "justify_content": null,
       "justify_items": null,
       "left": null,
       "margin": null,
       "max_height": null,
       "max_width": null,
       "min_height": null,
       "min_width": null,
       "object_fit": null,
       "object_position": null,
       "order": null,
       "overflow": null,
       "overflow_x": null,
       "overflow_y": null,
       "padding": null,
       "right": null,
       "top": null,
       "visibility": null,
       "width": null
      }
     },
     "782af0bc1ebf492988fb32d98de58e44": {
      "model_module": "@jupyter-widgets/base",
      "model_module_version": "1.2.0",
      "model_name": "LayoutModel",
      "state": {
       "_model_module": "@jupyter-widgets/base",
       "_model_module_version": "1.2.0",
       "_model_name": "LayoutModel",
       "_view_count": null,
       "_view_module": "@jupyter-widgets/base",
       "_view_module_version": "1.2.0",
       "_view_name": "LayoutView",
       "align_content": null,
       "align_items": null,
       "align_self": null,
       "border": null,
       "bottom": null,
       "display": null,
       "flex": null,
       "flex_flow": null,
       "grid_area": null,
       "grid_auto_columns": null,
       "grid_auto_flow": null,
       "grid_auto_rows": null,
       "grid_column": null,
       "grid_gap": null,
       "grid_row": null,
       "grid_template_areas": null,
       "grid_template_columns": null,
       "grid_template_rows": null,
       "height": null,
       "justify_content": null,
       "justify_items": null,
       "left": null,
       "margin": null,
       "max_height": null,
       "max_width": null,
       "min_height": null,
       "min_width": null,
       "object_fit": null,
       "object_position": null,
       "order": null,
       "overflow": null,
       "overflow_x": null,
       "overflow_y": null,
       "padding": null,
       "right": null,
       "top": null,
       "visibility": null,
       "width": null
      }
     },
     "7935f0c0c9b9452aaddde398671790e9": {
      "model_module": "@jupyter-widgets/base",
      "model_module_version": "1.2.0",
      "model_name": "LayoutModel",
      "state": {
       "_model_module": "@jupyter-widgets/base",
       "_model_module_version": "1.2.0",
       "_model_name": "LayoutModel",
       "_view_count": null,
       "_view_module": "@jupyter-widgets/base",
       "_view_module_version": "1.2.0",
       "_view_name": "LayoutView",
       "align_content": null,
       "align_items": null,
       "align_self": null,
       "border": null,
       "bottom": null,
       "display": null,
       "flex": null,
       "flex_flow": null,
       "grid_area": null,
       "grid_auto_columns": null,
       "grid_auto_flow": null,
       "grid_auto_rows": null,
       "grid_column": null,
       "grid_gap": null,
       "grid_row": null,
       "grid_template_areas": null,
       "grid_template_columns": null,
       "grid_template_rows": null,
       "height": null,
       "justify_content": null,
       "justify_items": null,
       "left": null,
       "margin": null,
       "max_height": null,
       "max_width": null,
       "min_height": null,
       "min_width": null,
       "object_fit": null,
       "object_position": null,
       "order": null,
       "overflow": null,
       "overflow_x": null,
       "overflow_y": null,
       "padding": null,
       "right": null,
       "top": null,
       "visibility": null,
       "width": null
      }
     },
     "7cf1b1e1ebdd4bbd941f23d5df1f6ab6": {
      "model_module": "@jupyter-widgets/base",
      "model_module_version": "1.2.0",
      "model_name": "LayoutModel",
      "state": {
       "_model_module": "@jupyter-widgets/base",
       "_model_module_version": "1.2.0",
       "_model_name": "LayoutModel",
       "_view_count": null,
       "_view_module": "@jupyter-widgets/base",
       "_view_module_version": "1.2.0",
       "_view_name": "LayoutView",
       "align_content": null,
       "align_items": null,
       "align_self": null,
       "border": null,
       "bottom": null,
       "display": null,
       "flex": "2",
       "flex_flow": null,
       "grid_area": null,
       "grid_auto_columns": null,
       "grid_auto_flow": null,
       "grid_auto_rows": null,
       "grid_column": null,
       "grid_gap": null,
       "grid_row": null,
       "grid_template_areas": null,
       "grid_template_columns": null,
       "grid_template_rows": null,
       "height": null,
       "justify_content": null,
       "justify_items": null,
       "left": null,
       "margin": null,
       "max_height": null,
       "max_width": null,
       "min_height": null,
       "min_width": null,
       "object_fit": null,
       "object_position": null,
       "order": null,
       "overflow": null,
       "overflow_x": null,
       "overflow_y": null,
       "padding": null,
       "right": null,
       "top": null,
       "visibility": null,
       "width": null
      }
     },
     "7d608d83804247dca2f6271c722a411f": {
      "model_module": "@jupyter-widgets/controls",
      "model_module_version": "1.5.0",
      "model_name": "DescriptionStyleModel",
      "state": {
       "_model_module": "@jupyter-widgets/controls",
       "_model_module_version": "1.5.0",
       "_model_name": "DescriptionStyleModel",
       "_view_count": null,
       "_view_module": "@jupyter-widgets/base",
       "_view_module_version": "1.2.0",
       "_view_name": "StyleView",
       "description_width": ""
      }
     },
     "7d8fa53b5be047979b7a7ba26b4b67e5": {
      "model_module": "@jupyter-widgets/controls",
      "model_module_version": "1.5.0",
      "model_name": "HTMLModel",
      "state": {
       "_dom_classes": [],
       "_model_module": "@jupyter-widgets/controls",
       "_model_module_version": "1.5.0",
       "_model_name": "HTMLModel",
       "_view_count": null,
       "_view_module": "@jupyter-widgets/controls",
       "_view_module_version": "1.5.0",
       "_view_name": "HTMLView",
       "description": "",
       "description_tooltip": null,
       "layout": "IPY_MODEL_4b2ee41c0fbb4e4bbbd80fe3fd32f8f9",
       "placeholder": "​",
       "style": "IPY_MODEL_2613a94e94c54d0c87c31b87a4a19996",
       "value": "  0%"
      }
     },
     "7e27c7007fe34f3990587a323b53c92a": {
      "model_module": "@jupyter-widgets/controls",
      "model_module_version": "1.5.0",
      "model_name": "FloatProgressModel",
      "state": {
       "_dom_classes": [],
       "_model_module": "@jupyter-widgets/controls",
       "_model_module_version": "1.5.0",
       "_model_name": "FloatProgressModel",
       "_view_count": null,
       "_view_module": "@jupyter-widgets/controls",
       "_view_module_version": "1.5.0",
       "_view_name": "ProgressView",
       "bar_style": "",
       "description": "",
       "description_tooltip": null,
       "layout": "IPY_MODEL_3d4bef51d8944c1d8c5534323baeae5f",
       "max": 1396,
       "min": 0,
       "orientation": "horizontal",
       "style": "IPY_MODEL_bf72010d8d0f4d94b0a6e3c1ac6da5af",
       "value": 1396
      }
     },
     "7ef3f9bfe2d3461d8f4cffb25aaa1f19": {
      "model_module": "@jupyter-widgets/output",
      "model_module_version": "1.0.0",
      "model_name": "OutputModel",
      "state": {
       "_dom_classes": [],
       "_model_module": "@jupyter-widgets/output",
       "_model_module_version": "1.0.0",
       "_model_name": "OutputModel",
       "_view_count": null,
       "_view_module": "@jupyter-widgets/output",
       "_view_module_version": "1.0.0",
       "_view_name": "OutputView",
       "layout": "IPY_MODEL_7935f0c0c9b9452aaddde398671790e9",
       "msg_id": "",
       "outputs": [
        {
         "data": {
          "text/html": "<div>\n<style scoped>\n    .dataframe tbody tr th:only-of-type {\n        vertical-align: middle;\n    }\n\n    .dataframe tbody tr th {\n        vertical-align: top;\n    }\n\n    .dataframe thead th {\n        text-align: right;\n    }\n</style>\n<table border=\"1\" class=\"dataframe\">\n  <thead>\n    <tr style=\"text-align: right;\">\n      <th></th>\n      <th>PassengerId</th>\n      <th>Survived</th>\n      <th>Pclass</th>\n      <th>Name</th>\n      <th>Sex</th>\n      <th>Age</th>\n      <th>SibSp</th>\n      <th>Parch</th>\n      <th>Ticket</th>\n      <th>Fare</th>\n      <th>Cabin</th>\n      <th>Embarked</th>\n    </tr>\n  </thead>\n  <tbody>\n    <tr>\n      <th>0</th>\n      <td>1</td>\n      <td>0</td>\n      <td>3</td>\n      <td>Braund, Mr. Owen Harris</td>\n      <td>male</td>\n      <td>22.0</td>\n      <td>1</td>\n      <td>0</td>\n      <td>A/5 21171</td>\n      <td>7.2500</td>\n      <td>NaN</td>\n      <td>S</td>\n    </tr>\n    <tr>\n      <th>1</th>\n      <td>2</td>\n      <td>1</td>\n      <td>1</td>\n      <td>Cumings, Mrs. John Bradley (Florence Briggs Th...</td>\n      <td>female</td>\n      <td>38.0</td>\n      <td>1</td>\n      <td>0</td>\n      <td>PC 17599</td>\n      <td>71.2833</td>\n      <td>C85</td>\n      <td>C</td>\n    </tr>\n    <tr>\n      <th>2</th>\n      <td>3</td>\n      <td>1</td>\n      <td>3</td>\n      <td>Heikkinen, Miss. Laina</td>\n      <td>female</td>\n      <td>26.0</td>\n      <td>0</td>\n      <td>0</td>\n      <td>STON/O2. 3101282</td>\n      <td>7.9250</td>\n      <td>NaN</td>\n      <td>S</td>\n    </tr>\n    <tr>\n      <th>3</th>\n      <td>4</td>\n      <td>1</td>\n      <td>1</td>\n      <td>Futrelle, Mrs. Jacques Heath (Lily May Peel)</td>\n      <td>female</td>\n      <td>35.0</td>\n      <td>1</td>\n      <td>0</td>\n      <td>113803</td>\n      <td>53.1000</td>\n      <td>C123</td>\n      <td>S</td>\n    </tr>\n    <tr>\n      <th>4</th>\n      <td>5</td>\n      <td>0</td>\n      <td>3</td>\n      <td>Allen, Mr. William Henry</td>\n      <td>male</td>\n      <td>35.0</td>\n      <td>0</td>\n      <td>0</td>\n      <td>373450</td>\n      <td>8.0500</td>\n      <td>NaN</td>\n      <td>S</td>\n    </tr>\n    <tr>\n      <th>...</th>\n      <td>...</td>\n      <td>...</td>\n      <td>...</td>\n      <td>...</td>\n      <td>...</td>\n      <td>...</td>\n      <td>...</td>\n      <td>...</td>\n      <td>...</td>\n      <td>...</td>\n      <td>...</td>\n      <td>...</td>\n    </tr>\n    <tr>\n      <th>886</th>\n      <td>887</td>\n      <td>0</td>\n      <td>2</td>\n      <td>Montvila, Rev. Juozas</td>\n      <td>male</td>\n      <td>27.0</td>\n      <td>0</td>\n      <td>0</td>\n      <td>211536</td>\n      <td>13.0000</td>\n      <td>NaN</td>\n      <td>S</td>\n    </tr>\n    <tr>\n      <th>887</th>\n      <td>888</td>\n      <td>1</td>\n      <td>1</td>\n      <td>Graham, Miss. Margaret Edith</td>\n      <td>female</td>\n      <td>19.0</td>\n      <td>0</td>\n      <td>0</td>\n      <td>112053</td>\n      <td>30.0000</td>\n      <td>B42</td>\n      <td>S</td>\n    </tr>\n    <tr>\n      <th>888</th>\n      <td>889</td>\n      <td>0</td>\n      <td>3</td>\n      <td>Johnston, Miss. Catherine Helen \"Carrie\"</td>\n      <td>female</td>\n      <td>NaN</td>\n      <td>1</td>\n      <td>2</td>\n      <td>W./C. 6607</td>\n      <td>23.4500</td>\n      <td>NaN</td>\n      <td>S</td>\n    </tr>\n    <tr>\n      <th>889</th>\n      <td>890</td>\n      <td>1</td>\n      <td>1</td>\n      <td>Behr, Mr. Karl Howell</td>\n      <td>male</td>\n      <td>26.0</td>\n      <td>0</td>\n      <td>0</td>\n      <td>111369</td>\n      <td>30.0000</td>\n      <td>C148</td>\n      <td>C</td>\n    </tr>\n    <tr>\n      <th>890</th>\n      <td>891</td>\n      <td>0</td>\n      <td>3</td>\n      <td>Dooley, Mr. Patrick</td>\n      <td>male</td>\n      <td>32.0</td>\n      <td>0</td>\n      <td>0</td>\n      <td>370376</td>\n      <td>7.7500</td>\n      <td>NaN</td>\n      <td>Q</td>\n    </tr>\n  </tbody>\n</table>\n<p>891 rows × 12 columns</p>\n</div>",
          "text/plain": "     PassengerId  Survived  Pclass  \\\n0              1         0       3   \n1              2         1       1   \n2              3         1       3   \n3              4         1       1   \n4              5         0       3   \n..           ...       ...     ...   \n886          887         0       2   \n887          888         1       1   \n888          889         0       3   \n889          890         1       1   \n890          891         0       3   \n\n                                                  Name     Sex   Age  SibSp  \\\n0                              Braund, Mr. Owen Harris    male  22.0      1   \n1    Cumings, Mrs. John Bradley (Florence Briggs Th...  female  38.0      1   \n2                               Heikkinen, Miss. Laina  female  26.0      0   \n3         Futrelle, Mrs. Jacques Heath (Lily May Peel)  female  35.0      1   \n4                             Allen, Mr. William Henry    male  35.0      0   \n..                                                 ...     ...   ...    ...   \n886                              Montvila, Rev. Juozas    male  27.0      0   \n887                       Graham, Miss. Margaret Edith  female  19.0      0   \n888           Johnston, Miss. Catherine Helen \"Carrie\"  female   NaN      1   \n889                              Behr, Mr. Karl Howell    male  26.0      0   \n890                                Dooley, Mr. Patrick    male  32.0      0   \n\n     Parch            Ticket     Fare Cabin Embarked  \n0        0         A/5 21171   7.2500   NaN        S  \n1        0          PC 17599  71.2833   C85        C  \n2        0  STON/O2. 3101282   7.9250   NaN        S  \n3        0            113803  53.1000  C123        S  \n4        0            373450   8.0500   NaN        S  \n..     ...               ...      ...   ...      ...  \n886      0            211536  13.0000   NaN        S  \n887      0            112053  30.0000   B42        S  \n888      2        W./C. 6607  23.4500   NaN        S  \n889      0            111369  30.0000  C148        C  \n890      0            370376   7.7500   NaN        Q  \n\n[891 rows x 12 columns]"
         },
         "metadata": {},
         "output_type": "display_data"
        }
       ]
      }
     },
     "803230c60c944c1ba9ae82ae4612d27c": {
      "model_module": "@jupyter-widgets/base",
      "model_module_version": "1.2.0",
      "model_name": "LayoutModel",
      "state": {
       "_model_module": "@jupyter-widgets/base",
       "_model_module_version": "1.2.0",
       "_model_name": "LayoutModel",
       "_view_count": null,
       "_view_module": "@jupyter-widgets/base",
       "_view_module_version": "1.2.0",
       "_view_name": "LayoutView",
       "align_content": null,
       "align_items": null,
       "align_self": null,
       "border": null,
       "bottom": null,
       "display": "inline-flex",
       "flex": null,
       "flex_flow": "row wrap",
       "grid_area": null,
       "grid_auto_columns": null,
       "grid_auto_flow": null,
       "grid_auto_rows": null,
       "grid_column": null,
       "grid_gap": null,
       "grid_row": null,
       "grid_template_areas": null,
       "grid_template_columns": null,
       "grid_template_rows": null,
       "height": null,
       "justify_content": null,
       "justify_items": null,
       "left": null,
       "margin": null,
       "max_height": null,
       "max_width": null,
       "min_height": null,
       "min_width": null,
       "object_fit": null,
       "object_position": null,
       "order": null,
       "overflow": null,
       "overflow_x": null,
       "overflow_y": null,
       "padding": null,
       "right": null,
       "top": null,
       "visibility": null,
       "width": "100%"
      }
     },
     "835eb2a911c345b9bdb6d8d09fd37f09": {
      "model_module": "@jupyter-widgets/controls",
      "model_module_version": "1.5.0",
      "model_name": "HTMLModel",
      "state": {
       "_dom_classes": [],
       "_model_module": "@jupyter-widgets/controls",
       "_model_module_version": "1.5.0",
       "_model_name": "HTMLModel",
       "_view_count": null,
       "_view_module": "@jupyter-widgets/controls",
       "_view_module_version": "1.5.0",
       "_view_name": "HTMLView",
       "description": "",
       "description_tooltip": null,
       "layout": "IPY_MODEL_c9f645e3eeef4e24bea4c8487e9a56a7",
       "placeholder": "​",
       "style": "IPY_MODEL_c416f701ffa94732827d95ab82c3244f",
       "value": "Summarize dataset: 100%"
      }
     },
     "8a12d17256e74a18ba4836d7be869fc5": {
      "model_module": "@jupyter-widgets/base",
      "model_module_version": "1.2.0",
      "model_name": "LayoutModel",
      "state": {
       "_model_module": "@jupyter-widgets/base",
       "_model_module_version": "1.2.0",
       "_model_name": "LayoutModel",
       "_view_count": null,
       "_view_module": "@jupyter-widgets/base",
       "_view_module_version": "1.2.0",
       "_view_name": "LayoutView",
       "align_content": null,
       "align_items": null,
       "align_self": null,
       "border": null,
       "bottom": null,
       "display": null,
       "flex": null,
       "flex_flow": null,
       "grid_area": null,
       "grid_auto_columns": null,
       "grid_auto_flow": null,
       "grid_auto_rows": null,
       "grid_column": null,
       "grid_gap": null,
       "grid_row": null,
       "grid_template_areas": null,
       "grid_template_columns": null,
       "grid_template_rows": null,
       "height": null,
       "justify_content": null,
       "justify_items": null,
       "left": null,
       "margin": null,
       "max_height": null,
       "max_width": null,
       "min_height": null,
       "min_width": null,
       "object_fit": null,
       "object_position": null,
       "order": null,
       "overflow": null,
       "overflow_x": null,
       "overflow_y": null,
       "padding": null,
       "right": null,
       "top": null,
       "visibility": null,
       "width": null
      }
     },
     "8a7424bfd4704a67b0269f621847d005": {
      "model_module": "@jupyter-widgets/base",
      "model_module_version": "1.2.0",
      "model_name": "LayoutModel",
      "state": {
       "_model_module": "@jupyter-widgets/base",
       "_model_module_version": "1.2.0",
       "_model_name": "LayoutModel",
       "_view_count": null,
       "_view_module": "@jupyter-widgets/base",
       "_view_module_version": "1.2.0",
       "_view_name": "LayoutView",
       "align_content": null,
       "align_items": null,
       "align_self": null,
       "border": null,
       "bottom": null,
       "display": null,
       "flex": null,
       "flex_flow": null,
       "grid_area": null,
       "grid_auto_columns": null,
       "grid_auto_flow": null,
       "grid_auto_rows": null,
       "grid_column": null,
       "grid_gap": null,
       "grid_row": null,
       "grid_template_areas": null,
       "grid_template_columns": null,
       "grid_template_rows": null,
       "height": null,
       "justify_content": null,
       "justify_items": null,
       "left": null,
       "margin": null,
       "max_height": null,
       "max_width": null,
       "min_height": null,
       "min_width": null,
       "object_fit": null,
       "object_position": null,
       "order": null,
       "overflow": null,
       "overflow_x": null,
       "overflow_y": null,
       "padding": null,
       "right": null,
       "top": null,
       "visibility": null,
       "width": null
      }
     },
     "8c377b898d064561989970597591c660": {
      "model_module": "@jupyter-widgets/base",
      "model_module_version": "1.2.0",
      "model_name": "LayoutModel",
      "state": {
       "_model_module": "@jupyter-widgets/base",
       "_model_module_version": "1.2.0",
       "_model_name": "LayoutModel",
       "_view_count": null,
       "_view_module": "@jupyter-widgets/base",
       "_view_module_version": "1.2.0",
       "_view_name": "LayoutView",
       "align_content": null,
       "align_items": null,
       "align_self": null,
       "border": null,
       "bottom": null,
       "display": null,
       "flex": null,
       "flex_flow": null,
       "grid_area": null,
       "grid_auto_columns": null,
       "grid_auto_flow": null,
       "grid_auto_rows": null,
       "grid_column": null,
       "grid_gap": null,
       "grid_row": null,
       "grid_template_areas": null,
       "grid_template_columns": null,
       "grid_template_rows": null,
       "height": null,
       "justify_content": null,
       "justify_items": null,
       "left": null,
       "margin": null,
       "max_height": null,
       "max_width": null,
       "min_height": null,
       "min_width": null,
       "object_fit": null,
       "object_position": null,
       "order": null,
       "overflow": null,
       "overflow_x": null,
       "overflow_y": null,
       "padding": null,
       "right": null,
       "top": null,
       "visibility": null,
       "width": null
      }
     },
     "8c8b68c26ce3437194793aa6a268ed15": {
      "model_module": "@jupyter-widgets/controls",
      "model_module_version": "1.5.0",
      "model_name": "HTMLModel",
      "state": {
       "_dom_classes": [],
       "_model_module": "@jupyter-widgets/controls",
       "_model_module_version": "1.5.0",
       "_model_name": "HTMLModel",
       "_view_count": null,
       "_view_module": "@jupyter-widgets/controls",
       "_view_module_version": "1.5.0",
       "_view_name": "HTMLView",
       "description": "",
       "description_tooltip": null,
       "layout": "IPY_MODEL_5c5d65f4294d49afb82f7d2eeb16f7c2",
       "placeholder": "​",
       "style": "IPY_MODEL_72779cd9ec5d42ab9f79325fa6881733",
       "value": "Computing finalize-b26cf066-7ae3-4472-8503-6e41e41886db:  77%"
      }
     },
     "929ca9af96ee40d9ad11a8c67a43a8fa": {
      "model_module": "@jupyter-widgets/base",
      "model_module_version": "1.2.0",
      "model_name": "LayoutModel",
      "state": {
       "_model_module": "@jupyter-widgets/base",
       "_model_module_version": "1.2.0",
       "_model_name": "LayoutModel",
       "_view_count": null,
       "_view_module": "@jupyter-widgets/base",
       "_view_module_version": "1.2.0",
       "_view_name": "LayoutView",
       "align_content": null,
       "align_items": null,
       "align_self": null,
       "border": null,
       "bottom": null,
       "display": "inline-flex",
       "flex": null,
       "flex_flow": "row wrap",
       "grid_area": null,
       "grid_auto_columns": null,
       "grid_auto_flow": null,
       "grid_auto_rows": null,
       "grid_column": null,
       "grid_gap": null,
       "grid_row": null,
       "grid_template_areas": null,
       "grid_template_columns": null,
       "grid_template_rows": null,
       "height": null,
       "justify_content": null,
       "justify_items": null,
       "left": null,
       "margin": null,
       "max_height": null,
       "max_width": null,
       "min_height": null,
       "min_width": null,
       "object_fit": null,
       "object_position": null,
       "order": null,
       "overflow": null,
       "overflow_x": null,
       "overflow_y": null,
       "padding": null,
       "right": null,
       "top": null,
       "visibility": null,
       "width": "100%"
      }
     },
     "9b1206dd5adc463ea316c8fca2825b88": {
      "model_module": "@jupyter-widgets/controls",
      "model_module_version": "1.5.0",
      "model_name": "FloatProgressModel",
      "state": {
       "_dom_classes": [],
       "_model_module": "@jupyter-widgets/controls",
       "_model_module_version": "1.5.0",
       "_model_name": "FloatProgressModel",
       "_view_count": null,
       "_view_module": "@jupyter-widgets/controls",
       "_view_module_version": "1.5.0",
       "_view_name": "ProgressView",
       "bar_style": "success",
       "description": "",
       "description_tooltip": null,
       "layout": "IPY_MODEL_782af0bc1ebf492988fb32d98de58e44",
       "max": 37,
       "min": 0,
       "orientation": "horizontal",
       "style": "IPY_MODEL_f830550d7e6f49d1875e5875744d8eb0",
       "value": 37
      }
     },
     "a678be8aebea41b290a7b1a4cd3a7754": {
      "model_module": "@jupyter-widgets/controls",
      "model_module_version": "1.5.0",
      "model_name": "FloatProgressModel",
      "state": {
       "_dom_classes": [],
       "_model_module": "@jupyter-widgets/controls",
       "_model_module_version": "1.5.0",
       "_model_name": "FloatProgressModel",
       "_view_count": null,
       "_view_module": "@jupyter-widgets/controls",
       "_view_module_version": "1.5.0",
       "_view_name": "ProgressView",
       "bar_style": "",
       "description": "",
       "description_tooltip": null,
       "layout": "IPY_MODEL_7cf1b1e1ebdd4bbd941f23d5df1f6ab6",
       "max": 107,
       "min": 0,
       "orientation": "horizontal",
       "style": "IPY_MODEL_cadb3b87d8154499b083e61874b14c46",
       "value": 107
      }
     },
     "a717ad069dd44e6fbfac50fe106a8008": {
      "model_module": "@jupyter-widgets/base",
      "model_module_version": "1.2.0",
      "model_name": "LayoutModel",
      "state": {
       "_model_module": "@jupyter-widgets/base",
       "_model_module_version": "1.2.0",
       "_model_name": "LayoutModel",
       "_view_count": null,
       "_view_module": "@jupyter-widgets/base",
       "_view_module_version": "1.2.0",
       "_view_name": "LayoutView",
       "align_content": null,
       "align_items": null,
       "align_self": null,
       "border": null,
       "bottom": null,
       "display": null,
       "flex": null,
       "flex_flow": null,
       "grid_area": null,
       "grid_auto_columns": null,
       "grid_auto_flow": null,
       "grid_auto_rows": null,
       "grid_column": null,
       "grid_gap": null,
       "grid_row": null,
       "grid_template_areas": null,
       "grid_template_columns": null,
       "grid_template_rows": null,
       "height": null,
       "justify_content": null,
       "justify_items": null,
       "left": null,
       "margin": null,
       "max_height": null,
       "max_width": null,
       "min_height": null,
       "min_width": null,
       "object_fit": null,
       "object_position": null,
       "order": null,
       "overflow": null,
       "overflow_x": null,
       "overflow_y": null,
       "padding": null,
       "right": null,
       "top": null,
       "visibility": null,
       "width": null
      }
     },
     "af59c0e542b24284a359d07c2359525e": {
      "model_module": "@jupyter-widgets/controls",
      "model_module_version": "1.5.0",
      "model_name": "FloatProgressModel",
      "state": {
       "_dom_classes": [],
       "_model_module": "@jupyter-widgets/controls",
       "_model_module_version": "1.5.0",
       "_model_name": "FloatProgressModel",
       "_view_count": null,
       "_view_module": "@jupyter-widgets/controls",
       "_view_module_version": "1.5.0",
       "_view_name": "ProgressView",
       "bar_style": "success",
       "description": "",
       "description_tooltip": null,
       "layout": "IPY_MODEL_4d6799705db841a6a179b251b03f2853",
       "max": 1,
       "min": 0,
       "orientation": "horizontal",
       "style": "IPY_MODEL_58f9bf0b2b9b40509bdf7029cf37a03c",
       "value": 1
      }
     },
     "b24c9b6fd13949459bc8e3d39f02bf4a": {
      "model_module": "@jupyter-widgets/controls",
      "model_module_version": "1.5.0",
      "model_name": "DescriptionStyleModel",
      "state": {
       "_model_module": "@jupyter-widgets/controls",
       "_model_module_version": "1.5.0",
       "_model_name": "DescriptionStyleModel",
       "_view_count": null,
       "_view_module": "@jupyter-widgets/base",
       "_view_module_version": "1.2.0",
       "_view_name": "StyleView",
       "description_width": ""
      }
     },
     "b34a6c0afc1f4f669308cf6a1b4fecbf": {
      "model_module": "@jupyter-widgets/base",
      "model_module_version": "1.2.0",
      "model_name": "LayoutModel",
      "state": {
       "_model_module": "@jupyter-widgets/base",
       "_model_module_version": "1.2.0",
       "_model_name": "LayoutModel",
       "_view_count": null,
       "_view_module": "@jupyter-widgets/base",
       "_view_module_version": "1.2.0",
       "_view_name": "LayoutView",
       "align_content": null,
       "align_items": null,
       "align_self": null,
       "border": null,
       "bottom": null,
       "display": null,
       "flex": null,
       "flex_flow": null,
       "grid_area": null,
       "grid_auto_columns": null,
       "grid_auto_flow": null,
       "grid_auto_rows": null,
       "grid_column": null,
       "grid_gap": null,
       "grid_row": null,
       "grid_template_areas": null,
       "grid_template_columns": null,
       "grid_template_rows": null,
       "height": null,
       "justify_content": null,
       "justify_items": null,
       "left": null,
       "margin": null,
       "max_height": null,
       "max_width": null,
       "min_height": null,
       "min_width": null,
       "object_fit": null,
       "object_position": null,
       "order": null,
       "overflow": null,
       "overflow_x": null,
       "overflow_y": null,
       "padding": null,
       "right": null,
       "top": null,
       "visibility": null,
       "width": null
      }
     },
     "b3e5e7ee2120478593a9ebf9d56d71ea": {
      "model_module": "@jupyter-widgets/controls",
      "model_module_version": "1.5.0",
      "model_name": "DescriptionStyleModel",
      "state": {
       "_model_module": "@jupyter-widgets/controls",
       "_model_module_version": "1.5.0",
       "_model_name": "DescriptionStyleModel",
       "_view_count": null,
       "_view_module": "@jupyter-widgets/base",
       "_view_module_version": "1.2.0",
       "_view_name": "StyleView",
       "description_width": ""
      }
     },
     "b46aa0eda0c8457a9b0cfa9fa6181c1e": {
      "model_module": "@jupyter-widgets/controls",
      "model_module_version": "1.5.0",
      "model_name": "HBoxModel",
      "state": {
       "_dom_classes": [],
       "_model_module": "@jupyter-widgets/controls",
       "_model_module_version": "1.5.0",
       "_model_name": "HBoxModel",
       "_view_count": null,
       "_view_module": "@jupyter-widgets/controls",
       "_view_module_version": "1.5.0",
       "_view_name": "HBoxView",
       "box_style": "",
       "children": [
        "IPY_MODEL_f31932ca06c54ab185c999c8e47307e9",
        "IPY_MODEL_e535741aeb124a3ba3f068ad18085ef5",
        "IPY_MODEL_7692b0a3afc04befb3f465f2329c6ac4"
       ],
       "layout": "IPY_MODEL_803230c60c944c1ba9ae82ae4612d27c"
      }
     },
     "b53cecd375b5458e95612007f1489920": {
      "model_module": "@jupyter-widgets/controls",
      "model_module_version": "1.5.0",
      "model_name": "HTMLModel",
      "state": {
       "_dom_classes": [],
       "_model_module": "@jupyter-widgets/controls",
       "_model_module_version": "1.5.0",
       "_model_name": "HTMLModel",
       "_view_count": null,
       "_view_module": "@jupyter-widgets/controls",
       "_view_module_version": "1.5.0",
       "_view_name": "HTMLView",
       "description": "",
       "description_tooltip": null,
       "layout": "IPY_MODEL_a717ad069dd44e6fbfac50fe106a8008",
       "placeholder": "​",
       "style": "IPY_MODEL_d404d4f7061c4491adcc87d081aed640",
       "value": "Computing finalize-c99d2815-93b2-4897-a824-200e9628c7f6:  82%"
      }
     },
     "b666f606342a4f65aba582b2938425a2": {
      "model_module": "@jupyter-widgets/controls",
      "model_module_version": "1.5.0",
      "model_name": "HBoxModel",
      "state": {
       "_dom_classes": [],
       "_model_module": "@jupyter-widgets/controls",
       "_model_module_version": "1.5.0",
       "_model_name": "HBoxModel",
       "_view_count": null,
       "_view_module": "@jupyter-widgets/controls",
       "_view_module_version": "1.5.0",
       "_view_name": "HBoxView",
       "box_style": "",
       "children": [
        "IPY_MODEL_2c23c569051c454facab3467d29a2cc6",
        "IPY_MODEL_7e27c7007fe34f3990587a323b53c92a",
        "IPY_MODEL_c894c74a34e04de6b8652611b1b55537"
       ],
       "layout": "IPY_MODEL_51ed308d4b914cde8194ba20758f5f9a"
      }
     },
     "bf72010d8d0f4d94b0a6e3c1ac6da5af": {
      "model_module": "@jupyter-widgets/controls",
      "model_module_version": "1.5.0",
      "model_name": "ProgressStyleModel",
      "state": {
       "_model_module": "@jupyter-widgets/controls",
       "_model_module_version": "1.5.0",
       "_model_name": "ProgressStyleModel",
       "_view_count": null,
       "_view_module": "@jupyter-widgets/base",
       "_view_module_version": "1.2.0",
       "_view_name": "StyleView",
       "bar_color": null,
       "description_width": ""
      }
     },
     "bf8491f42ab14893ab1ea11e7b2da058": {
      "model_module": "@jupyter-widgets/controls",
      "model_module_version": "1.5.0",
      "model_name": "ProgressStyleModel",
      "state": {
       "_model_module": "@jupyter-widgets/controls",
       "_model_module_version": "1.5.0",
       "_model_name": "ProgressStyleModel",
       "_view_count": null,
       "_view_module": "@jupyter-widgets/base",
       "_view_module_version": "1.2.0",
       "_view_name": "StyleView",
       "bar_color": null,
       "description_width": ""
      }
     },
     "c2af15a7b5dc4b1485321c168cc85a26": {
      "model_module": "@jupyter-widgets/base",
      "model_module_version": "1.2.0",
      "model_name": "LayoutModel",
      "state": {
       "_model_module": "@jupyter-widgets/base",
       "_model_module_version": "1.2.0",
       "_model_name": "LayoutModel",
       "_view_count": null,
       "_view_module": "@jupyter-widgets/base",
       "_view_module_version": "1.2.0",
       "_view_name": "LayoutView",
       "align_content": null,
       "align_items": null,
       "align_self": null,
       "border": null,
       "bottom": null,
       "display": null,
       "flex": null,
       "flex_flow": null,
       "grid_area": null,
       "grid_auto_columns": null,
       "grid_auto_flow": null,
       "grid_auto_rows": null,
       "grid_column": null,
       "grid_gap": null,
       "grid_row": null,
       "grid_template_areas": null,
       "grid_template_columns": null,
       "grid_template_rows": null,
       "height": null,
       "justify_content": null,
       "justify_items": null,
       "left": null,
       "margin": null,
       "max_height": null,
       "max_width": null,
       "min_height": null,
       "min_width": null,
       "object_fit": null,
       "object_position": null,
       "order": null,
       "overflow": null,
       "overflow_x": null,
       "overflow_y": null,
       "padding": null,
       "right": null,
       "top": null,
       "visibility": null,
       "width": null
      }
     },
     "c416f701ffa94732827d95ab82c3244f": {
      "model_module": "@jupyter-widgets/controls",
      "model_module_version": "1.5.0",
      "model_name": "DescriptionStyleModel",
      "state": {
       "_model_module": "@jupyter-widgets/controls",
       "_model_module_version": "1.5.0",
       "_model_name": "DescriptionStyleModel",
       "_view_count": null,
       "_view_module": "@jupyter-widgets/base",
       "_view_module_version": "1.2.0",
       "_view_name": "StyleView",
       "description_width": ""
      }
     },
     "c894c74a34e04de6b8652611b1b55537": {
      "model_module": "@jupyter-widgets/controls",
      "model_module_version": "1.5.0",
      "model_name": "HTMLModel",
      "state": {
       "_dom_classes": [],
       "_model_module": "@jupyter-widgets/controls",
       "_model_module_version": "1.5.0",
       "_model_name": "HTMLModel",
       "_view_count": null,
       "_view_module": "@jupyter-widgets/controls",
       "_view_module_version": "1.5.0",
       "_view_name": "HTMLView",
       "description": "",
       "description_tooltip": null,
       "layout": "IPY_MODEL_ce5a4296d4f84f23a6a96c339847d1d3",
       "placeholder": "​",
       "style": "IPY_MODEL_6e0ed685f0cd4905b322ce0063100e40",
       "value": " 1286/1396 [00:00&lt;00:00, 2155.44it/s]"
      }
     },
     "c9f645e3eeef4e24bea4c8487e9a56a7": {
      "model_module": "@jupyter-widgets/base",
      "model_module_version": "1.2.0",
      "model_name": "LayoutModel",
      "state": {
       "_model_module": "@jupyter-widgets/base",
       "_model_module_version": "1.2.0",
       "_model_name": "LayoutModel",
       "_view_count": null,
       "_view_module": "@jupyter-widgets/base",
       "_view_module_version": "1.2.0",
       "_view_name": "LayoutView",
       "align_content": null,
       "align_items": null,
       "align_self": null,
       "border": null,
       "bottom": null,
       "display": null,
       "flex": null,
       "flex_flow": null,
       "grid_area": null,
       "grid_auto_columns": null,
       "grid_auto_flow": null,
       "grid_auto_rows": null,
       "grid_column": null,
       "grid_gap": null,
       "grid_row": null,
       "grid_template_areas": null,
       "grid_template_columns": null,
       "grid_template_rows": null,
       "height": null,
       "justify_content": null,
       "justify_items": null,
       "left": null,
       "margin": null,
       "max_height": null,
       "max_width": null,
       "min_height": null,
       "min_width": null,
       "object_fit": null,
       "object_position": null,
       "order": null,
       "overflow": null,
       "overflow_x": null,
       "overflow_y": null,
       "padding": null,
       "right": null,
       "top": null,
       "visibility": null,
       "width": null
      }
     },
     "cadb3b87d8154499b083e61874b14c46": {
      "model_module": "@jupyter-widgets/controls",
      "model_module_version": "1.5.0",
      "model_name": "ProgressStyleModel",
      "state": {
       "_model_module": "@jupyter-widgets/controls",
       "_model_module_version": "1.5.0",
       "_model_name": "ProgressStyleModel",
       "_view_count": null,
       "_view_module": "@jupyter-widgets/base",
       "_view_module_version": "1.2.0",
       "_view_name": "StyleView",
       "bar_color": null,
       "description_width": ""
      }
     },
     "ce3674c6e3b4432c8bb6c8f4b9d11977": {
      "model_module": "@jupyter-widgets/base",
      "model_module_version": "1.2.0",
      "model_name": "LayoutModel",
      "state": {
       "_model_module": "@jupyter-widgets/base",
       "_model_module_version": "1.2.0",
       "_model_name": "LayoutModel",
       "_view_count": null,
       "_view_module": "@jupyter-widgets/base",
       "_view_module_version": "1.2.0",
       "_view_name": "LayoutView",
       "align_content": null,
       "align_items": null,
       "align_self": null,
       "border": null,
       "bottom": null,
       "display": null,
       "flex": null,
       "flex_flow": null,
       "grid_area": null,
       "grid_auto_columns": null,
       "grid_auto_flow": null,
       "grid_auto_rows": null,
       "grid_column": null,
       "grid_gap": null,
       "grid_row": null,
       "grid_template_areas": null,
       "grid_template_columns": null,
       "grid_template_rows": null,
       "height": null,
       "justify_content": null,
       "justify_items": null,
       "left": null,
       "margin": null,
       "max_height": null,
       "max_width": null,
       "min_height": null,
       "min_width": null,
       "object_fit": null,
       "object_position": null,
       "order": null,
       "overflow": null,
       "overflow_x": null,
       "overflow_y": null,
       "padding": null,
       "right": null,
       "top": "5px",
       "visibility": null,
       "width": "140px"
      }
     },
     "ce5a4296d4f84f23a6a96c339847d1d3": {
      "model_module": "@jupyter-widgets/base",
      "model_module_version": "1.2.0",
      "model_name": "LayoutModel",
      "state": {
       "_model_module": "@jupyter-widgets/base",
       "_model_module_version": "1.2.0",
       "_model_name": "LayoutModel",
       "_view_count": null,
       "_view_module": "@jupyter-widgets/base",
       "_view_module_version": "1.2.0",
       "_view_name": "LayoutView",
       "align_content": null,
       "align_items": null,
       "align_self": null,
       "border": null,
       "bottom": null,
       "display": null,
       "flex": null,
       "flex_flow": null,
       "grid_area": null,
       "grid_auto_columns": null,
       "grid_auto_flow": null,
       "grid_auto_rows": null,
       "grid_column": null,
       "grid_gap": null,
       "grid_row": null,
       "grid_template_areas": null,
       "grid_template_columns": null,
       "grid_template_rows": null,
       "height": null,
       "justify_content": null,
       "justify_items": null,
       "left": null,
       "margin": null,
       "max_height": null,
       "max_width": null,
       "min_height": null,
       "min_width": null,
       "object_fit": null,
       "object_position": null,
       "order": null,
       "overflow": null,
       "overflow_x": null,
       "overflow_y": null,
       "padding": null,
       "right": null,
       "top": null,
       "visibility": null,
       "width": null
      }
     },
     "ce5e96fc2f9643f2a5a9e0fa00bca2f5": {
      "model_module": "@jupyter-widgets/controls",
      "model_module_version": "1.5.0",
      "model_name": "HTMLModel",
      "state": {
       "_dom_classes": [],
       "_model_module": "@jupyter-widgets/controls",
       "_model_module_version": "1.5.0",
       "_model_name": "HTMLModel",
       "_view_count": null,
       "_view_module": "@jupyter-widgets/controls",
       "_view_module_version": "1.5.0",
       "_view_name": "HTMLView",
       "description": "",
       "description_tooltip": null,
       "layout": "IPY_MODEL_1886bacf18884670a26bf37c51d4658e",
       "placeholder": "​",
       "style": "IPY_MODEL_031dc7159fa1444a9d4f0b9df2c46ce3",
       "value": "Generate report structure: 100%"
      }
     },
     "ce934b65e16a4512979bf1a6b0eba961": {
      "model_module": "@jupyter-widgets/controls",
      "model_module_version": "1.5.0",
      "model_name": "HTMLModel",
      "state": {
       "_dom_classes": [],
       "_model_module": "@jupyter-widgets/controls",
       "_model_module_version": "1.5.0",
       "_model_name": "HTMLModel",
       "_view_count": null,
       "_view_module": "@jupyter-widgets/controls",
       "_view_module_version": "1.5.0",
       "_view_name": "HTMLView",
       "description": "",
       "description_tooltip": null,
       "layout": "IPY_MODEL_21d6368db9564efc8774a85467f63b58",
       "placeholder": "​",
       "style": "IPY_MODEL_3b03f3d7d2b14434a918b2647379e07e",
       "value": " 37/37 [01:00&lt;00:00,  3.06s/it, Completed]"
      }
     },
     "d12f57d34fde451dbf403526bdc8ed9d": {
      "model_module": "@jupyter-widgets/base",
      "model_module_version": "1.2.0",
      "model_name": "LayoutModel",
      "state": {
       "_model_module": "@jupyter-widgets/base",
       "_model_module_version": "1.2.0",
       "_model_name": "LayoutModel",
       "_view_count": null,
       "_view_module": "@jupyter-widgets/base",
       "_view_module_version": "1.2.0",
       "_view_name": "LayoutView",
       "align_content": null,
       "align_items": null,
       "align_self": null,
       "border": null,
       "bottom": null,
       "display": "inline-flex",
       "flex": null,
       "flex_flow": "row wrap",
       "grid_area": null,
       "grid_auto_columns": null,
       "grid_auto_flow": null,
       "grid_auto_rows": null,
       "grid_column": null,
       "grid_gap": null,
       "grid_row": null,
       "grid_template_areas": null,
       "grid_template_columns": null,
       "grid_template_rows": null,
       "height": null,
       "justify_content": null,
       "justify_items": null,
       "left": null,
       "margin": null,
       "max_height": null,
       "max_width": null,
       "min_height": null,
       "min_width": null,
       "object_fit": null,
       "object_position": null,
       "order": null,
       "overflow": null,
       "overflow_x": null,
       "overflow_y": null,
       "padding": null,
       "right": null,
       "top": null,
       "visibility": null,
       "width": "100%"
      }
     },
     "d21a7dad04384f7cace163315d205f2b": {
      "model_module": "@jupyter-widgets/base",
      "model_module_version": "1.2.0",
      "model_name": "LayoutModel",
      "state": {
       "_model_module": "@jupyter-widgets/base",
       "_model_module_version": "1.2.0",
       "_model_name": "LayoutModel",
       "_view_count": null,
       "_view_module": "@jupyter-widgets/base",
       "_view_module_version": "1.2.0",
       "_view_name": "LayoutView",
       "align_content": null,
       "align_items": null,
       "align_self": null,
       "border": null,
       "bottom": null,
       "display": null,
       "flex": "2",
       "flex_flow": null,
       "grid_area": null,
       "grid_auto_columns": null,
       "grid_auto_flow": null,
       "grid_auto_rows": null,
       "grid_column": null,
       "grid_gap": null,
       "grid_row": null,
       "grid_template_areas": null,
       "grid_template_columns": null,
       "grid_template_rows": null,
       "height": null,
       "justify_content": null,
       "justify_items": null,
       "left": null,
       "margin": null,
       "max_height": null,
       "max_width": null,
       "min_height": null,
       "min_width": null,
       "object_fit": null,
       "object_position": null,
       "order": null,
       "overflow": null,
       "overflow_x": null,
       "overflow_y": null,
       "padding": null,
       "right": null,
       "top": null,
       "visibility": null,
       "width": null
      }
     },
     "d404d4f7061c4491adcc87d081aed640": {
      "model_module": "@jupyter-widgets/controls",
      "model_module_version": "1.5.0",
      "model_name": "DescriptionStyleModel",
      "state": {
       "_model_module": "@jupyter-widgets/controls",
       "_model_module_version": "1.5.0",
       "_model_name": "DescriptionStyleModel",
       "_view_count": null,
       "_view_module": "@jupyter-widgets/base",
       "_view_module_version": "1.2.0",
       "_view_name": "StyleView",
       "description_width": ""
      }
     },
     "d894528135bb4d6dbbcbece5223aa64d": {
      "model_module": "@jupyter-widgets/controls",
      "model_module_version": "1.5.0",
      "model_name": "HBoxModel",
      "state": {
       "_dom_classes": [],
       "_model_module": "@jupyter-widgets/controls",
       "_model_module_version": "1.5.0",
       "_model_name": "HBoxModel",
       "_view_count": null,
       "_view_module": "@jupyter-widgets/controls",
       "_view_module_version": "1.5.0",
       "_view_name": "HBoxView",
       "box_style": "",
       "children": [
        "IPY_MODEL_835eb2a911c345b9bdb6d8d09fd37f09",
        "IPY_MODEL_9b1206dd5adc463ea316c8fca2825b88",
        "IPY_MODEL_ce934b65e16a4512979bf1a6b0eba961"
       ],
       "layout": "IPY_MODEL_510de9c1ba134a17acdff596176a4a1c"
      }
     },
     "dba89c56aa41467eb763c8c89e828030": {
      "model_module": "@jupyter-widgets/base",
      "model_module_version": "1.2.0",
      "model_name": "LayoutModel",
      "state": {
       "_model_module": "@jupyter-widgets/base",
       "_model_module_version": "1.2.0",
       "_model_name": "LayoutModel",
       "_view_count": null,
       "_view_module": "@jupyter-widgets/base",
       "_view_module_version": "1.2.0",
       "_view_name": "LayoutView",
       "align_content": null,
       "align_items": null,
       "align_self": null,
       "border": null,
       "bottom": null,
       "display": null,
       "flex": null,
       "flex_flow": null,
       "grid_area": null,
       "grid_auto_columns": null,
       "grid_auto_flow": null,
       "grid_auto_rows": null,
       "grid_column": null,
       "grid_gap": null,
       "grid_row": null,
       "grid_template_areas": null,
       "grid_template_columns": null,
       "grid_template_rows": null,
       "height": null,
       "justify_content": null,
       "justify_items": null,
       "left": null,
       "margin": null,
       "max_height": null,
       "max_width": null,
       "min_height": null,
       "min_width": null,
       "object_fit": null,
       "object_position": null,
       "order": null,
       "overflow": null,
       "overflow_x": null,
       "overflow_y": null,
       "padding": null,
       "right": null,
       "top": null,
       "visibility": null,
       "width": null
      }
     },
     "e535741aeb124a3ba3f068ad18085ef5": {
      "model_module": "@jupyter-widgets/controls",
      "model_module_version": "1.5.0",
      "model_name": "FloatProgressModel",
      "state": {
       "_dom_classes": [],
       "_model_module": "@jupyter-widgets/controls",
       "_model_module_version": "1.5.0",
       "_model_name": "FloatProgressModel",
       "_view_count": null,
       "_view_module": "@jupyter-widgets/controls",
       "_view_module_version": "1.5.0",
       "_view_name": "ProgressView",
       "bar_style": "success",
       "description": "",
       "description_tooltip": null,
       "layout": "IPY_MODEL_39c46187b48748b6b5b8c9751d1779e6",
       "max": 1,
       "min": 0,
       "orientation": "horizontal",
       "style": "IPY_MODEL_0bb1c258f79040d2986d43d769a1cd15",
       "value": 1
      }
     },
     "ee6559e0c5054ef5a07b887fbc06304c": {
      "model_module": "@jupyter-widgets/controls",
      "model_module_version": "1.5.0",
      "model_name": "FloatProgressModel",
      "state": {
       "_dom_classes": [],
       "_model_module": "@jupyter-widgets/controls",
       "_model_module_version": "1.5.0",
       "_model_name": "FloatProgressModel",
       "_view_count": null,
       "_view_module": "@jupyter-widgets/controls",
       "_view_module_version": "1.5.0",
       "_view_name": "ProgressView",
       "bar_style": "",
       "description": "",
       "description_tooltip": null,
       "layout": "IPY_MODEL_3b8fb28875464ab6a52ab91e95d9ed69",
       "max": 599,
       "min": 0,
       "orientation": "horizontal",
       "style": "IPY_MODEL_bf8491f42ab14893ab1ea11e7b2da058",
       "value": 599
      }
     },
     "f1736ebcb24b4d418c1622b904646822": {
      "model_module": "@jupyter-widgets/controls",
      "model_module_version": "1.5.0",
      "model_name": "HTMLModel",
      "state": {
       "_dom_classes": [],
       "_model_module": "@jupyter-widgets/controls",
       "_model_module_version": "1.5.0",
       "_model_name": "HTMLModel",
       "_view_count": null,
       "_view_module": "@jupyter-widgets/controls",
       "_view_module_version": "1.5.0",
       "_view_name": "HTMLView",
       "description": "",
       "description_tooltip": null,
       "layout": "IPY_MODEL_069deb4dc0084050a2c4b72cf0f69853",
       "placeholder": "​",
       "style": "IPY_MODEL_315176b0053b4703ae59f8f7bfb9dfe2",
       "value": "Render HTML: 100%"
      }
     },
     "f31932ca06c54ab185c999c8e47307e9": {
      "model_module": "@jupyter-widgets/controls",
      "model_module_version": "1.5.0",
      "model_name": "HTMLModel",
      "state": {
       "_dom_classes": [],
       "_model_module": "@jupyter-widgets/controls",
       "_model_module_version": "1.5.0",
       "_model_name": "HTMLModel",
       "_view_count": null,
       "_view_module": "@jupyter-widgets/controls",
       "_view_module_version": "1.5.0",
       "_view_name": "HTMLView",
       "description": "",
       "description_tooltip": null,
       "layout": "IPY_MODEL_4840598bec454f77b98e2d2b0e3183d9",
       "placeholder": "​",
       "style": "IPY_MODEL_026dec7ca0df416e8eeec2b2b0c64694",
       "value": "Done! Use &#x27;show&#x27; commands to display/save.   "
      }
     },
     "f3ecea7caf5143e0974426fe0b7f07cb": {
      "model_module": "@jupyter-widgets/controls",
      "model_module_version": "1.5.0",
      "model_name": "DescriptionStyleModel",
      "state": {
       "_model_module": "@jupyter-widgets/controls",
       "_model_module_version": "1.5.0",
       "_model_name": "DescriptionStyleModel",
       "_view_count": null,
       "_view_module": "@jupyter-widgets/base",
       "_view_module_version": "1.2.0",
       "_view_name": "StyleView",
       "description_width": ""
      }
     },
     "f830550d7e6f49d1875e5875744d8eb0": {
      "model_module": "@jupyter-widgets/controls",
      "model_module_version": "1.5.0",
      "model_name": "ProgressStyleModel",
      "state": {
       "_model_module": "@jupyter-widgets/controls",
       "_model_module_version": "1.5.0",
       "_model_name": "ProgressStyleModel",
       "_view_count": null,
       "_view_module": "@jupyter-widgets/base",
       "_view_module_version": "1.2.0",
       "_view_name": "StyleView",
       "bar_color": null,
       "description_width": ""
      }
     },
     "fbbe336e27a845ed84ab5c861a10075b": {
      "model_module": "@jupyter-widgets/controls",
      "model_module_version": "1.5.0",
      "model_name": "HBoxModel",
      "state": {
       "_dom_classes": [],
       "_model_module": "@jupyter-widgets/controls",
       "_model_module_version": "1.5.0",
       "_model_name": "HBoxModel",
       "_view_count": null,
       "_view_module": "@jupyter-widgets/controls",
       "_view_module_version": "1.5.0",
       "_view_name": "HBoxView",
       "box_style": "",
       "children": [
        "IPY_MODEL_f1736ebcb24b4d418c1622b904646822",
        "IPY_MODEL_39377f32fb6f4b388279d735824f9eed",
        "IPY_MODEL_6ed4261427f0435e9ef801b76d0ecd68"
       ],
       "layout": "IPY_MODEL_4432fd13c8d24f63ae56a3afc7728ec4"
      }
     },
     "fe65dddbd1ad402297c3f5d79e956271": {
      "model_module": "@jupyter-widgets/controls",
      "model_module_version": "1.5.0",
      "model_name": "HBoxModel",
      "state": {
       "_dom_classes": [],
       "_model_module": "@jupyter-widgets/controls",
       "_model_module_version": "1.5.0",
       "_model_name": "HBoxModel",
       "_view_count": null,
       "_view_module": "@jupyter-widgets/controls",
       "_view_module_version": "1.5.0",
       "_view_name": "HBoxView",
       "box_style": "",
       "children": [
        "IPY_MODEL_ce5e96fc2f9643f2a5a9e0fa00bca2f5",
        "IPY_MODEL_af59c0e542b24284a359d07c2359525e",
        "IPY_MODEL_51ebe29d2b5142e1bde83c6f91dc630b"
       ],
       "layout": "IPY_MODEL_8a7424bfd4704a67b0269f621847d005"
      }
     },
     "fef9d13051bf4bec8e9476b7c8fb9cd2": {
      "model_module": "@jupyter-widgets/base",
      "model_module_version": "1.2.0",
      "model_name": "LayoutModel",
      "state": {
       "_model_module": "@jupyter-widgets/base",
       "_model_module_version": "1.2.0",
       "_model_name": "LayoutModel",
       "_view_count": null,
       "_view_module": "@jupyter-widgets/base",
       "_view_module_version": "1.2.0",
       "_view_name": "LayoutView",
       "align_content": null,
       "align_items": null,
       "align_self": null,
       "border": null,
       "bottom": null,
       "display": null,
       "flex": null,
       "flex_flow": null,
       "grid_area": null,
       "grid_auto_columns": null,
       "grid_auto_flow": null,
       "grid_auto_rows": null,
       "grid_column": null,
       "grid_gap": null,
       "grid_row": null,
       "grid_template_areas": null,
       "grid_template_columns": null,
       "grid_template_rows": null,
       "height": null,
       "justify_content": null,
       "justify_items": null,
       "left": null,
       "margin": null,
       "max_height": null,
       "max_width": null,
       "min_height": null,
       "min_width": null,
       "object_fit": null,
       "object_position": null,
       "order": null,
       "overflow": null,
       "overflow_x": null,
       "overflow_y": null,
       "padding": null,
       "right": null,
       "top": null,
       "visibility": null,
       "width": null
      }
     }
    },
    "version_major": 2,
    "version_minor": 0
   }
  }
 },
 "nbformat": 4,
 "nbformat_minor": 4
}
